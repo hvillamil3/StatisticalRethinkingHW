{
 "cells": [
  {
   "cell_type": "code",
   "execution_count": 1,
   "metadata": {},
   "outputs": [
    {
     "name": "stderr",
     "output_type": "stream",
     "text": [
      "Loading required package: rstan\n",
      "Warning message:\n",
      "\"package 'rstan' was built under R version 3.3.2\"Loading required package: ggplot2\n",
      "Warning message:\n",
      "\"package 'ggplot2' was built under R version 3.3.2\"Loading required package: StanHeaders\n",
      "Warning message:\n",
      "\"package 'StanHeaders' was built under R version 3.3.2\"rstan (Version 2.13.2, packaged: 2016-12-18 07:04:42 UTC, GitRev: 5fa1e80eb817)\n",
      "For execution on a local, multicore CPU with excess RAM we recommend calling\n",
      "rstan_options(auto_write = TRUE)\n",
      "options(mc.cores = parallel::detectCores())\n",
      "Loading required package: parallel\n",
      "rethinking (Version 1.59)\n"
     ]
    }
   ],
   "source": [
    "library(rethinking)"
   ]
  },
  {
   "cell_type": "raw",
   "metadata": {},
   "source": [
    "7H1. Return to the data(tulips) example in the chapter. Now include the bed variable as a predictor in the interaction model.\n",
    "Don''t interact bed with the other predictors; just include it as a main effect.\n",
    "Note that bed is categorical. So to use it properly, you will need to either construct dummy variables or rather\n",
    "an index variable, as explained in Chapter 6."
   ]
  },
  {
   "cell_type": "code",
   "execution_count": 51,
   "metadata": {
    "collapsed": true
   },
   "outputs": [],
   "source": [
    "data(tulips)"
   ]
  },
  {
   "cell_type": "code",
   "execution_count": 52,
   "metadata": {
    "collapsed": true
   },
   "outputs": [],
   "source": [
    "d<- tulips"
   ]
  },
  {
   "cell_type": "code",
   "execution_count": 83,
   "metadata": {
    "collapsed": true
   },
   "outputs": [],
   "source": [
    "d$bed.b <- ifelse( d$bed==\"b\" , 1 , 0 )\n",
    "d$bed.c <- ifelse( d$bed==\"c\" , 1 , 0 )\n",
    "#d$bed.a <- ifelse( d$bed==\"a\" , 1 , 0 )"
   ]
  },
  {
   "cell_type": "code",
   "execution_count": 54,
   "metadata": {
    "collapsed": true
   },
   "outputs": [],
   "source": [
    "d$shade.c <- d$shade - mean(d$shade)\n",
    "d$water.c <- d$water - mean(d$water)"
   ]
  },
  {
   "cell_type": "code",
   "execution_count": 109,
   "metadata": {
    "collapsed": true
   },
   "outputs": [],
   "source": [
    "m7.9 <- map(\n",
    "    alist(\n",
    "        blooms ~ dnorm( mu , sigma ) ,\n",
    "        mu <- a + bW*water.c + bS*shade.c + bWS*water.c*shade.c + bb*bed.b + bc*bed.c,\n",
    "        a ~ dnorm( 130 , 100 ) ,\n",
    "        bW ~ dnorm( 0 , 100 ) ,\n",
    "        bS ~ dnorm( 0 , 100 ) ,\n",
    "        bWS ~ dnorm( 0 , 100 ) ,\n",
    "        bb ~ dnorm( 0 , 100 ) ,\n",
    "        bc ~ dnorm( 0 , 100 ) ,\n",
    "        sigma ~ dunif( 0 , 100 )\n",
    "    ) ,\n",
    "    data=d ,\n",
    "    start=list(a=mean(d$blooms),bW=0,bS=0,bWS=0,bb=0,bc=0,sigma=sd(d$blooms)) )"
   ]
  },
  {
   "cell_type": "code",
   "execution_count": 110,
   "metadata": {},
   "outputs": [
    {
     "data": {
      "text/plain": [
       "        Mean StdDev   5.5%  94.5%\n",
       "a      99.36  12.76  78.97 119.75\n",
       "bW     75.12   9.20  60.42  89.83\n",
       "bS    -41.23   9.20 -55.93 -26.53\n",
       "bWS   -52.15  11.24 -70.12 -34.18\n",
       "bb     42.41  18.04  13.58  71.24\n",
       "bc     47.03  18.04  18.20  75.86\n",
       "sigma  39.19   5.34  30.66  47.72"
      ]
     },
     "metadata": {},
     "output_type": "display_data"
    }
   ],
   "source": [
    "precis(m7.9)\n",
    "#bed a is in the intercept"
   ]
  },
  {
   "cell_type": "code",
   "execution_count": 111,
   "metadata": {},
   "outputs": [
    {
     "data": {
      "image/png": "[encoded data removed]",
      "text/plain": [
       "plot without title"
      ]
     },
     "metadata": {},
     "output_type": "display_data"
    }
   ],
   "source": [
    "options(repr.plot.res = 60)\n",
    "plot(precis(m7.9))"
   ]
  },
  {
   "cell_type": "code",
   "execution_count": 112,
   "metadata": {
    "collapsed": true
   },
   "outputs": [],
   "source": [
    "d$bed_idx <- coerce_index( d$bed )"
   ]
  },
  {
   "cell_type": "code",
   "execution_count": 113,
   "metadata": {},
   "outputs": [
    {
     "data": {
      "text/plain": [
       "        Mean StdDev   5.5%  94.5%\n",
       "a[1]   99.17   8.44  85.69 112.66\n",
       "a[2]  112.28   8.83  98.16 126.40\n",
       "a[3]  113.64   8.92  99.37 127.90\n",
       "bW     74.88  11.04  57.23  92.52\n",
       "bS    -41.10  11.04 -58.74 -23.45\n",
       "bWS   -51.89  13.48 -73.44 -30.35\n",
       "sigma  47.12   7.08  35.81  58.43"
      ]
     },
     "metadata": {},
     "output_type": "display_data"
    }
   ],
   "source": [
    "m2 <- map(\n",
    "alist(\n",
    "    blooms ~ dnorm(mu,sigma),\n",
    "    mu <- a[bed_idx] + bW*water.c + bS*shade.c + bWS*water.c*shade.c ,\n",
    "    a[bed_idx] ~ dnorm(100,10),#dnorm(130,100) 100 doesnt converge\n",
    "    c(bW,bS,bWS) ~ dnorm(0,100),\n",
    "    sigma ~ dunif(0,100)\n",
    "),\n",
    "start=list(a=rep(130,3),bW=0,bS=0,bWS=0,sigma=90),\n",
    "data=d )\n",
    "precis(m2,depth=2)"
   ]
  },
  {
   "cell_type": "code",
   "execution_count": 115,
   "metadata": {},
   "outputs": [
    {
     "data": {
      "text/html": [
       "<dl class=dl-horizontal>\n",
       "\t<dt>|0.89</dt>\n",
       "\t\t<dd>-19.6440541794174</dd>\n",
       "\t<dt>0.89|</dt>\n",
       "\t\t<dd>18.355388442661</dd>\n",
       "</dl>\n"
      ],
      "text/latex": [
       "\\begin{description*}\n",
       "\\item[\\textbackslash{}textbar\\{\\}0.89] -19.6440541794174\n",
       "\\item[0.89\\textbackslash{}textbar\\{\\}] 18.355388442661\n",
       "\\end{description*}\n"
      ],
      "text/markdown": [
       "|0.89\n",
       ":   -19.64405417941740.89|\n",
       ":   18.355388442661\n",
       "\n"
      ],
      "text/plain": [
       "    |0.89     0.89| \n",
       "-19.64405  18.35539 "
      ]
     },
     "metadata": {},
     "output_type": "display_data"
    },
    {
     "data": {
      "text/html": [
       "-1.53119206376096"
      ],
      "text/latex": [
       "-1.53119206376096"
      ],
      "text/markdown": [
       "-1.53119206376096"
      ],
      "text/plain": [
       "[1] -1.531192"
      ]
     },
     "metadata": {},
     "output_type": "display_data"
    }
   ],
   "source": [
    "#differenc between b vs c\n",
    "post <- extract.samples(m2)\n",
    "diff_b_c <- post$a[,2] - post$a[,3]\n",
    "HPDI( diff_b_c )\n",
    "mean(diff_b_c)"
   ]
  },
  {
   "cell_type": "raw",
   "metadata": {},
   "source": [
    "7H2. Use WAIC to compare the model from 7H1 to a model that omits bed. What do you infer from this comparison?\n",
    "Can you reconcile the WAIC results with the posterior distribution of the bed coefficients?"
   ]
  },
  {
   "cell_type": "code",
   "execution_count": 8,
   "metadata": {
    "collapsed": true
   },
   "outputs": [],
   "source": [
    "m7.9a <- map(\n",
    "    alist(\n",
    "        blooms ~ dnorm( mu , sigma ) ,\n",
    "        mu <- a + bW*water.c + bS*shade.c + bWS*water.c*shade.c ,\n",
    "        a ~ dnorm( 130 , 100 ) ,\n",
    "        bW ~ dnorm( 0 , 100 ) ,\n",
    "        bS ~ dnorm( 0 , 100 ) ,\n",
    "        bWS ~ dnorm( 0 , 100 ) ,\n",
    "        sigma ~ dunif( 0 , 100 )\n",
    "    ) ,\n",
    "    data=d ,\n",
    "    start=list(a=mean(d$blooms),bW=0,bS=0,bWS=0,sigma=sd(d$blooms)) )"
   ]
  },
  {
   "cell_type": "code",
   "execution_count": 9,
   "metadata": {},
   "outputs": [
    {
     "data": {
      "text/plain": [
       "       WAIC pWAIC dWAIC weight    SE  dSE\n",
       "m7.9  295.3  10.0     0   0.62 10.09   NA\n",
       "m7.9a 296.3   6.7     1   0.38 10.38 8.13"
      ]
     },
     "metadata": {},
     "output_type": "display_data"
    }
   ],
   "source": [
    "compare(m7.9,m7.9a)"
   ]
  },
  {
   "cell_type": "code",
   "execution_count": 117,
   "metadata": {},
   "outputs": [
    {
     "data": {
      "image/png": "[encoded data removed]",
      "text/plain": [
       "plot without title"
      ]
     },
     "metadata": {},
     "output_type": "display_data"
    }
   ],
   "source": [
    "#par(mfrow = c(2,2))\n",
    "plot(compare(m7.9,m7.9a) )"
   ]
  },
  {
   "cell_type": "code",
   "execution_count": 122,
   "metadata": {
    "collapsed": true
   },
   "outputs": [],
   "source": [
    "post <- extract.samples( m7.9 )"
   ]
  },
  {
   "cell_type": "code",
   "execution_count": 123,
   "metadata": {},
   "outputs": [
    {
     "data": {
      "text/plain": [
       "      m7.9   \n",
       "a       99.36\n",
       "bW      75.12\n",
       "bS     -41.23\n",
       "bWS    -52.15\n",
       "bb      42.41\n",
       "bc      47.03\n",
       "sigma   39.19\n",
       "nobs       27"
      ]
     },
     "metadata": {},
     "output_type": "display_data"
    }
   ],
   "source": [
    "coeftab(m7.9 )"
   ]
  },
  {
   "cell_type": "code",
   "execution_count": 125,
   "metadata": {},
   "outputs": [
    {
     "data": {
      "text/html": [
       "<dl class=dl-horizontal>\n",
       "\t<dt>|0.89</dt>\n",
       "\t\t<dd>19.4077007038169</dd>\n",
       "\t<dt>|0.5</dt>\n",
       "\t\t<dd>34.0113030349055</dd>\n",
       "\t<dt>|0.01</dt>\n",
       "\t\t<dd>42.4534542422876</dd>\n",
       "\t<dt>0.01|</dt>\n",
       "\t\t<dd>42.7960318253675</dd>\n",
       "\t<dt>0.5|</dt>\n",
       "\t\t<dd>57.998177295439</dd>\n",
       "\t<dt>0.89|</dt>\n",
       "\t\t<dd>76.7135812807616</dd>\n",
       "</dl>\n"
      ],
      "text/latex": [
       "\\begin{description*}\n",
       "\\item[\\textbackslash{}textbar\\{\\}0.89] 19.4077007038169\n",
       "\\item[\\textbackslash{}textbar\\{\\}0.5] 34.0113030349055\n",
       "\\item[\\textbackslash{}textbar\\{\\}0.01] 42.4534542422876\n",
       "\\item[0.01\\textbackslash{}textbar\\{\\}] 42.7960318253675\n",
       "\\item[0.5\\textbackslash{}textbar\\{\\}] 57.998177295439\n",
       "\\item[0.89\\textbackslash{}textbar\\{\\}] 76.7135812807616\n",
       "\\end{description*}\n"
      ],
      "text/markdown": [
       "|0.89\n",
       ":   19.4077007038169|0.5\n",
       ":   34.0113030349055|0.01\n",
       ":   42.45345424228760.01|\n",
       ":   42.79603182536750.5|\n",
       ":   57.9981772954390.89|\n",
       ":   76.7135812807616\n",
       "\n"
      ],
      "text/plain": [
       "   |0.89     |0.5    |0.01    0.01|     0.5|    0.89| \n",
       "19.40770 34.01130 42.45345 42.79603 57.99818 76.71358 "
      ]
     },
     "metadata": {},
     "output_type": "display_data"
    },
    {
     "data": {
      "text/html": [
       "<dl class=dl-horizontal>\n",
       "\t<dt>|0.89</dt>\n",
       "\t\t<dd>13.7063703066322</dd>\n",
       "\t<dt>|0.5</dt>\n",
       "\t\t<dd>30.6358842585736</dd>\n",
       "\t<dt>|0.01</dt>\n",
       "\t\t<dd>41.2212646367229</dd>\n",
       "\t<dt>0.01|</dt>\n",
       "\t\t<dd>41.5498629135543</dd>\n",
       "\t<dt>0.5|</dt>\n",
       "\t\t<dd>55.1595895126616</dd>\n",
       "\t<dt>0.89|</dt>\n",
       "\t\t<dd>71.0933463479027</dd>\n",
       "</dl>\n"
      ],
      "text/latex": [
       "\\begin{description*}\n",
       "\\item[\\textbackslash{}textbar\\{\\}0.89] 13.7063703066322\n",
       "\\item[\\textbackslash{}textbar\\{\\}0.5] 30.6358842585736\n",
       "\\item[\\textbackslash{}textbar\\{\\}0.01] 41.2212646367229\n",
       "\\item[0.01\\textbackslash{}textbar\\{\\}] 41.5498629135543\n",
       "\\item[0.5\\textbackslash{}textbar\\{\\}] 55.1595895126616\n",
       "\\item[0.89\\textbackslash{}textbar\\{\\}] 71.0933463479027\n",
       "\\end{description*}\n"
      ],
      "text/markdown": [
       "|0.89\n",
       ":   13.7063703066322|0.5\n",
       ":   30.6358842585736|0.01\n",
       ":   41.22126463672290.01|\n",
       ":   41.54986291355430.5|\n",
       ":   55.15958951266160.89|\n",
       ":   71.0933463479027\n",
       "\n"
      ],
      "text/plain": [
       "   |0.89     |0.5    |0.01    0.01|     0.5|    0.89| \n",
       "13.70637 30.63588 41.22126 41.54986 55.15959 71.09335 "
      ]
     },
     "metadata": {},
     "output_type": "display_data"
    }
   ],
   "source": [
    "HPDI(post$bc, prob=c(.01,.5,.89) )\n",
    "HPDI(post$bb, prob=c(.01,.5,.89) )"
   ]
  },
  {
   "cell_type": "code",
   "execution_count": 127,
   "metadata": {},
   "outputs": [
    {
     "data": {
      "text/html": [
       "47.1322779587048"
      ],
      "text/latex": [
       "47.1322779587048"
      ],
      "text/markdown": [
       "47.1322779587048"
      ],
      "text/plain": [
       "[1] 47.13228"
      ]
     },
     "metadata": {},
     "output_type": "display_data"
    },
    {
     "data": {
      "text/html": [
       "42.3699201529485"
      ],
      "text/latex": [
       "42.3699201529485"
      ],
      "text/markdown": [
       "42.3699201529485"
      ],
      "text/plain": [
       "[1] 42.36992"
      ]
     },
     "metadata": {},
     "output_type": "display_data"
    }
   ],
   "source": [
    "mean(post$bc)\n",
    "mean(post$bb) #a lot of it is between less than 0 and above 0"
   ]
  },
  {
   "cell_type": "code",
   "execution_count": 131,
   "metadata": {},
   "outputs": [
    {
     "data": {
      "image/png": "[encoded data removed]",
      "text/plain": [
       "Plot with title \"\""
      ]
     },
     "metadata": {},
     "output_type": "display_data"
    }
   ],
   "source": [
    "#par(mfrow = c(2,2))\n",
    "dens(post$bc)\n",
    "dens(post$bb , add= TRUE)\n",
    "dens((post$bb - post$bc), add=TRUE)"
   ]
  },
  {
   "cell_type": "raw",
   "metadata": {},
   "source": [
    "7H3. Consider again the data(rugged) data on economic development and terrain ruggedness, examined in this chapter.\n",
    "One of the African countries in that example, Seychelles, is far outside the cloud of other nattions, being a rare\n",
    "country with both relatively high GDP and high ruggedness. Seychelles is also unusual, in that it is a group of islands\n",
    "far from the coast of mainland Africa, and its main economic activity is tourism.\n",
    "One might suspect that this one nation is exerting a strong influence on the conclusions. In this problem, I want\n",
    " you to drop Seychelles from the data and re-evaluate the hypothesis that the relationship of African economies with ruggedness is different from that on other continents.\n",
    " \n",
    " a) Begin by using map to fit just the interaction model:"
   ]
  },
  {
   "cell_type": "code",
   "execution_count": 132,
   "metadata": {},
   "outputs": [],
   "source": [
    "data(rugged)\n",
    "dd <- rugged\n",
    "\n",
    "# extract countries with GDP data\n",
    "dd <- dd[ complete.cases(dd$rgdppc_2000) , ]\n",
    "\n",
    "# make log version of outcome\n",
    "dd$log_gdp <- log( dd$rgdppc_2000 )\n",
    "\n",
    "## R code 7.7\n",
    "m7.5 <- map(\n",
    "    alist(\n",
    "        log_gdp ~ dnorm( mu , sigma ) ,\n",
    "        mu <- a + gamma*rugged + bA*cont_africa ,\n",
    "        #gamma linear interaction effect \n",
    "        #we are saying ruggedness depends on africa_condition and africa_condition depends on ruggednes\n",
    "        gamma <- bR + bAR*cont_africa ,#gamma is the slope of ruggedness given continent of Africa\n",
    "        a ~ dnorm( 8 , 100 ) ,\n",
    "        bA ~ dnorm( 0 , 1 ) ,#continent of Africa coef\n",
    "        bR ~ dnorm( 0 , 1 ) ,#Rugged coef\n",
    "        bAR ~ dnorm( 0 , 1 ) ,#Rugged & Africa interaction coef\n",
    "        sigma ~ dunif( 0 , 10 )\n",
    "    ) ,\n",
    "    data=dd )"
   ]
  },
  {
   "cell_type": "code",
   "execution_count": 133,
   "metadata": {},
   "outputs": [],
   "source": [
    "dd1 <-  dd[dd$country != 'Seychelles',]\n",
    "\n",
    "## R code 7.7\n",
    "m7.5b <- map(\n",
    "    alist(\n",
    "        log_gdp ~ dnorm( mu , sigma ) ,\n",
    "        mu <- a + gamma*rugged + bA*cont_africa ,\n",
    "        #gamma linear interaction effect \n",
    "        #we are saying ruggedness depends on africa_condition and africa_condition depends on ruggednes\n",
    "        gamma <- bR + bAR*cont_africa ,#gamma is the slope of ruggedness given continent of Africa\n",
    "        a ~ dnorm( 8 , 100 ) ,\n",
    "        bA ~ dnorm( 0 , 1 ) ,#continent of Africa coef\n",
    "        bR ~ dnorm( 0 , 1 ) ,#Rugged coef\n",
    "        bAR ~ dnorm( 0 , 1 ) ,#Rugged & Africa interaction coef\n",
    "        sigma ~ dunif( 0 , 10 )\n",
    "    ) ,\n",
    "    data=dd1 )"
   ]
  },
  {
   "cell_type": "code",
   "execution_count": 136,
   "metadata": {},
   "outputs": [
    {
     "name": "stderr",
     "output_type": "stream",
     "text": [
      "Warning message in compare(m7.5, m7.5b):\n",
      "\"Different numbers of observations found for at least two models.\n",
      "Information criteria only valid for comparing models fit to exactly same observations.\n",
      "Number of observations for each model:\n",
      "m7.5 170 \n",
      "m7.5b 169 \n",
      "\"Warning message in waic_ptw1 - waic_ptw2:\n",
      "\"longer object length is not a multiple of shorter object length\""
     ]
    },
    {
     "data": {
      "text/plain": [
       "       WAIC pWAIC dWAIC weight    SE  dSE\n",
       "m7.5b 463.4   4.6   0.0   0.95 15.05   NA\n",
       "m7.5  469.5   5.2   6.1   0.05 15.04 9.95"
      ]
     },
     "metadata": {},
     "output_type": "display_data"
    }
   ],
   "source": [
    "compare(m7.5,m7.5b)"
   ]
  },
  {
   "cell_type": "code",
   "execution_count": 143,
   "metadata": {},
   "outputs": [
    {
     "data": {
      "text/plain": [
       "       Mean StdDev  5.5% 94.5%\n",
       "a      9.19   0.14  8.97  9.40\n",
       "bA    -1.78   0.22 -2.13 -1.43\n",
       "bR    -0.19   0.08 -0.31 -0.07\n",
       "bAR    0.25   0.14  0.04  0.47\n",
       "sigma  0.93   0.05  0.85  1.01"
      ]
     },
     "metadata": {},
     "output_type": "display_data"
    },
    {
     "data": {
      "text/plain": [
       "       Mean StdDev  5.5% 94.5%\n",
       "a      9.18   0.14  8.97  9.40\n",
       "bA    -1.85   0.22 -2.20 -1.50\n",
       "bR    -0.18   0.08 -0.31 -0.06\n",
       "bAR    0.35   0.13  0.14  0.55\n",
       "sigma  0.93   0.05  0.85  1.01"
      ]
     },
     "metadata": {},
     "output_type": "display_data"
    },
    {
     "data": {
      "text/plain": [
       "      m7.5b   m7.5   \n",
       "a        9.19    9.18\n",
       "bA      -1.78   -1.85\n",
       "bR      -0.19   -0.18\n",
       "bAR      0.25    0.35\n",
       "sigma    0.93    0.93\n",
       "nobs      169     170"
      ]
     },
     "metadata": {},
     "output_type": "display_data"
    }
   ],
   "source": [
    "precis(m7.5b)\n",
    "precis(m7.5)\n",
    "coeftab(m7.5b,m7.5)"
   ]
  },
  {
   "cell_type": "code",
   "execution_count": 20,
   "metadata": {},
   "outputs": [
    {
     "name": "stdout",
     "output_type": "stream",
     "text": [
      "[ 1000 / 1000 ]\n",
      "[ 1000 / 1000 ]\n"
     ]
    }
   ],
   "source": [
    "# B) Plot the predictons of the interaction model, with and without Seychelles\n",
    "\n",
    "rugged.seq <- seq(from=-1,to=8,by=0.25)\n",
    "\n",
    "mu.Africa <- link( m7.5 , data=data.frame(cont_africa=1,rugged=rugged.seq) )\n",
    "mu.Africa.mean <- apply( mu.Africa , 2 , mean )\n",
    "mu.Africa.PI <- apply( mu.Africa , 2 , PI , prob=0.97 )\n",
    "\n",
    "mu.NotAfrica <- link( m7.5 , data=data.frame(cont_africa=0,rugged=rugged.seq) )\n",
    "mu.NotAfrica.mean <- apply( mu.NotAfrica , 2 , mean )\n",
    "mu.NotAfrica.PI <- apply( mu.NotAfrica , 2 , PI , prob=0.97 )\n"
   ]
  },
  {
   "cell_type": "code",
   "execution_count": 21,
   "metadata": {},
   "outputs": [
    {
     "name": "stdout",
     "output_type": "stream",
     "text": [
      "[ 1000 / 1000 ]\n",
      "[ 1000 / 1000 ]\n"
     ]
    }
   ],
   "source": [
    "rugged.seq <- seq(from=-1,to=8,by=0.25)\n",
    "\n",
    "mu.Africab <- link( m7.5b , data=data.frame(cont_africa=1,rugged=rugged.seq) )\n",
    "mu.Africa.meanb <- apply( mu.Africab , 2 , mean )\n",
    "mu.Africa.PIb <- apply( mu.Africab , 2 , PI , prob=0.97 )\n",
    "\n",
    "mu.NotAfricab <- link( m7.5b , data=data.frame(cont_africa=0,rugged=rugged.seq) )\n",
    "mu.NotAfrica.meanb <- apply( mu.NotAfricab , 2 , mean )\n",
    "mu.NotAfrica.PIb <- apply( mu.NotAfricab , 2 , PI , prob=0.97 )\n"
   ]
  },
  {
   "cell_type": "code",
   "execution_count": 22,
   "metadata": {},
   "outputs": [
    {
     "data": {
      "image/png": "[encoded data removed]",
      "text/plain": [
       "plot without title"
      ]
     },
     "metadata": {},
     "output_type": "display_data"
    }
   ],
   "source": [
    "par(mfrow = c(2,2))\n",
    "\n",
    "plot( log(rgdppc_2000) ~ rugged , data=dd ,\n",
    "    ylab=\"log GDP year 2000\" ,\n",
    "    xlab=\"Terrain Ruggedness Index\" )\n",
    "mtext( \"Both African & Non-African nations\" , 3 )\n",
    "lines( rugged.seq , mu.NotAfrica.mean )\n",
    "shade( mu.NotAfrica.PI , rugged.seq )\n",
    "lines( rugged.seq , mu.Africa.mean , col=rangi2 )\n",
    "shade( mu.Africa.PI , rugged.seq , col=col.alpha(rangi2,0.3) )\n",
    "\n",
    "plot( log(rgdppc_2000) ~ rugged , data=dd1 ,\n",
    "     ylab=\"log GDP year 2000\" ,\n",
    "    xlab=\"Terrain Ruggedness Index\" )\n",
    "mtext( \"Both African & Non-African nations\" , 3 )\n",
    "lines( rugged.seq , mu.NotAfrica.meanb )\n",
    "shade( mu.NotAfrica.PIb , rugged.seq )\n",
    "lines( rugged.seq , mu.Africa.meanb , col=rangi2 )\n",
    "shade( mu.Africa.PIb , rugged.seq , col=col.alpha(rangi2,0.3) )\n",
    "\n",
    "plot(coeftab(m7.5,m7.5b))"
   ]
  },
  {
   "cell_type": "code",
   "execution_count": 23,
   "metadata": {
    "collapsed": true
   },
   "outputs": [],
   "source": [
    "# c) Model comparison with WAIC. Fit  3 models to the data 1, 2 , then interaction.\n",
    "# Plot the model-averaged predictions of this model set.\n",
    "# Any difference with (b)? ---No? maybe tighter intervals."
   ]
  },
  {
   "cell_type": "code",
   "execution_count": 146,
   "metadata": {
    "collapsed": true
   },
   "outputs": [],
   "source": [
    "m7H3.1 <- map(\n",
    "    alist(\n",
    "        log_gdp ~ dnorm( mu , sigma ) ,\n",
    "        mu <- a + bR*rugged ,\n",
    "        #gamma linear interaction effect \n",
    "        #we are saying ruggedness depends on africa_condition and africa_condition depends on ruggednes\n",
    "        #gamma <- bR + bAR*cont_africa ,#gamma is the slope of ruggedness given continent of Africa\n",
    "        a ~ dnorm( 8 , 100 ) ,\n",
    "       # bA ~ dnorm( 0 , 1 ) ,#continent of Africa coef\n",
    "        bR ~ dnorm( 0 , 1 ) ,#Rugged coef\n",
    "        #bAR ~ dnorm( 0 , 1 ) ,#Rugged & Africa interaction coef\n",
    "        sigma ~ dunif( 0 , 10 )\n",
    "    ) ,\n",
    "    data=dd1 )"
   ]
  },
  {
   "cell_type": "code",
   "execution_count": 147,
   "metadata": {
    "collapsed": true
   },
   "outputs": [],
   "source": [
    "m7H3.2 <- map(\n",
    "    alist(\n",
    "        log_gdp ~ dnorm( mu , sigma ) ,\n",
    "        mu <- a + bR*rugged + bA*cont_africa ,\n",
    "        #gamma linear interaction effect \n",
    "        #we are saying ruggedness depends on africa_condition and africa_condition depends on ruggednes\n",
    "        #gamma <- bR + bAR*cont_africa ,#gamma is the slope of ruggedness given continent of Africa\n",
    "        a ~ dnorm( 8 , 100 ) ,\n",
    "        bA ~ dnorm( 0 , 1 ) ,#continent of Africa coef\n",
    "        bR ~ dnorm( 0 , 1 ) ,#Rugged coef\n",
    "        #bAR ~ dnorm( 0 , 1 ) ,#Rugged & Africa interaction coef\n",
    "        sigma ~ dunif( 0 , 10 )\n",
    "    ) ,\n",
    "    data=dd1 )"
   ]
  },
  {
   "cell_type": "code",
   "execution_count": 148,
   "metadata": {
    "collapsed": true
   },
   "outputs": [],
   "source": [
    "# same as m7.5b\n",
    "m7H3.3 <- map(\n",
    "    alist(\n",
    "        log_gdp ~ dnorm( mu , sigma ) ,\n",
    "        mu <- a + gamma*rugged + bA*cont_africa ,\n",
    "        #gamma linear interaction effect \n",
    "        #we are saying ruggedness depends on africa_condition and africa_condition depends on ruggednes\n",
    "        gamma <- bR + bAR*cont_africa ,#gamma is the slope of ruggedness given continent of Africa\n",
    "        a ~ dnorm( 8 , 100 ) ,\n",
    "        bA ~ dnorm( 0 , 1 ) ,#continent of Africa coef\n",
    "        bR ~ dnorm( 0 , 1 ) ,#Rugged coef\n",
    "        bAR ~ dnorm( 0 , 1 ) ,#Rugged & Africa interaction coef\n",
    "        sigma ~ dunif( 0 , 10 )\n",
    "    ) ,\n",
    "    data=dd1 )"
   ]
  },
  {
   "cell_type": "code",
   "execution_count": 151,
   "metadata": {},
   "outputs": [
    {
     "data": {
      "text/plain": [
       "        WAIC pWAIC dWAIC weight    SE   dSE\n",
       "m7H3.3 463.7   4.8   0.0   0.78 14.96    NA\n",
       "m7H3.2 466.2   4.0   2.5   0.22 14.28  3.25\n",
       "m7H3.1 536.3   2.7  72.6   0.00 13.41 15.21"
      ]
     },
     "metadata": {},
     "output_type": "display_data"
    },
    {
     "data": {
      "image/png": "[encoded data removed]",
      "text/plain": [
       "plot without title"
      ]
     },
     "metadata": {},
     "output_type": "display_data"
    }
   ],
   "source": [
    "#Compare WAIC\n",
    "#par(mfrow = c(2,2))\n",
    "compare(m7H3.1,m7H3.2,m7H3.3)\n",
    "plot(compare(m7H3.1,m7H3.2,m7H3.3))"
   ]
  },
  {
   "cell_type": "code",
   "execution_count": 152,
   "metadata": {},
   "outputs": [
    {
     "name": "stdout",
     "output_type": "stream",
     "text": [
      "[ 1000 / 1000 ]\n",
      "[ 1000 / 1000 ]\n"
     ]
    }
   ],
   "source": [
    " rugged.seq0 <- rugged.seq#seq(from =min(dd$rugged) , to=max(dd$rugged), length.out =1000 )\n",
    "# d.predict <- list( log_gdp=rep(0,length(rugged.seq)) ,rugged =rugged.seq0 ,cont_africa =rep(1,length(rugged.seq)) )\n",
    "# d.predict1 <- list( log_gdp=rep(0,length(rugged.seq)) ,rugged =rugged.seq0 ,cont_africa =rep(0,length(rugged.seq)) )\n",
    "# pred.m7H3.3 <- link( m7H3.3 ,data = data.frame(cont_africa=0,rugged=rugged.seq) )#d.predict )\n",
    "# pred.mu <- apply(pred.m7H3.3, 2, mean )\n",
    "# pred.PI <- apply(pred.m7H3.3, 2, PI )\n",
    "# pred.m7H3.31 <- link( m7H3.3 ,data = data.frame(cont_africa=1,rugged=rugged.seq) )#d.predict1 )\n",
    "# pred.mu1 <- apply(pred.m7H3.31, 2, mean )\n",
    "# pred.PI1 <- apply(pred.m7H3.31, 2, PI )"
   ]
  },
  {
   "cell_type": "code",
   "execution_count": 156,
   "metadata": {},
   "outputs": [
    {
     "name": "stderr",
     "output_type": "stream",
     "text": [
      "Constructing posterior predictions\n"
     ]
    },
    {
     "name": "stdout",
     "output_type": "stream",
     "text": [
      "[ 100 / 1000 ]\r",
      "[ 200 / 1000 ]\r",
      "[ 300 / 1000 ]\r",
      "[ 400 / 1000 ]\r",
      "[ 500 / 1000 ]\r",
      "[ 600 / 1000 ]\r",
      "[ 700 / 1000 ]\r",
      "[ 800 / 1000 ]\r",
      "[ 900 / 1000 ]\r",
      "[ 1000 / 1000 ]\r\n"
     ]
    },
    {
     "name": "stderr",
     "output_type": "stream",
     "text": [
      "Constructing posterior predictions\n"
     ]
    },
    {
     "name": "stdout",
     "output_type": "stream",
     "text": [
      "[ 100 / 1000 ]\r",
      "[ 200 / 1000 ]\r",
      "[ 300 / 1000 ]\r",
      "[ 400 / 1000 ]\r",
      "[ 500 / 1000 ]\r",
      "[ 600 / 1000 ]\r",
      "[ 700 / 1000 ]\r",
      "[ 800 / 1000 ]\r",
      "[ 900 / 1000 ]\r",
      "[ 1000 / 1000 ]\r\n"
     ]
    },
    {
     "name": "stderr",
     "output_type": "stream",
     "text": [
      "Constructing posterior predictions\n"
     ]
    },
    {
     "name": "stdout",
     "output_type": "stream",
     "text": [
      "[ 100 / 1000 ]\r",
      "[ 200 / 1000 ]\r",
      "[ 300 / 1000 ]\r",
      "[ 400 / 1000 ]\r",
      "[ 500 / 1000 ]\r",
      "[ 600 / 1000 ]\r",
      "[ 700 / 1000 ]\r",
      "[ 800 / 1000 ]\r",
      "[ 900 / 1000 ]\r",
      "[ 1000 / 1000 ]\r\n"
     ]
    },
    {
     "name": "stderr",
     "output_type": "stream",
     "text": [
      "Constructing posterior predictions\n"
     ]
    },
    {
     "name": "stdout",
     "output_type": "stream",
     "text": [
      "[ 100 / 1000 ]\r",
      "[ 200 / 1000 ]\r",
      "[ 300 / 1000 ]\r",
      "[ 400 / 1000 ]\r",
      "[ 500 / 1000 ]\r",
      "[ 600 / 1000 ]\r",
      "[ 700 / 1000 ]\r",
      "[ 800 / 1000 ]\r",
      "[ 900 / 1000 ]\r",
      "[ 1000 / 1000 ]\r\n"
     ]
    },
    {
     "name": "stderr",
     "output_type": "stream",
     "text": [
      "Constructing posterior predictions\n"
     ]
    },
    {
     "name": "stdout",
     "output_type": "stream",
     "text": [
      "[ 100 / 1000 ]\r",
      "[ 200 / 1000 ]\r",
      "[ 300 / 1000 ]\r",
      "[ 400 / 1000 ]\r",
      "[ 500 / 1000 ]\r",
      "[ 600 / 1000 ]\r",
      "[ 700 / 1000 ]\r",
      "[ 800 / 1000 ]\r",
      "[ 900 / 1000 ]\r",
      "[ 1000 / 1000 ]\r\n"
     ]
    },
    {
     "name": "stderr",
     "output_type": "stream",
     "text": [
      "Constructing posterior predictions\n"
     ]
    },
    {
     "name": "stdout",
     "output_type": "stream",
     "text": [
      "[ 100 / 1000 ]\r",
      "[ 200 / 1000 ]\r",
      "[ 300 / 1000 ]\r",
      "[ 400 / 1000 ]\r",
      "[ 500 / 1000 ]\r",
      "[ 600 / 1000 ]\r",
      "[ 700 / 1000 ]\r",
      "[ 800 / 1000 ]\r",
      "[ 900 / 1000 ]\r",
      "[ 1000 / 1000 ]\r\n"
     ]
    },
    {
     "data": {
      "image/png": "[encoded data removed]",
      "text/plain": [
       "plot without title"
      ]
     },
     "metadata": {},
     "output_type": "display_data"
    }
   ],
   "source": [
    "rugged.ensemble <-ensemble( m7H3.1, m7H3.2, m7H3.3, data=d.predict )\n",
    "rug.mu <- apply( rugged.ensemble$link , 2, mean)\n",
    "rug.PI <- apply( rugged.ensemble$link , 2, PI)\n",
    "\n",
    "rugged.ensemble1 <-ensemble( m7H3.1, m7H3.2, m7H3.3, data=d.predict1 )\n",
    "rug.mu1 <- apply( rugged.ensemble1$link , 2, mean)\n",
    "rug.PI1 <- apply( rugged.ensemble1$link , 2, PI)\n",
    "\n",
    "plot( log(rgdppc_2000)  ~ rugged , dd , col=rangi2 )\n",
    "lines( rugged.seq0, rug.mu , lty=2 )\n",
    "lines( rugged.seq0, rug.PI[1,] , lty=2 )\n",
    "lines( rugged.seq0, rug.PI[2,] , lty=2 )\n",
    "lines( rugged.seq0, rug.mu1 , lty=2 )\n",
    "lines( rugged.seq0, rug.PI1[1,] , lty=2 )\n",
    "lines( rugged.seq0, rug.PI1[2,] , lty=2 )\n",
    "#ensemble shade\n",
    "#lines( rugged.seq0 , rug.mu )\n",
    "shade( rug.PI , rugged.seq0 ,col=col.alpha(rangi2,0.3))\n",
    "#lines( rugged.seq0 , rug.mu1 )\n",
    "shade( rug.PI1 , rugged.seq0 )"
   ]
  },
  {
   "cell_type": "code",
   "execution_count": 169,
   "metadata": {},
   "outputs": [
    {
     "data": {
      "image/png": "[encoded data removed]",
      "text/plain": [
       "Plot with title \"\""
      ]
     },
     "metadata": {},
     "output_type": "display_data"
    }
   ],
   "source": [
    "#Ensemble difference of rugged slopes in africa out of africa\n",
    "\n",
    "post1 <- extract.samples(m7H3.3)\n",
    "#Below bcause slope is determined within model not an explicit out put. see model from earlier.\n",
    "gamma.Africa <- post1$bR + post1$bAR*1\n",
    "gamma.notAfrica <- post1$bR + post1$bAR*0\n",
    "diff.gama<- gamma.Africa - gamma.notAfrica\n",
    "dens(diff.gama)\n",
    "#beta better by .2. .2 lift"
   ]
  },
  {
   "cell_type": "code",
   "execution_count": 173,
   "metadata": {},
   "outputs": [
    {
     "data": {
      "image/png": "[encoded data removed]",
      "text/plain": [
       "plot without title"
      ]
     },
     "metadata": {},
     "output_type": "display_data"
    }
   ],
   "source": [
    "options(repr.plot.res = 100)\n",
    "par(mfrow = c(2,2))\n",
    "plot( log(rgdppc_2000) ~ rugged , data=dd ,\n",
    "     ylab=\"log GDP year 2000\" ,\n",
    "    xlab=\"Terrain Ruggedness Index\" )\n",
    "mtext( \"Both African & Non-African nations\" , 3 )\n",
    "lines( rugged.seq , mu.NotAfrica.mean )\n",
    "shade( mu.NotAfrica.PI , rugged.seq )\n",
    "lines( rugged.seq , mu.Africa.mean , col=rangi2 )\n",
    "shade( mu.Africa.PI , rugged.seq , col=col.alpha(rangi2,0.3) )\n",
    "\n",
    "plot( log(rgdppc_2000) ~ rugged , data=dd1 ,\n",
    "     ylab=\"log GDP year 2000\" ,\n",
    "    xlab=\"Terrain Ruggedness Index\" )\n",
    "mtext( \"Both African & Non-African nations -Seychelles\" , 3 ,cex=.9)\n",
    "lines( rugged.seq , mu.NotAfrica.meanb )\n",
    "shade( mu.NotAfrica.PIb , rugged.seq )\n",
    "lines( rugged.seq , mu.Africa.meanb , col=rangi2 )\n",
    "shade( mu.Africa.PIb , rugged.seq , col=col.alpha(rangi2,0.3) )\n",
    "\n",
    "#plot( log(rgdppc_2000)  ~ rugged , dd , col=rangi2 )\n",
    "plot( log(rgdppc_2000) ~ rugged , data=dd ,\n",
    "     ylab=\"log GDP year 2000\" ,\n",
    "    xlab=\"Terrain Ruggedness Index\" )\n",
    "mtext( \"Both African & Non-African nations ENSEMBLE\" , 3 )\n",
    "lines( rugged.seq0, rug.mu , lty=2 )\n",
    "# lines( rugged.seq0, rug.PI[1,] , lty=2 )\n",
    "# lines( rugged.seq0, rug.PI[2,] , lty=2 )\n",
    "lines( rugged.seq0, rug.mu1 , lty=2 )\n",
    "# lines( rugged.seq0, rug.PI1[1,] , lty=2 )\n",
    "# lines( rugged.seq0, rug.PI1[2,] , lty=2 )\n",
    "#ensemble shade\n",
    "lines( rugged.seq0 , rug.mu ,  col=rangi2 )\n",
    "shade( rug.PI , rugged.seq0 ,col=col.alpha(rangi2,0.3))\n",
    "lines( rugged.seq0 , rug.mu1 )\n",
    "shade( rug.PI1 , rugged.seq0 )"
   ]
  },
  {
   "cell_type": "code",
   "execution_count": 174,
   "metadata": {
    "collapsed": true
   },
   "outputs": [],
   "source": [
    "# 7H4\n",
    "# The values in data(nettle) are data on language diversity in 74 nations. The meaning of each column is given below.\n",
    "# language diversity ~ part of food security\n",
    "# langauges per captia"
   ]
  },
  {
   "cell_type": "code",
   "execution_count": 175,
   "metadata": {
    "collapsed": true
   },
   "outputs": [],
   "source": [
    "data(nettle)"
   ]
  },
  {
   "cell_type": "code",
   "execution_count": 176,
   "metadata": {
    "collapsed": true
   },
   "outputs": [],
   "source": [
    "db <- nettle"
   ]
  },
  {
   "cell_type": "code",
   "execution_count": 177,
   "metadata": {
    "collapsed": true
   },
   "outputs": [],
   "source": [
    "db$area.c <- log(db$area) - mean(log(db$area))\n",
    "db$k.pop.c <- db$k.pop - mean(db$k.pop)\n",
    "db$num.stations.c <- db$num.stations - mean(db$num.stations)\n",
    "db$mean.growing.season.c <- db$mean.growing.season - mean(db$mean.growing.season)\n",
    "db$sd.growing.season.c <- db$sd.growing.season - mean(db$sd.growing.season)"
   ]
  },
  {
   "cell_type": "code",
   "execution_count": 178,
   "metadata": {
    "collapsed": true
   },
   "outputs": [],
   "source": [
    "db$lang.per.cap <- db$num.lang/db$k.pop"
   ]
  },
  {
   "cell_type": "code",
   "execution_count": 179,
   "metadata": {
    "collapsed": true
   },
   "outputs": [],
   "source": [
    "db$lang.per.cap.log <- log(db$num.lang/db$k.pop)"
   ]
  },
  {
   "cell_type": "code",
   "execution_count": 180,
   "metadata": {
    "collapsed": true
   },
   "outputs": [],
   "source": [
    "# (A)\n",
    "\n",
    "m7H4.a <- map(\n",
    "    alist(\n",
    "        lang.per.cap.log ~ dnorm(mu, sigma) , \n",
    "        mu <- a + g * mean.growing.season.c + ar * area.c , \n",
    "        a ~ dnorm( mean(lang.per.cap.log), 10),\n",
    "        ar ~ dnorm(mean(db$area.c), 10) ,\n",
    "        g ~ dnorm(0, 1) ,\n",
    "        sigma ~ dunif(0, 10)\n",
    "    ) ,\n",
    "    data=db  )"
   ]
  },
  {
   "cell_type": "code",
   "execution_count": 181,
   "metadata": {
    "scrolled": true
   },
   "outputs": [
    {
     "data": {
      "text/plain": [
       "\n",
       "Maximum a posteriori (MAP) model fit\n",
       "\n",
       "Formula:\n",
       "lang.per.cap.log ~ dnorm(mu, sigma)\n",
       "mu <- a + g * mean.growing.season.c + ar * area.c\n",
       "a ~ dnorm(mean(lang.per.cap.log), 10)\n",
       "ar ~ dnorm(mean(db$area.c), 10)\n",
       "g ~ dnorm(0, 1)\n",
       "sigma ~ dunif(0, 10)\n",
       "\n",
       "MAP values:\n",
       "         a         ar          g      sigma \n",
       "-5.4565649 -0.2020180  0.1434248  1.3893293 \n",
       "\n",
       "Log-likelihood: -129.33 "
      ]
     },
     "metadata": {},
     "output_type": "display_data"
    }
   ],
   "source": [
    "m7H4.a"
   ]
  },
  {
   "cell_type": "code",
   "execution_count": 182,
   "metadata": {},
   "outputs": [
    {
     "data": {
      "image/png": "[encoded data removed]",
      "text/plain": [
       "plot without title"
      ]
     },
     "metadata": {},
     "output_type": "display_data"
    }
   ],
   "source": [
    "options(repr.plot.res = 60)\n",
    "plot(coeftab(m7H4.a))"
   ]
  },
  {
   "cell_type": "code",
   "execution_count": 40,
   "metadata": {},
   "outputs": [
    {
     "name": "stdout",
     "output_type": "stream",
     "text": [
      "[ 100 / 1000 ]\r",
      "[ 200 / 1000 ]\r",
      "[ 300 / 1000 ]\r",
      "[ 400 / 1000 ]\r",
      "[ 500 / 1000 ]\r",
      "[ 600 / 1000 ]\r",
      "[ 700 / 1000 ]\r",
      "[ 800 / 1000 ]\r",
      "[ 900 / 1000 ]\r",
      "[ 1000 / 1000 ]\r\n"
     ]
    },
    {
     "data": {
      "image/png": "[encoded data removed]",
      "text/plain": [
       "plot without title"
      ]
     },
     "metadata": {},
     "output_type": "display_data"
    }
   ],
   "source": [
    "options(repr.plot.res = 60)\n",
    "meangs.seq <- seq(from =min(db$mean.growing.season.c) , to=max(db$mean.growing.season.c), length.out =1000 )\n",
    "#d.predict <- list( log_gdp=rep(0,length(rugged.seq)) ,rugged =rugged.seq0 ,cont_africa =rep(1,length(rugged.seq)) )\n",
    "pred.m7H4.a <- link( m7H4.a ,data = data.frame(area.c=mean(db$area.c),mean.growing.season.c=meangs.seq) )\n",
    "pred.mu <- apply(pred.m7H4.a, 2, mean )\n",
    "pred.PI <- apply(pred.m7H4.a, 2, PI )\n",
    "\n",
    "plot( lang.per.cap.log ~ mean.growing.season.c , db ) \n",
    "lines( meangs.seq , pred.mu )\n",
    "shade( pred.PI , meangs.seq )"
   ]
  },
  {
   "cell_type": "code",
   "execution_count": 183,
   "metadata": {},
   "outputs": [
    {
     "data": {
      "text/plain": [
       "       Mean StdDev  5.5% 94.5%\n",
       "a     -5.46   0.17 -5.72 -5.19\n",
       "ar    -0.24   0.16 -0.49  0.01\n",
       "gsd   -0.20   0.18 -0.50  0.09\n",
       "sigma  1.44   0.12  1.25  1.63"
      ]
     },
     "metadata": {},
     "output_type": "display_data"
    }
   ],
   "source": [
    "# (B)\n",
    "m7H4.b <- map(\n",
    "    alist(\n",
    "        lang.per.cap.log ~ dnorm(mu, sigma) , \n",
    "        mu <- a + gsd * sd.growing.season.c + ar * area.c , \n",
    "        a ~ dnorm( mean(lang.per.cap.log), 10),\n",
    "        ar ~ dnorm(mean(db$area.c), 10) ,\n",
    "        gsd ~ dnorm(0, 1) ,\n",
    "        sigma ~ dunif(0, 10)\n",
    "    ) ,\n",
    "    data=db  )\n",
    "precis(m7H4.b)"
   ]
  },
  {
   "cell_type": "code",
   "execution_count": 42,
   "metadata": {},
   "outputs": [
    {
     "data": {
      "image/png": "[encoded data removed]",
      "text/plain": [
       "plot without title"
      ]
     },
     "metadata": {},
     "output_type": "display_data"
    }
   ],
   "source": [
    "plot(coeftab(m7H4.b))"
   ]
  },
  {
   "cell_type": "code",
   "execution_count": 43,
   "metadata": {},
   "outputs": [
    {
     "name": "stdout",
     "output_type": "stream",
     "text": [
      "[ 100 / 1000 ]\r",
      "[ 200 / 1000 ]\r",
      "[ 300 / 1000 ]\r",
      "[ 400 / 1000 ]\r",
      "[ 500 / 1000 ]\r",
      "[ 600 / 1000 ]\r",
      "[ 700 / 1000 ]\r",
      "[ 800 / 1000 ]\r",
      "[ 900 / 1000 ]\r",
      "[ 1000 / 1000 ]\r\n"
     ]
    },
    {
     "data": {
      "image/png": "[encoded data removed]",
      "text/plain": [
       "plot without title"
      ]
     },
     "metadata": {},
     "output_type": "display_data"
    }
   ],
   "source": [
    "meangs.seqb <- seq(from =min(db$sd.growing.season.c) , to=max(db$sd.growing.season.c), length.out =1000 )\n",
    "#d.predict <- list( log_gdp=rep(0,length(rugged.seq)) ,rugged =rugged.seq0 ,cont_africa =rep(1,length(rugged.seq)) )\n",
    "\n",
    "pred.m7H4.b <- link( m7H4.b ,data = data.frame(area.c=mean(db$area.c),sd.growing.season.c=meangs.seqb) )\n",
    "pred.mub <- apply(pred.m7H4.b, 2, mean )\n",
    "pred.PIb <- apply(pred.m7H4.b, 2, PI )\n",
    "\n",
    "plot( lang.per.cap.log ~ sd.growing.season.c , db ) \n",
    "lines( meangs.seqb , pred.mub )\n",
    "shade( pred.PIb , meangs.seqb )"
   ]
  },
  {
   "cell_type": "code",
   "execution_count": 184,
   "metadata": {},
   "outputs": [
    {
     "data": {
      "text/plain": [
       "       Mean StdDev  5.5% 94.5%\n",
       "a     -5.45   0.15 -5.69 -5.21\n",
       "ar    -0.01   0.16 -0.26  0.24\n",
       "gsd   -0.33   0.17 -0.61 -0.05\n",
       "g      0.11   0.06  0.02  0.21\n",
       "ggsd  -0.11   0.05 -0.18 -0.03\n",
       "sigma  1.31   0.11  1.14  1.48"
      ]
     },
     "metadata": {},
     "output_type": "display_data"
    }
   ],
   "source": [
    "# (C)\n",
    "m7H4.c <- map(\n",
    "    alist(\n",
    "        lang.per.cap.log ~ dnorm(mu, sigma) , \n",
    "        mu <- a + gsd * sd.growing.season.c + ar * area.c + g * mean.growing.season.c + ggsd *mean.growing.season.c*sd.growing.season.c , \n",
    "        a ~ dnorm( mean(lang.per.cap.log), 10),\n",
    "        ar ~ dnorm(mean(db$area.c), 10) ,\n",
    "        gsd ~ dnorm(0, 1) ,\n",
    "        g ~ dnorm(0, 1) ,\n",
    "        ggsd ~ dnorm(0, 1) ,\n",
    "        sigma ~ dunif(0, 10)\n",
    "    ) ,\n",
    "    data=db  )\n",
    "precis(m7H4.c)"
   ]
  },
  {
   "cell_type": "code",
   "execution_count": 45,
   "metadata": {},
   "outputs": [
    {
     "name": "stdout",
     "output_type": "stream",
     "text": [
      "[ 1000 / 1000 ]\n",
      "[ 1000 / 1000 ]\n",
      "[ 1000 / 1000 ]\n"
     ]
    },
    {
     "data": {
      "image/png": "[encoded data removed]",
      "text/plain": [
       "Plot with title \"sd.g.seas = 4.17081081081081\""
      ]
     },
     "metadata": {},
     "output_type": "display_data"
    }
   ],
   "source": [
    "options(repr.plot.res = 70)\n",
    "\n",
    "par(mfrow=c(2,3)) # 1 row, 3 columns\n",
    "\n",
    "# loop over values of water.c and plot predictions\n",
    "#shade.seq <- c(min(log(db$area)),mean(log(db$area)),max(log(db$area)))\n",
    "shade.seq <- c(min(db$mean.growing.season.c),mean(db$mean.growing.season.c),max(db$mean.growing.season.c)) \n",
    "\n",
    "for (  w in c(min(db$sd.growing.season.c),mean(db$sd.growing.season.c),max(db$sd.growing.season.c)) ) {\n",
    "    dt <- db[db$sd.growing.season.c==w,]\n",
    "    plot(lang.per.cap.log ~ mean.growing.season.c , db , col=rangi2 ,\n",
    "        main=paste(\"sd.g.seas =\",w) , #xaxp=c(-1,1,2) , ylim=c(0,max(db$lang.per.cap.log)) ,\n",
    "        xlab=\"mu.g.seas (centered)\" )\n",
    "    mu <- link( m7H4.c , data=data.frame(sd.growing.season.c=w,area.c=mean(db$area.c),mean.growing.season.c=shade.seq)) \n",
    "    mu.mean <- apply( mu , 2 , mean )\n",
    "    mu.PI <- apply( mu , 2 , PI , prob=0.97 )\n",
    "    lines( shade.seq , mu.mean )\n",
    "    lines( shade.seq , mu.PI[1,] , lty=2 )\n",
    "    lines( shade.seq , mu.PI[2,] , lty=2 )\n",
    "    }"
   ]
  },
  {
   "cell_type": "code",
   "execution_count": 46,
   "metadata": {},
   "outputs": [
    {
     "data": {
      "text/plain": [
       "        WAIC pWAIC dWAIC weight    SE  dSE\n",
       "m7H4.c 264.2   7.3   0.0   0.86 16.52   NA\n",
       "m7H4.a 267.9   4.9   3.8   0.13 15.89 5.31\n",
       "m7H4.b 273.9   5.4   9.7   0.01 17.05 6.28"
      ]
     },
     "metadata": {},
     "output_type": "display_data"
    },
    {
     "data": {
      "image/png": "[encoded data removed]",
      "text/plain": [
       "plot without title"
      ]
     },
     "metadata": {},
     "output_type": "display_data"
    }
   ],
   "source": [
    "compare(m7H4.c,m7H4.b,m7H4.a)\n",
    "plot(compare(m7H4.c,m7H4.b,m7H4.a))"
   ]
  },
  {
   "cell_type": "code",
   "execution_count": 47,
   "metadata": {},
   "outputs": [
    {
     "data": {
      "text/plain": [
       "      m7H4.c  m7H4.b  m7H4.a \n",
       "a       -5.45   -5.46   -5.46\n",
       "ar      -0.01   -0.24   -0.20\n",
       "gsd     -0.33   -0.20      NA\n",
       "g        0.11      NA    0.14\n",
       "ggsd    -0.11      NA      NA\n",
       "sigma    1.31    1.44    1.39\n",
       "nobs       74      74      74"
      ]
     },
     "metadata": {},
     "output_type": "display_data"
    },
    {
     "data": {
      "image/png": "[encoded data removed]",
      "text/plain": [
       "plot without title"
      ]
     },
     "metadata": {},
     "output_type": "display_data"
    }
   ],
   "source": [
    "coeftab(m7H4.c,m7H4.b,m7H4.a)\n",
    "plot(coeftab(m7H4.c,m7H4.b,m7H4.a))"
   ]
  },
  {
   "cell_type": "code",
   "execution_count": 48,
   "metadata": {},
   "outputs": [
    {
     "name": "stdout",
     "output_type": "stream",
     "text": [
      "[ 1000 / 1000 ]\n",
      "[ 1000 / 1000 ]\n",
      "[ 1000 / 1000 ]\n"
     ]
    },
    {
     "data": {
      "image/png": "[encoded data removed]",
      "text/plain": [
       "Plot with title \"mu.g.seas = 4.95851351351351\""
      ]
     },
     "metadata": {},
     "output_type": "display_data"
    }
   ],
   "source": [
    "par(mfrow=c(2,3)) # 1 row, 3 columns\n",
    "shade.seq <- c(min(db$sd.growing.season.c),mean(db$sd.growing.season.c),max(db$sd.growing.season.c)) \n",
    "\n",
    "for (  w in c(min(db$mean.growing.season.c),mean(db$mean.growing.season.c),max(db$mean.growing.season.c)) ) {\n",
    "    dt <- db[db$mean.growing.season.c==w,]\n",
    "    plot(lang.per.cap.log ~ sd.growing.season.c , db , col=rangi2 ,\n",
    "        main=paste(\"mu.g.seas =\",w) , #xaxp=c(-1,1,2) , ylim=c(0,max(db$lang.per.cap.log)) ,\n",
    "        xlab=\"sd.g.seas (centered)\" )\n",
    "    mu <- link( m7H4.c , data=data.frame(mean.growing.season.c=w,area.c=mean(db$area.c),sd.growing.season.c=shade.seq)) \n",
    "    mu.mean <- apply( mu , 2 , mean )\n",
    "    mu.PI <- apply( mu , 2 , PI , prob=0.97 )\n",
    "    lines( shade.seq , mu.mean )\n",
    "    lines( shade.seq , mu.PI[1,] , lty=2 )\n",
    "    lines( shade.seq , mu.PI[2,] , lty=2 )\n",
    "    }"
   ]
  },
  {
   "cell_type": "code",
   "execution_count": null,
   "metadata": {
    "collapsed": true
   },
   "outputs": [],
   "source": [
    "# Conclusion interactions works both ways. \n",
    "# how does a affect b and b affect a same interaction a*b . Plot both directions...\n",
    "# according to the model mean growing season increases language diversity until the variance is too high.\n",
    "# same in the other direction variance in growing season decreases language\n",
    "# diversity, unless the mean growing season is very short (bottom row)."
   ]
  },
  {
   "cell_type": "code",
   "execution_count": null,
   "metadata": {
    "collapsed": true
   },
   "outputs": [],
   "source": []
  }
 ],
 "metadata": {
  "kernelspec": {
   "display_name": "R",
   "language": "R",
   "name": "ir"
  },
  "language_info": {
   "codemirror_mode": "r",
   "file_extension": ".r",
   "mimetype": "text/x-r-source",
   "name": "R",
   "pygments_lexer": "r",
   "version": "3.3.1"
  }
 },
 "nbformat": 4,
 "nbformat_minor": 2
}
