{
 "cells": [
  {
   "cell_type": "code",
   "execution_count": 1,
   "metadata": {},
   "outputs": [
    {
     "name": "stderr",
     "output_type": "stream",
     "text": [
      "Loading required package: rstan\n",
      "Warning message:\n",
      "\"package 'rstan' was built under R version 3.3.2\"Loading required package: ggplot2\n",
      "Warning message:\n",
      "\"package 'ggplot2' was built under R version 3.3.2\"Loading required package: StanHeaders\n",
      "Warning message:\n",
      "\"package 'StanHeaders' was built under R version 3.3.2\"rstan (Version 2.13.2, packaged: 2016-12-18 07:04:42 UTC, GitRev: 5fa1e80eb817)\n",
      "For execution on a local, multicore CPU with excess RAM we recommend calling\n",
      "rstan_options(auto_write = TRUE)\n",
      "options(mc.cores = parallel::detectCores())\n",
      "Loading required package: parallel\n",
      "rethinking (Version 1.59)\n"
     ]
    }
   ],
   "source": [
    "library(rethinking)"
   ]
  },
  {
   "cell_type": "raw",
   "metadata": {},
   "source": [
    "7H1. Return to the data(tulips) example in the chapter. Now include the bed variable as a predictor in the interaction model.\n",
    "Don''t interact bed with the other predictors; just include it as a main effect.\n",
    "Note that bed is categorical. So to use it properly, you will need to either construct dummy variables or rather\n",
    "an index variable, as explained in Chapter 6."
   ]
  },
  {
   "cell_type": "code",
   "execution_count": 2,
   "metadata": {
    "collapsed": true
   },
   "outputs": [],
   "source": [
    "data(tulips)"
   ]
  },
  {
   "cell_type": "code",
   "execution_count": 3,
   "metadata": {
    "collapsed": true
   },
   "outputs": [],
   "source": [
    "d<- tulips"
   ]
  },
  {
   "cell_type": "code",
   "execution_count": 6,
   "metadata": {
    "collapsed": true
   },
   "outputs": [],
   "source": [
    "d$bed.a <- ifelse( d$bed==\"a\" , 1 , 0 )\n",
    "d$bed.b <- ifelse( d$bed==\"b\" , 1 , 0 )"
   ]
  },
  {
   "cell_type": "code",
   "execution_count": 8,
   "metadata": {
    "collapsed": true
   },
   "outputs": [],
   "source": [
    "d$shade.c <- d$shade - mean(d$shade)\n",
    "d$water.c <- d$water - mean(d$water)"
   ]
  },
  {
   "cell_type": "code",
   "execution_count": 9,
   "metadata": {},
   "outputs": [],
   "source": [
    "m7.9 <- map(\n",
    "    alist(\n",
    "        blooms ~ dnorm( mu , sigma ) ,\n",
    "        mu <- a + bW*water.c + bS*shade.c + bWS*water.c*shade.c + ba*bed.a + bb*bed.b,\n",
    "        a ~ dnorm( 130 , 100 ) ,\n",
    "        bW ~ dnorm( 0 , 100 ) ,\n",
    "        bS ~ dnorm( 0 , 100 ) ,\n",
    "        bWS ~ dnorm( 0 , 100 ) ,\n",
    "        ba ~ dnorm( 0 , 100 ) ,\n",
    "        bb ~ dnorm( 0 , 100 ) ,\n",
    "        sigma ~ dunif( 0 , 100 )\n",
    "    ) ,\n",
    "    data=d ,\n",
    "    start=list(a=mean(d$blooms),bW=0,bS=0,bWS=0,ba=0,bb=0,sigma=sd(d$blooms)) )"
   ]
  },
  {
   "cell_type": "code",
   "execution_count": 10,
   "metadata": {},
   "outputs": [
    {
     "data": {
      "text/plain": [
       "\n",
       "Maximum a posteriori (MAP) model fit\n",
       "\n",
       "Formula:\n",
       "blooms ~ dnorm(mu, sigma)\n",
       "mu <- a + bW * water.c + bS * shade.c + bWS * water.c * shade.c + \n",
       "    ba * bed.a + bb * bed.b\n",
       "a ~ dnorm(130, 100)\n",
       "bW ~ dnorm(0, 100)\n",
       "bS ~ dnorm(0, 100)\n",
       "bWS ~ dnorm(0, 100)\n",
       "ba ~ dnorm(0, 100)\n",
       "bb ~ dnorm(0, 100)\n",
       "sigma ~ dunif(0, 100)\n",
       "\n",
       "MAP values:\n",
       "         a         bW         bS        bWS         ba         bb      sigma \n",
       "146.068212  75.189996 -41.267070 -52.162067 -47.941011  -3.429834  39.185236 \n",
       "\n",
       "Log-likelihood: -137.36 "
      ]
     },
     "metadata": {},
     "output_type": "display_data"
    }
   ],
   "source": [
    "m7.9"
   ]
  },
  {
   "cell_type": "raw",
   "metadata": {},
   "source": [
    "7H2. Use WAIC to compare the model from 7H1 to a model that omits bed. What do you infer from this comparison?\n",
    "Can you reconcile the WAIC results with the posterior distribution of the bed coefficients?"
   ]
  },
  {
   "cell_type": "code",
   "execution_count": 13,
   "metadata": {
    "collapsed": true
   },
   "outputs": [],
   "source": [
    "m7.9a <- map(\n",
    "    alist(\n",
    "        blooms ~ dnorm( mu , sigma ) ,\n",
    "        mu <- a + bW*water.c + bS*shade.c + bWS*water.c*shade.c ,\n",
    "        a ~ dnorm( 130 , 100 ) ,\n",
    "        bW ~ dnorm( 0 , 100 ) ,\n",
    "        bS ~ dnorm( 0 , 100 ) ,\n",
    "        bWS ~ dnorm( 0 , 100 ) ,\n",
    "        sigma ~ dunif( 0 , 100 )\n",
    "    ) ,\n",
    "    data=d ,\n",
    "    start=list(a=mean(d$blooms),bW=0,bS=0,bWS=0,sigma=sd(d$blooms)) )"
   ]
  },
  {
   "cell_type": "code",
   "execution_count": 15,
   "metadata": {},
   "outputs": [
    {
     "data": {
      "text/plain": [
       "       WAIC pWAIC dWAIC weight    SE  dSE\n",
       "m7.9  294.7   9.7   0.0   0.57  9.81   NA\n",
       "m7.9a 295.3   6.3   0.6   0.43 10.44 8.14"
      ]
     },
     "metadata": {},
     "output_type": "display_data"
    }
   ],
   "source": [
    "compare(m7.9,m7.9a)"
   ]
  },
  {
   "cell_type": "code",
   "execution_count": 17,
   "metadata": {},
   "outputs": [
    {
     "data": {
      "image/png": "[encoded data removed]",
      "text/plain": [
       "plot without title"
      ]
     },
     "metadata": {},
     "output_type": "display_data"
    }
   ],
   "source": [
    "par(mfrow = c(2,2))\n",
    "plot(compare(m7.9,m7.9a) )"
   ]
  },
  {
   "cell_type": "code",
   "execution_count": 18,
   "metadata": {
    "collapsed": true
   },
   "outputs": [],
   "source": [
    "post <- extract.samples( m7.9 )"
   ]
  },
  {
   "cell_type": "code",
   "execution_count": 40,
   "metadata": {},
   "outputs": [
    {
     "data": {
      "text/plain": [
       "      m7.9   \n",
       "a      146.07\n",
       "bW      75.19\n",
       "bS     -41.27\n",
       "bWS    -52.16\n",
       "ba     -47.94\n",
       "bb      -3.43\n",
       "sigma   39.19\n",
       "nobs       27"
      ]
     },
     "metadata": {},
     "output_type": "display_data"
    }
   ],
   "source": [
    "coeftab(m7.9 )"
   ]
  },
  {
   "cell_type": "code",
   "execution_count": 39,
   "metadata": {},
   "outputs": [
    {
     "data": {
      "text/html": [
       "<dl class=dl-horizontal>\n",
       "\t<dt>|0.89</dt>\n",
       "\t\t<dd>-76.4487210255102</dd>\n",
       "\t<dt>|0.5</dt>\n",
       "\t\t<dd>-58.2017207753766</dd>\n",
       "\t<dt>|0.01</dt>\n",
       "\t\t<dd>-45.865125572614</dd>\n",
       "\t<dt>0.01|</dt>\n",
       "\t\t<dd>-45.5043622318662</dd>\n",
       "\t<dt>0.5|</dt>\n",
       "\t\t<dd>-33.9045642209647</dd>\n",
       "\t<dt>0.89|</dt>\n",
       "\t\t<dd>-17.9482963242389</dd>\n",
       "</dl>\n"
      ],
      "text/latex": [
       "\\begin{description*}\n",
       "\\item[\\textbackslash{}textbar\\{\\}0.89] -76.4487210255102\n",
       "\\item[\\textbackslash{}textbar\\{\\}0.5] -58.2017207753766\n",
       "\\item[\\textbackslash{}textbar\\{\\}0.01] -45.865125572614\n",
       "\\item[0.01\\textbackslash{}textbar\\{\\}] -45.5043622318662\n",
       "\\item[0.5\\textbackslash{}textbar\\{\\}] -33.9045642209647\n",
       "\\item[0.89\\textbackslash{}textbar\\{\\}] -17.9482963242389\n",
       "\\end{description*}\n"
      ],
      "text/markdown": [
       "|0.89\n",
       ":   -76.4487210255102|0.5\n",
       ":   -58.2017207753766|0.01\n",
       ":   -45.8651255726140.01|\n",
       ":   -45.50436223186620.5|\n",
       ":   -33.90456422096470.89|\n",
       ":   -17.9482963242389\n",
       "\n"
      ],
      "text/plain": [
       "    |0.89      |0.5     |0.01     0.01|      0.5|     0.89| \n",
       "-76.44872 -58.20172 -45.86513 -45.50436 -33.90456 -17.94830 "
      ]
     },
     "metadata": {},
     "output_type": "display_data"
    },
    {
     "data": {
      "text/html": [
       "<dl class=dl-horizontal>\n",
       "\t<dt>|0.89</dt>\n",
       "\t\t<dd>-33.6222629276132</dd>\n",
       "\t<dt>|0.5</dt>\n",
       "\t\t<dd>-16.0623214148235</dd>\n",
       "\t<dt>|0.01</dt>\n",
       "\t\t<dd>-2.29251931169775</dd>\n",
       "\t<dt>0.01|</dt>\n",
       "\t\t<dd>-1.95207558599731</dd>\n",
       "\t<dt>0.5|</dt>\n",
       "\t\t<dd>8.35459727514951</dd>\n",
       "\t<dt>0.89|</dt>\n",
       "\t\t<dd>23.636311763048</dd>\n",
       "</dl>\n"
      ],
      "text/latex": [
       "\\begin{description*}\n",
       "\\item[\\textbackslash{}textbar\\{\\}0.89] -33.6222629276132\n",
       "\\item[\\textbackslash{}textbar\\{\\}0.5] -16.0623214148235\n",
       "\\item[\\textbackslash{}textbar\\{\\}0.01] -2.29251931169775\n",
       "\\item[0.01\\textbackslash{}textbar\\{\\}] -1.95207558599731\n",
       "\\item[0.5\\textbackslash{}textbar\\{\\}] 8.35459727514951\n",
       "\\item[0.89\\textbackslash{}textbar\\{\\}] 23.636311763048\n",
       "\\end{description*}\n"
      ],
      "text/markdown": [
       "|0.89\n",
       ":   -33.6222629276132|0.5\n",
       ":   -16.0623214148235|0.01\n",
       ":   -2.292519311697750.01|\n",
       ":   -1.952075585997310.5|\n",
       ":   8.354597275149510.89|\n",
       ":   23.636311763048\n",
       "\n"
      ],
      "text/plain": [
       "     |0.89       |0.5      |0.01      0.01|       0.5|      0.89| \n",
       "-33.622263 -16.062321  -2.292519  -1.952076   8.354597  23.636312 "
      ]
     },
     "metadata": {},
     "output_type": "display_data"
    }
   ],
   "source": [
    "HPDI(post$ba, prob=c(.01,.5,.89) )\n",
    "HPDI(post$bb, prob=c(.01,.5,.89) )"
   ]
  },
  {
   "cell_type": "code",
   "execution_count": 41,
   "metadata": {},
   "outputs": [
    {
     "data": {
      "text/html": [
       "-47.9274674435648"
      ],
      "text/latex": [
       "-47.9274674435648"
      ],
      "text/markdown": [
       "-47.9274674435648"
      ],
      "text/plain": [
       "[1] -47.92747"
      ]
     },
     "metadata": {},
     "output_type": "display_data"
    },
    {
     "data": {
      "text/html": [
       "-3.84564190609406"
      ],
      "text/latex": [
       "-3.84564190609406"
      ],
      "text/markdown": [
       "-3.84564190609406"
      ],
      "text/plain": [
       "[1] -3.845642"
      ]
     },
     "metadata": {},
     "output_type": "display_data"
    }
   ],
   "source": [
    "mean(post$ba)\n",
    "mean(post$bb) #a lot of it is between less than 0 and above 0"
   ]
  },
  {
   "cell_type": "code",
   "execution_count": 44,
   "metadata": {},
   "outputs": [
    {
     "data": {
      "image/png": "[encoded data removed]",
      "text/plain": [
       "Plot with title \"\""
      ]
     },
     "metadata": {},
     "output_type": "display_data"
    }
   ],
   "source": [
    "par(mfrow = c(2,2))\n",
    "dens(post$ba)\n",
    "dens(post$bb , add= TRUE)"
   ]
  },
  {
   "cell_type": "raw",
   "metadata": {},
   "source": [
    "7H3. Consider again the data(rugged) data on economic development and terrain ruggedness, examined in this chapter.\n",
    "One of the African countries in that example, Seychelles, is far outside the cloud of other nattions, being a rare\n",
    "country with both relatively high GDP and high ruggedness. Seychelles is also unusual, in that it is a group of islands\n",
    "far from the coast of mainland Africa, and its main economic activity is tourism.\n",
    "One might suspect that this one nation is exerting a strong influence on the conclusions. In this problem, I want\n",
    " you to drop Seychelles from the data and re-evaluate the hypothesis that the relationship of African economies with ruggedness is different from that on other continents.\n",
    " \n",
    " a) Begin by using map to fit just the interaction model:"
   ]
  },
  {
   "cell_type": "code",
   "execution_count": 45,
   "metadata": {},
   "outputs": [
    {
     "name": "stderr",
     "output_type": "stream",
     "text": [
      "Constructing posterior predictions\n"
     ]
    },
    {
     "name": "stdout",
     "output_type": "stream",
     "text": [
      "[ 100 / 1000 ]\r",
      "[ 200 / 1000 ]\r",
      "[ 300 / 1000 ]\r",
      "[ 400 / 1000 ]\r",
      "[ 500 / 1000 ]\r",
      "[ 600 / 1000 ]\r",
      "[ 700 / 1000 ]\r",
      "[ 800 / 1000 ]\r",
      "[ 900 / 1000 ]\r",
      "[ 1000 / 1000 ]\r\n"
     ]
    },
    {
     "data": {
      "text/html": [
       "469.680151855925"
      ],
      "text/latex": [
       "469.680151855925"
      ],
      "text/markdown": [
       "469.680151855925"
      ],
      "text/plain": [
       "[1] 469.6802\n",
       "attr(,\"lppd\")\n",
       "[1] -229.4916\n",
       "attr(,\"pWAIC\")\n",
       "[1] 5.348447\n",
       "attr(,\"se\")\n",
       "[1] 15.17061"
      ]
     },
     "metadata": {},
     "output_type": "display_data"
    },
    {
     "data": {
      "text/plain": [
       "      m7.5   \n",
       "a        9.18\n",
       "bA      -1.85\n",
       "bR      -0.18\n",
       "bAR      0.35\n",
       "sigma    0.93\n",
       "nobs      170"
      ]
     },
     "metadata": {},
     "output_type": "display_data"
    }
   ],
   "source": [
    "data(rugged)\n",
    "dd <- rugged\n",
    "\n",
    "# extract countries with GDP data\n",
    "dd <- dd[ complete.cases(dd$rgdppc_2000) , ]\n",
    "\n",
    "# make log version of outcome\n",
    "dd$log_gdp <- log( dd$rgdppc_2000 )\n",
    "\n",
    "## R code 7.7\n",
    "m7.5 <- map(\n",
    "    alist(\n",
    "        log_gdp ~ dnorm( mu , sigma ) ,\n",
    "        mu <- a + gamma*rugged + bA*cont_africa ,\n",
    "        #gamma linear interaction effect \n",
    "        #we are saying ruggedness depends on africa_condition and africa_condition depends on ruggednes\n",
    "        gamma <- bR + bAR*cont_africa ,#gamma is the slope of ruggedness given continent of Africa\n",
    "        a ~ dnorm( 8 , 100 ) ,\n",
    "        bA ~ dnorm( 0 , 1 ) ,#continent of Africa coef\n",
    "        bR ~ dnorm( 0 , 1 ) ,#Rugged coef\n",
    "        bAR ~ dnorm( 0 , 1 ) ,#Rugged & Africa interaction coef\n",
    "        sigma ~ dunif( 0 , 10 )\n",
    "    ) ,\n",
    "    data=dd )\n",
    "WAIC(m7.5)\n",
    "coeftab(m7.5)"
   ]
  },
  {
   "cell_type": "code",
   "execution_count": null,
   "metadata": {
    "collapsed": true
   },
   "outputs": [],
   "source": [
    "data(rugged)\n",
    "dd <- rugged\n",
    "\n",
    "# extract countries with GDP data\n",
    "dd <- dd[ complete.cases(dd$rgdppc_2000) , ]\n",
    "\n",
    "# make log version of outcome\n",
    "dd$log_gdp <- log( dd$rgdppc_2000 )\n",
    "\n",
    "## R code 7.7\n",
    "m7.5 <- map(\n",
    "    alist(\n",
    "        log_gdp ~ dnorm( mu , sigma ) ,\n",
    "        mu <- a + gamma*rugged + bA*cont_africa ,\n",
    "        #gamma linear interaction effect \n",
    "        #we are saying ruggedness depends on africa_condition and africa_condition depends on ruggednes\n",
    "        gamma <- bR + bAR*cont_africa ,#gamma is the slope of ruggedness given continent of Africa\n",
    "        a ~ dnorm( 8 , 100 ) ,\n",
    "        bA ~ dnorm( 0 , 1 ) ,#continent of Africa coef\n",
    "        bR ~ dnorm( 0 , 1 ) ,#Rugged coef\n",
    "        bAR ~ dnorm( 0 , 1 ) ,#Rugged & Africa interaction coef\n",
    "        sigma ~ dunif( 0 , 10 )\n",
    "    ) ,\n",
    "    data=dd )\n",
    "WAIC(m7.5)\n",
    "coeftab(m7.5)"
   ]
  },
  {
   "cell_type": "code",
   "execution_count": 53,
   "metadata": {},
   "outputs": [
    {
     "name": "stderr",
     "output_type": "stream",
     "text": [
      "Constructing posterior predictions\n"
     ]
    },
    {
     "name": "stdout",
     "output_type": "stream",
     "text": [
      "[ 100 / 1000 ]\r",
      "[ 200 / 1000 ]\r",
      "[ 300 / 1000 ]\r",
      "[ 400 / 1000 ]\r",
      "[ 500 / 1000 ]\r",
      "[ 600 / 1000 ]\r",
      "[ 700 / 1000 ]\r",
      "[ 800 / 1000 ]\r",
      "[ 900 / 1000 ]\r",
      "[ 1000 / 1000 ]\r\n"
     ]
    },
    {
     "data": {
      "text/html": [
       "463.568374067624"
      ],
      "text/latex": [
       "463.568374067624"
      ],
      "text/markdown": [
       "463.568374067624"
      ],
      "text/plain": [
       "[1] 463.5684\n",
       "attr(,\"lppd\")\n",
       "[1] -227.0627\n",
       "attr(,\"pWAIC\")\n",
       "[1] 4.721473\n",
       "attr(,\"se\")\n",
       "[1] 14.96498"
      ]
     },
     "metadata": {},
     "output_type": "display_data"
    },
    {
     "data": {
      "text/plain": [
       "      m7.5b  \n",
       "a        9.19\n",
       "bA      -1.78\n",
       "bR      -0.19\n",
       "bAR      0.25\n",
       "sigma    0.93\n",
       "nobs      169"
      ]
     },
     "metadata": {},
     "output_type": "display_data"
    }
   ],
   "source": [
    "dd1 <-  dd[dd$country != 'Seychelles',]\n",
    "\n",
    "## R code 7.7\n",
    "m7.5b <- map(\n",
    "    alist(\n",
    "        log_gdp ~ dnorm( mu , sigma ) ,\n",
    "        mu <- a + gamma*rugged + bA*cont_africa ,\n",
    "        #gamma linear interaction effect \n",
    "        #we are saying ruggedness depends on africa_condition and africa_condition depends on ruggednes\n",
    "        gamma <- bR + bAR*cont_africa ,#gamma is the slope of ruggedness given continent of Africa\n",
    "        a ~ dnorm( 8 , 100 ) ,\n",
    "        bA ~ dnorm( 0 , 1 ) ,#continent of Africa coef\n",
    "        bR ~ dnorm( 0 , 1 ) ,#Rugged coef\n",
    "        bAR ~ dnorm( 0 , 1 ) ,#Rugged & Africa interaction coef\n",
    "        sigma ~ dunif( 0 , 10 )\n",
    "    ) ,\n",
    "    data=dd1 )\n",
    "WAIC(m7.5b)\n",
    "coeftab(m7.5b)"
   ]
  },
  {
   "cell_type": "code",
   "execution_count": 56,
   "metadata": {},
   "outputs": [
    {
     "name": "stderr",
     "output_type": "stream",
     "text": [
      "Warning message in compare(m7.5, m7.5b):\n",
      "\"Different numbers of observations found for at least two models.\n",
      "Information criteria only valid for comparing models fit to exactly same observations.\n",
      "Number of observations for each model:\n",
      "m7.5 170 \n",
      "m7.5b 169 \n",
      "\"Warning message in waic_ptw1 - waic_ptw2:\n",
      "\"longer object length is not a multiple of shorter object length\""
     ]
    },
    {
     "data": {
      "text/plain": [
       "       WAIC pWAIC dWAIC weight    SE  dSE\n",
       "m7.5b 463.5   4.7   0.0   0.96 15.01   NA\n",
       "m7.5  469.6   5.3   6.2   0.04 15.05 9.99"
      ]
     },
     "metadata": {},
     "output_type": "display_data"
    }
   ],
   "source": [
    "compare(m7.5,m7.5b)"
   ]
  },
  {
   "cell_type": "code",
   "execution_count": 57,
   "metadata": {},
   "outputs": [
    {
     "name": "stdout",
     "output_type": "stream",
     "text": [
      "[ 1000 / 1000 ]\n",
      "[ 1000 / 1000 ]\n"
     ]
    }
   ],
   "source": [
    "rugged.seq <- seq(from=-1,to=8,by=0.25)\n",
    "\n",
    "mu.Africa <- link( m7.5 , data=data.frame(cont_africa=1,rugged=rugged.seq) )\n",
    "mu.Africa.mean <- apply( mu.Africa , 2 , mean )\n",
    "mu.Africa.PI <- apply( mu.Africa , 2 , PI , prob=0.97 )\n",
    "\n",
    "mu.NotAfrica <- link( m7.5 , data=data.frame(cont_africa=0,rugged=rugged.seq) )\n",
    "mu.NotAfrica.mean <- apply( mu.NotAfrica , 2 , mean )\n",
    "mu.NotAfrica.PI <- apply( mu.NotAfrica , 2 , PI , prob=0.97 )\n"
   ]
  },
  {
   "cell_type": "code",
   "execution_count": 59,
   "metadata": {},
   "outputs": [
    {
     "name": "stdout",
     "output_type": "stream",
     "text": [
      "[ 1000 / 1000 ]\n",
      "[ 1000 / 1000 ]\n"
     ]
    }
   ],
   "source": [
    "rugged.seq <- seq(from=-1,to=8,by=0.25)\n",
    "\n",
    "mu.Africab <- link( m7.5b , data=data.frame(cont_africa=1,rugged=rugged.seq) )\n",
    "mu.Africa.meanb <- apply( mu.Africab , 2 , mean )\n",
    "mu.Africa.PIb <- apply( mu.Africab , 2 , PI , prob=0.97 )\n",
    "\n",
    "mu.NotAfricab <- link( m7.5b , data=data.frame(cont_africa=0,rugged=rugged.seq) )\n",
    "mu.NotAfrica.meanb <- apply( mu.NotAfricab , 2 , mean )\n",
    "mu.NotAfrica.PIb <- apply( mu.NotAfricab , 2 , PI , prob=0.97 )\n"
   ]
  },
  {
   "cell_type": "code",
   "execution_count": 61,
   "metadata": {},
   "outputs": [
    {
     "data": {
      "image/png": "[encoded data removed]",
      "text/plain": [
       "plot without title"
      ]
     },
     "metadata": {},
     "output_type": "display_data"
    }
   ],
   "source": [
    "par(mfrow = c(2,2))\n",
    "plot( log(rgdppc_2000) ~ rugged , data=dd ,\n",
    "    col=dd$cont_africa , ylab=\"log GDP year 2000\" ,\n",
    "    xlab=\"Terrain Ruggedness Index\" )\n",
    "mtext( \"Both African & Non-African nations\" , 3 )\n",
    "lines( rugged.seq , mu.NotAfrica.mean )\n",
    "shade( mu.NotAfrica.PI , rugged.seq )\n",
    "lines( rugged.seq , mu.Africa.mean , col=rangi2 )\n",
    "shade( mu.Africa.PI , rugged.seq , col=col.alpha(rangi2,0.3) )\n",
    "\n",
    "plot( log(rgdppc_2000) ~ rugged , data=dd1 ,\n",
    "    col=dd1$cont_africa , ylab=\"log GDP year 2000\" ,\n",
    "    xlab=\"Terrain Ruggedness Index\" )\n",
    "mtext( \"Both African & Non-African nations\" , 3 )\n",
    "lines( rugged.seq , mu.NotAfrica.meanb )\n",
    "shade( mu.NotAfrica.PIb , rugged.seq )\n",
    "lines( rugged.seq , mu.Africa.meanb , col=rangi2 )\n",
    "shade( mu.Africa.PIb , rugged.seq , col=col.alpha(rangi2,0.3) )\n",
    "\n",
    "plot(coeftab(m7.5,m7.5b))"
   ]
  },
  {
   "cell_type": "code",
   "execution_count": null,
   "metadata": {
    "collapsed": true
   },
   "outputs": [],
   "source": [
    "# c)"
   ]
  },
  {
   "cell_type": "code",
   "execution_count": null,
   "metadata": {
    "collapsed": true
   },
   "outputs": [],
   "source": [
    "#7H4"
   ]
  }
 ],
 "metadata": {
  "kernelspec": {
   "display_name": "R",
   "language": "R",
   "name": "ir"
  },
  "language_info": {
   "codemirror_mode": "r",
   "file_extension": ".r",
   "mimetype": "text/x-r-source",
   "name": "R",
   "pygments_lexer": "r",
   "version": "3.3.1"
  }
 },
 "nbformat": 4,
 "nbformat_minor": 2
}
