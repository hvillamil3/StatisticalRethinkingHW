{
 "cells": [
  {
   "cell_type": "code",
   "execution_count": 1,
   "metadata": {},
   "outputs": [
    {
     "name": "stderr",
     "output_type": "stream",
     "text": [
      "Loading required package: rstan\n",
      "Warning message:\n",
      "\"package 'rstan' was built under R version 3.3.2\"Loading required package: ggplot2\n",
      "Warning message:\n",
      "\"package 'ggplot2' was built under R version 3.3.2\"Loading required package: StanHeaders\n",
      "Warning message:\n",
      "\"package 'StanHeaders' was built under R version 3.3.2\"rstan (Version 2.13.2, packaged: 2016-12-18 07:04:42 UTC, GitRev: 5fa1e80eb817)\n",
      "For execution on a local, multicore CPU with excess RAM we recommend calling\n",
      "rstan_options(auto_write = TRUE)\n",
      "options(mc.cores = parallel::detectCores())\n",
      "Loading required package: parallel\n",
      "rethinking (Version 1.59)\n"
     ]
    }
   ],
   "source": [
    "library(rethinking)"
   ]
  },
  {
   "cell_type": "code",
   "execution_count": 21,
   "metadata": {},
   "outputs": [
    {
     "data": {
      "text/html": [
       "35.6106175924632"
      ],
      "text/latex": [
       "35.6106175924632"
      ],
      "text/markdown": [
       "35.6106175924632"
      ],
      "text/plain": [
       "[1] 35.61062"
      ]
     },
     "metadata": {},
     "output_type": "display_data"
    },
    {
     "data": {
      "text/html": [
       "14.71917817928"
      ],
      "text/latex": [
       "14.71917817928"
      ],
      "text/markdown": [
       "14.71917817928"
      ],
      "text/plain": [
       "[1] 14.71918"
      ]
     },
     "metadata": {},
     "output_type": "display_data"
    },
    {
     "data": {
      "text/html": [
       "138.263596323529"
      ],
      "text/latex": [
       "138.263596323529"
      ],
      "text/markdown": [
       "138.263596323529"
      ],
      "text/plain": [
       "[1] 138.2636"
      ]
     },
     "metadata": {},
     "output_type": "display_data"
    },
    {
     "data": {
      "text/html": [
       "27.6024476405647"
      ],
      "text/latex": [
       "27.6024476405647"
      ],
      "text/markdown": [
       "27.6024476405647"
      ],
      "text/plain": [
       "[1] 27.60245"
      ]
     },
     "metadata": {},
     "output_type": "display_data"
    },
    {
     "data": {
      "text/html": [
       "35.6106175924632"
      ],
      "text/latex": [
       "35.6106175924632"
      ],
      "text/markdown": [
       "35.6106175924632"
      ],
      "text/plain": [
       "[1] 35.61062"
      ]
     },
     "metadata": {},
     "output_type": "display_data"
    },
    {
     "data": {
      "text/html": [
       "14.71917817928"
      ],
      "text/latex": [
       "14.71917817928"
      ],
      "text/markdown": [
       "14.71917817928"
      ],
      "text/plain": [
       "[1] 14.71918"
      ]
     },
     "metadata": {},
     "output_type": "display_data"
    },
    {
     "data": {
      "text/html": [
       "29.3443933823529"
      ],
      "text/latex": [
       "29.3443933823529"
      ],
      "text/markdown": [
       "29.3443933823529"
      ],
      "text/plain": [
       "[1] 29.34439"
      ]
     },
     "metadata": {},
     "output_type": "display_data"
    },
    {
     "data": {
      "text/html": [
       "20.746888222142"
      ],
      "text/latex": [
       "20.746888222142"
      ],
      "text/markdown": [
       "20.746888222142"
      ],
      "text/plain": [
       "[1] 20.74689"
      ]
     },
     "metadata": {},
     "output_type": "display_data"
    }
   ],
   "source": [
    "data(Howell1) \n",
    "d <- Howell1\n",
    "mean(d$weight) \n",
    "sd(d$weight)\n",
    "weig.mmu <- 35.6106175924632\n",
    "weig.std <- 14.71917817928\n",
    "mean(d$height)\n",
    "sd(d$height)\n",
    "mean(d$weight) \n",
    "sd(d$weight)\n",
    "mean(d$age)\n",
    "sd(d$age)\n",
    "d$weight <- (d$weight - mean(d$weight)) /sd(d$weight)\n",
    "d$height <- (d$height - mean(d$height)) /sd(d$height)\n",
    "d$age <- (d$age - mean(d$age)) /sd(d$age)\n",
    "d$male <- (d$male - mean(d$male)) /sd(d$male)"
   ]
  },
  {
   "cell_type": "code",
   "execution_count": 3,
   "metadata": {
    "collapsed": true
   },
   "outputs": [],
   "source": [
    "# 4.7.12. Missing heights. \n",
    "# The weights listed below were recorded\n",
    "# in the !Kung census, but heights were not recorded for these individuals.\n",
    "# Provide predicted heights and 90% confidence intervals (HPDI or PI)for each of these individuals.\n",
    "# That is, fill in the table below,using model-based predictions.\n",
    "# c(46.95, 43.72, 64.78, 32.59, 54.63)"
   ]
  },
  {
   "cell_type": "code",
   "execution_count": 4,
   "metadata": {
    "collapsed": true
   },
   "outputs": [],
   "source": [
    "d2 <- d[ d$age >= -0.546799754299813  , ]\n",
    "# fit model \n",
    "m4.3 <- map( \n",
    "    alist( \n",
    "        height ~ dnorm( mu , sigma ),\n",
    "        mu <- a + b*weight ,#+ b1*male + b2*age ,\n",
    "        a ~ dnorm( 156 , 100 ) ,\n",
    "        b ~ dnorm( 0 , 10 ) , \n",
    "        #b1 ~ dnorm( 0 , 10 ) ,\n",
    "        #b2 ~ dnorm( 0 , 10 ) ,        \n",
    "        sigma ~ dunif( 0 , 50 ) ) ,\n",
    "    data=d2 , start=list( a=mean(d2$height) , sigma=sd(d2$height) , b=0 ) )"
   ]
  },
  {
   "cell_type": "code",
   "execution_count": 6,
   "metadata": {},
   "outputs": [
    {
     "name": "stdout",
     "output_type": "stream",
     "text": [
      "[ 1000 / 1000 ]\n",
      " num [1:1000, 1:5] 0.669 0.654 0.652 0.664 0.666 ...\n",
      "[ 1000 / 1000 ]\n",
      " num [1:1000, 1:5] 0.806 0.89 0.71 0.606 0.822 ...\n"
     ]
    }
   ],
   "source": [
    "# define sequence of weights to compute predictions for \n",
    "# these values will be on the horizontal axis \n",
    "weight.seq1 <- c(46.95, 43.72, 64.78, 32.59, 54.63)\n",
    "weight.seq <- (weight.seq1-weig.mmu)/weig.std\n",
    "\n",
    "# use link to compute mu \n",
    "# for each sample from posterior \n",
    "# and for each weight in weight.seq \n",
    "mu <- link( m4.3 , data=list(weight=weight.seq) )\n",
    "str(mu)\n",
    "sim.height <- sim( m4.3 , data=list(weight=weight.seq) ) \n",
    "str(sim.height)"
   ]
  },
  {
   "cell_type": "code",
   "execution_count": 7,
   "metadata": {
    "collapsed": true
   },
   "outputs": [],
   "source": [
    "heightMU <- 138.263596323529\n",
    "heightSTD <- 27.6024476405647"
   ]
  },
  {
   "cell_type": "code",
   "execution_count": 15,
   "metadata": {},
   "outputs": [
    {
     "data": {
      "text/html": [
       "<table>\n",
       "<tbody>\n",
       "\t<tr><th scope=row>|0.9</th><td>148.5701</td><td>145.2568</td><td>163.3155</td><td>135.6499</td><td>154.9057</td></tr>\n",
       "\t<tr><th scope=row>0.9|</th><td>165.0020</td><td>161.9238</td><td>180.1321</td><td>152.1470</td><td>171.7918</td></tr>\n",
       "</tbody>\n",
       "</table>\n"
      ],
      "text/latex": [
       "\\begin{tabular}{r|lllll}\n",
       "\t\\textbar{}0.9 & 148.5701 & 145.2568 & 163.3155 & 135.6499 & 154.9057\\\\\n",
       "\t0.9\\textbar{} & 165.0020 & 161.9238 & 180.1321 & 152.1470 & 171.7918\\\\\n",
       "\\end{tabular}\n"
      ],
      "text/markdown": [
       "\n",
       "| |0.9 | 148.5701 | 145.2568 | 163.3155 | 135.6499 | 154.9057 | \n",
       "| 0.9| | 165.0020 | 161.9238 | 180.1321 | 152.1470 | 171.7918 | \n",
       "\n",
       "\n"
      ],
      "text/plain": [
       "     [,1]     [,2]     [,3]     [,4]     [,5]    \n",
       "|0.9 148.5701 145.2568 163.3155 135.6499 154.9057\n",
       "0.9| 165.0020 161.9238 180.1321 152.1470 171.7918"
      ]
     },
     "metadata": {},
     "output_type": "display_data"
    }
   ],
   "source": [
    "#c(apply( mu , 2 , mean ) )*heightSTD + heightMU \n",
    "#c(apply( mu , 2 , HPDI ) )*heightSTD + heightMU \n",
    "\n",
    "#Missing Height Answer:\n",
    "#c(apply( sim.height , 2 , mean ) )*heightSTD + heightMU \n",
    "apply( sim.height*heightSTD + heightMU  , 2 , HPDI, prob = 0.9 )"
   ]
  },
  {
   "cell_type": "code",
   "execution_count": null,
   "metadata": {
    "collapsed": true
   },
   "outputs": [],
   "source": [
    "# 4.7.13. Non-adults. Select out all the rows in the Howell1 data with ages below 18 years of age.\n",
    "# If you do it right, you should end up with a new data frame with 192 rows in it.\n",
    "\n",
    "# (a) Fit a linear regression to these data, using map. Present and interpret the estimates.\n",
    "#     For every 10 units of increase in weight, how much taller does the model predict a child gets?\n",
    "\n",
    "# (b) Plot the raw data, with height on the vertical axis and weight on the horizontal axis.\n",
    "#     Superimpose the MAP regression line and 90% HPDI for the mean.\n",
    "#     Also superimpose the 90% HPDI for predicted heights.\n",
    "        \n",
    "# (c) What aspects of the model fit concern you? \n",
    "#     Describe the kinds of assumptions you would change, if any, to improve the model.\n",
    "#     You don’t have to write any new code.\n",
    "#     Just explain what the model appears to be doing a bad job of, and what you hypothesize would be a better model.\n"
   ]
  },
  {
   "cell_type": "code",
   "execution_count": 50,
   "metadata": {
    "collapsed": true
   },
   "outputs": [],
   "source": [
    "dd <- Howell1\n",
    "d3 <- dd[ dd$age <= 18  , ]"
   ]
  },
  {
   "cell_type": "code",
   "execution_count": 51,
   "metadata": {},
   "outputs": [
    {
     "name": "stdout",
     "output_type": "stream",
     "text": [
      "'data.frame':\t198 obs. of  4 variables:\n",
      " $ height: num  121.9 105.4 86.4 129.5 109.2 ...\n",
      " $ weight: num  19.6 13.9 10.5 23.6 16 ...\n",
      " $ age   : num  12 8 6.5 13 7 17 16 11 17 8 ...\n",
      " $ male  : int  1 0 0 1 0 1 0 1 0 1 ...\n"
     ]
    }
   ],
   "source": [
    "str(d3)"
   ]
  },
  {
   "cell_type": "code",
   "execution_count": 52,
   "metadata": {},
   "outputs": [],
   "source": [
    "model<-map(\n",
    "    alist(\n",
    "        height ~ dnorm(mu,sigma),\n",
    "        mu <- a + b*weight,\n",
    "        a~dnorm(0,10),\n",
    "        b~dnorm(0,10),\n",
    "        sigma ~ dunif(0,50)\n",
    "    ), data=d3\n",
    ")"
   ]
  },
  {
   "cell_type": "code",
   "execution_count": 53,
   "metadata": {},
   "outputs": [
    {
     "data": {
      "text/html": [
       "27.1828629244121"
      ],
      "text/latex": [
       "27.1828629244121"
      ],
      "text/markdown": [
       "27.1828629244121"
      ],
      "text/plain": [
       "[1] 27.18286"
      ]
     },
     "metadata": {},
     "output_type": "display_data"
    }
   ],
   "source": [
    "10*((1.4495432*27.6024476405647)/14.71917817928) #for an increase of 1 sd\n",
    "#increase of 27.2cm for 10 units of weight"
   ]
  },
  {
   "cell_type": "code",
   "execution_count": 59,
   "metadata": {},
   "outputs": [
    {
     "data": {
      "text/plain": [
       "   Min. 1st Qu.  Median    Mean 3rd Qu.    Max. \n",
       "  4.252  11.790  17.490  19.120  24.410  49.210 "
      ]
     },
     "metadata": {},
     "output_type": "display_data"
    }
   ],
   "source": [
    "summary(d3$weight)"
   ]
  },
  {
   "cell_type": "code",
   "execution_count": 70,
   "metadata": {},
   "outputs": [
    {
     "name": "stdout",
     "output_type": "stream",
     "text": [
      "[ 1000 / 1000 ]\n",
      " num [1:1000, 1:90] 70.4 73.5 70.9 70.3 69.7 ...\n",
      "[ 1000 / 1000 ]\n",
      " num [1:1000, 1:90] 82.2 76.6 56.5 87.2 79.9 ...\n"
     ]
    }
   ],
   "source": [
    "w.seq<-seq(from=4.252,to=49.210,by=.5)\n",
    "mu1 <- link( model , data=data.frame(weight=w.seq) )\n",
    "str(mu1)\n",
    "sim.height1 <- sim( model,data=data.frame(weight=w.seq),   n=1e3  ) \n",
    "str(sim.height1)"
   ]
  },
  {
   "cell_type": "code",
   "execution_count": 74,
   "metadata": {},
   "outputs": [
    {
     "data": {
      "image/png": "[encoded data removed]",
      "text/plain": [
       "plot without title"
      ]
     },
     "metadata": {},
     "output_type": "display_data"
    }
   ],
   "source": [
    "plot(height~weight, d3)\n",
    "shade(apply( sim.height1 , 2 , HPDI, prob = 0.9 ),w.seq)\n",
    "shade(apply( mu1 , 2 , HPDI, prob = 0.9 ),w.seq)"
   ]
  },
  {
   "cell_type": "code",
   "execution_count": 66,
   "metadata": {},
   "outputs": [
    {
     "ename": "ERROR",
     "evalue": "Error in polygon(x, y, col = col, border = border, ...): plot.new has not been called yet\n",
     "output_type": "error",
     "traceback": [
      "Error in polygon(x, y, col = col, border = border, ...): plot.new has not been called yet\nTraceback:\n",
      "1. shade(apply(sim.height1, 2, HPDI, prob = 0.9), d3$weight)",
      "2. polygon(x, y, col = col, border = border, ...)"
     ]
    }
   ],
   "source": []
  }
 ],
 "metadata": {
  "kernelspec": {
   "display_name": "R",
   "language": "R",
   "name": "ir"
  },
  "language_info": {
   "codemirror_mode": "r",
   "file_extension": ".r",
   "mimetype": "text/x-r-source",
   "name": "R",
   "pygments_lexer": "r",
   "version": "3.3.1"
  }
 },
 "nbformat": 4,
 "nbformat_minor": 2
}
