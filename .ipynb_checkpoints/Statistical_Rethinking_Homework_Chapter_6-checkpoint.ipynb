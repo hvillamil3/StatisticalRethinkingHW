{
 "cells": [
  {
   "cell_type": "code",
   "execution_count": 6,
   "metadata": {},
   "outputs": [],
   "source": [
    "library(rethinking) \n",
    "data(Howell1) \n",
    "d <- Howell1 \n",
    "d$age <- (d$age - mean(d$age))/sd(d$age)\n",
    "set.seed( 1000 )\n",
    "i <- sample(1:nrow(d),size=nrow(d)/2)\n",
    "d1 <- d[ i , ]\n",
    "d2 <- d[ -i , ]"
   ]
  },
  {
   "cell_type": "raw",
   "metadata": {},
   "source": [
    "You now have two randomly formed dataframes,each with 272 rows.\n",
    "The notion here is to use the cases in d1 to fit models and the cases in d2 to evaluate them.\n",
    "The set.seed command just ensures that everyone works with the same randomly shuﬄed data."
   ]
  },
  {
   "cell_type": "code",
   "execution_count": 7,
   "metadata": {
    "collapsed": true
   },
   "outputs": [],
   "source": [
    "#6.31 Fit 6 models. Where each model adds a parameter and raise xi from 1 to 6th power."
   ]
  },
  {
   "cell_type": "code",
   "execution_count": 12,
   "metadata": {},
   "outputs": [],
   "source": [
    "Model.1 <- map( \n",
    "    alist( \n",
    "        height ~ dnorm( mu , sigma ),\n",
    "        mu <- a + b1 * age ,\n",
    "        a ~ dnorm( 4 , 100 ) ,\n",
    "        b1 ~ dnorm( 0 , 10 ) ,       \n",
    "        sigma ~ dunif( 0 , 50 ) ) ,\n",
    "    data=d1 )"
   ]
  },
  {
   "cell_type": "code",
   "execution_count": 14,
   "metadata": {
    "collapsed": true
   },
   "outputs": [],
   "source": [
    "Model.2 <- map( \n",
    "    alist( \n",
    "        height ~ dnorm( mu , sigma ),\n",
    "        mu <- a + b1 * age + b2 * age**2 ,\n",
    "        a ~ dnorm( 4 , 100 ) ,\n",
    "        b1 ~ dnorm( 0 , 10 ) , \n",
    "        b2 ~ dnorm( 0 , 10 ) ,\n",
    "        sigma ~ dunif( 0 , 50 ) ) ,\n",
    "    data=d1 )"
   ]
  },
  {
   "cell_type": "code",
   "execution_count": 16,
   "metadata": {
    "collapsed": true
   },
   "outputs": [],
   "source": [
    "Model.3 <- map( \n",
    "    alist( \n",
    "        height ~ dnorm( mu , sigma ),\n",
    "        mu <- a + b1 * age + b2 * age**2 + b3 * age**3,\n",
    "        a ~ dnorm( 4 , 100 ) ,\n",
    "        b1 ~ dnorm( 0 , 10 ) , \n",
    "        b2 ~ dnorm( 0 , 10 ) ,\n",
    "        b3 ~ dnorm( 0 , 10 ) ,\n",
    "        sigma ~ dunif( 0 , 50 ) ) ,\n",
    "    data=d1 )"
   ]
  },
  {
   "cell_type": "code",
   "execution_count": 17,
   "metadata": {
    "collapsed": true
   },
   "outputs": [],
   "source": [
    "Model.4 <- map( \n",
    "    alist( \n",
    "        height ~ dnorm( mu , sigma ),\n",
    "        mu <- a + b1 * age + b2 * age**2 + b3 * age**3 + b4 * age**4,\n",
    "        a ~ dnorm( 4 , 100 ) ,\n",
    "        b1 ~ dnorm( 0 , 10 ) , \n",
    "        b2 ~ dnorm( 0 , 10 ) ,\n",
    "        b3 ~ dnorm( 0 , 10 ) ,\n",
    "        b4 ~ dnorm( 0 , 10 ) ,\n",
    "        sigma ~ dunif( 0 , 50 ) ) ,\n",
    "    data=d1 )"
   ]
  },
  {
   "cell_type": "code",
   "execution_count": 18,
   "metadata": {
    "collapsed": true
   },
   "outputs": [],
   "source": [
    "Model.5 <- map( \n",
    "    alist( \n",
    "        height ~ dnorm( mu , sigma ),\n",
    "        mu <- a + b1 * age + b2 * age**2 + b3 * age**3 + b4 * age**4 + b5 * age**5,\n",
    "        a ~ dnorm( 4 , 100 ) ,\n",
    "        b1 ~ dnorm( 0 , 10 ) , \n",
    "        b2 ~ dnorm( 0 , 10 ) ,\n",
    "        b3 ~ dnorm( 0 , 10 ) ,\n",
    "        b4 ~ dnorm( 0 , 10 ) ,\n",
    "        b5 ~ dnorm( 0 , 10 ) ,\n",
    "        sigma ~ dunif( 0 , 50 ) ) ,\n",
    "    data=d1 )"
   ]
  },
  {
   "cell_type": "code",
   "execution_count": 19,
   "metadata": {
    "collapsed": true
   },
   "outputs": [],
   "source": [
    "Model.6 <- map( \n",
    "    alist( \n",
    "        height ~ dnorm( mu , sigma ),\n",
    "        mu <- a + b1 * age + b2 * age**2 + b3 * age**3 + b4 * age**4 + b5 * age**5 + b6 * age**6,\n",
    "        a ~ dnorm( 4 , 100 ) ,\n",
    "        b1 ~ dnorm( 0 , 10 ) , \n",
    "        b2 ~ dnorm( 0 , 10 ) ,\n",
    "        b3 ~ dnorm( 0 , 10 ) ,\n",
    "        b4 ~ dnorm( 0 , 10 ) ,\n",
    "        b5 ~ dnorm( 0 , 10 ) ,\n",
    "        b6 ~ dnorm( 0 , 10 ) ,\n",
    "        sigma ~ dunif( 0 , 50 ) ) ,\n",
    "    data=d1 )"
   ]
  },
  {
   "cell_type": "code",
   "execution_count": 13,
   "metadata": {},
   "outputs": [
    {
     "data": {
      "text/plain": [
       "\n",
       "Maximum a posteriori (MAP) model fit\n",
       "\n",
       "Formula:\n",
       "height ~ dnorm(mu, sigma)\n",
       "mu <- a + b1 * age\n",
       "a ~ dnorm(4, 100)\n",
       "b1 ~ dnorm(0, 10)\n",
       "sigma ~ dunif(0, 50)\n",
       "\n",
       "MAP values:\n",
       "        a        b1     sigma \n",
       "138.42585  18.38827  19.54166 \n",
       "\n",
       "Log-likelihood: -1194.49 "
      ]
     },
     "metadata": {},
     "output_type": "display_data"
    }
   ],
   "source": [
    "Model.1"
   ]
  },
  {
   "cell_type": "code",
   "execution_count": 15,
   "metadata": {},
   "outputs": [
    {
     "data": {
      "text/plain": [
       "\n",
       "Maximum a posteriori (MAP) model fit\n",
       "\n",
       "Formula:\n",
       "height ~ dnorm(mu, sigma)\n",
       "mu <- a + b1 * age + b2 * age^2\n",
       "a ~ dnorm(4, 100)\n",
       "b1 ~ dnorm(0, 10)\n",
       "b2 ~ dnorm(0, 10)\n",
       "sigma ~ dunif(0, 50)\n",
       "\n",
       "MAP values:\n",
       "        a        b1        b2     sigma \n",
       "152.24267  25.57694 -13.97205  12.37944 \n",
       "\n",
       "Log-likelihood: -1070.31 "
      ]
     },
     "metadata": {},
     "output_type": "display_data"
    }
   ],
   "source": [
    "Model.2"
   ]
  },
  {
   "cell_type": "code",
   "execution_count": 20,
   "metadata": {},
   "outputs": [
    {
     "data": {
      "text/plain": [
       "          WAIC pWAIC dWAIC weight    SE   dSE\n",
       "Model.4 1926.0   5.6   0.0   0.57 25.44    NA\n",
       "Model.5 1927.5   6.3   1.5   0.27 25.39  0.37\n",
       "Model.6 1928.5   7.4   2.5   0.16 25.19  1.66\n",
       "Model.3 1952.3   5.4  26.3   0.00 24.21 11.01\n",
       "Model.2 2149.8   5.0 223.8   0.00 22.71 26.67\n",
       "Model.1 2395.4   3.4 469.4   0.00 23.14 31.02"
      ]
     },
     "metadata": {},
     "output_type": "display_data"
    }
   ],
   "source": [
    "#6H1. Compare WAIC for all models\n",
    "compare(Model.1,Model.2,Model.3,Model.4,Model.5,Model.6)"
   ]
  },
  {
   "cell_type": "code",
   "execution_count": 21,
   "metadata": {},
   "outputs": [
    {
     "data": {
      "image/png": "[encoded data removed]",
      "text/plain": [
       "plot without title"
      ]
     },
     "metadata": {},
     "output_type": "display_data"
    }
   ],
   "source": [
    "plot(compare(Model.1,Model.2,Model.3,Model.4,Model.5,Model.6))"
   ]
  },
  {
   "cell_type": "raw",
   "metadata": {},
   "source": [
    "#6.H.2\n",
    "For each model, produce a plot with model averaged mean and 97% confidence interval of the mean,\n",
    "super imposed on the raw data. How do predictions diﬀer across models?\n",
    "(Predictions of the means)"
   ]
  },
  {
   "cell_type": "code",
   "execution_count": 53,
   "metadata": {},
   "outputs": [
    {
     "name": "stdout",
     "output_type": "stream",
     "text": [
      "[ 1000 / 1000 ]\n",
      "[ 1000 / 1000 ]\n",
      "[ 1000 / 1000 ]\n",
      "[ 1000 / 1000 ]\n",
      "[ 1000 / 1000 ]\n",
      "[ 1000 / 1000 ]\n"
     ]
    },
    {
     "data": {
      "image/png": "[encoded data removed]",
      "text/plain": [
       "plot without title"
      ]
     },
     "metadata": {},
     "output_type": "display_data"
    }
   ],
   "source": [
    "age.seq<-seq(from=min(d1$age),to=max(d1$age), length.out= 1e3)\n",
    "pred.m4 <- link( Model.4 , data=data.frame(age=age.seq) )\n",
    "pred.m5 <- link( Model.5 , data=data.frame(age=age.seq) )\n",
    "pred.m6 <- link( Model.6 , data=data.frame(age=age.seq) )\n",
    "pred.m3 <- link( Model.3 , data=data.frame(age=age.seq) )\n",
    "pred.m2 <- link( Model.2 , data=data.frame(age=age.seq) )\n",
    "pred.m1 <- link( Model.1 , data=data.frame(age=age.seq) )\n",
    "\n",
    "\n",
    "# #Draw Prediction Simulations from psterior. There's variance/uncertainty in prediction/outcome.\n",
    "# sim.weight <- sim( area.Model , data=data.frame(area.s=area.seq),   n=1e4  )\n",
    "#mu <- apply( pred.m4 , 2 , mean )\n",
    "mu4.PI <- apply( pred.m4 , 2 , PI, prob=0.97)\n",
    "mu5.PI <- apply( pred.m5 , 2 , PI, prob=0.97)\n",
    "mu6.PI <- apply( pred.m6 , 2 , PI, prob=0.97)\n",
    "mu3.PI <- apply( pred.m3 , 2 , PI, prob=0.97)\n",
    "mu2.PI <- apply( pred.m2 , 2 , PI, prob=0.97)\n",
    "mu1.PI <- apply( pred.m1 , 2 , PI, prob=0.97)\n",
    "\n",
    "\n",
    "# plot it all\n",
    "plot( height ~ age , d1 , col=rangi2 )\n",
    "#lines( age.seq , mu , lty=2 )\n",
    "lines( age.seq , mu4.PI[1,] , lty=2 )\n",
    "lines( age.seq , mu4.PI[2,] , lty=2 )\n",
    "lines( age.seq , mu5.PI[1,] , lty=2 )\n",
    "lines( age.seq , mu5.PI[2,] , lty=2 )\n",
    "lines( age.seq , mu6.PI[1,] , lty=2 )\n",
    "lines( age.seq , mu6.PI[2,] , lty=2 )\n",
    "lines( age.seq , mu3.PI[1,] , lty=2 )\n",
    "lines( age.seq , mu3.PI[2,] , lty=2 )\n",
    "lines( age.seq , mu2.PI[1,] , lty=2 )\n",
    "lines( age.seq , mu2.PI[2,] , lty=2 )\n",
    "lines( age.seq , mu1.PI[1,] , lty=2 )\n",
    "lines( age.seq , mu1.PI[2,] , lty=2 )"
   ]
  },
  {
   "cell_type": "raw",
   "metadata": {},
   "source": [
    "6.H.3\n",
    "Now also plot the model averaged predictions, across all models.\n",
    "In what ways do the averaged predictions diﬀer from the predictions of the model with the lowest WAIC value?"
   ]
  },
  {
   "cell_type": "code",
   "execution_count": 52,
   "metadata": {},
   "outputs": [
    {
     "name": "stdout",
     "output_type": "stream",
     "text": [
      "[ 10000 / 10000 ]\n",
      "[ 10000 / 10000 ]\n",
      "[ 10000 / 10000 ]\n",
      "[ 10000 / 10000 ]\n",
      "[ 10000 / 10000 ]\n",
      "[ 10000 / 10000 ]\n"
     ]
    },
    {
     "data": {
      "image/png": "[encoded data removed]",
      "text/plain": [
       "plot without title"
      ]
     },
     "metadata": {},
     "output_type": "display_data"
    }
   ],
   "source": [
    "age.seq<-seq(from=min(d1$age),to=max(d1$age), length.out= 1e3)\n",
    "\n",
    "\n",
    "sim.m4 <- sim( Model.4 , data=data.frame(age=age.seq),   n=1e4  )\n",
    "sim.m5 <- sim( Model.5 , data=data.frame(age=age.seq),   n=1e4  )\n",
    "sim.m6 <- sim( Model.6 , data=data.frame(age=age.seq),   n=1e4  )\n",
    "sim.m3 <- sim( Model.3 , data=data.frame(age=age.seq),   n=1e4  )\n",
    "sim.m2 <- sim( Model.2 , data=data.frame(age=age.seq),   n=1e4  )\n",
    "sim.m1 <- sim( Model.1 , data=data.frame(age=age.seq),   n=1e4  )\n",
    "\n",
    "\n",
    "# #Draw Prediction Simulations from psterior. There's variance/uncertainty in prediction/outcome.\n",
    "# sim.weight <- sim( area.Model , data=data.frame(area.s=area.seq),   n=1e4  )\n",
    "#mu <- apply( pred.m4 , 2 , mean )\n",
    "mu4.sim.PI <- apply( sim.m4 , 2 , PI, prob=0.97)\n",
    "mu5.sim.PI <- apply( sim.m5 , 2 , PI, prob=0.97)\n",
    "mu6.sim.PI <- apply( sim.m6 , 2 , PI, prob=0.97)\n",
    "mu3.sim.PI <- apply( sim.m3 , 2 , PI, prob=0.97)\n",
    "mu2.sim.PI <- apply( sim.m2 , 2 , PI, prob=0.97)\n",
    "mu1.sim.PI <- apply( sim.m1 , 2 , PI, prob=0.97)\n",
    "\n",
    "\n",
    "# plot it all\n",
    "plot( height ~ age , d1 , col=rangi2 )\n",
    "#lines( age.seq , mu , lty=2 )\n",
    "lines( age.seq , mu4.sim.PI[1,] , lty=2 )\n",
    "lines( age.seq , mu4.sim.PI[2,] , lty=2 )\n",
    "lines( age.seq , mu5.sim.PI[1,] , lty=2 )\n",
    "lines( age.seq , mu5.sim.PI[2,] , lty=2 )\n",
    "lines( age.seq , mu6.sim.PI[1,] , lty=2 )\n",
    "lines( age.seq , mu6.sim.PI[2,] , lty=2 )\n",
    "lines( age.seq , mu3.sim.PI[1,] , lty=2 )\n",
    "lines( age.seq , mu3.sim.PI[2,] , lty=2 )\n",
    "lines( age.seq , mu2.sim.PI[1,] , lty=2 )\n",
    "lines( age.seq , mu2.sim.PI[2,] , lty=2 )\n",
    "lines( age.seq , mu1.sim.PI[1,] , lty=2 )\n",
    "lines( age.seq , mu1.sim.PI[2,] , lty=2 )"
   ]
  },
  {
   "cell_type": "raw",
   "metadata": {},
   "source": [
    "6.H.4 \n",
    "Cross-validate.\n",
    "(a) Compute the test-sample deviance for each model. \n",
    "This means calculating deviance, but using the data in d2 now.\n",
    "You can compute the log-likelihood of the height data with:"
   ]
  },
  {
   "cell_type": "code",
   "execution_count": 66,
   "metadata": {},
   "outputs": [
    {
     "data": {
      "text/plain": [
       "          WAIC pWAIC dWAIC weight    SE   dSE\n",
       "Model.4 1925.9   5.5   0.0   0.62 25.40    NA\n",
       "Model.5 1928.0   6.5   2.1   0.22 25.52  0.46\n",
       "Model.6 1928.6   7.5   2.6   0.16 25.24  1.79\n",
       "Model.3 1952.9   5.7  27.0   0.00 24.35 11.15\n",
       "Model.2 2150.4   5.4 224.5   0.00 22.77 26.85\n",
       "Model.1 2395.3   3.3 469.4   0.00 23.11 31.08"
      ]
     },
     "metadata": {},
     "output_type": "display_data"
    }
   ],
   "source": [
    "compare(Model.1,Model.2,Model.3,Model.4,Model.5,Model.6)"
   ]
  },
  {
   "cell_type": "code",
   "execution_count": 100,
   "metadata": {},
   "outputs": [
    {
     "data": {
      "text/html": [
       "1876.24334808952"
      ],
      "text/latex": [
       "1876.24334808952"
      ],
      "text/markdown": [
       "1876.24334808952"
      ],
      "text/plain": [
       "[1] 1876.243"
      ]
     },
     "metadata": {},
     "output_type": "display_data"
    },
    {
     "name": "stderr",
     "output_type": "stream",
     "text": [
      "Constructing posterior predictions\n"
     ]
    },
    {
     "name": "stdout",
     "output_type": "stream",
     "text": [
      "[ 100 / 1000 ]\r",
      "[ 200 / 1000 ]\r",
      "[ 300 / 1000 ]\r",
      "[ 400 / 1000 ]\r",
      "[ 500 / 1000 ]\r",
      "[ 600 / 1000 ]\r",
      "[ 700 / 1000 ]\r",
      "[ 800 / 1000 ]\r",
      "[ 900 / 1000 ]\r",
      "[ 1000 / 1000 ]\r\n"
     ]
    },
    {
     "data": {
      "text/html": [
       "1926.17419886366"
      ],
      "text/latex": [
       "1926.17419886366"
      ],
      "text/markdown": [
       "1926.17419886366"
      ],
      "text/plain": [
       "[1] 1926.174\n",
       "attr(,\"lppd\")\n",
       "[1] -957.4326\n",
       "attr(,\"pWAIC\")\n",
       "[1] 5.654463\n",
       "attr(,\"se\")\n",
       "[1] 25.37425"
      ]
     },
     "metadata": {},
     "output_type": "display_data"
    }
   ],
   "source": [
    "-2*sum( dnorm( d2$height , mean = coef(Model.4)['a']\n",
    "              +coef(Model.4)['b1']*d2$age \n",
    "              +coef(Model.4)['b2']*d2$age**2\n",
    "              +coef(Model.4)['b3']*d2$age**3\n",
    "              +coef(Model.4)['b4']*d2$age**4              \n",
    "              , coef(Model.4)['sigma'] , log=TRUE ) )\n",
    "WAIC(Model.4)"
   ]
  },
  {
   "cell_type": "code",
   "execution_count": 99,
   "metadata": {},
   "outputs": [
    {
     "data": {
      "text/html": [
       "1876.57598736948"
      ],
      "text/latex": [
       "1876.57598736948"
      ],
      "text/markdown": [
       "1876.57598736948"
      ],
      "text/plain": [
       "[1] 1876.576"
      ]
     },
     "metadata": {},
     "output_type": "display_data"
    },
    {
     "name": "stderr",
     "output_type": "stream",
     "text": [
      "Constructing posterior predictions\n"
     ]
    },
    {
     "name": "stdout",
     "output_type": "stream",
     "text": [
      "[ 100 / 1000 ]\r",
      "[ 200 / 1000 ]\r",
      "[ 300 / 1000 ]\r",
      "[ 400 / 1000 ]\r",
      "[ 500 / 1000 ]\r",
      "[ 600 / 1000 ]\r",
      "[ 700 / 1000 ]\r",
      "[ 800 / 1000 ]\r",
      "[ 900 / 1000 ]\r",
      "[ 1000 / 1000 ]\r\n"
     ]
    },
    {
     "data": {
      "text/html": [
       "1927.87780081129"
      ],
      "text/latex": [
       "1927.87780081129"
      ],
      "text/markdown": [
       "1927.87780081129"
      ],
      "text/plain": [
       "[1] 1927.878\n",
       "attr(,\"lppd\")\n",
       "[1] -957.4485\n",
       "attr(,\"pWAIC\")\n",
       "[1] 6.490388\n",
       "attr(,\"se\")\n",
       "[1] 25.49619"
      ]
     },
     "metadata": {},
     "output_type": "display_data"
    }
   ],
   "source": [
    "-2*sum( dnorm( d2$height , mean = coef(Model.5)['a']\n",
    "              +coef(Model.5)['b1']*d2$age \n",
    "              +coef(Model.5)['b2']*d2$age**2\n",
    "              +coef(Model.5)['b3']*d2$age**3\n",
    "              +coef(Model.5)['b4']*d2$age**4  \n",
    "              +coef(Model.5)['b5']*d2$age**5              \n",
    "              , coef(Model.5)['sigma'] , log=TRUE ) )\n",
    "WAIC(Model.5)"
   ]
  },
  {
   "cell_type": "code",
   "execution_count": 98,
   "metadata": {},
   "outputs": [
    {
     "data": {
      "text/html": [
       "1875.82434478284"
      ],
      "text/latex": [
       "1875.82434478284"
      ],
      "text/markdown": [
       "1875.82434478284"
      ],
      "text/plain": [
       "[1] 1875.824"
      ]
     },
     "metadata": {},
     "output_type": "display_data"
    },
    {
     "name": "stderr",
     "output_type": "stream",
     "text": [
      "Constructing posterior predictions\n"
     ]
    },
    {
     "name": "stdout",
     "output_type": "stream",
     "text": [
      "[ 100 / 1000 ]\r",
      "[ 200 / 1000 ]\r",
      "[ 300 / 1000 ]\r",
      "[ 400 / 1000 ]\r",
      "[ 500 / 1000 ]\r",
      "[ 600 / 1000 ]\r",
      "[ 700 / 1000 ]\r",
      "[ 800 / 1000 ]\r",
      "[ 900 / 1000 ]\r",
      "[ 1000 / 1000 ]\r\n"
     ]
    },
    {
     "data": {
      "text/html": [
       "1928.16150772136"
      ],
      "text/latex": [
       "1928.16150772136"
      ],
      "text/markdown": [
       "1928.16150772136"
      ],
      "text/plain": [
       "[1] 1928.162\n",
       "attr(,\"lppd\")\n",
       "[1] -956.7909\n",
       "attr(,\"pWAIC\")\n",
       "[1] 7.289832\n",
       "attr(,\"se\")\n",
       "[1] 25.26358"
      ]
     },
     "metadata": {},
     "output_type": "display_data"
    }
   ],
   "source": [
    "-2*sum( dnorm( d2$height , mean = coef(Model.6)['a']\n",
    "              +coef(Model.6)['b1']*d2$age \n",
    "              +coef(Model.6)['b2']*d2$age**2\n",
    "              +coef(Model.6)['b3']*d2$age**3\n",
    "              +coef(Model.6)['b4']*d2$age**4  \n",
    "              +coef(Model.6)['b5']*d2$age**5              \n",
    "              +coef(Model.6)['b6']*d2$age**6\n",
    "              , coef(Model.6)['sigma'] , log=TRUE ) )\n",
    "WAIC(Model.6)"
   ]
  },
  {
   "cell_type": "code",
   "execution_count": 97,
   "metadata": {},
   "outputs": [
    {
     "data": {
      "text/html": [
       "1932.35987324585"
      ],
      "text/latex": [
       "1932.35987324585"
      ],
      "text/markdown": [
       "1932.35987324585"
      ],
      "text/plain": [
       "[1] 1932.36"
      ]
     },
     "metadata": {},
     "output_type": "display_data"
    },
    {
     "name": "stderr",
     "output_type": "stream",
     "text": [
      "Constructing posterior predictions\n"
     ]
    },
    {
     "name": "stdout",
     "output_type": "stream",
     "text": [
      "[ 100 / 1000 ]\r",
      "[ 200 / 1000 ]\r",
      "[ 300 / 1000 ]\r",
      "[ 400 / 1000 ]\r",
      "[ 500 / 1000 ]\r",
      "[ 600 / 1000 ]\r",
      "[ 700 / 1000 ]\r",
      "[ 800 / 1000 ]\r",
      "[ 900 / 1000 ]\r",
      "[ 1000 / 1000 ]\r\n"
     ]
    },
    {
     "data": {
      "text/html": [
       "1953.04438499872"
      ],
      "text/latex": [
       "1953.04438499872"
      ],
      "text/markdown": [
       "1953.04438499872"
      ],
      "text/plain": [
       "[1] 1953.044\n",
       "attr(,\"lppd\")\n",
       "[1] -970.7238\n",
       "attr(,\"pWAIC\")\n",
       "[1] 5.798389\n",
       "attr(,\"se\")\n",
       "[1] 24.36996"
      ]
     },
     "metadata": {},
     "output_type": "display_data"
    }
   ],
   "source": [
    "-2*sum( dnorm( d2$height , mean = coef(Model.3)['a']\n",
    "              +coef(Model.3)['b1']*d2$age \n",
    "              +coef(Model.3)['b2']*d2$age**2\n",
    "              +coef(Model.3)['b3']*d2$age**3            \n",
    "              , coef(Model.3)['sigma'] , log=TRUE ) )\n",
    "WAIC(Model.3)"
   ]
  },
  {
   "cell_type": "code",
   "execution_count": 96,
   "metadata": {},
   "outputs": [
    {
     "data": {
      "text/html": [
       "2138.08037438637"
      ],
      "text/latex": [
       "2138.08037438637"
      ],
      "text/markdown": [
       "2138.08037438637"
      ],
      "text/plain": [
       "[1] 2138.08"
      ]
     },
     "metadata": {},
     "output_type": "display_data"
    },
    {
     "name": "stderr",
     "output_type": "stream",
     "text": [
      "Constructing posterior predictions\n"
     ]
    },
    {
     "name": "stdout",
     "output_type": "stream",
     "text": [
      "[ 100 / 1000 ]\r",
      "[ 200 / 1000 ]\r",
      "[ 300 / 1000 ]\r",
      "[ 400 / 1000 ]\r",
      "[ 500 / 1000 ]\r",
      "[ 600 / 1000 ]\r",
      "[ 700 / 1000 ]\r",
      "[ 800 / 1000 ]\r",
      "[ 900 / 1000 ]\r",
      "[ 1000 / 1000 ]\r\n"
     ]
    },
    {
     "data": {
      "text/html": [
       "2149.94137590011"
      ],
      "text/latex": [
       "2149.94137590011"
      ],
      "text/markdown": [
       "2149.94137590011"
      ],
      "text/plain": [
       "[1] 2149.941\n",
       "attr(,\"lppd\")\n",
       "[1] -1069.813\n",
       "attr(,\"pWAIC\")\n",
       "[1] 5.158181\n",
       "attr(,\"se\")\n",
       "[1] 22.73771"
      ]
     },
     "metadata": {},
     "output_type": "display_data"
    }
   ],
   "source": [
    "-2*sum( dnorm( d2$height , mean = coef(Model.2)['a']\n",
    "              +coef(Model.2)['b1']*d2$age \n",
    "              +coef(Model.2)['b2']*d2$age**2           \n",
    "              , coef(Model.2)['sigma'] , log=TRUE ) )\n",
    "WAIC(Model.2)"
   ]
  },
  {
   "cell_type": "code",
   "execution_count": 95,
   "metadata": {},
   "outputs": [
    {
     "data": {
      "text/html": [
       "2422.29924745522"
      ],
      "text/latex": [
       "2422.29924745522"
      ],
      "text/markdown": [
       "2422.29924745522"
      ],
      "text/plain": [
       "[1] 2422.299"
      ]
     },
     "metadata": {},
     "output_type": "display_data"
    },
    {
     "name": "stderr",
     "output_type": "stream",
     "text": [
      "Constructing posterior predictions\n"
     ]
    },
    {
     "name": "stdout",
     "output_type": "stream",
     "text": [
      "[ 100 / 1000 ]\r",
      "[ 200 / 1000 ]\r",
      "[ 300 / 1000 ]\r",
      "[ 400 / 1000 ]\r",
      "[ 500 / 1000 ]\r",
      "[ 600 / 1000 ]\r",
      "[ 700 / 1000 ]\r",
      "[ 800 / 1000 ]\r",
      "[ 900 / 1000 ]\r",
      "[ 1000 / 1000 ]\r\n"
     ]
    },
    {
     "data": {
      "text/html": [
       "2395.61761963989"
      ],
      "text/latex": [
       "2395.61761963989"
      ],
      "text/markdown": [
       "2395.61761963989"
      ],
      "text/plain": [
       "[1] 2395.618\n",
       "attr(,\"lppd\")\n",
       "[1] -1194.327\n",
       "attr(,\"pWAIC\")\n",
       "[1] 3.481565\n",
       "attr(,\"se\")\n",
       "[1] 23.18434"
      ]
     },
     "metadata": {},
     "output_type": "display_data"
    }
   ],
   "source": [
    "-2*sum( dnorm( d2$height , mean = coef(Model.1)['a']\n",
    "              +coef(Model.1)['b1']*d2$age          \n",
    "              , coef(Model.1)['sigma'] , log=TRUE ) )\n",
    "WAIC(Model.1)"
   ]
  },
  {
   "cell_type": "raw",
   "metadata": {},
   "source": [
    "where mu is a vector of predicted means \n",
    "(based upon age values and MAP parameters) and sigma is the MAP standard deviation."
   ]
  },
  {
   "cell_type": "raw",
   "metadata": {},
   "source": [
    "6.H.5 Compare deviance and WAIC.\n",
    "\n",
    "It might be easier to compare if you subtract the smallest value in each list from the others. \n",
    "For example, subtract the minimum WAIC from all of the WAIC values so that the best WAIC is normalized to zero.\n",
    "\n",
    "Which model makes the best out-of-sample predictions in this case?\n",
    "Model.4\n",
    "\n",
    "Does WAIC do a good job of estimating the test deviance?\n",
    "YES Model.4 still best"
   ]
  },
  {
   "cell_type": "raw",
   "metadata": {},
   "source": [
    "6.H.6 Consider model : h~Norm(u,o), u=a+b...+ b**6 b~norm(0,5) flat a and sigma\n",
    "Compare this model with prior best model"
   ]
  },
  {
   "cell_type": "code",
   "execution_count": 111,
   "metadata": {},
   "outputs": [],
   "source": [
    "Model.6.H.6 <- map( \n",
    "    alist( \n",
    "        height ~ dnorm( mu , sigma ),\n",
    "        mu <- a + b1 * age + b2 * age**2 + b3 * age**3 + b4 * age**4 + b5 * age**5 + b6 * age**6,\n",
    "        a ~ dnorm( 0 , 50 ) ,\n",
    "        b1 ~ dnorm( 0 , 5 ) , \n",
    "        b2 ~ dnorm( 0 , 5 ) ,\n",
    "        b3 ~ dnorm( 0 , 5 ) ,\n",
    "        b4 ~ dnorm( 0 , 5 ) ,\n",
    "        b5 ~ dnorm( 0 , 5 ) ,\n",
    "        b6 ~ dnorm( 0 , 5 ) ,\n",
    "        sigma ~ dunif( 0 , 50 )\n",
    "    ) ,\n",
    "    data=d1, start=list( b1=0, b2=0\n",
    "                       , b3=0\n",
    "                       , b4=0\n",
    "                       , b5=0\n",
    "                       , b6=0)  )"
   ]
  },
  {
   "cell_type": "code",
   "execution_count": 112,
   "metadata": {},
   "outputs": [
    {
     "data": {
      "text/plain": [
       "\n",
       "Maximum a posteriori (MAP) model fit\n",
       "\n",
       "Formula:\n",
       "height ~ dnorm(mu, sigma)\n",
       "mu <- a + b1 * age + b2 * age^2 + b3 * age^3 + b4 * age^4 + b5 * \n",
       "    age^5 + b6 * age^6\n",
       "a ~ dnorm(0, 50)\n",
       "b1 ~ dnorm(0, 5)\n",
       "b2 ~ dnorm(0, 5)\n",
       "b3 ~ dnorm(0, 5)\n",
       "b4 ~ dnorm(0, 5)\n",
       "b5 ~ dnorm(0, 5)\n",
       "b6 ~ dnorm(0, 5)\n",
       "sigma ~ dunif(0, 50)\n",
       "\n",
       "MAP values:\n",
       "          b1           b2           b3           b4           b5           b6 \n",
       "  5.97213674 -16.52226267  12.08415222  -3.54117998   0.23875376   0.05161847 \n",
       "           a        sigma \n",
       "155.80853048   8.19986307 \n",
       "\n",
       "Log-likelihood: -958.26 "
      ]
     },
     "metadata": {},
     "output_type": "display_data"
    }
   ],
   "source": [
    "Model.6.H.6"
   ]
  },
  {
   "cell_type": "code",
   "execution_count": null,
   "metadata": {
    "collapsed": true
   },
   "outputs": [],
   "source": [
    "plot the implied predictions\n",
    "compute the out-of-sample deviance using d2\n",
    "How does this model, using regularizing priors, compare the best WAIC model from earlier?\n",
    "\n",
    "How do you interpret this result?\n"
   ]
  },
  {
   "cell_type": "code",
   "execution_count": 116,
   "metadata": {},
   "outputs": [
    {
     "name": "stdout",
     "output_type": "stream",
     "text": [
      "[ 1000 / 1000 ]\n",
      "[ 1000 / 1000 ]\n"
     ]
    },
    {
     "data": {
      "image/png": "[encoded data removed]",
      "text/plain": [
       "plot without title"
      ]
     },
     "metadata": {},
     "output_type": "display_data"
    }
   ],
   "source": [
    "age.seq<-seq(from=min(d1$age),to=max(d1$age), length.out= 1e3)\n",
    "d.predict <- list(\n",
    "    height = rep(0,1e3), # empty outcome\n",
    "    age = age.seq\n",
    ")\n",
    "\n",
    "pred.m6H6 <- link( Model.6.H.6 , data=d.predict )\n",
    "mu.m6H6 <- apply( pred.m6H6 , 2 , mean )\n",
    "mu.PI.6h6 <- apply( pred.m6H6 , 2 , PI, prob=0.97)\n",
    "pred.sim.m6H6 <- sim( Model.6.H.6 , data=d.predict )\n",
    "sim.pi.6h6 <- apply( pred.sim.m6H6 , 2 , PI, prob=0.97 )\n",
    "\n",
    "# plot it all\n",
    "plot( height ~ age , d1 , col=rangi2 )\n",
    "lines( age.seq , mu.m6H6 , lty=2 )\n",
    "shade( mu.PI.6h6 , age.seq )\n",
    "shade( sim.pi.6h6 , age.seq )"
   ]
  },
  {
   "cell_type": "code",
   "execution_count": 121,
   "metadata": {},
   "outputs": [
    {
     "data": {
      "text/html": [
       "1875.82434478284"
      ],
      "text/latex": [
       "1875.82434478284"
      ],
      "text/markdown": [
       "1875.82434478284"
      ],
      "text/plain": [
       "[1] 1875.824"
      ]
     },
     "metadata": {},
     "output_type": "display_data"
    },
    {
     "name": "stderr",
     "output_type": "stream",
     "text": [
      "Constructing posterior predictions\n"
     ]
    },
    {
     "name": "stdout",
     "output_type": "stream",
     "text": [
      "[ 100 / 1000 ]\r",
      "[ 200 / 1000 ]\r",
      "[ 300 / 1000 ]\r",
      "[ 400 / 1000 ]\r",
      "[ 500 / 1000 ]\r",
      "[ 600 / 1000 ]\r",
      "[ 700 / 1000 ]\r",
      "[ 800 / 1000 ]\r",
      "[ 900 / 1000 ]\r",
      "[ 1000 / 1000 ]\r\n"
     ]
    },
    {
     "data": {
      "text/html": [
       "1928.27419195596"
      ],
      "text/latex": [
       "1928.27419195596"
      ],
      "text/markdown": [
       "1928.27419195596"
      ],
      "text/plain": [
       "[1] 1928.274\n",
       "attr(,\"lppd\")\n",
       "[1] -956.8014\n",
       "attr(,\"pWAIC\")\n",
       "[1] 7.335738\n",
       "attr(,\"se\")\n",
       "[1] 25.33034"
      ]
     },
     "metadata": {},
     "output_type": "display_data"
    }
   ],
   "source": [
    "#old 6 variables\n",
    "-2*sum( dnorm( d2$height , mean = coef(Model.6)['a']\n",
    "              +coef(Model.6)['b1']*d2$age \n",
    "              +coef(Model.6)['b2']*d2$age**2\n",
    "              +coef(Model.6)['b3']*d2$age**3\n",
    "              +coef(Model.6)['b4']*d2$age**4  \n",
    "              +coef(Model.6)['b5']*d2$age**5              \n",
    "              +coef(Model.6)['b6']*d2$age**6\n",
    "              , coef(Model.6)['sigma'] , log=TRUE ) )\n",
    "WAIC(Model.6)"
   ]
  },
  {
   "cell_type": "code",
   "execution_count": 117,
   "metadata": {},
   "outputs": [
    {
     "data": {
      "text/html": [
       "1875.58374803853"
      ],
      "text/latex": [
       "1875.58374803853"
      ],
      "text/markdown": [
       "1875.58374803853"
      ],
      "text/plain": [
       "[1] 1875.584"
      ]
     },
     "metadata": {},
     "output_type": "display_data"
    },
    {
     "name": "stderr",
     "output_type": "stream",
     "text": [
      "Constructing posterior predictions\n"
     ]
    },
    {
     "name": "stdout",
     "output_type": "stream",
     "text": [
      "[ 100 / 1000 ]\r",
      "[ 200 / 1000 ]\r",
      "[ 300 / 1000 ]\r",
      "[ 400 / 1000 ]\r",
      "[ 500 / 1000 ]\r",
      "[ 600 / 1000 ]\r",
      "[ 700 / 1000 ]\r",
      "[ 800 / 1000 ]\r",
      "[ 900 / 1000 ]\r",
      "[ 1000 / 1000 ]\r\n"
     ]
    },
    {
     "data": {
      "text/html": [
       "1930.69034854584"
      ],
      "text/latex": [
       "1930.69034854584"
      ],
      "text/markdown": [
       "1930.69034854584"
      ],
      "text/plain": [
       "[1] 1930.69\n",
       "attr(,\"lppd\")\n",
       "[1] -958.7622\n",
       "attr(,\"pWAIC\")\n",
       "[1] 6.582985\n",
       "attr(,\"se\")\n",
       "[1] 25.46797"
      ]
     },
     "metadata": {},
     "output_type": "display_data"
    }
   ],
   "source": [
    "#new flat priors 6 variables\n",
    "-2*sum( dnorm( d2$height , mean = coef(Model.6.H.6)['a']\n",
    "              +coef(Model.6.H.6)['b1']*d2$age\n",
    "              +coef(Model.6.H.6)['b2']*d2$age**2\n",
    "              +coef(Model.6.H.6)['b3']*d2$age**3\n",
    "              +coef(Model.6.H.6)['b4']*d2$age**4 \n",
    "              +coef(Model.6.H.6)['b5']*d2$age**5             \n",
    "              +coef(Model.6.H.6)['b6']*d2$age**6\n",
    "              , coef(Model.6.H.6)['sigma'] , log=TRUE ) )\n",
    "WAIC(Model.6.H.6)"
   ]
  },
  {
   "cell_type": "code",
   "execution_count": 119,
   "metadata": {},
   "outputs": [
    {
     "data": {
      "text/html": [
       "1876.24334808952"
      ],
      "text/latex": [
       "1876.24334808952"
      ],
      "text/markdown": [
       "1876.24334808952"
      ],
      "text/plain": [
       "[1] 1876.243"
      ]
     },
     "metadata": {},
     "output_type": "display_data"
    },
    {
     "name": "stderr",
     "output_type": "stream",
     "text": [
      "Constructing posterior predictions\n"
     ]
    },
    {
     "name": "stdout",
     "output_type": "stream",
     "text": [
      "[ 100 / 1000 ]\r",
      "[ 200 / 1000 ]\r",
      "[ 300 / 1000 ]\r",
      "[ 400 / 1000 ]\r",
      "[ 500 / 1000 ]\r",
      "[ 600 / 1000 ]\r",
      "[ 700 / 1000 ]\r",
      "[ 800 / 1000 ]\r",
      "[ 900 / 1000 ]\r",
      "[ 1000 / 1000 ]\r\n"
     ]
    },
    {
     "data": {
      "text/html": [
       "1925.8425064273"
      ],
      "text/latex": [
       "1925.8425064273"
      ],
      "text/markdown": [
       "1925.8425064273"
      ],
      "text/plain": [
       "[1] 1925.843\n",
       "attr(,\"lppd\")\n",
       "[1] -957.4286\n",
       "attr(,\"pWAIC\")\n",
       "[1] 5.492656\n",
       "attr(,\"se\")\n",
       "[1] 25.3267"
      ]
     },
     "metadata": {},
     "output_type": "display_data"
    }
   ],
   "source": [
    "# Best model performance\n",
    "-2*sum( dnorm( d2$height , mean = coef(Model.4)['a']\n",
    "              +coef(Model.4)['b1']*d2$age \n",
    "              +coef(Model.4)['b2']*d2$age**2\n",
    "              +coef(Model.4)['b3']*d2$age**3\n",
    "              +coef(Model.4)['b4']*d2$age**4              \n",
    "              , coef(Model.4)['sigma'] , log=TRUE ) )\n",
    "WAIC(Model.4)"
   ]
  },
  {
   "cell_type": "raw",
   "metadata": {},
   "source": [
    "hard to say has lower deviance but higher WAIC"
   ]
  }
 ],
 "metadata": {
  "kernelspec": {
   "display_name": "R",
   "language": "R",
   "name": "ir"
  },
  "language_info": {
   "codemirror_mode": "r",
   "file_extension": ".r",
   "mimetype": "text/x-r-source",
   "name": "R",
   "pygments_lexer": "r",
   "version": "3.3.1"
  }
 },
 "nbformat": 4,
 "nbformat_minor": 2
}
