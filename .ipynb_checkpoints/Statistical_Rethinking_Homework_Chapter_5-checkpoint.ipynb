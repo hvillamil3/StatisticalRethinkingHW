{
 "cells": [
  {
   "cell_type": "code",
   "execution_count": 9,
   "metadata": {},
   "outputs": [],
   "source": [
    "library(rethinking)"
   ]
  },
  {
   "cell_type": "code",
   "execution_count": 10,
   "metadata": {
    "collapsed": true
   },
   "outputs": [],
   "source": [
    "data(foxes)"
   ]
  },
  {
   "cell_type": "raw",
   "metadata": {
    "collapsed": true
   },
   "source": [
    "All three exercises below use the same data, data(foxes)(partof rethinking).\n",
    "The urban fox (Vulpesvulpes) is a successful exploiter of human habitat.\n",
    "\n",
    "Since urban foxes move in packs and defend territories, data on habitat quality and population density is also included. The dataframe has five columns: \n",
    "\n",
    "            (1) group: Number of the social group the individual fox belongs to\n",
    "            (2) avgfood: The average amount of food available in the territory\n",
    "            (3) groupsize: The number of foxes in the social group\n",
    "            (4) area: Size of the territory \n",
    "            (5) weight: Body weight of the individual fox"
   ]
  },
  {
   "cell_type": "code",
   "execution_count": 11,
   "metadata": {
    "collapsed": true
   },
   "outputs": [],
   "source": [
    "Fx <- foxes"
   ]
  },
  {
   "cell_type": "code",
   "execution_count": 42,
   "metadata": {},
   "outputs": [
    {
     "data": {
      "text/plain": [
       "   Min. 1st Qu.  Median    Mean 3rd Qu.    Max. \n",
       "  1.090   2.590   3.130   3.169   3.772   5.070 "
      ]
     },
     "metadata": {},
     "output_type": "display_data"
    }
   ],
   "source": [
    "summary(foxes$area)"
   ]
  },
  {
   "cell_type": "raw",
   "metadata": {},
   "source": [
    "5.7.10. Bivariate entrée. Fit two bivariate Gaussian regressions,using map: \n",
    "    \n",
    "    (1)bodyweight as a linear function of territory size (area)\n",
    "    , and \n",
    "    (2) body weight as a linear function of groupsize.\n",
    "\n",
    "Plot the results of these regressions, displaying the MAP regression line and the 95% confidence interval of the mean. Is either variable important for predicting fox body weight? "
   ]
  },
  {
   "cell_type": "code",
   "execution_count": 44,
   "metadata": {},
   "outputs": [
    {
     "name": "stdout",
     "output_type": "stream",
     "text": [
      "[ 1000 / 1000 ]\n",
      "[ 10000 / 10000 ]\n"
     ]
    }
   ],
   "source": [
    "#(1) \n",
    "area.Model <- map( \n",
    "    alist( \n",
    "        weight ~ dnorm( mu , sigma ),\n",
    "        mu <- a + b*area ,\n",
    "        a ~ dnorm( 4 , 100 ) ,\n",
    "        b ~ dnorm( 0 , 10 ) ,       \n",
    "        sigma ~ dunif( 0 , 50 ) ) ,\n",
    "    data=Fx , start=list( a=mean(Fx$weight) , sigma=sd(Fx$weight) , b=0 ) )\n",
    "\n",
    "area.seq<-seq(from=1,to=5,by=.5)\n",
    "\n",
    "#Draw parameter samples from posterior. There's variance in mu.\n",
    "mu <- link( weight.Model , data=data.frame(weight=area.seq) )\n",
    "#Draw Prediction Simulations from psterior. There's variance in prediction/outcome.\n",
    "sim.weight <- sim( weight.Model, data=data.frame(weight=area.seq),   n=1e4  ) "
   ]
  },
  {
   "cell_type": "code",
   "execution_count": 45,
   "metadata": {},
   "outputs": [
    {
     "data": {
      "text/html": [
       "<dl class=dl-horizontal>\n",
       "\t<dt>|0.97</dt>\n",
       "\t\t<dd>1.0458491871009</dd>\n",
       "\t<dt>|0.89</dt>\n",
       "\t\t<dd>1.54539910028109</dd>\n",
       "\t<dt>|0.5</dt>\n",
       "\t\t<dd>2.38295207395472</dd>\n",
       "\t<dt>0.5|</dt>\n",
       "\t\t<dd>2.52994681543363</dd>\n",
       "\t<dt>0.89|</dt>\n",
       "\t\t<dd>1.61447620187143</dd>\n",
       "\t<dt>0.97|</dt>\n",
       "\t\t<dd>1.0979045896238</dd>\n",
       "</dl>\n"
      ],
      "text/latex": [
       "\\begin{description*}\n",
       "\\item[\\textbackslash{}textbar\\{\\}0.97] 1.0458491871009\n",
       "\\item[\\textbackslash{}textbar\\{\\}0.89] 1.54539910028109\n",
       "\\item[\\textbackslash{}textbar\\{\\}0.5] 2.38295207395472\n",
       "\\item[0.5\\textbackslash{}textbar\\{\\}] 2.52994681543363\n",
       "\\item[0.89\\textbackslash{}textbar\\{\\}] 1.61447620187143\n",
       "\\item[0.97\\textbackslash{}textbar\\{\\}] 1.0979045896238\n",
       "\\end{description*}\n"
      ],
      "text/markdown": [
       "|0.97\n",
       ":   1.0458491871009|0.89\n",
       ":   1.54539910028109|0.5\n",
       ":   2.382952073954720.5|\n",
       ":   2.529946815433630.89|\n",
       ":   1.614476201871430.97|\n",
       ":   1.0979045896238\n",
       "\n"
      ],
      "text/plain": [
       "   |0.97    |0.89     |0.5     0.5|    0.89|    0.97| \n",
       "1.045849 1.545399 2.382952 2.529947 1.614476 1.097905 "
      ]
     },
     "metadata": {},
     "output_type": "display_data"
    }
   ],
   "source": [
    "HPDI(samples = sim.weight, prob = c(.5, .89, .97))"
   ]
  },
  {
   "cell_type": "code",
   "execution_count": 46,
   "metadata": {},
   "outputs": [
    {
     "data": {
      "text/html": [
       "<dl class=dl-horizontal>\n",
       "\t<dt>|0.97</dt>\n",
       "\t\t<dd>1.92</dd>\n",
       "\t<dt>|0.89</dt>\n",
       "\t\t<dd>2.78</dd>\n",
       "\t<dt>|0.5</dt>\n",
       "\t\t<dd>3.25</dd>\n",
       "\t<dt>0.5|</dt>\n",
       "\t\t<dd>4.84</dd>\n",
       "\t<dt>0.89|</dt>\n",
       "\t\t<dd>6.31</dd>\n",
       "\t<dt>0.97|</dt>\n",
       "\t\t<dd>6.86</dd>\n",
       "</dl>\n"
      ],
      "text/latex": [
       "\\begin{description*}\n",
       "\\item[\\textbackslash{}textbar\\{\\}0.97] 1.92\n",
       "\\item[\\textbackslash{}textbar\\{\\}0.89] 2.78\n",
       "\\item[\\textbackslash{}textbar\\{\\}0.5] 3.25\n",
       "\\item[0.5\\textbackslash{}textbar\\{\\}] 4.84\n",
       "\\item[0.89\\textbackslash{}textbar\\{\\}] 6.31\n",
       "\\item[0.97\\textbackslash{}textbar\\{\\}] 6.86\n",
       "\\end{description*}\n"
      ],
      "text/markdown": [
       "|0.97\n",
       ":   1.92|0.89\n",
       ":   2.78|0.5\n",
       ":   3.250.5|\n",
       ":   4.840.89|\n",
       ":   6.310.97|\n",
       ":   6.86\n",
       "\n"
      ],
      "text/plain": [
       "|0.97 |0.89  |0.5  0.5| 0.89| 0.97| \n",
       " 1.92  2.78  3.25  4.84  6.31  6.86 "
      ]
     },
     "metadata": {},
     "output_type": "display_data"
    }
   ],
   "source": [
    "HPDI(samples = Fx$weight,prob = c(.5, .89, .97) )"
   ]
  },
  {
   "cell_type": "code",
   "execution_count": 47,
   "metadata": {},
   "outputs": [
    {
     "data": {
      "text/html": [
       "4.52965517241379"
      ],
      "text/latex": [
       "4.52965517241379"
      ],
      "text/markdown": [
       "4.52965517241379"
      ],
      "text/plain": [
       "[1] 4.529655"
      ]
     },
     "metadata": {},
     "output_type": "display_data"
    },
    {
     "data": {
      "text/html": [
       "3.14666415791151"
      ],
      "text/latex": [
       "3.14666415791151"
      ],
      "text/markdown": [
       "3.14666415791151"
      ],
      "text/plain": [
       "[1] 3.146664"
      ]
     },
     "metadata": {},
     "output_type": "display_data"
    }
   ],
   "source": [
    "mean(Fx$weight)\n",
    "mean(sim.weight)"
   ]
  },
  {
   "cell_type": "code",
   "execution_count": 48,
   "metadata": {},
   "outputs": [
    {
     "data": {
      "text/plain": [
       "\n",
       "Maximum a posteriori (MAP) model fit\n",
       "\n",
       "Formula:\n",
       "area ~ dnorm(mu, sigma)\n",
       "mu <- a + b * weight\n",
       "a ~ dnorm(4, 100)\n",
       "b ~ dnorm(0, 10)\n",
       "sigma ~ dunif(0, 50)\n",
       "\n",
       "MAP values:\n",
       "         a      sigma          b \n",
       "3.09997736 0.92416925 0.01526857 \n",
       "\n",
       "Log-likelihood: -155.45 "
      ]
     },
     "metadata": {},
     "output_type": "display_data"
    }
   ],
   "source": [
    "weight.Model"
   ]
  },
  {
   "cell_type": "code",
   "execution_count": 53,
   "metadata": {},
   "outputs": [
    {
     "data": {
      "image/png": "[encoded data removed]",
      "text/plain": [
       "plot without title"
      ]
     },
     "metadata": {},
     "output_type": "display_data"
    }
   ],
   "source": [
    "plot(weight~area, Fx)\n",
    "lines(apply( mu , 2 , mean ), lty=2)\n",
    "shade(apply( sim.weight , 2 , HPDI, prob = 0.9 ),area.seq)\n",
    "shade(apply( mu , 2 , HPDI, prob = 0.9 ),area.seq)"
   ]
  },
  {
   "cell_type": "code",
   "execution_count": null,
   "metadata": {
    "collapsed": true
   },
   "outputs": [],
   "source": []
  },
  {
   "cell_type": "raw",
   "metadata": {},
   "source": [
    "5.7.11. Multivariate course. \n",
    "\n",
    "Now fit a multiple linear regression with weight as the outcome and both area and group size as predictor variables. \n",
    "\n",
    "Plot the predictions of the model for each predictor, holding the other predictor constantat its mean. \n",
    "\n",
    "What does this model say about the importance of each variable? \n",
    "\n",
    "Why do you get diﬀerent results than you got in exercise just above?"
   ]
  },
  {
   "cell_type": "code",
   "execution_count": null,
   "metadata": {
    "collapsed": true
   },
   "outputs": [],
   "source": []
  },
  {
   "cell_type": "code",
   "execution_count": null,
   "metadata": {
    "collapsed": true
   },
   "outputs": [],
   "source": []
  },
  {
   "cell_type": "code",
   "execution_count": null,
   "metadata": {
    "collapsed": true
   },
   "outputs": [],
   "source": []
  },
  {
   "cell_type": "raw",
   "metadata": {},
   "source": [
    "5.7.12. Model comparison dessert. Finally, consider the avgfood variable. \n",
    "\n",
    "Fit two more multiple regressions:\n",
    "    (1)bodyweight as an additive function of avgfood and groupsize, and\n",
    "    (2)bodyweight as an additive function of all three variables, avgfood and groupsize and area. \n",
    "\n",
    "Compare the results of these models to the previous models you’ve fit, in the first two exercises. \n",
    "\n",
    "        (a)Is avgfood or area a better predictor of bodyweight? \n",
    "        If you had to choose one or the other to include in a model, which would it be?\n",
    "        Support your assessment with any tables or plots you choose.\n",
    "        \n",
    "        (b)When both avgfood or area are in the same model, \n",
    "        their eﬀects are reduced (closer  to zero) and\n",
    "        their standard errors are larger than when they are included in separate models.\n",
    "        Can you explain this result?"
   ]
  },
  {
   "cell_type": "code",
   "execution_count": null,
   "metadata": {
    "collapsed": true
   },
   "outputs": [],
   "source": []
  },
  {
   "cell_type": "code",
   "execution_count": null,
   "metadata": {
    "collapsed": true
   },
   "outputs": [],
   "source": []
  },
  {
   "cell_type": "code",
   "execution_count": null,
   "metadata": {
    "collapsed": true
   },
   "outputs": [],
   "source": []
  }
 ],
 "metadata": {
  "kernelspec": {
   "display_name": "R",
   "language": "R",
   "name": "ir"
  },
  "language_info": {
   "codemirror_mode": "r",
   "file_extension": ".r",
   "mimetype": "text/x-r-source",
   "name": "R",
   "pygments_lexer": "r",
   "version": "3.4.2"
  }
 },
 "nbformat": 4,
 "nbformat_minor": 2
}
