{
 "cells": [
  {
   "cell_type": "code",
   "execution_count": 1,
   "metadata": {},
   "outputs": [
    {
     "name": "stderr",
     "output_type": "stream",
     "text": [
      "Loading required package: rstan\n",
      "Loading required package: ggplot2\n",
      "Loading required package: StanHeaders\n",
      "rstan (Version 2.16.2, packaged: 2017-07-03 09:24:58 UTC, GitRev: 2e1f913d3ca3)\n",
      "For execution on a local, multicore CPU with excess RAM we recommend calling\n",
      "rstan_options(auto_write = TRUE)\n",
      "options(mc.cores = parallel::detectCores())\n",
      "Loading required package: parallel\n",
      "rethinking (Version 1.70)\n"
     ]
    }
   ],
   "source": [
    "library(rethinking)"
   ]
  },
  {
   "cell_type": "code",
   "execution_count": 2,
   "metadata": {
    "collapsed": true
   },
   "outputs": [],
   "source": [
    "data(foxes)"
   ]
  },
  {
   "cell_type": "raw",
   "metadata": {
    "collapsed": true
   },
   "source": [
    "All three exercises below use the same data, data(foxes)(partof rethinking).\n",
    "The urban fox (Vulpesvulpes) is a successful exploiter of human habitat.\n",
    "\n",
    "Since urban foxes move in packs and defend territories, data on habitat quality and population density is also included. The dataframe has five columns: \n",
    "\n",
    "            (1) group: Number of the social group the individual fox belongs to\n",
    "            (2) avgfood: The average amount of food available in the territory\n",
    "            (3) groupsize: The number of foxes in the social group\n",
    "            (4) area: Size of the territory \n",
    "            (5) weight: Body weight of the individual fox"
   ]
  },
  {
   "cell_type": "code",
   "execution_count": 3,
   "metadata": {
    "collapsed": true
   },
   "outputs": [],
   "source": [
    "Fx <- foxes"
   ]
  },
  {
   "cell_type": "code",
   "execution_count": 4,
   "metadata": {},
   "outputs": [
    {
     "data": {
      "text/plain": [
       "   Min. 1st Qu.  Median    Mean 3rd Qu.    Max. \n",
       "  1.090   2.590   3.130   3.169   3.772   5.070 "
      ]
     },
     "metadata": {},
     "output_type": "display_data"
    }
   ],
   "source": [
    "summary(foxes$area)"
   ]
  },
  {
   "cell_type": "raw",
   "metadata": {},
   "source": [
    "5.7.10. Bivariate entrée. Fit two bivariate Gaussian regressions,using map: \n",
    "    \n",
    "    (1)bodyweight as a linear function of territory size (area)\n",
    "    , and \n",
    "    (2) body weight as a linear function of groupsize.\n",
    "\n",
    "Plot the results of these regressions, displaying the MAP regression line and the 95% confidence interval of the mean. Is either variable important for predicting fox body weight? "
   ]
  },
  {
   "cell_type": "code",
   "execution_count": 5,
   "metadata": {},
   "outputs": [
    {
     "name": "stdout",
     "output_type": "stream",
     "text": [
      "[ 1000 / 1000 ]\n",
      "[ 10000 / 10000 ]\n"
     ]
    }
   ],
   "source": [
    "#(1) \n",
    "area.Model <- map( \n",
    "    alist( \n",
    "        weight ~ dnorm( mu , sigma ),\n",
    "        mu <- a + b*area ,\n",
    "        a ~ dnorm( 4 , 100 ) ,\n",
    "        b ~ dnorm( 0 , 10 ) ,       \n",
    "        sigma ~ dunif( 0 , 50 ) ) ,\n",
    "    data=Fx , start=list( a=mean(Fx$weight) , sigma=sd(Fx$weight) , b=0 ) )\n",
    "\n",
    "area.seq<-seq(from=1,to=5,by=.5)\n",
    "\n",
    "#Draw parameter samples from posterior. There's variance/uncertainty in mu.\n",
    "mu <- link( area.Model , data=data.frame(area=area.seq) )\n",
    "#Draw Prediction Simulations from psterior. There's variance/uncertainty in prediction/outcome.\n",
    "sim.weight <- sim( area.Model , data=data.frame(area=area.seq),   n=1e4  ) "
   ]
  },
  {
   "cell_type": "code",
   "execution_count": 33,
   "metadata": {},
   "outputs": [
    {
     "data": {
      "text/html": [
       "<dl class=dl-horizontal>\n",
       "\t<dt>|0.97</dt>\n",
       "\t\t<dd>2.17485605561289</dd>\n",
       "\t<dt>|0.89</dt>\n",
       "\t\t<dd>2.88176573209016</dd>\n",
       "\t<dt>|0.5</dt>\n",
       "\t\t<dd>4.00846678283429</dd>\n",
       "\t<dt>0.5|</dt>\n",
       "\t\t<dd>3.96147604132559</dd>\n",
       "\t<dt>0.89|</dt>\n",
       "\t\t<dd>2.84301968357276</dd>\n",
       "\t<dt>0.97|</dt>\n",
       "\t\t<dd>2.23776324514523</dd>\n",
       "</dl>\n"
      ],
      "text/latex": [
       "\\begin{description*}\n",
       "\\item[\\textbackslash{}textbar\\{\\}0.97] 2.17485605561289\n",
       "\\item[\\textbackslash{}textbar\\{\\}0.89] 2.88176573209016\n",
       "\\item[\\textbackslash{}textbar\\{\\}0.5] 4.00846678283429\n",
       "\\item[0.5\\textbackslash{}textbar\\{\\}] 3.96147604132559\n",
       "\\item[0.89\\textbackslash{}textbar\\{\\}] 2.84301968357276\n",
       "\\item[0.97\\textbackslash{}textbar\\{\\}] 2.23776324514523\n",
       "\\end{description*}\n"
      ],
      "text/markdown": [
       "|0.97\n",
       ":   2.17485605561289|0.89\n",
       ":   2.88176573209016|0.5\n",
       ":   4.008466782834290.5|\n",
       ":   3.961476041325590.89|\n",
       ":   2.843019683572760.97|\n",
       ":   2.23776324514523\n",
       "\n"
      ],
      "text/plain": [
       "   |0.97    |0.89     |0.5     0.5|    0.89|    0.97| \n",
       "2.174856 2.881766 4.008467 3.961476 2.843020 2.237763 "
      ]
     },
     "metadata": {},
     "output_type": "display_data"
    },
    {
     "data": {
      "text/html": [
       "<dl class=dl-horizontal>\n",
       "\t<dt>|0.97</dt>\n",
       "\t\t<dd>1.92</dd>\n",
       "\t<dt>|0.89</dt>\n",
       "\t\t<dd>2.78</dd>\n",
       "\t<dt>|0.5</dt>\n",
       "\t\t<dd>3.25</dd>\n",
       "\t<dt>0.5|</dt>\n",
       "\t\t<dd>4.84</dd>\n",
       "\t<dt>0.89|</dt>\n",
       "\t\t<dd>6.31</dd>\n",
       "\t<dt>0.97|</dt>\n",
       "\t\t<dd>6.86</dd>\n",
       "</dl>\n"
      ],
      "text/latex": [
       "\\begin{description*}\n",
       "\\item[\\textbackslash{}textbar\\{\\}0.97] 1.92\n",
       "\\item[\\textbackslash{}textbar\\{\\}0.89] 2.78\n",
       "\\item[\\textbackslash{}textbar\\{\\}0.5] 3.25\n",
       "\\item[0.5\\textbackslash{}textbar\\{\\}] 4.84\n",
       "\\item[0.89\\textbackslash{}textbar\\{\\}] 6.31\n",
       "\\item[0.97\\textbackslash{}textbar\\{\\}] 6.86\n",
       "\\end{description*}\n"
      ],
      "text/markdown": [
       "|0.97\n",
       ":   1.92|0.89\n",
       ":   2.78|0.5\n",
       ":   3.250.5|\n",
       ":   4.840.89|\n",
       ":   6.310.97|\n",
       ":   6.86\n",
       "\n"
      ],
      "text/plain": [
       "|0.97 |0.89  |0.5  0.5| 0.89| 0.97| \n",
       " 1.92  2.78  3.25  4.84  6.31  6.86 "
      ]
     },
     "metadata": {},
     "output_type": "display_data"
    }
   ],
   "source": [
    "HPDI(samples = sim.weight, prob = c(.5, .89, .97))\n",
    "HPDI(samples = Fx$weight,prob = c(.5, .89, .97) )"
   ]
  },
  {
   "cell_type": "code",
   "execution_count": 8,
   "metadata": {},
   "outputs": [
    {
     "data": {
      "text/html": [
       "4.52965517241379"
      ],
      "text/latex": [
       "4.52965517241379"
      ],
      "text/markdown": [
       "4.52965517241379"
      ],
      "text/plain": [
       "[1] 4.529655"
      ]
     },
     "metadata": {},
     "output_type": "display_data"
    },
    {
     "data": {
      "text/html": [
       "4.52881871942987"
      ],
      "text/latex": [
       "4.52881871942987"
      ],
      "text/markdown": [
       "4.52881871942987"
      ],
      "text/plain": [
       "[1] 4.528819"
      ]
     },
     "metadata": {},
     "output_type": "display_data"
    }
   ],
   "source": [
    "mean(Fx$weight)\n",
    "mean(sim.weight)"
   ]
  },
  {
   "cell_type": "code",
   "execution_count": 9,
   "metadata": {},
   "outputs": [
    {
     "data": {
      "text/plain": [
       "\n",
       "Maximum a posteriori (MAP) model fit\n",
       "\n",
       "Formula:\n",
       "weight ~ dnorm(mu, sigma)\n",
       "mu <- a + b * area\n",
       "a ~ dnorm(4, 100)\n",
       "b ~ dnorm(0, 10)\n",
       "sigma ~ dunif(0, 50)\n",
       "\n",
       "MAP values:\n",
       "         a      sigma          b \n",
       "4.45094203 1.17868348 0.02483738 \n",
       "\n",
       "Log-likelihood: -183.67 "
      ]
     },
     "metadata": {},
     "output_type": "display_data"
    }
   ],
   "source": [
    "area.Model"
   ]
  },
  {
   "cell_type": "code",
   "execution_count": 10,
   "metadata": {},
   "outputs": [
    {
     "data": {
      "image/png": "[encoded data removed]",
      "text/plain": [
       "plot without title"
      ]
     },
     "metadata": {},
     "output_type": "display_data"
    }
   ],
   "source": [
    "plot(weight~area, Fx)\n",
    "lines(apply( mu , 2 , mean ), lty=2)\n",
    "shade(apply( sim.weight , 2 , HPDI, prob = 0.9 ),area.seq)\n",
    "shade(apply( mu , 2 , HPDI, prob = 0.9 ),area.seq)"
   ]
  },
  {
   "cell_type": "code",
   "execution_count": 27,
   "metadata": {},
   "outputs": [
    {
     "name": "stdout",
     "output_type": "stream",
     "text": [
      "[ 1000 / 1000 ]\n",
      "[ 10000 / 10000 ]\n"
     ]
    }
   ],
   "source": [
    "#(2) \n",
    "groupsize.Model <- map( \n",
    "    alist( \n",
    "        weight ~ dnorm( mu , sigma ),\n",
    "        mu <- a + b*groupsize ,\n",
    "        a ~ dnorm( 4 , 100 ) ,\n",
    "        b ~ dnorm( 0 , 10 ) ,       \n",
    "        sigma ~ dunif( 0 , 50 ) ) ,\n",
    "    data=Fx , start=list( a=mean(Fx$weight) , sigma=sd(Fx$weight) , b=0 ) )\n",
    "\n",
    "size.seq<-seq(from=2,to=8,by=.5)\n",
    "\n",
    "#Draw parameter samples from posterior. There's variance/uncertainty in mu.\n",
    "mu1 <- link( groupsize.Model , data=data.frame(groupsize=size.seq) )\n",
    "#Draw Prediction Simulations from psterior. There's variance/uncertainty in prediction/outcome.\n",
    "sim.weight1 <- sim( groupsize.Model , data=data.frame(groupsize=size.seq),   n=1e4  ) "
   ]
  },
  {
   "cell_type": "code",
   "execution_count": 34,
   "metadata": {},
   "outputs": [
    {
     "data": {
      "text/html": [
       "<dl class=dl-horizontal>\n",
       "\t<dt>|0.97</dt>\n",
       "\t\t<dd>2.23688856051554</dd>\n",
       "\t<dt>|0.89</dt>\n",
       "\t\t<dd>3.04802405863274</dd>\n",
       "\t<dt>|0.5</dt>\n",
       "\t\t<dd>4.06183821285673</dd>\n",
       "\t<dt>0.5|</dt>\n",
       "\t\t<dd>3.9328192636504</dd>\n",
       "\t<dt>0.89|</dt>\n",
       "\t\t<dd>2.89857746205318</dd>\n",
       "\t<dt>0.97|</dt>\n",
       "\t\t<dd>2.26394005454748</dd>\n",
       "</dl>\n"
      ],
      "text/latex": [
       "\\begin{description*}\n",
       "\\item[\\textbackslash{}textbar\\{\\}0.97] 2.23688856051554\n",
       "\\item[\\textbackslash{}textbar\\{\\}0.89] 3.04802405863274\n",
       "\\item[\\textbackslash{}textbar\\{\\}0.5] 4.06183821285673\n",
       "\\item[0.5\\textbackslash{}textbar\\{\\}] 3.9328192636504\n",
       "\\item[0.89\\textbackslash{}textbar\\{\\}] 2.89857746205318\n",
       "\\item[0.97\\textbackslash{}textbar\\{\\}] 2.26394005454748\n",
       "\\end{description*}\n"
      ],
      "text/markdown": [
       "|0.97\n",
       ":   2.23688856051554|0.89\n",
       ":   3.04802405863274|0.5\n",
       ":   4.061838212856730.5|\n",
       ":   3.93281926365040.89|\n",
       ":   2.898577462053180.97|\n",
       ":   2.26394005454748\n",
       "\n"
      ],
      "text/plain": [
       "   |0.97    |0.89     |0.5     0.5|    0.89|    0.97| \n",
       "2.236889 3.048024 4.061838 3.932819 2.898577 2.263940 "
      ]
     },
     "metadata": {},
     "output_type": "display_data"
    },
    {
     "data": {
      "text/html": [
       "<dl class=dl-horizontal>\n",
       "\t<dt>|0.97</dt>\n",
       "\t\t<dd>1.92</dd>\n",
       "\t<dt>|0.89</dt>\n",
       "\t\t<dd>2.78</dd>\n",
       "\t<dt>|0.5</dt>\n",
       "\t\t<dd>3.25</dd>\n",
       "\t<dt>0.5|</dt>\n",
       "\t\t<dd>4.84</dd>\n",
       "\t<dt>0.89|</dt>\n",
       "\t\t<dd>6.31</dd>\n",
       "\t<dt>0.97|</dt>\n",
       "\t\t<dd>6.86</dd>\n",
       "</dl>\n"
      ],
      "text/latex": [
       "\\begin{description*}\n",
       "\\item[\\textbackslash{}textbar\\{\\}0.97] 1.92\n",
       "\\item[\\textbackslash{}textbar\\{\\}0.89] 2.78\n",
       "\\item[\\textbackslash{}textbar\\{\\}0.5] 3.25\n",
       "\\item[0.5\\textbackslash{}textbar\\{\\}] 4.84\n",
       "\\item[0.89\\textbackslash{}textbar\\{\\}] 6.31\n",
       "\\item[0.97\\textbackslash{}textbar\\{\\}] 6.86\n",
       "\\end{description*}\n"
      ],
      "text/markdown": [
       "|0.97\n",
       ":   1.92|0.89\n",
       ":   2.78|0.5\n",
       ":   3.250.5|\n",
       ":   4.840.89|\n",
       ":   6.310.97|\n",
       ":   6.86\n",
       "\n"
      ],
      "text/plain": [
       "|0.97 |0.89  |0.5  0.5| 0.89| 0.97| \n",
       " 1.92  2.78  3.25  4.84  6.31  6.86 "
      ]
     },
     "metadata": {},
     "output_type": "display_data"
    }
   ],
   "source": [
    "HPDI(samples = sim.weight1, prob = c(.5, .89, .97))\n",
    "HPDI(samples = Fx$weight,prob = c(.5, .89, .97) )"
   ]
  },
  {
   "cell_type": "code",
   "execution_count": 35,
   "metadata": {},
   "outputs": [
    {
     "data": {
      "text/html": [
       "4.52965517241379"
      ],
      "text/latex": [
       "4.52965517241379"
      ],
      "text/markdown": [
       "4.52965517241379"
      ],
      "text/plain": [
       "[1] 4.529655"
      ]
     },
     "metadata": {},
     "output_type": "display_data"
    },
    {
     "data": {
      "text/html": [
       "4.45367286278597"
      ],
      "text/latex": [
       "4.45367286278597"
      ],
      "text/markdown": [
       "4.45367286278597"
      ],
      "text/plain": [
       "[1] 4.453673"
      ]
     },
     "metadata": {},
     "output_type": "display_data"
    }
   ],
   "source": [
    "mean(Fx$weight)\n",
    "mean(sim.weight1)"
   ]
  },
  {
   "cell_type": "code",
   "execution_count": 36,
   "metadata": {},
   "outputs": [
    {
     "data": {
      "text/plain": [
       "\n",
       "Maximum a posteriori (MAP) model fit\n",
       "\n",
       "Formula:\n",
       "weight ~ dnorm(mu, sigma)\n",
       "mu <- a + b * groupsize\n",
       "a ~ dnorm(4, 100)\n",
       "b ~ dnorm(0, 10)\n",
       "sigma ~ dunif(0, 50)\n",
       "\n",
       "MAP values:\n",
       "         a      sigma          b \n",
       " 5.0679376  1.1635300 -0.1238907 \n",
       "\n",
       "Log-likelihood: -182.17 "
      ]
     },
     "metadata": {},
     "output_type": "display_data"
    }
   ],
   "source": [
    "groupsize.Model"
   ]
  },
  {
   "cell_type": "code",
   "execution_count": 39,
   "metadata": {},
   "outputs": [
    {
     "data": {
      "image/png": "[encoded data removed]",
      "text/plain": [
       "plot without title"
      ]
     },
     "metadata": {},
     "output_type": "display_data"
    }
   ],
   "source": [
    "plot(weight~groupsize, Fx)\n",
    "lines(apply( mu1 , 2 , mean ), lty=2)\n",
    "#lines(apply( sim.weight1 , 2 , mean ))\n",
    "shade(apply( sim.weight1 , 2 , HPDI, prob = 0.9 ),size.seq)\n",
    "shade(apply( mu1 , 2 , HPDI, prob = 0.9 ),size.seq)"
   ]
  },
  {
   "cell_type": "raw",
   "metadata": {},
   "source": [
    "5.7.11. Multivariate course. \n",
    "\n",
    "Now fit a multiple linear regression with weight as the outcome and both area and group size as predictor variables. \n",
    "\n",
    "Plot the predictions of the model for each predictor, holding the other predictor constantat its mean. \n",
    "\n",
    "What does this model say about the importance of each variable? \n",
    "\n",
    "Why do you get diﬀerent results than you got in exercise just above?"
   ]
  },
  {
   "cell_type": "code",
   "execution_count": 43,
   "metadata": {},
   "outputs": [
    {
     "name": "stdout",
     "output_type": "stream",
     "text": [
      "[ 1000 / 1000 ]\n",
      "[ 10000 / 10000 ]\n"
     ]
    }
   ],
   "source": [
    "#(1) \n",
    "Multi.Model <- map( \n",
    "    alist( \n",
    "        weight ~ dnorm( mu , sigma ),\n",
    "        mu <- a + b*area +b1*groupsize,\n",
    "        a ~ dnorm( 4 , 100 ) ,\n",
    "        b ~ dnorm( 0 , 10 ) , \n",
    "        b1 ~ dnorm( 0 , 10 ) , \n",
    "        sigma ~ dunif( 0 , 50 ) ) ,\n",
    "    data=Fx , start=list( a=mean(Fx$weight) , sigma=sd(Fx$weight) , b=0 ,b1=0) )\n",
    "\n",
    "size.seq<-seq(from=2,to=8, length.out=1e3)\n",
    "area.seq<-seq(from=1,to=5, length.out=1e3)\n",
    "\n",
    "#Draw parameter samples from posterior. There's variance/uncertainty in mu.\n",
    "mu1 <- link( Multi.Model , data=data.frame(groupsize=size.seq,area=area.seq) )\n",
    "#Draw Prediction Simulations from psterior. There's variance/uncertainty in prediction/outcome.\n",
    "sim.weight1 <- sim( Multi.Model , data=data.frame(groupsize=size.seq, area=area.seq),   n=1e4  ) "
   ]
  },
  {
   "cell_type": "code",
   "execution_count": 44,
   "metadata": {},
   "outputs": [
    {
     "data": {
      "text/plain": [
       "\n",
       "Maximum a posteriori (MAP) model fit\n",
       "\n",
       "Formula:\n",
       "weight ~ dnorm(mu, sigma)\n",
       "mu <- a + b * area + b1 * groupsize\n",
       "a ~ dnorm(4, 100)\n",
       "b ~ dnorm(0, 10)\n",
       "b1 ~ dnorm(0, 10)\n",
       "sigma ~ dunif(0, 50)\n",
       "\n",
       "MAP values:\n",
       "         a      sigma          b         b1 \n",
       " 4.4504217  1.1184517  0.6178220 -0.4324061 \n",
       "\n",
       "Log-likelihood: -177.58 "
      ]
     },
     "metadata": {},
     "output_type": "display_data"
    }
   ],
   "source": [
    "Multi.Model"
   ]
  },
  {
   "cell_type": "code",
   "execution_count": null,
   "metadata": {
    "collapsed": true
   },
   "outputs": [],
   "source": [
    "plot(weight~groupsize, Fx)\n",
    "lines(apply( mu1 , 2 , mean ), lty=2)\n",
    "#lines(apply( sim.weight1 , 2 , mean ))\n",
    "shade(apply( sim.weight1 , 2 , HPDI, prob = 0.9 ),size.seq)\n",
    "shade(apply( mu1 , 2 , HPDI, prob = 0.9 ),size.seq)"
   ]
  },
  {
   "cell_type": "raw",
   "metadata": {},
   "source": [
    "5.7.12. Model comparison dessert. Finally, consider the avgfood variable. \n",
    "\n",
    "Fit two more multiple regressions:\n",
    "    (1)bodyweight as an additive function of avgfood and groupsize, and\n",
    "    (2)bodyweight as an additive function of all three variables, avgfood and groupsize and area. \n",
    "\n",
    "Compare the results of these models to the previous models you’ve fit, in the first two exercises. \n",
    "\n",
    "        (a)Is avgfood or area a better predictor of bodyweight? \n",
    "        If you had to choose one or the other to include in a model, which would it be?\n",
    "        Support your assessment with any tables or plots you choose.\n",
    "        \n",
    "        (b)When both avgfood or area are in the same model, \n",
    "        their eﬀects are reduced (closer  to zero) and\n",
    "        their standard errors are larger than when they are included in separate models.\n",
    "        Can you explain this result?"
   ]
  },
  {
   "cell_type": "code",
   "execution_count": null,
   "metadata": {
    "collapsed": true
   },
   "outputs": [],
   "source": []
  },
  {
   "cell_type": "code",
   "execution_count": null,
   "metadata": {
    "collapsed": true
   },
   "outputs": [],
   "source": []
  },
  {
   "cell_type": "code",
   "execution_count": null,
   "metadata": {
    "collapsed": true
   },
   "outputs": [],
   "source": []
  }
 ],
 "metadata": {
  "kernelspec": {
   "display_name": "R",
   "language": "R",
   "name": "ir"
  },
  "language_info": {
   "codemirror_mode": "r",
   "file_extension": ".r",
   "mimetype": "text/x-r-source",
   "name": "R",
   "pygments_lexer": "r",
   "version": "3.4.2"
  }
 },
 "nbformat": 4,
 "nbformat_minor": 2
}
