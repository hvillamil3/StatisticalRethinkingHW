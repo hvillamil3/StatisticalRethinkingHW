{
 "cells": [
  {
   "cell_type": "code",
   "execution_count": 9,
   "metadata": {
    "collapsed": true
   },
   "outputs": [],
   "source": [
    "library(rethinking)"
   ]
  },
  {
   "cell_type": "code",
   "execution_count": 10,
   "metadata": {},
   "outputs": [
    {
     "data": {
      "text/html": [
       "35.6106175924632"
      ],
      "text/latex": [
       "35.6106175924632"
      ],
      "text/markdown": [
       "35.6106175924632"
      ],
      "text/plain": [
       "[1] 35.61062"
      ]
     },
     "metadata": {},
     "output_type": "display_data"
    },
    {
     "data": {
      "text/html": [
       "14.71917817928"
      ],
      "text/latex": [
       "14.71917817928"
      ],
      "text/markdown": [
       "14.71917817928"
      ],
      "text/plain": [
       "[1] 14.71918"
      ]
     },
     "metadata": {},
     "output_type": "display_data"
    },
    {
     "data": {
      "text/html": [
       "138.263596323529"
      ],
      "text/latex": [
       "138.263596323529"
      ],
      "text/markdown": [
       "138.263596323529"
      ],
      "text/plain": [
       "[1] 138.2636"
      ]
     },
     "metadata": {},
     "output_type": "display_data"
    },
    {
     "data": {
      "text/html": [
       "27.6024476405647"
      ],
      "text/latex": [
       "27.6024476405647"
      ],
      "text/markdown": [
       "27.6024476405647"
      ],
      "text/plain": [
       "[1] 27.60245"
      ]
     },
     "metadata": {},
     "output_type": "display_data"
    },
    {
     "data": {
      "text/html": [
       "35.6106175924632"
      ],
      "text/latex": [
       "35.6106175924632"
      ],
      "text/markdown": [
       "35.6106175924632"
      ],
      "text/plain": [
       "[1] 35.61062"
      ]
     },
     "metadata": {},
     "output_type": "display_data"
    },
    {
     "data": {
      "text/html": [
       "14.71917817928"
      ],
      "text/latex": [
       "14.71917817928"
      ],
      "text/markdown": [
       "14.71917817928"
      ],
      "text/plain": [
       "[1] 14.71918"
      ]
     },
     "metadata": {},
     "output_type": "display_data"
    },
    {
     "data": {
      "text/html": [
       "29.3443933823529"
      ],
      "text/latex": [
       "29.3443933823529"
      ],
      "text/markdown": [
       "29.3443933823529"
      ],
      "text/plain": [
       "[1] 29.34439"
      ]
     },
     "metadata": {},
     "output_type": "display_data"
    },
    {
     "data": {
      "text/html": [
       "20.746888222142"
      ],
      "text/latex": [
       "20.746888222142"
      ],
      "text/markdown": [
       "20.746888222142"
      ],
      "text/plain": [
       "[1] 20.74689"
      ]
     },
     "metadata": {},
     "output_type": "display_data"
    }
   ],
   "source": [
    "data(Howell1) \n",
    "d <- Howell1\n",
    "mean(d$weight) \n",
    "sd(d$weight)\n",
    "weig.mmu <- 35.6106175924632\n",
    "weig.std <- 14.71917817928\n",
    "mean(d$height)\n",
    "sd(d$height)\n",
    "mean(d$weight) \n",
    "sd(d$weight)\n",
    "mean(d$age)\n",
    "sd(d$age)\n",
    "d$weight <- (d$weight - mean(d$weight)) /sd(d$weight)\n",
    "d$height <- (d$height - mean(d$height)) /sd(d$height)\n",
    "d$age <- (d$age - mean(d$age)) /sd(d$age)\n",
    "d$male <- (d$male - mean(d$male)) /sd(d$male)"
   ]
  },
  {
   "cell_type": "code",
   "execution_count": 11,
   "metadata": {
    "collapsed": true
   },
   "outputs": [],
   "source": [
    "# 4.7.12. Missing heights. \n",
    "# The weights listed below were recorded\n",
    "# in the !Kung census, but heights were not recorded for these individuals.\n",
    "# Provide predicted heights and 90% confidence intervals (HPDI or PI)for each of these individuals.\n",
    "# That is, fill in the table below,using model-based predictions.\n",
    "# c(46.95, 43.72, 64.78, 32.59, 54.63)"
   ]
  },
  {
   "cell_type": "code",
   "execution_count": 12,
   "metadata": {
    "collapsed": true
   },
   "outputs": [],
   "source": [
    "d2 <- d[ d$age >= -0.546799754299813  , ]\n",
    "# fit model \n",
    "m4.3 <- map( \n",
    "    alist( \n",
    "        height ~ dnorm( mu , sigma ),\n",
    "        mu <- a + b*weight ,#+ b1*male + b2*age ,\n",
    "        a ~ dnorm( 156 , 100 ) ,\n",
    "        b ~ dnorm( 0 , 10 ) , \n",
    "        #b1 ~ dnorm( 0 , 10 ) ,\n",
    "        #b2 ~ dnorm( 0 , 10 ) ,        \n",
    "        sigma ~ dunif( 0 , 50 ) ) ,\n",
    "    data=d2 , start=list( a=mean(d2$height) , sigma=sd(d2$height) , b=0 ) )"
   ]
  },
  {
   "cell_type": "code",
   "execution_count": 13,
   "metadata": {},
   "outputs": [
    {
     "name": "stdout",
     "output_type": "stream",
     "text": [
      "[ 1000 / 1000 ]\n",
      " num [1:1000, 1:5] 0.659 0.642 0.659 0.669 0.664 ...\n",
      "[ 1000 / 1000 ]\n",
      " num [1:1000, 1:5] 0.741 0.516 0.387 0.687 0.47 ...\n"
     ]
    }
   ],
   "source": [
    "# define sequence of weights to compute predictions for \n",
    "# these values will be on the horizontal axis \n",
    "weight.seq1 <- c(46.95, 43.72, 64.78, 32.59, 54.63)\n",
    "weight.seq <- (weight.seq1-weig.mmu)/weig.std\n",
    "\n",
    "# use link to compute mu \n",
    "# for each sample from posterior \n",
    "# and for each weight in weight.seq \n",
    "mu <- link( m4.3 , data=list(weight=weight.seq) )\n",
    "str(mu)\n",
    "sim.height <- sim( m4.3 , data=list(weight=weight.seq) ) \n",
    "str(sim.height)"
   ]
  },
  {
   "cell_type": "code",
   "execution_count": 14,
   "metadata": {
    "collapsed": true
   },
   "outputs": [],
   "source": [
    "heightMU <- 138.263596323529\n",
    "heightSTD <- 27.6024476405647"
   ]
  },
  {
   "cell_type": "code",
   "execution_count": 15,
   "metadata": {},
   "outputs": [
    {
     "data": {
      "text/html": [
       "<ol class=list-inline>\n",
       "\t<li>155.919986268942</li>\n",
       "\t<li>153.240816294335</li>\n",
       "\t<li>172.015233989408</li>\n",
       "\t<li>143.153078678028</li>\n",
       "\t<li>163.413702206813</li>\n",
       "</ol>\n"
      ],
      "text/latex": [
       "\\begin{enumerate*}\n",
       "\\item 155.919986268942\n",
       "\\item 153.240816294335\n",
       "\\item 172.015233989408\n",
       "\\item 143.153078678028\n",
       "\\item 163.413702206813\n",
       "\\end{enumerate*}\n"
      ],
      "text/markdown": [
       "1. 155.919986268942\n",
       "2. 153.240816294335\n",
       "3. 172.015233989408\n",
       "4. 143.153078678028\n",
       "5. 163.413702206813\n",
       "\n",
       "\n"
      ],
      "text/plain": [
       "[1] 155.9200 153.2408 172.0152 143.1531 163.4137"
      ]
     },
     "metadata": {},
     "output_type": "display_data"
    }
   ],
   "source": [
    "apply( sim.height*heightSTD + heightMU  , 2 , mean )"
   ]
  },
  {
   "cell_type": "code",
   "execution_count": 16,
   "metadata": {},
   "outputs": [
    {
     "data": {
      "text/html": [
       "<table>\n",
       "<tbody>\n",
       "\t<tr><th scope=row>|0.9</th><td>147.8166</td><td>144.3379</td><td>163.5727</td><td>135.0093</td><td>154.4708</td></tr>\n",
       "\t<tr><th scope=row>0.9|</th><td>164.1095</td><td>160.9090</td><td>180.1293</td><td>152.1807</td><td>171.6192</td></tr>\n",
       "</tbody>\n",
       "</table>\n"
      ],
      "text/latex": [
       "\\begin{tabular}{r|lllll}\n",
       "\t\\textbar{}0.9 & 147.8166 & 144.3379 & 163.5727 & 135.0093 & 154.4708\\\\\n",
       "\t0.9\\textbar{} & 164.1095 & 160.9090 & 180.1293 & 152.1807 & 171.6192\\\\\n",
       "\\end{tabular}\n"
      ],
      "text/markdown": [
       "\n",
       "| |0.9 | 147.8166 | 144.3379 | 163.5727 | 135.0093 | 154.4708 | \n",
       "| 0.9| | 164.1095 | 160.9090 | 180.1293 | 152.1807 | 171.6192 | \n",
       "\n",
       "\n"
      ],
      "text/plain": [
       "     [,1]     [,2]     [,3]     [,4]     [,5]    \n",
       "|0.9 147.8166 144.3379 163.5727 135.0093 154.4708\n",
       "0.9| 164.1095 160.9090 180.1293 152.1807 171.6192"
      ]
     },
     "metadata": {},
     "output_type": "display_data"
    }
   ],
   "source": [
    "#c(apply( mu , 2 , mean ) )*heightSTD + heightMU \n",
    "#c(apply( mu , 2 , HPDI ) )*heightSTD + heightMU \n",
    "\n",
    "#Missing Height Answer:\n",
    "#c(apply( sim.height , 2 , mean ) )*heightSTD + heightMU \n",
    "apply( sim.height*heightSTD + heightMU  , 2 , HPDI, prob = 0.9 )"
   ]
  },
  {
   "cell_type": "code",
   "execution_count": 17,
   "metadata": {
    "collapsed": true
   },
   "outputs": [],
   "source": [
    "# 4.7.13. Non-adults. Select out all the rows in the Howell1 data with ages below 18 years of age.\n",
    "# If you do it right, you should end up with a new data frame with 192 rows in it.\n",
    "\n",
    "# (a) Fit a linear regression to these data, using map. Present and interpret the estimates.\n",
    "#     For every 10 units of increase in weight, how much taller does the model predict a child gets?\n",
    "\n",
    "# (b) Plot the raw data, with height on the vertical axis and weight on the horizontal axis.\n",
    "#     Superimpose the MAP regression line and 90% HPDI for the mean.\n",
    "#     Also superimpose the 90% HPDI for predicted heights.\n",
    "        \n",
    "# (c) What aspects of the model fit concern you? \n",
    "#     Describe the kinds of assumptions you would change, if any, to improve the model.\n",
    "#     You don’t have to write any new code.\n",
    "#     Just explain what the model appears to be doing a bad job of, and what you hypothesize would be a better model.\n"
   ]
  },
  {
   "cell_type": "code",
   "execution_count": 18,
   "metadata": {
    "collapsed": true
   },
   "outputs": [],
   "source": [
    "dd <- Howell1\n",
    "d3 <- dd[ dd$age <= 18  , ]"
   ]
  },
  {
   "cell_type": "code",
   "execution_count": 19,
   "metadata": {},
   "outputs": [
    {
     "name": "stdout",
     "output_type": "stream",
     "text": [
      "'data.frame':\t198 obs. of  4 variables:\n",
      " $ height: num  121.9 105.4 86.4 129.5 109.2 ...\n",
      " $ weight: num  19.6 13.9 10.5 23.6 16 ...\n",
      " $ age   : num  12 8 6.5 13 7 17 16 11 17 8 ...\n",
      " $ male  : int  1 0 0 1 0 1 0 1 0 1 ...\n"
     ]
    }
   ],
   "source": [
    "str(d3)"
   ]
  },
  {
   "cell_type": "code",
   "execution_count": 20,
   "metadata": {
    "collapsed": true
   },
   "outputs": [],
   "source": [
    "model<-map(\n",
    "    alist(\n",
    "        height ~ dnorm(mu,sigma),\n",
    "        mu <- a + b*weight,\n",
    "        a~dnorm(0,10),\n",
    "        b~dnorm(0,10),\n",
    "        sigma ~ dunif(0,50)\n",
    "    ), data=d3\n",
    ")"
   ]
  },
  {
   "cell_type": "code",
   "execution_count": 21,
   "metadata": {},
   "outputs": [
    {
     "data": {
      "text/html": [
       "27.1828629244121"
      ],
      "text/latex": [
       "27.1828629244121"
      ],
      "text/markdown": [
       "27.1828629244121"
      ],
      "text/plain": [
       "[1] 27.18286"
      ]
     },
     "metadata": {},
     "output_type": "display_data"
    }
   ],
   "source": [
    "10*((1.4495432*27.6024476405647)/14.71917817928) #for an increase of 1 sd\n",
    "#increase of 27.2cm for 10 units of weight"
   ]
  },
  {
   "cell_type": "code",
   "execution_count": 22,
   "metadata": {},
   "outputs": [
    {
     "data": {
      "text/plain": [
       "   Min. 1st Qu.  Median    Mean 3rd Qu.    Max. \n",
       "  4.252  11.790  17.490  19.120  24.410  49.210 "
      ]
     },
     "metadata": {},
     "output_type": "display_data"
    }
   ],
   "source": [
    "summary(d3$weight)"
   ]
  },
  {
   "cell_type": "code",
   "execution_count": 23,
   "metadata": {},
   "outputs": [
    {
     "name": "stdout",
     "output_type": "stream",
     "text": [
      "[ 1000 / 1000 ]\n",
      " num [1:1000, 1:90] 69.9 71 69.5 70.3 71.8 ...\n",
      "[ 1000 / 1000 ]\n",
      " num [1:1000, 1:90] 66.3 77.1 84.4 73 71.3 ...\n"
     ]
    }
   ],
   "source": [
    "w.seq<-seq(from=4.252,to=49.210,by=.5)\n",
    "mu1 <- link( model , data=data.frame(weight=w.seq) )\n",
    "str(mu1)\n",
    "sim.height1 <- sim( model,data=data.frame(weight=w.seq),   n=1e3  ) \n",
    "str(sim.height1)"
   ]
  },
  {
   "cell_type": "code",
   "execution_count": 24,
   "metadata": {},
   "outputs": [
    {
     "data": {
      "image/png": "[encoded data removed]",
      "text/plain": [
       "plot without title"
      ]
     },
     "metadata": {},
     "output_type": "display_data"
    }
   ],
   "source": [
    "plot(height~weight, d3)\n",
    "shade(apply( sim.height1 , 2 , HPDI, prob = 0.9 ),w.seq)\n",
    "shade(apply( mu1 , 2 , HPDI, prob = 0.9 ),w.seq)"
   ]
  },
  {
   "cell_type": "code",
   "execution_count": 25,
   "metadata": {},
   "outputs": [
    {
     "ename": "ERROR",
     "evalue": "Error in parse(text = x, srcfile = src): <text>:1:4: unexpected numeric constant\n1: 4.7.14\n       ^\n",
     "output_type": "error",
     "traceback": [
      "Error in parse(text = x, srcfile = src): <text>:1:4: unexpected numeric constant\n1: 4.7.14\n       ^\nTraceback:\n"
     ]
    }
   ],
   "source": [
    "4.7.14. Logjam. \n",
    "Suppose a colleague of yours, who works on allometry, glances at the practice problems just above.\n",
    "Your colleague exclaims,\n",
    "“That’s silly. Everyone knows that it’s only the logarithm of body weight that scales with height!”\n",
    "Let’s take your colleague’s advice and see what happens.\n",
    "\n",
    "(a)Model the relationship between height(cm)and the natural logarithm of weight(log-kg).\n",
    "Use the entire Howell1 dataframe,all 544 rows, adults and non-adults. \n",
    "\n",
    "Fit this model, using quadratic approximation: \n",
    "    hi ∼Normal(µi,σ) \n",
    "    µi = α + βlog(wi) \n",
    "    α ∼Normal(138,100) \n",
    "    β ∼Normal(0,100) \n",
    "    σ ∼Uniform(0,50) \n",
    "\n",
    "where hi is the height of individual i and wi is the weight (in kg) of individual i.\n",
    "The function for computing a natural log in R is just log. Can you interpret the resulting estimates?\n",
    "    \n",
    "(b)Begin with this plot:\n",
    "    plot( height ~ weight , data=Howell1 , col=col.alpha(\"slateblue\",0.4) )\n",
    "\n",
    "Then use samples from the quadratic approximate posterior of the model in \n",
    "    (a)to superimpose on the plot: \n",
    "    (1)the predicted mean height as a function of weight,\n",
    "    (2)the 95% HPDI for the mean,and\n",
    "    (3)the 95% HPDI for predicted heights.\n"
   ]
  },
  {
   "cell_type": "code",
   "execution_count": 28,
   "metadata": {
    "collapsed": true
   },
   "outputs": [],
   "source": [
    "log.model<-map(\n",
    "    alist(\n",
    "        height ~ dnorm(mu,sigma),\n",
    "        mu <- a + b*log(weight),\n",
    "        a~dnorm(0,10),\n",
    "        b~dnorm(0,10),\n",
    "        sigma ~ dunif(0,50)\n",
    "    ), data=dd\n",
    ")"
   ]
  },
  {
   "cell_type": "code",
   "execution_count": 29,
   "metadata": {},
   "outputs": [
    {
     "data": {
      "text/plain": [
       "\n",
       "Maximum a posteriori (MAP) model fit\n",
       "\n",
       "Formula:\n",
       "height ~ dnorm(mu, sigma)\n",
       "mu <- a + b * log(weight)\n",
       "a ~ dnorm(0, 10)\n",
       "b ~ dnorm(0, 10)\n",
       "sigma ~ dunif(0, 50)\n",
       "\n",
       "MAP values:\n",
       "         a          b      sigma \n",
       "-23.172969  46.900734   5.135828 \n",
       "\n",
       "Log-likelihood: -1662.02 "
      ]
     },
     "metadata": {},
     "output_type": "display_data"
    }
   ],
   "source": [
    "log.model"
   ]
  },
  {
   "cell_type": "code",
   "execution_count": 34,
   "metadata": {},
   "outputs": [
    {
     "data": {
      "text/html": [
       "3.8480333256496"
      ],
      "text/latex": [
       "3.8480333256496"
      ],
      "text/markdown": [
       "3.8480333256496"
      ],
      "text/plain": [
       "[1] 3.848033"
      ]
     },
     "metadata": {},
     "output_type": "display_data"
    }
   ],
   "source": [
    "log(46.900734) #increase 3cm for 1 unit of weight."
   ]
  },
  {
   "cell_type": "code",
   "execution_count": 54,
   "metadata": {},
   "outputs": [
    {
     "name": "stdout",
     "output_type": "stream",
     "text": [
      "[ 1000 / 1000 ]\n",
      "[ 1000 / 1000 ]\n"
     ]
    },
    {
     "data": {
      "image/png": "[encoded data removed]",
      "text/plain": [
       "plot without title"
      ]
     },
     "metadata": {},
     "output_type": "display_data"
    }
   ],
   "source": [
    "w.seq1<-seq(from=4.252,to=max(dd$weight) ,by=.5)\n",
    "plot( height ~ weight , data=dd , col=col.alpha(\"slateblue\",0.4) )\n",
    "mu11 <- link( log.model , data=data.frame(weight=w.seq1) )\n",
    "sim.height11 <- sim( log.model, data=data.frame(weight=w.seq1),   n=1e3  ) \n",
    "shade(apply( sim.height11 , 2 , HPDI, prob = 0.95 ),w.seq1)\n",
    "shade(apply( mu11 , 2 , HPDI, prob = 0.95 ),w.seq1)\n",
    "lines(w.seq1,sim.height11[1,])"
   ]
  },
  {
   "cell_type": "code",
   "execution_count": null,
   "metadata": {
    "collapsed": true
   },
   "outputs": [],
   "source": [
    "#Beta means that for every increase of 1 log-kg of weight,\n",
    "#you expect a increase of 47 cm of height. But what’s a log-kg? so it will scale differently"
   ]
  },
  {
   "cell_type": "code",
   "execution_count": null,
   "metadata": {
    "collapsed": true
   },
   "outputs": [],
   "source": []
  }
 ],
 "metadata": {
  "kernelspec": {
   "display_name": "R",
   "language": "R",
   "name": "ir"
  },
  "language_info": {
   "codemirror_mode": "r",
   "file_extension": ".r",
   "mimetype": "text/x-r-source",
   "name": "R",
   "pygments_lexer": "r",
   "version": "3.4.2"
  }
 },
 "nbformat": 4,
 "nbformat_minor": 2
}
