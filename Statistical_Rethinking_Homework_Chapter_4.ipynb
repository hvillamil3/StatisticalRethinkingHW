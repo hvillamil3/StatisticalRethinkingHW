{
 "cells": [
  {
   "cell_type": "code",
   "execution_count": 1,
   "metadata": {},
   "outputs": [
    {
     "name": "stderr",
     "output_type": "stream",
     "text": [
      "Loading required package: rstan\n",
      "Warning message:\n",
      "\"package 'rstan' was built under R version 3.3.2\"Loading required package: ggplot2\n",
      "Warning message:\n",
      "\"package 'ggplot2' was built under R version 3.3.2\"Loading required package: StanHeaders\n",
      "Warning message:\n",
      "\"package 'StanHeaders' was built under R version 3.3.2\"rstan (Version 2.13.2, packaged: 2016-12-18 07:04:42 UTC, GitRev: 5fa1e80eb817)\n",
      "For execution on a local, multicore CPU with excess RAM we recommend calling\n",
      "rstan_options(auto_write = TRUE)\n",
      "options(mc.cores = parallel::detectCores())\n",
      "Loading required package: parallel\n",
      "rethinking (Version 1.59)\n"
     ]
    }
   ],
   "source": [
    "library(rethinking)"
   ]
  },
  {
   "cell_type": "code",
   "execution_count": 56,
   "metadata": {},
   "outputs": [
    {
     "data": {
      "text/html": [
       "35.6106175924632"
      ],
      "text/latex": [
       "35.6106175924632"
      ],
      "text/markdown": [
       "35.6106175924632"
      ],
      "text/plain": [
       "[1] 35.61062"
      ]
     },
     "metadata": {},
     "output_type": "display_data"
    },
    {
     "data": {
      "text/html": [
       "14.71917817928"
      ],
      "text/latex": [
       "14.71917817928"
      ],
      "text/markdown": [
       "14.71917817928"
      ],
      "text/plain": [
       "[1] 14.71918"
      ]
     },
     "metadata": {},
     "output_type": "display_data"
    },
    {
     "data": {
      "text/html": [
       "138.263596323529"
      ],
      "text/latex": [
       "138.263596323529"
      ],
      "text/markdown": [
       "138.263596323529"
      ],
      "text/plain": [
       "[1] 138.2636"
      ]
     },
     "metadata": {},
     "output_type": "display_data"
    },
    {
     "data": {
      "text/html": [
       "27.6024476405647"
      ],
      "text/latex": [
       "27.6024476405647"
      ],
      "text/markdown": [
       "27.6024476405647"
      ],
      "text/plain": [
       "[1] 27.60245"
      ]
     },
     "metadata": {},
     "output_type": "display_data"
    },
    {
     "data": {
      "text/html": [
       "-2.71269775178313e-18"
      ],
      "text/latex": [
       "-2.71269775178313e-18"
      ],
      "text/markdown": [
       "-2.71269775178313e-18"
      ],
      "text/plain": [
       "[1] -2.712698e-18"
      ]
     },
     "metadata": {},
     "output_type": "display_data"
    },
    {
     "data": {
      "text/html": [
       "1"
      ],
      "text/latex": [
       "1"
      ],
      "text/markdown": [
       "1"
      ],
      "text/plain": [
       "[1] 1"
      ]
     },
     "metadata": {},
     "output_type": "display_data"
    }
   ],
   "source": [
    "data(Howell1) \n",
    "d <- Howell1\n",
    "mean(d$weight) \n",
    "sd(d$weight)\n",
    "weig.mmu <- 35.6106175924632\n",
    "weig.std <- 14.71917817928\n",
    "mean(d$height)\n",
    "sd(d$height)\n",
    "d$weight <- (d$weight - mean(d$weight)) /sd(d$weight)\n",
    "d$height <- (d$height - mean(d$height)) /sd(d$height)\n",
    "d$age <- (d$age - mean(d$age)) /sd(d$age)\n",
    "d$male <- (d$male - mean(d$male)) /sd(d$male)\n",
    "mean(d$weight) \n",
    "sd(d$weight)"
   ]
  },
  {
   "cell_type": "code",
   "execution_count": null,
   "metadata": {
    "collapsed": true
   },
   "outputs": [],
   "source": [
    "# 4.7.12. Missing heights. \n",
    "# The weights listed below were recorded\n",
    "# in the !Kung census, but heights were not recorded for these individuals.\n",
    "# Provide predicted heights and 90% confidence intervals (HPDI or PI)for each of these individuals.\n",
    "# That is, fill in the table below,using model-based predictions.\n",
    "# c(46.95, 43.72, 64.78, 32.59, 54.63)"
   ]
  },
  {
   "cell_type": "code",
   "execution_count": 45,
   "metadata": {},
   "outputs": [],
   "source": [
    "d2 <- d[ d$age >= -0.546799754299813  , ]\n",
    "# fit model \n",
    "m4.3 <- map( \n",
    "    alist( \n",
    "        height ~ dnorm( mu , sigma ),\n",
    "        mu <- a + b*weight ,#+ b1*male + b2*age ,\n",
    "        a ~ dnorm( 156 , 100 ) ,\n",
    "        b ~ dnorm( 0 , 10 ) , \n",
    "        #b1 ~ dnorm( 0 , 10 ) ,\n",
    "        #b2 ~ dnorm( 0 , 10 ) ,        \n",
    "        sigma ~ dunif( 0 , 50 ) ) ,\n",
    "    data=d2 , start=list( a=mean(d2$height) , sigma=sd(d2$height) , b=0 ) )"
   ]
  },
  {
   "cell_type": "code",
   "execution_count": 68,
   "metadata": {},
   "outputs": [
    {
     "name": "stdout",
     "output_type": "stream",
     "text": [
      "[ 1000 / 1000 ]\n",
      " num [1:1000, 1:5] -0.886 -0.872 -0.819 -0.925 -0.983 ...\n",
      "[ 1000 / 1000 ]\n",
      " num [1:1000, 1:5] -0.993 -0.886 -0.562 -0.96 -0.834 ...\n"
     ]
    }
   ],
   "source": [
    "# define sequence of weights to compute predictions for \n",
    "# these values will be on the horizontal axis \n",
    "weight.seq1 <- c(46.95, 43.72, 64.78, 32.59, 54.63)\n",
    "weight.seq <- (weight.seq-weig.mmu)/weig.std\n",
    "\n",
    "# use link to compute mu \n",
    "# for each sample from posterior \n",
    "# and for each weight in weight.seq \n",
    "mu <- link( m4.3 , data=list(weight=weight.seq) )\n",
    "str(mu)\n",
    "sim.height <- sim( m4.3 , data=list(weight=weight.seq) ) \n",
    "str(sim.height)"
   ]
  },
  {
   "cell_type": "code",
   "execution_count": 69,
   "metadata": {
    "collapsed": true
   },
   "outputs": [],
   "source": [
    "heightMU <- 138.263596323529\n",
    "heightSTD <- 27.6024476405647"
   ]
  },
  {
   "cell_type": "code",
   "execution_count": 70,
   "metadata": {},
   "outputs": [
    {
     "data": {
      "text/html": [
       "<ol class=list-inline>\n",
       "\t<li>114.628274028143</li>\n",
       "\t<li>114.429990867292</li>\n",
       "\t<li>115.722821631229</li>\n",
       "\t<li>113.746742700026</li>\n",
       "\t<li>115.099733679949</li>\n",
       "</ol>\n"
      ],
      "text/latex": [
       "\\begin{enumerate*}\n",
       "\\item 114.628274028143\n",
       "\\item 114.429990867292\n",
       "\\item 115.722821631229\n",
       "\\item 113.746742700026\n",
       "\\item 115.099733679949\n",
       "\\end{enumerate*}\n"
      ],
      "text/markdown": [
       "1. 114.628274028143\n",
       "2. 114.429990867292\n",
       "3. 115.722821631229\n",
       "4. 113.746742700026\n",
       "5. 115.099733679949\n",
       "\n",
       "\n"
      ],
      "text/plain": [
       "[1] 114.6283 114.4300 115.7228 113.7467 115.0997"
      ]
     },
     "metadata": {},
     "output_type": "display_data"
    },
    {
     "data": {
      "text/html": [
       "<ol class=list-inline>\n",
       "\t<li>112.064788991601</li>\n",
       "\t<li>117.717800688126</li>\n",
       "\t<li>111.854641406058</li>\n",
       "\t<li>117.534861645797</li>\n",
       "\t<li>113.224829688266</li>\n",
       "\t<li>118.728423037655</li>\n",
       "\t<li>111.125066762224</li>\n",
       "\t<li>116.904486555666</li>\n",
       "\t<li>112.56445879252</li>\n",
       "\t<li>118.152776491558</li>\n",
       "</ol>\n"
      ],
      "text/latex": [
       "\\begin{enumerate*}\n",
       "\\item 112.064788991601\n",
       "\\item 117.717800688126\n",
       "\\item 111.854641406058\n",
       "\\item 117.534861645797\n",
       "\\item 113.224829688266\n",
       "\\item 118.728423037655\n",
       "\\item 111.125066762224\n",
       "\\item 116.904486555666\n",
       "\\item 112.56445879252\n",
       "\\item 118.152776491558\n",
       "\\end{enumerate*}\n"
      ],
      "text/markdown": [
       "1. 112.064788991601\n",
       "2. 117.717800688126\n",
       "3. 111.854641406058\n",
       "4. 117.534861645797\n",
       "5. 113.224829688266\n",
       "6. 118.728423037655\n",
       "7. 111.125066762224\n",
       "8. 116.904486555666\n",
       "9. 112.56445879252\n",
       "10. 118.152776491558\n",
       "\n",
       "\n"
      ],
      "text/plain": [
       " [1] 112.0648 117.7178 111.8546 117.5349 113.2248 118.7284 111.1251 116.9045\n",
       " [9] 112.5645 118.1528"
      ]
     },
     "metadata": {},
     "output_type": "display_data"
    },
    {
     "data": {
      "text/html": [
       "<ol class=list-inline>\n",
       "\t<li>114.739037065926</li>\n",
       "\t<li>114.352179655071</li>\n",
       "\t<li>115.655711704703</li>\n",
       "\t<li>113.707792538087</li>\n",
       "\t<li>115.078862357679</li>\n",
       "</ol>\n"
      ],
      "text/latex": [
       "\\begin{enumerate*}\n",
       "\\item 114.739037065926\n",
       "\\item 114.352179655071\n",
       "\\item 115.655711704703\n",
       "\\item 113.707792538087\n",
       "\\item 115.078862357679\n",
       "\\end{enumerate*}\n"
      ],
      "text/markdown": [
       "1. 114.739037065926\n",
       "2. 114.352179655071\n",
       "3. 115.655711704703\n",
       "4. 113.707792538087\n",
       "5. 115.078862357679\n",
       "\n",
       "\n"
      ],
      "text/plain": [
       "[1] 114.7390 114.3522 115.6557 113.7078 115.0789"
      ]
     },
     "metadata": {},
     "output_type": "display_data"
    },
    {
     "data": {
      "text/html": [
       "<ol class=list-inline>\n",
       "\t<li>105.696931667129</li>\n",
       "\t<li>122.873396260553</li>\n",
       "\t<li>106.506346785014</li>\n",
       "\t<li>123.877526667235</li>\n",
       "\t<li>107.326948719501</li>\n",
       "\t<li>124.072379015316</li>\n",
       "\t<li>105.876015883502</li>\n",
       "\t<li>122.857482439344</li>\n",
       "\t<li>106.320504736937</li>\n",
       "\t<li>123.158382459453</li>\n",
       "</ol>\n"
      ],
      "text/latex": [
       "\\begin{enumerate*}\n",
       "\\item 105.696931667129\n",
       "\\item 122.873396260553\n",
       "\\item 106.506346785014\n",
       "\\item 123.877526667235\n",
       "\\item 107.326948719501\n",
       "\\item 124.072379015316\n",
       "\\item 105.876015883502\n",
       "\\item 122.857482439344\n",
       "\\item 106.320504736937\n",
       "\\item 123.158382459453\n",
       "\\end{enumerate*}\n"
      ],
      "text/markdown": [
       "1. 105.696931667129\n",
       "2. 122.873396260553\n",
       "3. 106.506346785014\n",
       "4. 123.877526667235\n",
       "5. 107.326948719501\n",
       "6. 124.072379015316\n",
       "7. 105.876015883502\n",
       "8. 122.857482439344\n",
       "9. 106.320504736937\n",
       "10. 123.158382459453\n",
       "\n",
       "\n"
      ],
      "text/plain": [
       " [1] 105.6969 122.8734 106.5063 123.8775 107.3269 124.0724 105.8760 122.8575\n",
       " [9] 106.3205 123.1584"
      ]
     },
     "metadata": {},
     "output_type": "display_data"
    }
   ],
   "source": [
    "c(apply( mu , 2 , mean ) )*heightSTD + heightMU \n",
    "c(apply( mu , 2 , HPDI ) )*heightSTD + heightMU \n",
    "\n",
    "#Missing Height Answer:\n",
    "c(apply( sim.height , 2 , mean ) )*heightSTD + heightMU \n",
    "c(apply( sim.height , 2 , HPDI ) )*heightSTD + heightMU "
   ]
  }
 ],
 "metadata": {
  "kernelspec": {
   "display_name": "R",
   "language": "R",
   "name": "ir"
  },
  "language_info": {
   "codemirror_mode": "r",
   "file_extension": ".r",
   "mimetype": "text/x-r-source",
   "name": "R",
   "pygments_lexer": "r",
   "version": "3.3.1"
  }
 },
 "nbformat": 4,
 "nbformat_minor": 2
}
