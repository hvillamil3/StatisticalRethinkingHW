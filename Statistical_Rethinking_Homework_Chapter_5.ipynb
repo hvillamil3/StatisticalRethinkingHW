{
 "cells": [
  {
   "cell_type": "code",
   "execution_count": 101,
   "metadata": {},
   "outputs": [],
   "source": [
    "library(rethinking)\n",
    "#options(repr.plot.width = 1, repr.plot.height = 0.75)"
   ]
  },
  {
   "cell_type": "code",
   "execution_count": 102,
   "metadata": {
    "collapsed": true
   },
   "outputs": [],
   "source": [
    "data(foxes)"
   ]
  },
  {
   "cell_type": "raw",
   "metadata": {
    "collapsed": true
   },
   "source": [
    "All three exercises below use the same data, data(foxes)(partof rethinking).\n",
    "The urban fox (Vulpesvulpes) is a successful exploiter of human habitat.\n",
    "\n",
    "Since urban foxes move in packs and defend territories, data on habitat quality and population density is also included. The dataframe has five columns: \n",
    "\n",
    "            (1) group: Number of the social group the individual fox belongs to\n",
    "            (2) avgfood: The average amount of food available in the territory\n",
    "            (3) groupsize: The number of foxes in the social group\n",
    "            (4) area: Size of the territory \n",
    "            (5) weight: Body weight of the individual fox"
   ]
  },
  {
   "cell_type": "code",
   "execution_count": 103,
   "metadata": {
    "collapsed": true
   },
   "outputs": [],
   "source": [
    "Fx <- foxes"
   ]
  },
  {
   "cell_type": "code",
   "execution_count": 104,
   "metadata": {
    "collapsed": true
   },
   "outputs": [],
   "source": [
    "Fx$avgfood.s <- (Fx$avgfood - mean(Fx$avgfood))/sd(Fx$avgfood)\n",
    "Fx$groupsize.s <- (Fx$groupsize - mean(Fx$groupsize))/sd(Fx$groupsize)\n",
    "Fx$area.s <- (Fx$area - mean(Fx$area))/sd(Fx$area)\n",
    "Fx$weight.s <- (Fx$weight - mean(Fx$weight))/sd(Fx$weight) #not neccessary for output"
   ]
  },
  {
   "cell_type": "code",
   "execution_count": 205,
   "metadata": {},
   "outputs": [],
   "source": [
    "mm.area <- scale(Fx$weight.s, center = TRUE, scale = TRUE)\n",
    "#mm.area[0:3]"
   ]
  },
  {
   "cell_type": "code",
   "execution_count": 105,
   "metadata": {},
   "outputs": [
    {
     "data": {
      "text/html": [
       "<table>\n",
       "<thead><tr><th scope=col>group</th><th scope=col>avgfood</th><th scope=col>groupsize</th><th scope=col>area</th><th scope=col>weight</th><th scope=col>avgfood.s</th><th scope=col>groupsize.s</th><th scope=col>area.s</th><th scope=col>weight.s</th></tr></thead>\n",
       "<tbody>\n",
       "\t<tr><td>1         </td><td>0.37      </td><td>2         </td><td>1.09      </td><td>5.02      </td><td>-1.924829 </td><td>-1.524089 </td><td>-2.239596 </td><td> 0.4141347</td></tr>\n",
       "\t<tr><td>1         </td><td>0.37      </td><td>2         </td><td>1.09      </td><td>2.84      </td><td>-1.924829 </td><td>-1.524089 </td><td>-2.239596 </td><td>-1.4270464</td></tr>\n",
       "\t<tr><td>2         </td><td>0.53      </td><td>2         </td><td>2.05      </td><td>5.33      </td><td>-1.118035 </td><td>-1.524089 </td><td>-1.205508 </td><td> 0.6759540</td></tr>\n",
       "\t<tr><td>2         </td><td>0.53      </td><td>2         </td><td>2.05      </td><td>6.07      </td><td>-1.118035 </td><td>-1.524089 </td><td>-1.205508 </td><td> 1.3009421</td></tr>\n",
       "\t<tr><td>3         </td><td>0.49      </td><td>2         </td><td>2.12      </td><td>5.85      </td><td>-1.319734 </td><td>-1.524089 </td><td>-1.130106 </td><td> 1.1151348</td></tr>\n",
       "\t<tr><td>3         </td><td>0.49      </td><td>2         </td><td>2.12      </td><td>3.25      </td><td>-1.319734 </td><td>-1.524089 </td><td>-1.130106 </td><td>-1.0807692</td></tr>\n",
       "</tbody>\n",
       "</table>\n"
      ],
      "text/latex": [
       "\\begin{tabular}{r|lllllllll}\n",
       " group & avgfood & groupsize & area & weight & avgfood.s & groupsize.s & area.s & weight.s\\\\\n",
       "\\hline\n",
       "\t 1          & 0.37       & 2          & 1.09       & 5.02       & -1.924829  & -1.524089  & -2.239596  &  0.4141347\\\\\n",
       "\t 1          & 0.37       & 2          & 1.09       & 2.84       & -1.924829  & -1.524089  & -2.239596  & -1.4270464\\\\\n",
       "\t 2          & 0.53       & 2          & 2.05       & 5.33       & -1.118035  & -1.524089  & -1.205508  &  0.6759540\\\\\n",
       "\t 2          & 0.53       & 2          & 2.05       & 6.07       & -1.118035  & -1.524089  & -1.205508  &  1.3009421\\\\\n",
       "\t 3          & 0.49       & 2          & 2.12       & 5.85       & -1.319734  & -1.524089  & -1.130106  &  1.1151348\\\\\n",
       "\t 3          & 0.49       & 2          & 2.12       & 3.25       & -1.319734  & -1.524089  & -1.130106  & -1.0807692\\\\\n",
       "\\end{tabular}\n"
      ],
      "text/markdown": [
       "\n",
       "group | avgfood | groupsize | area | weight | avgfood.s | groupsize.s | area.s | weight.s | \n",
       "|---|---|---|---|---|---|\n",
       "| 1          | 0.37       | 2          | 1.09       | 5.02       | -1.924829  | -1.524089  | -2.239596  |  0.4141347 | \n",
       "| 1          | 0.37       | 2          | 1.09       | 2.84       | -1.924829  | -1.524089  | -2.239596  | -1.4270464 | \n",
       "| 2          | 0.53       | 2          | 2.05       | 5.33       | -1.118035  | -1.524089  | -1.205508  |  0.6759540 | \n",
       "| 2          | 0.53       | 2          | 2.05       | 6.07       | -1.118035  | -1.524089  | -1.205508  |  1.3009421 | \n",
       "| 3          | 0.49       | 2          | 2.12       | 5.85       | -1.319734  | -1.524089  | -1.130106  |  1.1151348 | \n",
       "| 3          | 0.49       | 2          | 2.12       | 3.25       | -1.319734  | -1.524089  | -1.130106  | -1.0807692 | \n",
       "\n",
       "\n"
      ],
      "text/plain": [
       "  group avgfood groupsize area weight avgfood.s groupsize.s area.s   \n",
       "1 1     0.37    2         1.09 5.02   -1.924829 -1.524089   -2.239596\n",
       "2 1     0.37    2         1.09 2.84   -1.924829 -1.524089   -2.239596\n",
       "3 2     0.53    2         2.05 5.33   -1.118035 -1.524089   -1.205508\n",
       "4 2     0.53    2         2.05 6.07   -1.118035 -1.524089   -1.205508\n",
       "5 3     0.49    2         2.12 5.85   -1.319734 -1.524089   -1.130106\n",
       "6 3     0.49    2         2.12 3.25   -1.319734 -1.524089   -1.130106\n",
       "  weight.s  \n",
       "1  0.4141347\n",
       "2 -1.4270464\n",
       "3  0.6759540\n",
       "4  1.3009421\n",
       "5  1.1151348\n",
       "6 -1.0807692"
      ]
     },
     "metadata": {},
     "output_type": "display_data"
    }
   ],
   "source": [
    "head(Fx)"
   ]
  },
  {
   "cell_type": "code",
   "execution_count": 106,
   "metadata": {},
   "outputs": [
    {
     "data": {
      "text/plain": [
       "    Min.  1st Qu.   Median     Mean  3rd Qu.     Max. \n",
       "-2.24000 -0.62380 -0.04216  0.00000  0.64990  2.04800 "
      ]
     },
     "metadata": {},
     "output_type": "display_data"
    }
   ],
   "source": [
    "summary(Fx$area.s)"
   ]
  },
  {
   "cell_type": "raw",
   "metadata": {},
   "source": [
    "5.7.10. Bivariate entrée. Fit two bivariate Gaussian regressions,using map: \n",
    "    \n",
    "    (1)bodyweight as a linear function of territory size (area)\n",
    "    , and \n",
    "    (2) body weight as a linear function of groupsize.\n",
    "\n",
    "Plot the results of these regressions, displaying the MAP regression line and the 95% confidence interval of the mean. Is either variable important for predicting fox body weight? "
   ]
  },
  {
   "cell_type": "code",
   "execution_count": 107,
   "metadata": {},
   "outputs": [
    {
     "name": "stdout",
     "output_type": "stream",
     "text": [
      "[ 1000 / 1000 ]\n",
      "[ 10000 / 10000 ]\n"
     ]
    }
   ],
   "source": [
    "#(1)\n",
    "area.Model <- map( \n",
    "    alist( \n",
    "        weight ~ dnorm( mu , sigma ),\n",
    "        mu <- a + b * area.s ,\n",
    "        a ~ dnorm( 4 , 100 ) ,\n",
    "        b ~ dnorm( 0 , 10 ) ,       \n",
    "        sigma ~ dunif( 0 , 50 ) ) ,\n",
    "    data=Fx , start=list( a=mean(Fx$weight) , sigma=sd(Fx$weight) , b=0 ) )\n",
    "\n",
    "area.seq<-seq(from=min(Fx$area.s) ,to=max(Fx$area.s) ,by=.5)\n",
    "\n",
    "#Draw parameter samples from posterior. There's variance/uncertainty in mu.\n",
    "mu <- link( area.Model , data=data.frame(area.s=area.seq) )\n",
    "#Draw Prediction Simulations from psterior. There's variance/uncertainty in prediction/outcome.\n",
    "sim.weight <- sim( area.Model , data=data.frame(area.s=area.seq),   n=1e4  )"
   ]
  },
  {
   "cell_type": "code",
   "execution_count": 108,
   "metadata": {},
   "outputs": [
    {
     "data": {
      "text/html": [
       "<dl class=dl-horizontal>\n",
       "\t<dt>|0.97</dt>\n",
       "\t\t<dd>1.95367189338309</dd>\n",
       "\t<dt>|0.89</dt>\n",
       "\t\t<dd>2.53621579686746</dd>\n",
       "\t<dt>|0.5</dt>\n",
       "\t\t<dd>3.66784758869427</dd>\n",
       "\t<dt>0.5|</dt>\n",
       "\t\t<dd>3.60285413360182</dd>\n",
       "\t<dt>0.89|</dt>\n",
       "\t\t<dd>2.53287183350479</dd>\n",
       "\t<dt>0.97|</dt>\n",
       "\t\t<dd>1.83649656585367</dd>\n",
       "</dl>\n"
      ],
      "text/latex": [
       "\\begin{description*}\n",
       "\\item[\\textbackslash{}textbar\\{\\}0.97] 1.95367189338309\n",
       "\\item[\\textbackslash{}textbar\\{\\}0.89] 2.53621579686746\n",
       "\\item[\\textbackslash{}textbar\\{\\}0.5] 3.66784758869427\n",
       "\\item[0.5\\textbackslash{}textbar\\{\\}] 3.60285413360182\n",
       "\\item[0.89\\textbackslash{}textbar\\{\\}] 2.53287183350479\n",
       "\\item[0.97\\textbackslash{}textbar\\{\\}] 1.83649656585367\n",
       "\\end{description*}\n"
      ],
      "text/markdown": [
       "|0.97\n",
       ":   1.95367189338309|0.89\n",
       ":   2.53621579686746|0.5\n",
       ":   3.667847588694270.5|\n",
       ":   3.602854133601820.89|\n",
       ":   2.532871833504790.97|\n",
       ":   1.83649656585367\n",
       "\n"
      ],
      "text/plain": [
       "   |0.97    |0.89     |0.5     0.5|    0.89|    0.97| \n",
       "1.953672 2.536216 3.667848 3.602854 2.532872 1.836497 "
      ]
     },
     "metadata": {},
     "output_type": "display_data"
    },
    {
     "data": {
      "text/html": [
       "<dl class=dl-horizontal>\n",
       "\t<dt>|0.97</dt>\n",
       "\t\t<dd>1.92</dd>\n",
       "\t<dt>|0.89</dt>\n",
       "\t\t<dd>2.78</dd>\n",
       "\t<dt>|0.5</dt>\n",
       "\t\t<dd>3.25</dd>\n",
       "\t<dt>0.5|</dt>\n",
       "\t\t<dd>4.84</dd>\n",
       "\t<dt>0.89|</dt>\n",
       "\t\t<dd>6.31</dd>\n",
       "\t<dt>0.97|</dt>\n",
       "\t\t<dd>6.86</dd>\n",
       "</dl>\n"
      ],
      "text/latex": [
       "\\begin{description*}\n",
       "\\item[\\textbackslash{}textbar\\{\\}0.97] 1.92\n",
       "\\item[\\textbackslash{}textbar\\{\\}0.89] 2.78\n",
       "\\item[\\textbackslash{}textbar\\{\\}0.5] 3.25\n",
       "\\item[0.5\\textbackslash{}textbar\\{\\}] 4.84\n",
       "\\item[0.89\\textbackslash{}textbar\\{\\}] 6.31\n",
       "\\item[0.97\\textbackslash{}textbar\\{\\}] 6.86\n",
       "\\end{description*}\n"
      ],
      "text/markdown": [
       "|0.97\n",
       ":   1.92|0.89\n",
       ":   2.78|0.5\n",
       ":   3.250.5|\n",
       ":   4.840.89|\n",
       ":   6.310.97|\n",
       ":   6.86\n",
       "\n"
      ],
      "text/plain": [
       "|0.97 |0.89  |0.5  0.5| 0.89| 0.97| \n",
       " 1.92  2.78  3.25  4.84  6.31  6.86 "
      ]
     },
     "metadata": {},
     "output_type": "display_data"
    }
   ],
   "source": [
    "HPDI(samples = sim.weight, prob = c(.5, .89, .97))\n",
    "HPDI(samples = Fx$weight,prob = c(.5, .89, .97) )"
   ]
  },
  {
   "cell_type": "code",
   "execution_count": 109,
   "metadata": {},
   "outputs": [
    {
     "data": {
      "text/html": [
       "4.52965517241379"
      ],
      "text/latex": [
       "4.52965517241379"
      ],
      "text/markdown": [
       "4.52965517241379"
      ],
      "text/plain": [
       "[1] 4.529655"
      ]
     },
     "metadata": {},
     "output_type": "display_data"
    },
    {
     "data": {
      "text/html": [
       "4.52294257412685"
      ],
      "text/latex": [
       "4.52294257412685"
      ],
      "text/markdown": [
       "4.52294257412685"
      ],
      "text/plain": [
       "[1] 4.522943"
      ]
     },
     "metadata": {},
     "output_type": "display_data"
    }
   ],
   "source": [
    "mean(Fx$weight)\n",
    "mean(sim.weight)"
   ]
  },
  {
   "cell_type": "code",
   "execution_count": 110,
   "metadata": {},
   "outputs": [
    {
     "data": {
      "text/plain": [
       "\n",
       "Maximum a posteriori (MAP) model fit\n",
       "\n",
       "Formula:\n",
       "weight ~ dnorm(mu, sigma)\n",
       "mu <- a + b * area.s\n",
       "a ~ dnorm(4, 100)\n",
       "b ~ dnorm(0, 10)\n",
       "sigma ~ dunif(0, 50)\n",
       "\n",
       "MAP values:\n",
       "        a     sigma         b \n",
       "4.5296347 1.1786856 0.0230584 \n",
       "\n",
       "Log-likelihood: -183.67 "
      ]
     },
     "metadata": {},
     "output_type": "display_data"
    }
   ],
   "source": [
    "area.Model"
   ]
  },
  {
   "cell_type": "code",
   "execution_count": 111,
   "metadata": {},
   "outputs": [
    {
     "data": {
      "image/png": "[encoded data removed]",
      "text/plain": [
       "plot without title"
      ]
     },
     "metadata": {},
     "output_type": "display_data"
    }
   ],
   "source": [
    "plot(weight~area.s, Fx)\n",
    "lines(area.seq,apply( mu , 2 , mean ), lty=2)\n",
    "shade(apply( sim.weight , 2 , HPDI, prob = 0.9 ),area.seq)\n",
    "shade(apply( mu , 2 , HPDI, prob = 0.9 ),area.seq)"
   ]
  },
  {
   "cell_type": "code",
   "execution_count": 112,
   "metadata": {},
   "outputs": [
    {
     "name": "stdout",
     "output_type": "stream",
     "text": [
      "[ 1000 / 1000 ]\n",
      "[ 10000 / 10000 ]\n"
     ]
    }
   ],
   "source": [
    "#(2) \n",
    "groupsize.Model <- map( \n",
    "    alist( \n",
    "        weight ~ dnorm( mu , sigma ),\n",
    "        mu <- a + b*groupsize.s ,\n",
    "        a ~ dnorm( 4 , 100 ) ,\n",
    "        b ~ dnorm( 0 , 10 ) ,       \n",
    "        sigma ~ dunif( 0 , 50 ) ) ,\n",
    "    data=Fx , start=list( a=mean(Fx$weight) , sigma=sd(Fx$weight) , b=0 ) )\n",
    "\n",
    "size.seq<-seq(from= min(Fx$groupsize.s),to= max(Fx$groupsize.s),by=.5)\n",
    "\n",
    "#Draw parameter samples from posterior. There's variance/uncertainty in mu.\n",
    "mu1 <- link( groupsize.Model , data=data.frame(groupsize.s=size.seq) )\n",
    "#Draw Prediction Simulations from psterior. There's variance/uncertainty in prediction/outcome.\n",
    "sim.weight1 <- sim( groupsize.Model , data=data.frame(groupsize.s=size.seq),   n=1e4  ) "
   ]
  },
  {
   "cell_type": "code",
   "execution_count": 113,
   "metadata": {},
   "outputs": [
    {
     "data": {
      "text/html": [
       "<dl class=dl-horizontal>\n",
       "\t<dt>|0.97</dt>\n",
       "\t\t<dd>2.43155832587364</dd>\n",
       "\t<dt>|0.89</dt>\n",
       "\t\t<dd>2.91079409337767</dd>\n",
       "\t<dt>|0.5</dt>\n",
       "\t\t<dd>3.85195143659392</dd>\n",
       "\t<dt>0.5|</dt>\n",
       "\t\t<dd>3.96225412472987</dd>\n",
       "\t<dt>0.89|</dt>\n",
       "\t\t<dd>2.79327297691669</dd>\n",
       "\t<dt>0.97|</dt>\n",
       "\t\t<dd>2.30804878872007</dd>\n",
       "</dl>\n"
      ],
      "text/latex": [
       "\\begin{description*}\n",
       "\\item[\\textbackslash{}textbar\\{\\}0.97] 2.43155832587364\n",
       "\\item[\\textbackslash{}textbar\\{\\}0.89] 2.91079409337767\n",
       "\\item[\\textbackslash{}textbar\\{\\}0.5] 3.85195143659392\n",
       "\\item[0.5\\textbackslash{}textbar\\{\\}] 3.96225412472987\n",
       "\\item[0.89\\textbackslash{}textbar\\{\\}] 2.79327297691669\n",
       "\\item[0.97\\textbackslash{}textbar\\{\\}] 2.30804878872007\n",
       "\\end{description*}\n"
      ],
      "text/markdown": [
       "|0.97\n",
       ":   2.43155832587364|0.89\n",
       ":   2.91079409337767|0.5\n",
       ":   3.851951436593920.5|\n",
       ":   3.962254124729870.89|\n",
       ":   2.793272976916690.97|\n",
       ":   2.30804878872007\n",
       "\n"
      ],
      "text/plain": [
       "   |0.97    |0.89     |0.5     0.5|    0.89|    0.97| \n",
       "2.431558 2.910794 3.851951 3.962254 2.793273 2.308049 "
      ]
     },
     "metadata": {},
     "output_type": "display_data"
    },
    {
     "data": {
      "text/html": [
       "<dl class=dl-horizontal>\n",
       "\t<dt>|0.97</dt>\n",
       "\t\t<dd>1.92</dd>\n",
       "\t<dt>|0.89</dt>\n",
       "\t\t<dd>2.78</dd>\n",
       "\t<dt>|0.5</dt>\n",
       "\t\t<dd>3.25</dd>\n",
       "\t<dt>0.5|</dt>\n",
       "\t\t<dd>4.84</dd>\n",
       "\t<dt>0.89|</dt>\n",
       "\t\t<dd>6.31</dd>\n",
       "\t<dt>0.97|</dt>\n",
       "\t\t<dd>6.86</dd>\n",
       "</dl>\n"
      ],
      "text/latex": [
       "\\begin{description*}\n",
       "\\item[\\textbackslash{}textbar\\{\\}0.97] 1.92\n",
       "\\item[\\textbackslash{}textbar\\{\\}0.89] 2.78\n",
       "\\item[\\textbackslash{}textbar\\{\\}0.5] 3.25\n",
       "\\item[0.5\\textbackslash{}textbar\\{\\}] 4.84\n",
       "\\item[0.89\\textbackslash{}textbar\\{\\}] 6.31\n",
       "\\item[0.97\\textbackslash{}textbar\\{\\}] 6.86\n",
       "\\end{description*}\n"
      ],
      "text/markdown": [
       "|0.97\n",
       ":   1.92|0.89\n",
       ":   2.78|0.5\n",
       ":   3.250.5|\n",
       ":   4.840.89|\n",
       ":   6.310.97|\n",
       ":   6.86\n",
       "\n"
      ],
      "text/plain": [
       "|0.97 |0.89  |0.5  0.5| 0.89| 0.97| \n",
       " 1.92  2.78  3.25  4.84  6.31  6.86 "
      ]
     },
     "metadata": {},
     "output_type": "display_data"
    }
   ],
   "source": [
    "HPDI(samples = sim.weight1, prob = c(.5, .89, .97))\n",
    "HPDI(samples = Fx$weight,prob = c(.5, .89, .97) )"
   ]
  },
  {
   "cell_type": "code",
   "execution_count": 114,
   "metadata": {},
   "outputs": [
    {
     "data": {
      "text/html": [
       "4.52965517241379"
      ],
      "text/latex": [
       "4.52965517241379"
      ],
      "text/markdown": [
       "4.52965517241379"
      ],
      "text/plain": [
       "[1] 4.529655"
      ]
     },
     "metadata": {},
     "output_type": "display_data"
    },
    {
     "data": {
      "text/html": [
       "4.48416579540393"
      ],
      "text/latex": [
       "4.48416579540393"
      ],
      "text/markdown": [
       "4.48416579540393"
      ],
      "text/plain": [
       "[1] 4.484166"
      ]
     },
     "metadata": {},
     "output_type": "display_data"
    }
   ],
   "source": [
    "mean(Fx$weight)\n",
    "mean(sim.weight1)"
   ]
  },
  {
   "cell_type": "code",
   "execution_count": 115,
   "metadata": {},
   "outputs": [
    {
     "data": {
      "text/plain": [
       "\n",
       "Maximum a posteriori (MAP) model fit\n",
       "\n",
       "Formula:\n",
       "weight ~ dnorm(mu, sigma)\n",
       "mu <- a + b * groupsize.s\n",
       "a ~ dnorm(4, 100)\n",
       "b ~ dnorm(0, 10)\n",
       "sigma ~ dunif(0, 50)\n",
       "\n",
       "MAP values:\n",
       "         a      sigma          b \n",
       " 4.5296747  1.1635647 -0.1906151 \n",
       "\n",
       "Log-likelihood: -182.17 "
      ]
     },
     "metadata": {},
     "output_type": "display_data"
    }
   ],
   "source": [
    "groupsize.Model"
   ]
  },
  {
   "cell_type": "code",
   "execution_count": 116,
   "metadata": {},
   "outputs": [
    {
     "data": {
      "image/png": "[encoded data removed]",
      "text/plain": [
       "plot without title"
      ]
     },
     "metadata": {},
     "output_type": "display_data"
    }
   ],
   "source": [
    "plot(weight~groupsize.s, Fx)\n",
    "lines(size.seq,apply( mu1 , 2 , mean ), lty=2)\n",
    "shade(apply( sim.weight1 , 2 , HPDI, prob = 0.9 ),size.seq)\n",
    "shade(apply( mu1 , 2 , HPDI, prob = 0.9 ),size.seq)"
   ]
  },
  {
   "cell_type": "raw",
   "metadata": {},
   "source": [
    "5.7.11. Multivariate course. \n",
    "\n",
    "Now fit a multiple linear regression with weight as the outcome and both area and group size as predictor variables. \n",
    "\n",
    "Plot the predictions of the model for each predictor, holding the other predictor constantat its mean. \n",
    "\n",
    "What does this model say about the importance of each variable? \n",
    "\n",
    "Why do you get diﬀerent results than you got in exercise just above?"
   ]
  },
  {
   "cell_type": "code",
   "execution_count": 117,
   "metadata": {
    "collapsed": true
   },
   "outputs": [],
   "source": [
    "#(1) \n",
    "Multi.Model <- map( \n",
    "    alist( \n",
    "        weight ~ dnorm( mu , sigma ),\n",
    "        mu <- a + b*area.s +b1*groupsize.s,\n",
    "        a ~ dnorm( 4 , 100 ) ,\n",
    "        b ~ dnorm( 0 , 10 ) , \n",
    "        b1 ~ dnorm( 0 , 10 ) , \n",
    "        sigma ~ dunif( 0 , 50 ) ) ,\n",
    "    data=Fx , start=list( a=mean(Fx$weight) , sigma=sd(Fx$weight) , b=0 ,b1=0) )"
   ]
  },
  {
   "cell_type": "code",
   "execution_count": 118,
   "metadata": {},
   "outputs": [
    {
     "data": {
      "text/plain": [
       "\n",
       "Maximum a posteriori (MAP) model fit\n",
       "\n",
       "Formula:\n",
       "weight ~ dnorm(mu, sigma)\n",
       "mu <- a + b * area.s + b1 * groupsize.s\n",
       "a ~ dnorm(4, 100)\n",
       "b ~ dnorm(0, 10)\n",
       "b1 ~ dnorm(0, 10)\n",
       "sigma ~ dunif(0, 50)\n",
       "\n",
       "MAP values:\n",
       "         a      sigma          b         b1 \n",
       " 4.5296556  1.1184493  0.5734813 -0.6651597 \n",
       "\n",
       "Log-likelihood: -177.58 "
      ]
     },
     "metadata": {},
     "output_type": "display_data"
    }
   ],
   "source": [
    "Multi.Model"
   ]
  },
  {
   "cell_type": "raw",
   "metadata": {},
   "source": [
    "Counterfactual Plots ( example for bivariate model, standardized variables, and already fit multivariate model)\n",
    "\n",
    "Shows implied predicitons for a given imagined scenario. Predictor variables can be changed independently.\n",
    "\n",
    "Steps:\n",
    "\n",
    "1) Create random sequence of variable to draw parameter samples\n",
    "2) Draw parameter samples from posterior: \n",
    "    Pass sequence through postierior using sequence from step 1 and the mean of the other variable\n",
    "3) Draw Prediction Simulations from posterior.\n",
    "    Pass sequence through postierior using sequence from step 1 and the mean of the other variable.\n",
    "4) Repeat steps 1-3 for other variables."
   ]
  },
  {
   "cell_type": "code",
   "execution_count": 119,
   "metadata": {},
   "outputs": [
    {
     "name": "stdout",
     "output_type": "stream",
     "text": [
      "[ 1000 / 1000 ]\n",
      "[ 10000 / 10000 ]\n"
     ]
    },
    {
     "data": {
      "image/png": "[encoded data removed]",
      "text/plain": [
       "plot without title"
      ]
     },
     "metadata": {},
     "output_type": "display_data"
    }
   ],
   "source": [
    "size.seq<-seq(from=min(Fx$groupsize.s),to=max(Fx$groupsize.s), length.out=1e3)\n",
    "#Draw parameter samples from posterior. There's variance/uncertainty in mu.\n",
    "mu.multi <- link( Multi.Model , data=data.frame(groupsize.s=size.seq,area.s=mean(Fx$area.s) ) )\n",
    "#Draw Prediction Simulations from posterior. There's variance/uncertainty in prediction/outcome.\n",
    "sim.weight.Multi <- sim( Multi.Model , data=data.frame(groupsize.s=size.seq, area.s=mean(Fx$area.s) ),   n=1e4  ) \n",
    "#display\n",
    "plot(weight~groupsize.s, Fx , type=\"n\")\n",
    "mtext(\"Area at mean\")\n",
    "lines(size.seq , apply(mu.multi, 2, mean))\n",
    "shade(apply( mu.multi , 2, PI) , size.seq  )\n",
    "shade(apply( sim.weight.Multi , 2, PI) , size.seq  )"
   ]
  },
  {
   "cell_type": "code",
   "execution_count": 120,
   "metadata": {},
   "outputs": [
    {
     "name": "stdout",
     "output_type": "stream",
     "text": [
      "[ 1000 / 1000 ]\n",
      "[ 10000 / 10000 ]\n"
     ]
    },
    {
     "data": {
      "image/png": "[encoded data removed]",
      "text/plain": [
       "plot without title"
      ]
     },
     "metadata": {},
     "output_type": "display_data"
    }
   ],
   "source": [
    "area.seq<-seq(from=min(Fx$area.s),to=max(Fx$area.s), length.out=1e3)\n",
    "#Draw parameter samples from posterior. There's variance/uncertainty in mu.\n",
    "mu.multi2 <- link( Multi.Model , data=data.frame(groupsize.s=mean(Fx$groupsize.s),area.s=area.seq ) )\n",
    "#Draw Prediction Simulations from psterior. There's variance/uncertainty in prediction/outcome.\n",
    "sim.weight.Multi2 <- sim( Multi.Model , data=data.frame(groupsize.s=mean(Fx$groupsize.s), area.s=area.seq ),   n=1e4  ) \n",
    "\n",
    "\n",
    "Multi2.pi <- apply(sim.weight.Multi2 , 2 , PI)\n",
    "#display\n",
    "plot(weight~area.s, Fx , type=\"n\")\n",
    "mtext(\"groupsize at mean\")\n",
    "lines(area.seq , apply(mu.multi2, 2, mean))\n",
    "shade(apply( mu.multi2 , 2, PI) , area.seq  )\n",
    "shade(apply( sim.weight.Multi2 , 2, PI) , area.seq  )"
   ]
  },
  {
   "cell_type": "raw",
   "metadata": {},
   "source": [
    "Predictor residual plots ( example for bivariate model and standardized variables)\n",
    "Shows regression of Target with a given predictor variable after removing any variation accounted for by the other predictor variables. It leaves any variation not expected by the model of the mean as function of the other variables.\n",
    "\n",
    "Steps:\n",
    "1) Fit predictor variables to each other\n",
    "2) Calculate residuals\n",
    "3) Fit original target to residuals (slopes should equal slopes from multivariate plot of variables to target)\n",
    "4) Plot model from step 3\n",
    "5) Repeat steps 1-4 for other variables"
   ]
  },
  {
   "cell_type": "code",
   "execution_count": 121,
   "metadata": {
    "collapsed": true
   },
   "outputs": [],
   "source": [
    "Var.Model <- map( \n",
    "    alist( \n",
    "        area.s ~ dnorm( mu , sigma ),\n",
    "        mu <- a + b*groupsize.s,\n",
    "        a ~ dnorm( 4 , 100 ) ,\n",
    "        b ~ dnorm( 0 , 10 ) ,  \n",
    "        sigma ~ dunif( 0 , 50 ) ) ,\n",
    "    data=Fx , start=list( a=mean(Fx$area.s) , sigma=sd(Fx$area.s) , b=0 ) )"
   ]
  },
  {
   "cell_type": "code",
   "execution_count": 122,
   "metadata": {
    "collapsed": true
   },
   "outputs": [],
   "source": [
    "mu.v <- coef(Var.Model)['a'] + coef(Var.Model)['b']*Fx$groupsize.s\n",
    "Area.residuals <- Fx$area.s - mu.v"
   ]
  },
  {
   "cell_type": "code",
   "execution_count": 123,
   "metadata": {
    "collapsed": true
   },
   "outputs": [],
   "source": [
    "# Need this in order to create interval around mu\n",
    "mx <- map( \n",
    "    alist( \n",
    "        weight ~ dnorm( mu , sigma ),\n",
    "        mu <- a + b*Area.residuals,\n",
    "        a ~ dnorm( 4 , 100 ) ,\n",
    "        b ~ dnorm( 0 , 10 ) ,  \n",
    "        sigma ~ dunif( 0 , 50 ) ) ,\n",
    "    data=data.frame(weight=Fx$weight,Area.residuals=Area.residuals) )"
   ]
  },
  {
   "cell_type": "code",
   "execution_count": 124,
   "metadata": {},
   "outputs": [
    {
     "name": "stdout",
     "output_type": "stream",
     "text": [
      "[ 100 / 1000 ]\r",
      "[ 200 / 1000 ]\r",
      "[ 300 / 1000 ]\r",
      "[ 400 / 1000 ]\r",
      "[ 500 / 1000 ]\r",
      "[ 600 / 1000 ]\r",
      "[ 700 / 1000 ]\r",
      "[ 800 / 1000 ]\r",
      "[ 900 / 1000 ]\r",
      "[ 1000 / 1000 ]\r\n"
     ]
    },
    {
     "data": {
      "image/png": "[encoded data removed]",
      "text/plain": [
       "plot without title"
      ]
     },
     "metadata": {},
     "output_type": "display_data"
    }
   ],
   "source": [
    "Area.resid.seq<-seq(from=min(Area.residuals),to=max(Area.residuals), length.out=1e3)\n",
    "plot(Fx$weight~Area.residuals )\n",
    "mtext(\"Predictor residual plots Weight ~ Area.s controlled for groupsize\")\n",
    "abline(lm(Fx$weight~Area.residuals ), lwd=2)\n",
    "mu.varz <- link( mx , data=data.frame(Area.residuals=Area.resid.seq ) )\n",
    "shade(apply( mu.varz , 2, PI) , Area.resid.seq  )\n",
    "abline(v=0, col= \"red\")"
   ]
  },
  {
   "cell_type": "code",
   "execution_count": 125,
   "metadata": {
    "collapsed": true
   },
   "outputs": [],
   "source": [
    "Var.Model2 <- map( \n",
    "    alist( \n",
    "        groupsize.s ~ dnorm( mu , sigma ),\n",
    "        mu <- a + b*area.s,\n",
    "        a ~ dnorm( 4 , 100 ) ,\n",
    "        b ~ dnorm( 0 , 10 ) ,  \n",
    "        sigma ~ dunif( 0 , 50 ) ) ,\n",
    "    data=Fx , start=list( a=mean(Fx$groupsize.s) , sigma=sd(Fx$groupsize.s) , b=0 ) )"
   ]
  },
  {
   "cell_type": "code",
   "execution_count": 126,
   "metadata": {
    "collapsed": true
   },
   "outputs": [],
   "source": [
    "mu.v2 <- coef(Var.Model2)['a'] + coef(Var.Model2)['b']*Fx$area.s\n",
    "groupsize.residuals <- Fx$groupsize.s - mu.v2"
   ]
  },
  {
   "cell_type": "code",
   "execution_count": 127,
   "metadata": {
    "collapsed": true
   },
   "outputs": [],
   "source": [
    "# Need this in order to create interval around mu\n",
    "mx2 <- map( \n",
    "    alist( \n",
    "        weight ~ dnorm( mu , sigma ),\n",
    "        mu <- a + b*groupsize.residuals,\n",
    "        a ~ dnorm( 4 , 100 ) ,\n",
    "        b ~ dnorm( 0 , 10 ) ,  \n",
    "        sigma ~ dunif( 0 , 50 ) ) ,\n",
    "    data=data.frame(weight=Fx$weight,groupsize.residuals=groupsize.residuals) )"
   ]
  },
  {
   "cell_type": "code",
   "execution_count": 128,
   "metadata": {},
   "outputs": [
    {
     "name": "stdout",
     "output_type": "stream",
     "text": [
      "[ 100 / 1000 ]\r",
      "[ 200 / 1000 ]\r",
      "[ 300 / 1000 ]\r",
      "[ 400 / 1000 ]\r",
      "[ 500 / 1000 ]\r",
      "[ 600 / 1000 ]\r",
      "[ 700 / 1000 ]\r",
      "[ 800 / 1000 ]\r",
      "[ 900 / 1000 ]\r",
      "[ 1000 / 1000 ]\r\n"
     ]
    },
    {
     "data": {
      "image/png": "[encoded data removed]",
      "text/plain": [
       "plot without title"
      ]
     },
     "metadata": {},
     "output_type": "display_data"
    }
   ],
   "source": [
    "groupsize.residuals.seq<-seq(from=min(groupsize.residuals),to=max(groupsize.residuals), length.out=1e3)\n",
    "plot(Fx$weight~groupsize.residuals )\n",
    "mtext(\"Predictor residual plots Weight ~ Groupsize.s controlled for Area.s\")\n",
    "abline(lm(Fx$weight~groupsize.residuals ), lwd=2)\n",
    "mu.varz2 <- link( mx2 , data=data.frame(groupsize.residuals=groupsize.residuals.seq ) )\n",
    "shade(apply( mu.varz2 , 2, PI) , groupsize.residuals.seq  )\n",
    "abline(v=0, col= \"red\")"
   ]
  },
  {
   "cell_type": "raw",
   "metadata": {},
   "source": [
    "Posterior Prediction Plots\n",
    "\n",
    "3 types\n",
    "1) plot predictions over observed\n",
    "2) prediction residuals over new predictor variable\n",
    "3) Average prediction error\n",
    "\n",
    "Model based predictions against raw data. (prediction error)"
   ]
  },
  {
   "cell_type": "code",
   "execution_count": 129,
   "metadata": {},
   "outputs": [
    {
     "name": "stdout",
     "output_type": "stream",
     "text": [
      "[ 1000 / 1000 ]\n",
      "[ 10000 / 10000 ]\n"
     ]
    }
   ],
   "source": [
    "#draw parameter samples from posterior using trained data\n",
    "mu.fromsource <- link(Multi.Model)\n",
    "\n",
    "#summarize samples across cases\n",
    "mu.mean <- apply( mu.fromsource, 2 , mean)\n",
    "mu.PI <- apply(mu.fromsource, 2, PI)\n",
    "\n",
    "#predict/simulate observations\n",
    "weight.sim3 <- sim(Multi.Model, n= 1e4)\n",
    "weight.PI3 <-apply(weight.sim3, 2, PI)"
   ]
  },
  {
   "cell_type": "code",
   "execution_count": 130,
   "metadata": {},
   "outputs": [
    {
     "data": {
      "image/png": "[encoded data removed]",
      "text/plain": [
       "plot without title"
      ]
     },
     "metadata": {},
     "output_type": "display_data"
    }
   ],
   "source": [
    "plot( mu.mean ~ Fx$weight , col=rangi2 , ylim=range(mu.PI) , xlab=\"Observed Weight\" , ylab=\"Predicted Weight\" )\n",
    "abline( a=0 , b=1 , lty=2 )\n",
    "for ( i in 1:nrow(Fx) ) \n",
    "    lines( rep(Fx$weight[i],2) , c(mu.PI[1,i],mu.PI[2,i]) ,\n",
    "          col=rangi2 )\n",
    "# doesnt work in jupyter identify(x=Fx$weight, y=mu.mean , labels = Fx$weight , cex = 0.8)"
   ]
  },
  {
   "cell_type": "code",
   "execution_count": 132,
   "metadata": {},
   "outputs": [
    {
     "name": "stdout",
     "output_type": "stream",
     "text": [
      "[ 100 / 1000 ]\r",
      "[ 200 / 1000 ]\r",
      "[ 300 / 1000 ]\r",
      "[ 400 / 1000 ]\r",
      "[ 500 / 1000 ]\r",
      "[ 600 / 1000 ]\r",
      "[ 700 / 1000 ]\r",
      "[ 800 / 1000 ]\r",
      "[ 900 / 1000 ]\r",
      "[ 1000 / 1000 ]\r\n"
     ]
    },
    {
     "data": {
      "image/png": "[encoded data removed]",
      "text/plain": [
       "plot without title"
      ]
     },
     "metadata": {},
     "output_type": "display_data"
    }
   ],
   "source": [
    "# compute residuals \n",
    "weight.resid <- Fx$weight - mu.mean\n",
    "\n",
    "newvar<-map( \n",
    "    alist( \n",
    "        weigh.resid ~ dnorm( mu , sigma ),\n",
    "        mu <- a + b*avgfood,\n",
    "        a ~ dnorm( 4 , 100 ) ,\n",
    "        b ~ dnorm( 0 , 10 ) ,  \n",
    "        sigma ~ dunif( 0 , 50 ) ) ,\n",
    "    data=data.frame(weigh.resid = weight.resid, avgfood=Fx$avgfood.s) )\n",
    "plot( weight.resid ~ Fx$avgfood.s)\n",
    "abline(lm( weight.resid ~ Fx$avgfood.s) )\n",
    "newx<- seq(from=min(Fx$avgfood.s),to=max(Fx$avgfood.s), length.out=1e3)\n",
    "mu.mu <-link(newvar, data=data.frame(avgfood=newx ))\n",
    "shade(apply( mu.mu , 2, PI), newx)\n",
    "#lines(Fx$avgfood.s,prd[,3],col=\"red\",lty=2)"
   ]
  },
  {
   "cell_type": "code",
   "execution_count": 206,
   "metadata": {},
   "outputs": [
    {
     "data": {
      "image/png": "[encoded data removed]",
      "text/plain": [
       "plot without title"
      ]
     },
     "metadata": {},
     "output_type": "display_data"
    }
   ],
   "source": [
    "# get ordering by divorce rate \n",
    "o <- order(weight.resid) \n",
    "# make the plot \n",
    "dotchart( weight.resid[o] , labels=Fx$weight[o] , xlim=c(-6,5) , cex=0.6 )\n",
    "abline( v=0 , col=col.alpha(\"black\",0.2) )\n",
    "for ( i in 1:nrow(Fx) ) { j <- o[i] \n",
    "# which State in order \n",
    "lines( Fx$weight[j]-c(mu.PI[1,j],mu.PI[2,j]) , rep(i,2) ) \n",
    "points( Fx$weight[j]-c(weight.PI3[1,j],weight.PI3[2,j]) , rep(i,2), pch=3 , cex=0.6 , col=\"gray\" ) }\n"
   ]
  },
  {
   "cell_type": "raw",
   "metadata": {},
   "source": [
    "5.7.12. Model comparison dessert. Finally, consider the avgfood variable. \n",
    "\n",
    "Fit two more multiple regressions:\n",
    "    (1)bodyweight as an additive function of avgfood and groupsize, and\n",
    "    (2)bodyweight as an additive function of all three variables, avgfood and groupsize and area. \n",
    "\n",
    "Compare the results of these models to the previous models you’ve fit, in the first two exercises. \n",
    "\n",
    "        (a)Is avgfood or area a better predictor of bodyweight? \n",
    "        If you had to choose one or the other to include in a model, which would it be?\n",
    "        Support your assessment with any tables or plots you choose.\n",
    "        \n",
    "        (b)When both avgfood or area are in the same model, \n",
    "        their eﬀects are reduced (closer  to zero) and\n",
    "        their standard errors are larger than when they are included in separate models.\n",
    "        Can you explain this result?"
   ]
  },
  {
   "cell_type": "code",
   "execution_count": 207,
   "metadata": {},
   "outputs": [
    {
     "data": {
      "text/html": [
       "<table>\n",
       "<thead><tr><th></th><th scope=col>group</th><th scope=col>avgfood</th><th scope=col>groupsize</th><th scope=col>area</th><th scope=col>weight</th><th scope=col>avgfood.s</th><th scope=col>groupsize.s</th><th scope=col>area.s</th><th scope=col>weight.s</th></tr></thead>\n",
       "<tbody>\n",
       "\t<tr><th scope=row>group</th><td> 1.0000000 </td><td> 0.34084493</td><td> 0.4009594 </td><td>0.37777286 </td><td>-0.15190033</td><td> 0.34084493</td><td> 0.4009594 </td><td>0.37777286 </td><td>-0.15190033</td></tr>\n",
       "\t<tr><th scope=row>avgfood</th><td> 0.3408449 </td><td> 1.00000000</td><td> 0.9014829 </td><td>0.88310378 </td><td>-0.02503892</td><td> 1.00000000</td><td> 0.9014829 </td><td>0.88310378 </td><td>-0.02503892</td></tr>\n",
       "\t<tr><th scope=row>groupsize</th><td> 0.4009594 </td><td> 0.90148290</td><td> 1.0000000 </td><td>0.82759448 </td><td>-0.16099376</td><td> 0.90148290</td><td> 1.0000000 </td><td>0.82759448 </td><td>-0.16099376</td></tr>\n",
       "\t<tr><th scope=row>area</th><td> 0.3777729 </td><td> 0.88310378</td><td> 0.8275945 </td><td>1.00000000 </td><td> 0.01947728</td><td> 0.88310378</td><td> 0.8275945 </td><td>1.00000000 </td><td> 0.01947728</td></tr>\n",
       "\t<tr><th scope=row>weight</th><td>-0.1519003 </td><td>-0.02503892</td><td>-0.1609938 </td><td>0.01947728 </td><td> 1.00000000</td><td>-0.02503892</td><td>-0.1609938 </td><td>0.01947728 </td><td> 1.00000000</td></tr>\n",
       "\t<tr><th scope=row>avgfood.s</th><td> 0.3408449 </td><td> 1.00000000</td><td> 0.9014829 </td><td>0.88310378 </td><td>-0.02503892</td><td> 1.00000000</td><td> 0.9014829 </td><td>0.88310378 </td><td>-0.02503892</td></tr>\n",
       "\t<tr><th scope=row>groupsize.s</th><td> 0.4009594 </td><td> 0.90148290</td><td> 1.0000000 </td><td>0.82759448 </td><td>-0.16099376</td><td> 0.90148290</td><td> 1.0000000 </td><td>0.82759448 </td><td>-0.16099376</td></tr>\n",
       "\t<tr><th scope=row>area.s</th><td> 0.3777729 </td><td> 0.88310378</td><td> 0.8275945 </td><td>1.00000000 </td><td> 0.01947728</td><td> 0.88310378</td><td> 0.8275945 </td><td>1.00000000 </td><td> 0.01947728</td></tr>\n",
       "\t<tr><th scope=row>weight.s</th><td>-0.1519003 </td><td>-0.02503892</td><td>-0.1609938 </td><td>0.01947728 </td><td> 1.00000000</td><td>-0.02503892</td><td>-0.1609938 </td><td>0.01947728 </td><td> 1.00000000</td></tr>\n",
       "</tbody>\n",
       "</table>\n"
      ],
      "text/latex": [
       "\\begin{tabular}{r|lllllllll}\n",
       "  & group & avgfood & groupsize & area & weight & avgfood.s & groupsize.s & area.s & weight.s\\\\\n",
       "\\hline\n",
       "\tgroup &  1.0000000  &  0.34084493 &  0.4009594  & 0.37777286  & -0.15190033 &  0.34084493 &  0.4009594  & 0.37777286  & -0.15190033\\\\\n",
       "\tavgfood &  0.3408449  &  1.00000000 &  0.9014829  & 0.88310378  & -0.02503892 &  1.00000000 &  0.9014829  & 0.88310378  & -0.02503892\\\\\n",
       "\tgroupsize &  0.4009594  &  0.90148290 &  1.0000000  & 0.82759448  & -0.16099376 &  0.90148290 &  1.0000000  & 0.82759448  & -0.16099376\\\\\n",
       "\tarea &  0.3777729  &  0.88310378 &  0.8275945  & 1.00000000  &  0.01947728 &  0.88310378 &  0.8275945  & 1.00000000  &  0.01947728\\\\\n",
       "\tweight & -0.1519003  & -0.02503892 & -0.1609938  & 0.01947728  &  1.00000000 & -0.02503892 & -0.1609938  & 0.01947728  &  1.00000000\\\\\n",
       "\tavgfood.s &  0.3408449  &  1.00000000 &  0.9014829  & 0.88310378  & -0.02503892 &  1.00000000 &  0.9014829  & 0.88310378  & -0.02503892\\\\\n",
       "\tgroupsize.s &  0.4009594  &  0.90148290 &  1.0000000  & 0.82759448  & -0.16099376 &  0.90148290 &  1.0000000  & 0.82759448  & -0.16099376\\\\\n",
       "\tarea.s &  0.3777729  &  0.88310378 &  0.8275945  & 1.00000000  &  0.01947728 &  0.88310378 &  0.8275945  & 1.00000000  &  0.01947728\\\\\n",
       "\tweight.s & -0.1519003  & -0.02503892 & -0.1609938  & 0.01947728  &  1.00000000 & -0.02503892 & -0.1609938  & 0.01947728  &  1.00000000\\\\\n",
       "\\end{tabular}\n"
      ],
      "text/markdown": [
       "\n",
       "| <!--/--> | group | avgfood | groupsize | area | weight | avgfood.s | groupsize.s | area.s | weight.s | \n",
       "|---|---|---|---|---|---|---|---|---|\n",
       "| group |  1.0000000  |  0.34084493 |  0.4009594  | 0.37777286  | -0.15190033 |  0.34084493 |  0.4009594  | 0.37777286  | -0.15190033 | \n",
       "| avgfood |  0.3408449  |  1.00000000 |  0.9014829  | 0.88310378  | -0.02503892 |  1.00000000 |  0.9014829  | 0.88310378  | -0.02503892 | \n",
       "| groupsize |  0.4009594  |  0.90148290 |  1.0000000  | 0.82759448  | -0.16099376 |  0.90148290 |  1.0000000  | 0.82759448  | -0.16099376 | \n",
       "| area |  0.3777729  |  0.88310378 |  0.8275945  | 1.00000000  |  0.01947728 |  0.88310378 |  0.8275945  | 1.00000000  |  0.01947728 | \n",
       "| weight | -0.1519003  | -0.02503892 | -0.1609938  | 0.01947728  |  1.00000000 | -0.02503892 | -0.1609938  | 0.01947728  |  1.00000000 | \n",
       "| avgfood.s |  0.3408449  |  1.00000000 |  0.9014829  | 0.88310378  | -0.02503892 |  1.00000000 |  0.9014829  | 0.88310378  | -0.02503892 | \n",
       "| groupsize.s |  0.4009594  |  0.90148290 |  1.0000000  | 0.82759448  | -0.16099376 |  0.90148290 |  1.0000000  | 0.82759448  | -0.16099376 | \n",
       "| area.s |  0.3777729  |  0.88310378 |  0.8275945  | 1.00000000  |  0.01947728 |  0.88310378 |  0.8275945  | 1.00000000  |  0.01947728 | \n",
       "| weight.s | -0.1519003  | -0.02503892 | -0.1609938  | 0.01947728  |  1.00000000 | -0.02503892 | -0.1609938  | 0.01947728  |  1.00000000 | \n",
       "\n",
       "\n"
      ],
      "text/plain": [
       "            group      avgfood     groupsize  area       weight     \n",
       "group        1.0000000  0.34084493  0.4009594 0.37777286 -0.15190033\n",
       "avgfood      0.3408449  1.00000000  0.9014829 0.88310378 -0.02503892\n",
       "groupsize    0.4009594  0.90148290  1.0000000 0.82759448 -0.16099376\n",
       "area         0.3777729  0.88310378  0.8275945 1.00000000  0.01947728\n",
       "weight      -0.1519003 -0.02503892 -0.1609938 0.01947728  1.00000000\n",
       "avgfood.s    0.3408449  1.00000000  0.9014829 0.88310378 -0.02503892\n",
       "groupsize.s  0.4009594  0.90148290  1.0000000 0.82759448 -0.16099376\n",
       "area.s       0.3777729  0.88310378  0.8275945 1.00000000  0.01947728\n",
       "weight.s    -0.1519003 -0.02503892 -0.1609938 0.01947728  1.00000000\n",
       "            avgfood.s   groupsize.s area.s     weight.s   \n",
       "group        0.34084493  0.4009594  0.37777286 -0.15190033\n",
       "avgfood      1.00000000  0.9014829  0.88310378 -0.02503892\n",
       "groupsize    0.90148290  1.0000000  0.82759448 -0.16099376\n",
       "area         0.88310378  0.8275945  1.00000000  0.01947728\n",
       "weight      -0.02503892 -0.1609938  0.01947728  1.00000000\n",
       "avgfood.s    1.00000000  0.9014829  0.88310378 -0.02503892\n",
       "groupsize.s  0.90148290  1.0000000  0.82759448 -0.16099376\n",
       "area.s       0.88310378  0.8275945  1.00000000  0.01947728\n",
       "weight.s    -0.02503892 -0.1609938  0.01947728  1.00000000"
      ]
     },
     "metadata": {},
     "output_type": "display_data"
    }
   ],
   "source": [
    "cor(Fx)"
   ]
  },
  {
   "cell_type": "code",
   "execution_count": 208,
   "metadata": {
    "collapsed": true
   },
   "outputs": [],
   "source": [
    "#bodyweight as an additive function of avgfood and groupsize, and\n",
    "MM.5.7 <- map( \n",
    "    alist( \n",
    "        weight ~ dnorm( mu , sigma ),\n",
    "        mu <- a + b*avgfood.s +b1*groupsize.s,\n",
    "        a ~ dnorm( 4 , 100 ) ,\n",
    "        b ~ dnorm( 0 , 10 ) , \n",
    "        b1 ~ dnorm( 0 , 10 ) , \n",
    "        sigma ~ dunif( 0 , 50 ) ) ,\n",
    "    data=Fx , start=list( a=mean(Fx$weight) , sigma=sd(Fx$weight) , b=0 ,b1=0) )"
   ]
  },
  {
   "cell_type": "code",
   "execution_count": 209,
   "metadata": {},
   "outputs": [
    {
     "data": {
      "text/plain": [
       "\n",
       "Maximum a posteriori (MAP) model fit\n",
       "\n",
       "Formula:\n",
       "weight ~ dnorm(mu, sigma)\n",
       "mu <- a + b * avgfood.s + b1 * groupsize.s\n",
       "a ~ dnorm(4, 100)\n",
       "b ~ dnorm(0, 10)\n",
       "b1 ~ dnorm(0, 10)\n",
       "sigma ~ dunif(0, 50)\n",
       "\n",
       "MAP values:\n",
       "         a      sigma          b         b1 \n",
       " 4.5296547  1.1166010  0.7581707 -0.8740034 \n",
       "\n",
       "Log-likelihood: -177.39 "
      ]
     },
     "metadata": {},
     "output_type": "display_data"
    }
   ],
   "source": [
    "MM.5.7"
   ]
  },
  {
   "cell_type": "code",
   "execution_count": 210,
   "metadata": {},
   "outputs": [
    {
     "name": "stdout",
     "output_type": "stream",
     "text": [
      "[ 1000 / 1000 ]\n",
      "[ 10000 / 10000 ]\n"
     ]
    },
    {
     "data": {
      "image/png": "[encoded data removed]",
      "text/plain": [
       "plot without title"
      ]
     },
     "metadata": {},
     "output_type": "display_data"
    }
   ],
   "source": [
    "avgfood.seq<-seq(from=min(Fx$avgfood.s),to=max(Fx$avgfood.s), length.out=1e3)\n",
    "#Draw parameter samples from posterior. There's variance/uncertainty in mu.\n",
    "mu.multi.5.7 <- link( MM.5.7 , data=data.frame(avgfood.s=avgfood.seq ,groupsize.s=mean(Fx$groupsize.s) ) )\n",
    "#Draw Prediction Simulations from posterior. There's variance/uncertainty in prediction/outcome.\n",
    "sim.weight.Multi.5.7 <- sim( MM.5.7 , data=data.frame(avgfood.s=avgfood.seq ,groupsize.s=mean(Fx$groupsize.s)),n=1e4  ) \n",
    "#display\n",
    "plot(weight ~ avgfood.s , Fx , type=\"n\")\n",
    "mtext(\"GroupSize at mean\")\n",
    "lines(avgfood.seq , apply(mu.multi.5.7, 2, mean))\n",
    "shade(apply( mu.multi.5.7 , 2, PI) , avgfood.seq  )\n",
    "shade(apply( sim.weight.Multi.5.7 , 2, PI) , avgfood.seq  )"
   ]
  },
  {
   "cell_type": "code",
   "execution_count": 211,
   "metadata": {
    "collapsed": true
   },
   "outputs": [],
   "source": [
    "#bodyweight as an additive function of avgfood and groupsize, and\n",
    "MM.5.7.2 <- map( \n",
    "    alist( \n",
    "        weight ~ dnorm( mu , sigma ),\n",
    "        mu <- a + b*avgfood.s +b1*groupsize.s + b2*area.s,\n",
    "        a ~ dnorm( 4 , 100 ) ,\n",
    "        b ~ dnorm( 0 , 10 ) , \n",
    "        b1 ~ dnorm( 0 , 10 ) , \n",
    "        b2 ~ dnorm( 0 , 10 ) , \n",
    "        sigma ~ dunif( 0 , 50 ) ) ,\n",
    "    data=Fx , start=list( a=mean(Fx$weight) , sigma=sd(Fx$weight) , b=0 ,b1=0) )"
   ]
  },
  {
   "cell_type": "code",
   "execution_count": 212,
   "metadata": {},
   "outputs": [
    {
     "data": {
      "text/plain": [
       "\n",
       "Maximum a posteriori (MAP) model fit\n",
       "\n",
       "Formula:\n",
       "weight ~ dnorm(mu, sigma)\n",
       "mu <- a + b * avgfood.s + b1 * groupsize.s + b2 * area.s\n",
       "a ~ dnorm(4, 100)\n",
       "b ~ dnorm(0, 10)\n",
       "b1 ~ dnorm(0, 10)\n",
       "b2 ~ dnorm(0, 10)\n",
       "sigma ~ dunif(0, 50)\n",
       "\n",
       "MAP values:\n",
       "         a      sigma          b         b1         b2 \n",
       " 4.5296545  1.1043480  0.4968572 -0.9341997  0.3573854 \n",
       "\n",
       "Log-likelihood: -176.11 "
      ]
     },
     "metadata": {},
     "output_type": "display_data"
    }
   ],
   "source": [
    "MM.5.7.2"
   ]
  },
  {
   "cell_type": "code",
   "execution_count": 213,
   "metadata": {},
   "outputs": [
    {
     "name": "stdout",
     "output_type": "stream",
     "text": [
      "[ 1000 / 1000 ]\n",
      "[ 10000 / 10000 ]\n"
     ]
    },
    {
     "data": {
      "image/png": "[encoded data removed]",
      "text/plain": [
       "plot without title"
      ]
     },
     "metadata": {},
     "output_type": "display_data"
    }
   ],
   "source": [
    "avgfood.seq<-seq(from=min(Fx$avgfood.s),to=max(Fx$avgfood.s), length.out=1e3)\n",
    "#Draw parameter samples from posterior. There's variance/uncertainty in mu.\n",
    "mu.multi.5.7.2 <- link( MM.5.7.2 , data=data.frame(avgfood.s=avgfood.seq ,groupsize.s=mean(Fx$groupsize.s),\n",
    "                                                  area.s = mean(Fx$area.s)) )\n",
    "#Draw Prediction Simulations from posterior. There's variance/uncertainty in prediction/outcome.\n",
    "sim.weight.Multi.5.7.2 <- sim( MM.5.7.2 , data=data.frame(avgfood.s=avgfood.seq ,\n",
    "                                                          groupsize.s=mean(Fx$groupsize.s),\n",
    "                                                         area.s=mean(Fx$area.s)),n=1e4  ) \n",
    "#display\n",
    "plot(weight ~ avgfood.s , Fx , type=\"n\")\n",
    "mtext(\"GroupSize.s at mean & Area.s at mean\")\n",
    "lines(avgfood.seq , apply(mu.multi.5.7.2, 2, mean))\n",
    "shade(apply( mu.multi.5.7.2 , 2, PI) , avgfood.seq  )\n",
    "shade(apply( sim.weight.Multi.5.7.2 , 2, PI) , avgfood.seq  )"
   ]
  },
  {
   "cell_type": "code",
   "execution_count": 141,
   "metadata": {},
   "outputs": [
    {
     "name": "stdout",
     "output_type": "stream",
     "text": [
      "[ 1000 / 1000 ]\n",
      "[ 10000 / 10000 ]\n"
     ]
    }
   ],
   "source": [
    "#draw parameter samples from posterior using trained data\n",
    "mu.from.source <- link(MM.5.7.2)\n",
    "\n",
    "#summarize samples across cases\n",
    "mu.mean <- apply( mu.from.source, 2 , mean)\n",
    "mu.PI <- apply(mu.from.source, 2, PI)\n",
    "\n",
    "#predict/simulate observations\n",
    "weight.sim4 <- sim(MM.5.7.2, n= 1e4)\n",
    "weight.PI4 <-apply(weight.sim4, 2, PI)"
   ]
  },
  {
   "cell_type": "code",
   "execution_count": 142,
   "metadata": {},
   "outputs": [
    {
     "data": {
      "image/png": "[encoded data removed]",
      "text/plain": [
       "plot without title"
      ]
     },
     "metadata": {},
     "output_type": "display_data"
    }
   ],
   "source": [
    "plot( mu.mean ~ Fx$weight , col=rangi2 , ylim=range(mu.PI) , xlab=\"Observed Weight\" , ylab=\"Predicted Weight\" )\n",
    "abline( a=0 , b=1 , lty=2 )\n",
    "mtext(\"MODEL: b*avgfood.s +b1*groupsize.s + b2*area.s\")\n",
    "for ( i in 1:nrow(Fx) ) \n",
    "    lines( rep(Fx$weight[i],2) , c(mu.PI[1,i],mu.PI[2,i]) ,\n",
    "          col=rangi2 )"
   ]
  },
  {
   "cell_type": "code",
   "execution_count": 143,
   "metadata": {},
   "outputs": [
    {
     "data": {
      "text/plain": [
       "\n",
       "Maximum a posteriori (MAP) model fit\n",
       "\n",
       "Formula:\n",
       "weight ~ dnorm(mu, sigma)\n",
       "mu <- a + b * avgfood.s + b1 * groupsize.s\n",
       "a ~ dnorm(4, 100)\n",
       "b ~ dnorm(0, 10)\n",
       "b1 ~ dnorm(0, 10)\n",
       "sigma ~ dunif(0, 50)\n",
       "\n",
       "MAP values:\n",
       "         a      sigma          b         b1 \n",
       " 4.5296547  1.1166010  0.7581707 -0.8740034 \n",
       "\n",
       "Log-likelihood: -177.39 "
      ]
     },
     "metadata": {},
     "output_type": "display_data"
    }
   ],
   "source": [
    "MM.5.7"
   ]
  },
  {
   "cell_type": "code",
   "execution_count": 144,
   "metadata": {},
   "outputs": [
    {
     "name": "stdout",
     "output_type": "stream",
     "text": [
      "[ 1000 / 1000 ]\n",
      "[ 10000 / 10000 ]\n"
     ]
    },
    {
     "data": {
      "image/png": "[encoded data removed]",
      "text/plain": [
       "plot without title"
      ]
     },
     "metadata": {},
     "output_type": "display_data"
    }
   ],
   "source": [
    "avgfood.seq<-seq(from=min(Fx$avgfood.s),to=max(Fx$avgfood.s), length.out=1e3)\n",
    "#Draw parameter samples from posterior. There's variance/uncertainty in mu.\n",
    "mu.multi2.AGEFOOD <- link( MM.5.7 , data=data.frame(avgfood.s=avgfood.seq , groupsize.s=mean(Fx$groupsize.s)) )\n",
    "#Draw Prediction Simulations from psterior. There's variance/uncertainty in prediction/outcome.\n",
    "sim.weight.Multi.AGEFOOD <- sim( MM.5.7 ,\n",
    "                                data=data.frame(groupsize.s=mean(Fx$groupsize.s), avgfood.s=avgfood.seq ),\n",
    "                                n=1e4 )\n",
    "\n",
    "Multi2.pi.AGEFOOD <- apply(sim.weight.Multi.AGEFOOD , 2 , PI)\n",
    "#display\n",
    "plot(weight~avgfood.s, Fx , type=\"n\")\n",
    "mtext(\"groupsize at mean\")\n",
    "lines(avgfood.seq , apply(mu.multi2.AGEFOOD, 2, mean))\n",
    "shade(apply( mu.multi2.AGEFOOD , 2, PI) , avgfood.seq  )\n",
    "shade(apply( sim.weight.Multi.AGEFOOD , 2, PI) , avgfood.seq  )"
   ]
  },
  {
   "cell_type": "code",
   "execution_count": 145,
   "metadata": {},
   "outputs": [
    {
     "name": "stdout",
     "output_type": "stream",
     "text": [
      "[ 1000 / 1000 ]\n",
      "[ 10000 / 10000 ]\n"
     ]
    }
   ],
   "source": [
    "#draw parameter samples from posterior using trained data\n",
    "mu.from.source2 <- link(MM.5.7)\n",
    "\n",
    "#summarize samples across cases\n",
    "mu.mean2 <- apply( mu.from.source2, 2 , mean)\n",
    "mu.PI2 <- apply(mu.from.source2, 2, PI)\n",
    "\n",
    "#predict/simulate observations\n",
    "weight.sim42 <- sim(MM.5.7, n= 1e4)\n",
    "weight.PI42 <-apply(weight.sim42, 2, PI)"
   ]
  },
  {
   "cell_type": "code",
   "execution_count": 214,
   "metadata": {},
   "outputs": [],
   "source": [
    "#foodavg_AND_group_size\n",
    "weight.MEAN42 <-apply(weight.sim42, 2, mean)\n",
    "#weight.MEAN42"
   ]
  },
  {
   "cell_type": "code",
   "execution_count": 215,
   "metadata": {},
   "outputs": [],
   "source": [
    "#foodavg_AND_group_size_AND_area\n",
    "weight.MEAN43 <-apply(weight.sim4, 2, mean)\n",
    "#weight.MEAN43"
   ]
  },
  {
   "cell_type": "code",
   "execution_count": 149,
   "metadata": {},
   "outputs": [
    {
     "data": {
      "text/html": [
       "0.87740279214666"
      ],
      "text/latex": [
       "0.87740279214666"
      ],
      "text/markdown": [
       "0.87740279214666"
      ],
      "text/plain": [
       "[1] 0.8774028"
      ]
     },
     "metadata": {},
     "output_type": "display_data"
    }
   ],
   "source": [
    "sum(abs(Fx$weight - weight.MEAN42))/length(Fx$weight)"
   ]
  },
  {
   "cell_type": "code",
   "execution_count": 150,
   "metadata": {},
   "outputs": [
    {
     "data": {
      "text/html": [
       "0.860532415859137"
      ],
      "text/latex": [
       "0.860532415859137"
      ],
      "text/markdown": [
       "0.860532415859137"
      ],
      "text/plain": [
       "[1] 0.8605324"
      ]
     },
     "metadata": {},
     "output_type": "display_data"
    }
   ],
   "source": [
    "sum(abs(Fx$weight - weight.MEAN43))/length(Fx$weight)"
   ]
  },
  {
   "cell_type": "code",
   "execution_count": 228,
   "metadata": {},
   "outputs": [
    {
     "data": {
      "text/html": [
       "1.21572212116221"
      ],
      "text/latex": [
       "1.21572212116221"
      ],
      "text/markdown": [
       "1.21572212116221"
      ],
      "text/plain": [
       "[1] 1.215722"
      ]
     },
     "metadata": {},
     "output_type": "display_data"
    }
   ],
   "source": [
    "sum((Fx$weight - weight.MEAN43)**2)/length(Fx$weight)"
   ]
  },
  {
   "cell_type": "code",
   "execution_count": 234,
   "metadata": {},
   "outputs": [
    {
     "data": {
      "text/html": [
       "0.896027880548703"
      ],
      "text/latex": [
       "0.896027880548703"
      ],
      "text/markdown": [
       "0.896027880548703"
      ],
      "text/plain": [
       "[1] 0.8960279"
      ]
     },
     "metadata": {},
     "output_type": "display_data"
    }
   ],
   "source": [
    "r.sq <-sum((Fx$weight - weight.MEAN42)**2) / sum((Fx$weight - mean(Fx$weight))**2) # Rsquared\n",
    "r.sq "
   ]
  },
  {
   "cell_type": "code",
   "execution_count": 235,
   "metadata": {},
   "outputs": [
    {
     "data": {
      "text/html": [
       "0.891301875119099"
      ],
      "text/latex": [
       "0.891301875119099"
      ],
      "text/markdown": [
       "0.891301875119099"
      ],
      "text/plain": [
       "[1] 0.8913019"
      ]
     },
     "metadata": {},
     "output_type": "display_data"
    }
   ],
   "source": [
    "1-(1-r.sq)*((length(Fx$weight)-1)/(length(Fx$weight)-5-1))"
   ]
  },
  {
   "cell_type": "code",
   "execution_count": 152,
   "metadata": {},
   "outputs": [
    {
     "data": {
      "text/html": [
       "1.24532107010262"
      ],
      "text/latex": [
       "1.24532107010262"
      ],
      "text/markdown": [
       "1.24532107010262"
      ],
      "text/plain": [
       "[1] 1.245321"
      ]
     },
     "metadata": {},
     "output_type": "display_data"
    }
   ],
   "source": [
    "sum((Fx$weight - weight.MEAN42)**2)/length(Fx$weight)"
   ]
  },
  {
   "cell_type": "code",
   "execution_count": 153,
   "metadata": {},
   "outputs": [
    {
     "data": {
      "text/html": [
       "0.860532415859137"
      ],
      "text/latex": [
       "0.860532415859137"
      ],
      "text/markdown": [
       "0.860532415859137"
      ],
      "text/plain": [
       "[1] 0.8605324"
      ]
     },
     "metadata": {},
     "output_type": "display_data"
    }
   ],
   "source": [
    "sum(abs(Fx$weight - weight.MEAN43))/length(Fx$weight)"
   ]
  },
  {
   "cell_type": "code",
   "execution_count": 154,
   "metadata": {},
   "outputs": [
    {
     "data": {
      "image/png": "[encoded data removed]",
      "text/plain": [
       "plot without title"
      ]
     },
     "metadata": {},
     "output_type": "display_data"
    }
   ],
   "source": [
    "plot( mu.mean2 ~ Fx$weight , col=rangi2 , ylim=range(mu.PI2) , xlab=\"Observed Weight\" , ylab=\"Predicted Weight\" )\n",
    "abline( a=0 , b=1 , lty=2 )\n",
    "mtext('b*avgfood.s +b1*groupsize.s')\n",
    "for ( i in 1:nrow(Fx) ) \n",
    "    lines( rep(Fx$weight[i],2) , c(mu.PI[1,i],mu.PI[2,i]) ,\n",
    "          col=rangi2 )"
   ]
  },
  {
   "cell_type": "code",
   "execution_count": 155,
   "metadata": {},
   "outputs": [
    {
     "data": {
      "text/plain": [
       "       Mean StdDev  5.5% 94.5%\n",
       "a      4.53   0.10  4.37  4.69\n",
       "sigma  1.10   0.07  0.99  1.22\n",
       "b      0.50   0.29  0.04  0.96\n",
       "b1    -0.93   0.24 -1.32 -0.55\n",
       "b2     0.36   0.22  0.00  0.71"
      ]
     },
     "metadata": {},
     "output_type": "display_data"
    }
   ],
   "source": [
    "precis(MM.5.7.2)"
   ]
  },
  {
   "cell_type": "code",
   "execution_count": 156,
   "metadata": {},
   "outputs": [
    {
     "data": {
      "text/plain": [
       "       Mean StdDev  5.5% 94.5%\n",
       "a      4.53   0.10  4.36  4.70\n",
       "sigma  1.12   0.07  1.00  1.23\n",
       "b      0.76   0.24  0.37  1.14\n",
       "b1    -0.87   0.24 -1.26 -0.49"
      ]
     },
     "metadata": {},
     "output_type": "display_data"
    }
   ],
   "source": [
    "precis(MM.5.7)"
   ]
  },
  {
   "cell_type": "code",
   "execution_count": 157,
   "metadata": {},
   "outputs": [
    {
     "data": {
      "text/plain": [
       "       Mean StdDev  5.5% 94.5%\n",
       "a      4.53   0.10  4.36  4.70\n",
       "sigma  1.12   0.07  1.00  1.24\n",
       "b1    -0.67   0.19 -0.96 -0.37\n",
       "b2     0.57   0.19  0.28  0.87"
      ]
     },
     "metadata": {},
     "output_type": "display_data"
    }
   ],
   "source": [
    "precis(MM.5.7.2.1)"
   ]
  },
  {
   "cell_type": "code",
   "execution_count": 158,
   "metadata": {
    "collapsed": true
   },
   "outputs": [],
   "source": [
    "#bodyweight as an additive function of avgfood and groupsize, and\n",
    "MM.5.7.2.1 <- map( \n",
    "    alist( \n",
    "        weight ~ dnorm( mu , sigma ),\n",
    "        mu <- a + b1*groupsize.s + b2*area.s,\n",
    "        a ~ dnorm( 4 , 100 ) ,\n",
    "        #b ~ dnorm( 0 , 10 ) , \n",
    "        b1 ~ dnorm( 0 , 10 ) , \n",
    "        b2 ~ dnorm( 0 , 10 ) , \n",
    "        sigma ~ dunif( 0 , 50 ) ) ,\n",
    "    data=Fx , start=list( a=mean(Fx$weight) , sigma=sd(Fx$weight) ,b1=0,b2=0) )"
   ]
  },
  {
   "cell_type": "code",
   "execution_count": 159,
   "metadata": {},
   "outputs": [
    {
     "name": "stdout",
     "output_type": "stream",
     "text": [
      "[ 1000 / 1000 ]\n",
      "[ 10000 / 10000 ]\n"
     ]
    },
    {
     "data": {
      "image/png": "[encoded data removed]",
      "text/plain": [
       "plot without title"
      ]
     },
     "metadata": {},
     "output_type": "display_data"
    }
   ],
   "source": [
    "area.seq<-seq(from=min(Fx$area.s),to=max(Fx$area.s), length.out=1e3)\n",
    "#Draw parameter samples from posterior. There's variance/uncertainty in mu.\n",
    "mu.multi2.AreaSize <- link( MM.5.7.2.1 , data=data.frame(area.s=area.seq , groupsize.s=mean(Fx$groupsize.s)) )\n",
    "#Draw Prediction Simulations from psterior. There's variance/uncertainty in prediction/outcome.\n",
    "sim.weight.Multi.AreaSize <- sim( MM.5.7.2.1 ,\n",
    "                                data.frame(area.s=area.seq , groupsize.s=mean(Fx$groupsize.s)),\n",
    "                                n=1e4 )\n",
    "\n",
    "#Multi2.pi.AREASize <- apply(sim.weight.Multi.AreaSize , 2 , PI)\n",
    "#display\n",
    "plot(weight~area.s, Fx , type=\"n\")\n",
    "mtext(\"area + groupsize at mean\")\n",
    "lines(area.seq , apply(mu.multi2.AreaSize, 2, mean))\n",
    "shade(apply( mu.multi2.AreaSize , 2, PI) , area.seq  )\n",
    "shade(apply( sim.weight.Multi.AreaSize , 2, PI) , area.seq  )"
   ]
  },
  {
   "cell_type": "code",
   "execution_count": 160,
   "metadata": {},
   "outputs": [
    {
     "name": "stdout",
     "output_type": "stream",
     "text": [
      "[ 1000 / 10000 ]\r",
      "[ 2000 / 10000 ]\r",
      "[ 3000 / 10000 ]\r",
      "[ 4000 / 10000 ]\r",
      "[ 5000 / 10000 ]\r",
      "[ 6000 / 10000 ]\r",
      "[ 7000 / 10000 ]\r",
      "[ 8000 / 10000 ]\r",
      "[ 9000 / 10000 ]\r",
      "[ 10000 / 10000 ]\r\n"
     ]
    }
   ],
   "source": [
    "#predict/simulate observations\n",
    "weight.sim4.AreaSize <- sim(MM.5.7.2.1, n= 1e4)\n",
    "weight.PI4.AreaSize <-apply(weight.sim4.AreaSize, 2, mean)"
   ]
  },
  {
   "cell_type": "code",
   "execution_count": 161,
   "metadata": {},
   "outputs": [
    {
     "data": {
      "text/html": [
       "0.891755846884998"
      ],
      "text/latex": [
       "0.891755846884998"
      ],
      "text/markdown": [
       "0.891755846884998"
      ],
      "text/plain": [
       "[1] 0.8917558"
      ]
     },
     "metadata": {},
     "output_type": "display_data"
    }
   ],
   "source": [
    "sum(abs(Fx$weight - weight.PI4.AreaSize))/length(Fx$weight)"
   ]
  },
  {
   "cell_type": "code",
   "execution_count": 162,
   "metadata": {},
   "outputs": [
    {
     "data": {
      "text/html": [
       "1.25196781777121"
      ],
      "text/latex": [
       "1.25196781777121"
      ],
      "text/markdown": [
       "1.25196781777121"
      ],
      "text/plain": [
       "[1] 1.251968"
      ]
     },
     "metadata": {},
     "output_type": "display_data"
    }
   ],
   "source": [
    "sum((Fx$weight - weight.PI4.AreaSize)**2)/length(Fx$weight)"
   ]
  },
  {
   "cell_type": "code",
   "execution_count": 163,
   "metadata": {},
   "outputs": [
    {
     "name": "stdout",
     "output_type": "stream",
     "text": [
      "[ 100 / 1000 ]\r",
      "[ 200 / 1000 ]\r",
      "[ 300 / 1000 ]\r",
      "[ 400 / 1000 ]\r",
      "[ 500 / 1000 ]\r",
      "[ 600 / 1000 ]\r",
      "[ 700 / 1000 ]\r",
      "[ 800 / 1000 ]\r",
      "[ 900 / 1000 ]\r",
      "[ 1000 / 1000 ]\r\n"
     ]
    }
   ],
   "source": [
    "#draw parameter samples from posterior using trained data\n",
    "mu.from.source4 <- link(MM.5.7.2.1)\n",
    "\n",
    "#summarize samples across cases\n",
    "mu.mean4 <- apply( mu.from.source4, 2 , mean)\n",
    "mu.PI4 <- apply(mu.from.source4, 2, PI)\n",
    "\n",
    "#predict/simulate observations\n",
    "# weight.sim4 <- sim(MM.5.7.2, n= 1e4)\n",
    "# weight.PI4 <-apply(weight.sim4, 2, PI)"
   ]
  },
  {
   "cell_type": "code",
   "execution_count": 164,
   "metadata": {},
   "outputs": [
    {
     "data": {
      "image/png": "[encoded data removed]",
      "text/plain": [
       "plot without title"
      ]
     },
     "metadata": {},
     "output_type": "display_data"
    }
   ],
   "source": [
    "plot( mu.mean4 ~ Fx$weight , col=rangi2 , ylim=range(mu.PI4) , xlab=\"Observed Weight\" , ylab=\"Predicted Weight\" )\n",
    "abline( a=0 , b=1 , lty=2 )\n",
    "mtext(\"MODEL: b*avgfood.s +b1*groupsize.s + b2*area.s\")\n",
    "for ( i in 1:nrow(Fx) ) \n",
    "    lines( rep(Fx$weight[i],2) , c(mu.PI[1,i],mu.PI[2,i]) ,\n",
    "          col=rangi2 )"
   ]
  },
  {
   "cell_type": "code",
   "execution_count": 165,
   "metadata": {},
   "outputs": [
    {
     "data": {
      "image/png": "[encoded data removed]",
      "text/plain": [
       "plot without title"
      ]
     },
     "metadata": {},
     "output_type": "display_data"
    }
   ],
   "source": [
    "plot(precis(MM.5.7.2))"
   ]
  },
  {
   "cell_type": "code",
   "execution_count": 166,
   "metadata": {
    "scrolled": false
   },
   "outputs": [
    {
     "data": {
      "image/png": "[encoded data removed]",
      "text/plain": [
       "plot without title"
      ]
     },
     "metadata": {},
     "output_type": "display_data"
    }
   ],
   "source": [
    "plot(precis(MM.5.7.2.1))"
   ]
  },
  {
   "cell_type": "code",
   "execution_count": 167,
   "metadata": {},
   "outputs": [
    {
     "data": {
      "image/png": "[encoded data removed]",
      "text/plain": [
       "plot without title"
      ]
     },
     "metadata": {},
     "output_type": "display_data"
    }
   ],
   "source": [
    "plot(precis(MM.5.7))"
   ]
  },
  {
   "cell_type": "code",
   "execution_count": 172,
   "metadata": {},
   "outputs": [
    {
     "data": {
      "text/plain": [
       "       Mean StdDev  5.5% 94.5% a sigma    b   b1\n",
       "a      4.53   0.10  4.36  4.70 1     0  0.0  0.0\n",
       "sigma  1.12   0.07  1.00  1.23 0     1  0.0  0.0\n",
       "b      0.76   0.24  0.37  1.14 0     0  1.0 -0.9\n",
       "b1    -0.87   0.24 -1.26 -0.49 0     0 -0.9  1.0"
      ]
     },
     "metadata": {},
     "output_type": "display_data"
    }
   ],
   "source": [
    "precis(MM.5.7,corr = TRUE)"
   ]
  },
  {
   "cell_type": "code",
   "execution_count": 169,
   "metadata": {},
   "outputs": [
    {
     "data": {
      "text/plain": [
       "       Mean StdDev  5.5% 94.5% a sigma    b1    b2\n",
       "a      4.53   0.10  4.36  4.70 1     0  0.00  0.00\n",
       "sigma  1.12   0.07  1.00  1.24 0     1  0.00  0.00\n",
       "b1    -0.67   0.19 -0.96 -0.37 0     0  1.00 -0.83\n",
       "b2     0.57   0.19  0.28  0.87 0     0 -0.83  1.00"
      ]
     },
     "metadata": {},
     "output_type": "display_data"
    }
   ],
   "source": [
    "precis(MM.5.7.2.1,corr = TRUE)"
   ]
  },
  {
   "cell_type": "code",
   "execution_count": 170,
   "metadata": {},
   "outputs": [
    {
     "data": {
      "text/plain": [
       "       Mean StdDev  5.5% 94.5% a sigma     b    b1    b2\n",
       "a      4.53   0.10  4.37  4.69 1     0  0.00  0.00  0.00\n",
       "sigma  1.10   0.07  0.99  1.22 0     1  0.00  0.00  0.00\n",
       "b      0.50   0.29  0.04  0.96 0     0  1.00 -0.65 -0.56\n",
       "b1    -0.93   0.24 -1.32 -0.55 0     0 -0.65  1.00 -0.16\n",
       "b2     0.36   0.22  0.00  0.71 0     0 -0.56 -0.16  1.00"
      ]
     },
     "metadata": {},
     "output_type": "display_data"
    }
   ],
   "source": [
    "precis(MM.5.7.2,corr = TRUE)"
   ]
  },
  {
   "cell_type": "markdown",
   "metadata": {},
   "source": [
    "# Model Evaluation using topics from Chapter 6"
   ]
  },
  {
   "cell_type": "code",
   "execution_count": 225,
   "metadata": {},
   "outputs": [
    {
     "data": {
      "text/plain": [
       "            WAIC pWAIC dWAIC weight    SE  dSE\n",
       "MM.5.7.2   362.8   5.3   0.0   0.40 16.66   NA\n",
       "MM.5.7.2.1 363.3   3.9   0.5   0.32 15.90 4.18\n",
       "MM.5.7     363.6   4.3   0.7   0.28 16.82 3.82"
      ]
     },
     "metadata": {},
     "output_type": "display_data"
    }
   ],
   "source": [
    "compare(MM.5.7,MM.5.7.2,MM.5.7.2.1)\n",
    "# MM.5.7.2    avgfood.s , groupsize.s , area.s\n",
    "# MM.5.7.2.1              groupsize.s , area.s\n",
    "# MM.5.7      avgfood.s , groupsize.s"
   ]
  },
  {
   "cell_type": "code",
   "execution_count": 194,
   "metadata": {},
   "outputs": [
    {
     "data": {
      "text/plain": [
       "\n",
       "Maximum a posteriori (MAP) model fit\n",
       "\n",
       "Formula:\n",
       "weight ~ dnorm(mu, sigma)\n",
       "mu <- a + b * avgfood.s + b1 * groupsize.s + b2 * area.s\n",
       "a ~ dnorm(4, 100)\n",
       "b ~ dnorm(0, 10)\n",
       "b1 ~ dnorm(0, 10)\n",
       "b2 ~ dnorm(0, 10)\n",
       "sigma ~ dunif(0, 50)\n",
       "\n",
       "MAP values:\n",
       "         a      sigma          b         b1         b2 \n",
       " 4.5296546  1.1043481  0.4968569 -0.9342001  0.3573862 \n",
       "\n",
       "Log-likelihood: -176.11 "
      ]
     },
     "metadata": {},
     "output_type": "display_data"
    }
   ],
   "source": [
    "MM.5.7.2"
   ]
  },
  {
   "cell_type": "code",
   "execution_count": 175,
   "metadata": {},
   "outputs": [],
   "source": [
    "comp.models <- compare(MM.5.7,MM.5.7.2,MM.5.7.2.1)"
   ]
  },
  {
   "cell_type": "code",
   "execution_count": 177,
   "metadata": {},
   "outputs": [
    {
     "data": {
      "image/png": "[encoded data removed]",
      "text/plain": [
       "plot without title"
      ]
     },
     "metadata": {},
     "output_type": "display_data"
    }
   ],
   "source": [
    "plot(comp.models, SE=TRUE, dSE=TRUE)"
   ]
  },
  {
   "cell_type": "code",
   "execution_count": 178,
   "metadata": {},
   "outputs": [
    {
     "data": {
      "text/plain": [
       "      MM.5.7  MM.5.7.2 MM.5.7.2.1\n",
       "a        4.53    4.53     4.53   \n",
       "sigma    1.12    1.10     1.12   \n",
       "b        0.76    0.50       NA   \n",
       "b1      -0.87   -0.93    -0.67   \n",
       "b2         NA    0.36     0.57   \n",
       "nobs      116     116      116   "
      ]
     },
     "metadata": {},
     "output_type": "display_data"
    }
   ],
   "source": [
    "coeftab(MM.5.7,MM.5.7.2,MM.5.7.2.1)"
   ]
  },
  {
   "cell_type": "code",
   "execution_count": 179,
   "metadata": {},
   "outputs": [
    {
     "data": {
      "image/png": "[encoded data removed]",
      "text/plain": [
       "plot without title"
      ]
     },
     "metadata": {},
     "output_type": "display_data"
    }
   ],
   "source": [
    "plot(coeftab(MM.5.7,MM.5.7.2,MM.5.7.2.1))"
   ]
  },
  {
   "cell_type": "code",
   "execution_count": null,
   "metadata": {
    "collapsed": true
   },
   "outputs": [],
   "source": [
    "models.ensemble <- ensemble(MM.5.7,MM.5.7.2,MM.5.7.2.1)"
   ]
  },
  {
   "cell_type": "code",
   "execution_count": 180,
   "metadata": {},
   "outputs": [
    {
     "data": {
      "text/plain": [
       "\n",
       "Maximum a posteriori (MAP) model fit\n",
       "\n",
       "Formula:\n",
       "weight ~ dnorm(mu, sigma)\n",
       "mu <- a + b * avgfood.s + b1 * groupsize.s + b2 * area.s\n",
       "a ~ dnorm(4, 100)\n",
       "b ~ dnorm(0, 10)\n",
       "b1 ~ dnorm(0, 10)\n",
       "b2 ~ dnorm(0, 10)\n",
       "sigma ~ dunif(0, 50)\n",
       "\n",
       "MAP values:\n",
       "         a      sigma          b         b1         b2 \n",
       " 4.5296546  1.1043481  0.4968569 -0.9342001  0.3573862 \n",
       "\n",
       "Log-likelihood: -176.11 "
      ]
     },
     "metadata": {},
     "output_type": "display_data"
    }
   ],
   "source": [
    "MM.5.7.2"
   ]
  },
  {
   "cell_type": "raw",
   "metadata": {},
   "source": [
    "Below is"
   ]
  },
  {
   "cell_type": "code",
   "execution_count": 217,
   "metadata": {},
   "outputs": [
    {
     "name": "stdout",
     "output_type": "stream",
     "text": [
      "[ 100 / 1000 ]\r",
      "[ 200 / 1000 ]\r",
      "[ 300 / 1000 ]\r",
      "[ 400 / 1000 ]\r",
      "[ 500 / 1000 ]\r",
      "[ 600 / 1000 ]\r",
      "[ 700 / 1000 ]\r",
      "[ 800 / 1000 ]\r",
      "[ 900 / 1000 ]\r",
      "[ 1000 / 1000 ]\r\n"
     ]
    },
    {
     "name": "stderr",
     "output_type": "stream",
     "text": [
      "Constructing posterior predictions\n"
     ]
    },
    {
     "name": "stdout",
     "output_type": "stream",
     "text": [
      "[ 100 / 1000 ]\r",
      "[ 200 / 1000 ]\r",
      "[ 300 / 1000 ]\r",
      "[ 400 / 1000 ]\r",
      "[ 500 / 1000 ]\r",
      "[ 600 / 1000 ]\r",
      "[ 700 / 1000 ]\r",
      "[ 800 / 1000 ]\r",
      "[ 900 / 1000 ]\r",
      "[ 1000 / 1000 ]\r\n"
     ]
    },
    {
     "name": "stderr",
     "output_type": "stream",
     "text": [
      "Constructing posterior predictions\n"
     ]
    },
    {
     "name": "stdout",
     "output_type": "stream",
     "text": [
      "[ 100 / 1000 ]\r",
      "[ 200 / 1000 ]\r",
      "[ 300 / 1000 ]\r",
      "[ 400 / 1000 ]\r",
      "[ 500 / 1000 ]\r",
      "[ 600 / 1000 ]\r",
      "[ 700 / 1000 ]\r",
      "[ 800 / 1000 ]\r",
      "[ 900 / 1000 ]\r",
      "[ 1000 / 1000 ]\r\n"
     ]
    },
    {
     "name": "stderr",
     "output_type": "stream",
     "text": [
      "Constructing posterior predictions\n"
     ]
    },
    {
     "name": "stdout",
     "output_type": "stream",
     "text": [
      "[ 100 / 1000 ]\r",
      "[ 200 / 1000 ]\r",
      "[ 300 / 1000 ]\r",
      "[ 400 / 1000 ]\r",
      "[ 500 / 1000 ]\r",
      "[ 600 / 1000 ]\r",
      "[ 700 / 1000 ]\r",
      "[ 800 / 1000 ]\r",
      "[ 900 / 1000 ]\r",
      "[ 1000 / 1000 ]\r\n"
     ]
    },
    {
     "data": {
      "image/png": "[encoded data removed]",
      "text/plain": [
       "plot without title"
      ]
     },
     "metadata": {},
     "output_type": "display_data"
    }
   ],
   "source": [
    "## R code 6.29\n",
    "# compute counterfactual predictions\n",
    "# neocortex from 0.5 to 0.8\n",
    "#nc.seq <- seq(from=0.5,to=0.8,length.out=30)\n",
    "avgfood.seq<-seq(from=min(Fx$avgfood.s),to=max(Fx$avgfood.s), length.out=1e3)\n",
    "d.predict <- list(\n",
    "    weight = rep(0,1e3), # empty outcome\n",
    "    avgfood.s = avgfood.seq,     # sequence of neocortex\n",
    "    groupsize.s=rep(mean(Fx$groupsize.s),1e3),\n",
    "    area.s = rep(mean(Fx$area.s),1e3)\n",
    "#    mass = rep(4.5,30)      # average mass\n",
    ")\n",
    "pred.m6.14 <- link( MM.5.7.2 , data=d.predict )\n",
    "mu <- apply( pred.m6.14 , 2 , mean )\n",
    "mu.PI <- apply( pred.m6.14 , 2 , PI )\n",
    "\n",
    "# plot it all\n",
    "plot( weight ~ avgfood.s , Fx , col=rangi2 )\n",
    "lines( avgfood.seq , mu , lty=2 )\n",
    "lines( avgfood.seq , mu.PI[1,] , lty=2 )\n",
    "lines( avgfood.seq , mu.PI[2,] , lty=2 )\n",
    "\n",
    "models.ensemble1 <- ensemble( MM.5.7,MM.5.7.2,MM.5.7.2.1 , data=d.predict )\n",
    "mu <- apply( models.ensemble1$link , 2 , mean )\n",
    "mu.PI <- apply( models.ensemble1$link , 2 , PI )\n",
    "sim.pi <- apply( models.ensemble1$sim , 2 , PI )\n",
    "\n",
    "lines( avgfood.seq , mu )\n",
    "shade( mu.PI , avgfood.seq )\n",
    "shade( sim.pi , avgfood.seq )"
   ]
  },
  {
   "cell_type": "code",
   "execution_count": 221,
   "metadata": {},
   "outputs": [
    {
     "name": "stdout",
     "output_type": "stream",
     "text": [
      "[ 100 / 1000 ]\r",
      "[ 200 / 1000 ]\r",
      "[ 300 / 1000 ]\r",
      "[ 400 / 1000 ]\r",
      "[ 500 / 1000 ]\r",
      "[ 600 / 1000 ]\r",
      "[ 700 / 1000 ]\r",
      "[ 800 / 1000 ]\r",
      "[ 900 / 1000 ]\r",
      "[ 1000 / 1000 ]\r\n"
     ]
    },
    {
     "name": "stderr",
     "output_type": "stream",
     "text": [
      "Constructing posterior predictions\n"
     ]
    },
    {
     "name": "stdout",
     "output_type": "stream",
     "text": [
      "[ 100 / 1000 ]\r",
      "[ 200 / 1000 ]\r",
      "[ 300 / 1000 ]\r",
      "[ 400 / 1000 ]\r",
      "[ 500 / 1000 ]\r",
      "[ 600 / 1000 ]\r",
      "[ 700 / 1000 ]\r",
      "[ 800 / 1000 ]\r",
      "[ 900 / 1000 ]\r",
      "[ 1000 / 1000 ]\r\n"
     ]
    },
    {
     "name": "stderr",
     "output_type": "stream",
     "text": [
      "Constructing posterior predictions\n"
     ]
    },
    {
     "name": "stdout",
     "output_type": "stream",
     "text": [
      "[ 100 / 1000 ]\r",
      "[ 200 / 1000 ]\r",
      "[ 300 / 1000 ]\r",
      "[ 400 / 1000 ]\r",
      "[ 500 / 1000 ]\r",
      "[ 600 / 1000 ]\r",
      "[ 700 / 1000 ]\r",
      "[ 800 / 1000 ]\r",
      "[ 900 / 1000 ]\r",
      "[ 1000 / 1000 ]\r\n"
     ]
    },
    {
     "name": "stderr",
     "output_type": "stream",
     "text": [
      "Constructing posterior predictions\n"
     ]
    },
    {
     "name": "stdout",
     "output_type": "stream",
     "text": [
      "[ 100 / 1000 ]\r",
      "[ 200 / 1000 ]\r",
      "[ 300 / 1000 ]\r",
      "[ 400 / 1000 ]\r",
      "[ 500 / 1000 ]\r",
      "[ 600 / 1000 ]\r",
      "[ 700 / 1000 ]\r",
      "[ 800 / 1000 ]\r",
      "[ 900 / 1000 ]\r",
      "[ 1000 / 1000 ]\r\n"
     ]
    },
    {
     "data": {
      "image/png": "[encoded data removed]",
      "text/plain": [
       "plot without title"
      ]
     },
     "metadata": {},
     "output_type": "display_data"
    }
   ],
   "source": [
    "## R code 6.29\n",
    "# compute counterfactual predictions\n",
    "# neocortex from 0.5 to 0.8\n",
    "#nc.seq <- seq(from=0.5,to=0.8,length.out=30)\n",
    "area.seq<-seq(from=min(Fx$area.s),to=max(Fx$area.s), length.out=1e3)\n",
    "d.predict <- list(\n",
    "    weight = rep(0,1e3), # empty outcome\n",
    "    avgfood.s = rep(mean(Fx$avgfood.s),1e3),     # sequence of neocortex\n",
    "    groupsize.s=rep(mean(Fx$groupsize.s),1e3),\n",
    "    area.s = area.seq #rep(mean(Fx$area.s),1e3)\n",
    "#    mass = rep(4.5,30)      # average mass\n",
    ")\n",
    "pred.m6.14 <- link( MM.5.7.2 , data=d.predict )\n",
    "mu <- apply( pred.m6.14 , 2 , mean )\n",
    "mu.PI <- apply( pred.m6.14 , 2 , PI )\n",
    "\n",
    "# plot it all\n",
    "plot( weight ~ area.s , Fx , col=rangi2 )\n",
    "lines( area.seq , mu , lty=2 )\n",
    "lines( area.seq , mu.PI[1,] , lty=2 )\n",
    "lines( area.seq , mu.PI[2,] , lty=2 )\n",
    "\n",
    "models.ensemble1 <- ensemble( MM.5.7,MM.5.7.2,MM.5.7.2.1 , data=d.predict )\n",
    "mu <- apply( models.ensemble1$link , 2 , mean )\n",
    "mu.PI <- apply( models.ensemble1$link , 2 , PI )\n",
    "sim.pi <- apply( models.ensemble1$sim , 2 , PI )\n",
    "\n",
    "lines( area.seq , mu )\n",
    "shade( mu.PI , area.seq )\n",
    "shade( sim.pi , area.seq )"
   ]
  },
  {
   "cell_type": "markdown",
   "metadata": {},
   "source": [
    "# Conclusion"
   ]
  },
  {
   "cell_type": "markdown",
   "metadata": {},
   "source": [
    "Based on Compare() they're all terrible but the model with all 3 variables is the best.\n",
    "<p>Followed by the groupsize & area model (MM.5.7.2.1)\n",
    "<p>Feature selection: Groupsize better of the 3 and avg and area both terrible but are better than groupsize alone."
   ]
  },
  {
   "cell_type": "code",
   "execution_count": 237,
   "metadata": {},
   "outputs": [
    {
     "data": {
      "text/plain": [
       "            WAIC pWAIC dWAIC weight    SE  dSE\n",
       "MM.5.7.2   363.2   5.5   0.0   0.36 16.75   NA\n",
       "MM.5.7.2.1 363.3   4.0   0.1   0.34 16.00 4.18\n",
       "MM.5.7     363.5   4.3   0.3   0.30 16.61 3.84"
      ]
     },
     "metadata": {},
     "output_type": "display_data"
    }
   ],
   "source": [
    "#Based on compare they all suck but the model with all 3 is the best.\n",
    "#Groupsize better of the 3 and avg and area both terrible\n",
    "compare(MM.5.7,MM.5.7.2,MM.5.7.2.1)\n",
    "# MM.5.7.2    avgfood.s , groupsize.s , area.s\n",
    "# MM.5.7.2.1              groupsize.s , area.s\n",
    "# MM.5.7      avgfood.s , groupsize.s"
   ]
  },
  {
   "cell_type": "code",
   "execution_count": null,
   "metadata": {
    "collapsed": true
   },
   "outputs": [],
   "source": []
  }
 ],
 "metadata": {
  "kernelspec": {
   "display_name": "R",
   "language": "R",
   "name": "ir"
  },
  "language_info": {
   "codemirror_mode": "r",
   "file_extension": ".r",
   "mimetype": "text/x-r-source",
   "name": "R",
   "pygments_lexer": "r",
   "version": "3.3.1"
  }
 },
 "nbformat": 4,
 "nbformat_minor": 2
}
