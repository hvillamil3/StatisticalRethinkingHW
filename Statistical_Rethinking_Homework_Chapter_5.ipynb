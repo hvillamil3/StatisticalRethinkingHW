{
 "cells": [
  {
   "cell_type": "code",
   "execution_count": 1,
   "metadata": {},
   "outputs": [
    {
     "name": "stderr",
     "output_type": "stream",
     "text": [
      "Loading required package: rstan\n",
      "Warning message:\n",
      "\"package 'rstan' was built under R version 3.3.2\"Loading required package: ggplot2\n",
      "Warning message:\n",
      "\"package 'ggplot2' was built under R version 3.3.2\"Loading required package: StanHeaders\n",
      "Warning message:\n",
      "\"package 'StanHeaders' was built under R version 3.3.2\"rstan (Version 2.13.2, packaged: 2016-12-18 07:04:42 UTC, GitRev: 5fa1e80eb817)\n",
      "For execution on a local, multicore CPU with excess RAM we recommend calling\n",
      "rstan_options(auto_write = TRUE)\n",
      "options(mc.cores = parallel::detectCores())\n",
      "Loading required package: parallel\n",
      "rethinking (Version 1.59)\n"
     ]
    }
   ],
   "source": [
    "library(rethinking)\n",
    "#options(repr.plot.width = 1, repr.plot.height = 0.75)"
   ]
  },
  {
   "cell_type": "code",
   "execution_count": 2,
   "metadata": {
    "collapsed": true
   },
   "outputs": [],
   "source": [
    "data(foxes)"
   ]
  },
  {
   "cell_type": "raw",
   "metadata": {
    "collapsed": true
   },
   "source": [
    "All three exercises below use the same data, data(foxes)(partof rethinking).\n",
    "The urban fox (Vulpesvulpes) is a successful exploiter of human habitat.\n",
    "\n",
    "Since urban foxes move in packs and defend territories, data on habitat quality and population density is also included. The dataframe has five columns: \n",
    "\n",
    "            (1) group: Number of the social group the individual fox belongs to\n",
    "            (2) avgfood: The average amount of food available in the territory\n",
    "            (3) groupsize: The number of foxes in the social group\n",
    "            (4) area: Size of the territory \n",
    "            (5) weight: Body weight of the individual fox"
   ]
  },
  {
   "cell_type": "code",
   "execution_count": 3,
   "metadata": {
    "collapsed": true
   },
   "outputs": [],
   "source": [
    "Fx <- foxes"
   ]
  },
  {
   "cell_type": "code",
   "execution_count": 4,
   "metadata": {
    "collapsed": true
   },
   "outputs": [],
   "source": [
    "Fx$avgfood.s <- (Fx$avgfood - mean(Fx$avgfood))/sd(Fx$avgfood)\n",
    "Fx$groupsize.s <- (Fx$groupsize - mean(Fx$groupsize))/sd(Fx$groupsize)\n",
    "Fx$area.s <- (Fx$area - mean(Fx$area))/sd(Fx$area)\n",
    "Fx$weight.s <- (Fx$weight - mean(Fx$weight))/sd(Fx$weight)"
   ]
  },
  {
   "cell_type": "code",
   "execution_count": 5,
   "metadata": {},
   "outputs": [
    {
     "data": {
      "text/html": [
       "<table>\n",
       "<thead><tr><th scope=col>group</th><th scope=col>avgfood</th><th scope=col>groupsize</th><th scope=col>area</th><th scope=col>weight</th><th scope=col>avgfood.s</th><th scope=col>groupsize.s</th><th scope=col>area.s</th><th scope=col>weight.s</th></tr></thead>\n",
       "<tbody>\n",
       "\t<tr><td>1         </td><td>0.37      </td><td>2         </td><td>1.09      </td><td>5.02      </td><td>-1.924829 </td><td>-1.524089 </td><td>-2.239596 </td><td> 0.4141347</td></tr>\n",
       "\t<tr><td>1         </td><td>0.37      </td><td>2         </td><td>1.09      </td><td>2.84      </td><td>-1.924829 </td><td>-1.524089 </td><td>-2.239596 </td><td>-1.4270464</td></tr>\n",
       "\t<tr><td>2         </td><td>0.53      </td><td>2         </td><td>2.05      </td><td>5.33      </td><td>-1.118035 </td><td>-1.524089 </td><td>-1.205508 </td><td> 0.6759540</td></tr>\n",
       "\t<tr><td>2         </td><td>0.53      </td><td>2         </td><td>2.05      </td><td>6.07      </td><td>-1.118035 </td><td>-1.524089 </td><td>-1.205508 </td><td> 1.3009421</td></tr>\n",
       "\t<tr><td>3         </td><td>0.49      </td><td>2         </td><td>2.12      </td><td>5.85      </td><td>-1.319734 </td><td>-1.524089 </td><td>-1.130106 </td><td> 1.1151348</td></tr>\n",
       "\t<tr><td>3         </td><td>0.49      </td><td>2         </td><td>2.12      </td><td>3.25      </td><td>-1.319734 </td><td>-1.524089 </td><td>-1.130106 </td><td>-1.0807692</td></tr>\n",
       "</tbody>\n",
       "</table>\n"
      ],
      "text/latex": [
       "\\begin{tabular}{r|lllllllll}\n",
       " group & avgfood & groupsize & area & weight & avgfood.s & groupsize.s & area.s & weight.s\\\\\n",
       "\\hline\n",
       "\t 1          & 0.37       & 2          & 1.09       & 5.02       & -1.924829  & -1.524089  & -2.239596  &  0.4141347\\\\\n",
       "\t 1          & 0.37       & 2          & 1.09       & 2.84       & -1.924829  & -1.524089  & -2.239596  & -1.4270464\\\\\n",
       "\t 2          & 0.53       & 2          & 2.05       & 5.33       & -1.118035  & -1.524089  & -1.205508  &  0.6759540\\\\\n",
       "\t 2          & 0.53       & 2          & 2.05       & 6.07       & -1.118035  & -1.524089  & -1.205508  &  1.3009421\\\\\n",
       "\t 3          & 0.49       & 2          & 2.12       & 5.85       & -1.319734  & -1.524089  & -1.130106  &  1.1151348\\\\\n",
       "\t 3          & 0.49       & 2          & 2.12       & 3.25       & -1.319734  & -1.524089  & -1.130106  & -1.0807692\\\\\n",
       "\\end{tabular}\n"
      ],
      "text/markdown": [
       "\n",
       "group | avgfood | groupsize | area | weight | avgfood.s | groupsize.s | area.s | weight.s | \n",
       "|---|---|---|---|---|---|\n",
       "| 1          | 0.37       | 2          | 1.09       | 5.02       | -1.924829  | -1.524089  | -2.239596  |  0.4141347 | \n",
       "| 1          | 0.37       | 2          | 1.09       | 2.84       | -1.924829  | -1.524089  | -2.239596  | -1.4270464 | \n",
       "| 2          | 0.53       | 2          | 2.05       | 5.33       | -1.118035  | -1.524089  | -1.205508  |  0.6759540 | \n",
       "| 2          | 0.53       | 2          | 2.05       | 6.07       | -1.118035  | -1.524089  | -1.205508  |  1.3009421 | \n",
       "| 3          | 0.49       | 2          | 2.12       | 5.85       | -1.319734  | -1.524089  | -1.130106  |  1.1151348 | \n",
       "| 3          | 0.49       | 2          | 2.12       | 3.25       | -1.319734  | -1.524089  | -1.130106  | -1.0807692 | \n",
       "\n",
       "\n"
      ],
      "text/plain": [
       "  group avgfood groupsize area weight avgfood.s groupsize.s area.s   \n",
       "1 1     0.37    2         1.09 5.02   -1.924829 -1.524089   -2.239596\n",
       "2 1     0.37    2         1.09 2.84   -1.924829 -1.524089   -2.239596\n",
       "3 2     0.53    2         2.05 5.33   -1.118035 -1.524089   -1.205508\n",
       "4 2     0.53    2         2.05 6.07   -1.118035 -1.524089   -1.205508\n",
       "5 3     0.49    2         2.12 5.85   -1.319734 -1.524089   -1.130106\n",
       "6 3     0.49    2         2.12 3.25   -1.319734 -1.524089   -1.130106\n",
       "  weight.s  \n",
       "1  0.4141347\n",
       "2 -1.4270464\n",
       "3  0.6759540\n",
       "4  1.3009421\n",
       "5  1.1151348\n",
       "6 -1.0807692"
      ]
     },
     "metadata": {},
     "output_type": "display_data"
    }
   ],
   "source": [
    "head(Fx)"
   ]
  },
  {
   "cell_type": "code",
   "execution_count": 6,
   "metadata": {},
   "outputs": [
    {
     "data": {
      "text/plain": [
       "    Min.  1st Qu.   Median     Mean  3rd Qu.     Max. \n",
       "-2.24000 -0.62380 -0.04216  0.00000  0.64990  2.04800 "
      ]
     },
     "metadata": {},
     "output_type": "display_data"
    }
   ],
   "source": [
    "summary(Fx$area.s)"
   ]
  },
  {
   "cell_type": "raw",
   "metadata": {},
   "source": [
    "5.7.10. Bivariate entrée. Fit two bivariate Gaussian regressions,using map: \n",
    "    \n",
    "    (1)bodyweight as a linear function of territory size (area)\n",
    "    , and \n",
    "    (2) body weight as a linear function of groupsize.\n",
    "\n",
    "Plot the results of these regressions, displaying the MAP regression line and the 95% confidence interval of the mean. Is either variable important for predicting fox body weight? "
   ]
  },
  {
   "cell_type": "code",
   "execution_count": 7,
   "metadata": {},
   "outputs": [
    {
     "name": "stdout",
     "output_type": "stream",
     "text": [
      "[ 1000 / 1000 ]\n",
      "[ 10000 / 10000 ]\n"
     ]
    }
   ],
   "source": [
    "#(1) \n",
    "area.Model <- map( \n",
    "    alist( \n",
    "        weight ~ dnorm( mu , sigma ),\n",
    "        mu <- a + b * area.s ,\n",
    "        a ~ dnorm( 4 , 100 ) ,\n",
    "        b ~ dnorm( 0 , 10 ) ,       \n",
    "        sigma ~ dunif( 0 , 50 ) ) ,\n",
    "    data=Fx , start=list( a=mean(Fx$weight) , sigma=sd(Fx$weight) , b=0 ) )\n",
    "\n",
    "area.seq<-seq(from=min(Fx$area.s) ,to=max(Fx$area.s) ,by=.5)\n",
    "\n",
    "#Draw parameter samples from posterior. There's variance/uncertainty in mu.\n",
    "mu <- link( area.Model , data=data.frame(area.s=area.seq) )\n",
    "#Draw Prediction Simulations from psterior. There's variance/uncertainty in prediction/outcome.\n",
    "sim.weight <- sim( area.Model , data=data.frame(area.s=area.seq),   n=1e4  ) "
   ]
  },
  {
   "cell_type": "code",
   "execution_count": 8,
   "metadata": {},
   "outputs": [
    {
     "data": {
      "text/html": [
       "<dl class=dl-horizontal>\n",
       "\t<dt>|0.97</dt>\n",
       "\t\t<dd>1.82949583738704</dd>\n",
       "\t<dt>|0.89</dt>\n",
       "\t\t<dd>2.59610628544059</dd>\n",
       "\t<dt>|0.5</dt>\n",
       "\t\t<dd>3.57843696100792</dd>\n",
       "\t<dt>0.5|</dt>\n",
       "\t\t<dd>3.67642607610858</dd>\n",
       "\t<dt>0.89|</dt>\n",
       "\t\t<dd>2.68201306137422</dd>\n",
       "\t<dt>0.97|</dt>\n",
       "\t\t<dd>1.91972364837265</dd>\n",
       "</dl>\n"
      ],
      "text/latex": [
       "\\begin{description*}\n",
       "\\item[\\textbackslash{}textbar\\{\\}0.97] 1.82949583738704\n",
       "\\item[\\textbackslash{}textbar\\{\\}0.89] 2.59610628544059\n",
       "\\item[\\textbackslash{}textbar\\{\\}0.5] 3.57843696100792\n",
       "\\item[0.5\\textbackslash{}textbar\\{\\}] 3.67642607610858\n",
       "\\item[0.89\\textbackslash{}textbar\\{\\}] 2.68201306137422\n",
       "\\item[0.97\\textbackslash{}textbar\\{\\}] 1.91972364837265\n",
       "\\end{description*}\n"
      ],
      "text/markdown": [
       "|0.97\n",
       ":   1.82949583738704|0.89\n",
       ":   2.59610628544059|0.5\n",
       ":   3.578436961007920.5|\n",
       ":   3.676426076108580.89|\n",
       ":   2.682013061374220.97|\n",
       ":   1.91972364837265\n",
       "\n"
      ],
      "text/plain": [
       "   |0.97    |0.89     |0.5     0.5|    0.89|    0.97| \n",
       "1.829496 2.596106 3.578437 3.676426 2.682013 1.919724 "
      ]
     },
     "metadata": {},
     "output_type": "display_data"
    },
    {
     "data": {
      "text/html": [
       "<dl class=dl-horizontal>\n",
       "\t<dt>|0.97</dt>\n",
       "\t\t<dd>1.92</dd>\n",
       "\t<dt>|0.89</dt>\n",
       "\t\t<dd>2.78</dd>\n",
       "\t<dt>|0.5</dt>\n",
       "\t\t<dd>3.25</dd>\n",
       "\t<dt>0.5|</dt>\n",
       "\t\t<dd>4.84</dd>\n",
       "\t<dt>0.89|</dt>\n",
       "\t\t<dd>6.31</dd>\n",
       "\t<dt>0.97|</dt>\n",
       "\t\t<dd>6.86</dd>\n",
       "</dl>\n"
      ],
      "text/latex": [
       "\\begin{description*}\n",
       "\\item[\\textbackslash{}textbar\\{\\}0.97] 1.92\n",
       "\\item[\\textbackslash{}textbar\\{\\}0.89] 2.78\n",
       "\\item[\\textbackslash{}textbar\\{\\}0.5] 3.25\n",
       "\\item[0.5\\textbackslash{}textbar\\{\\}] 4.84\n",
       "\\item[0.89\\textbackslash{}textbar\\{\\}] 6.31\n",
       "\\item[0.97\\textbackslash{}textbar\\{\\}] 6.86\n",
       "\\end{description*}\n"
      ],
      "text/markdown": [
       "|0.97\n",
       ":   1.92|0.89\n",
       ":   2.78|0.5\n",
       ":   3.250.5|\n",
       ":   4.840.89|\n",
       ":   6.310.97|\n",
       ":   6.86\n",
       "\n"
      ],
      "text/plain": [
       "|0.97 |0.89  |0.5  0.5| 0.89| 0.97| \n",
       " 1.92  2.78  3.25  4.84  6.31  6.86 "
      ]
     },
     "metadata": {},
     "output_type": "display_data"
    }
   ],
   "source": [
    "HPDI(samples = sim.weight, prob = c(.5, .89, .97))\n",
    "HPDI(samples = Fx$weight,prob = c(.5, .89, .97) )"
   ]
  },
  {
   "cell_type": "code",
   "execution_count": 9,
   "metadata": {},
   "outputs": [
    {
     "data": {
      "text/html": [
       "4.52965517241379"
      ],
      "text/latex": [
       "4.52965517241379"
      ],
      "text/markdown": [
       "4.52965517241379"
      ],
      "text/plain": [
       "[1] 4.529655"
      ]
     },
     "metadata": {},
     "output_type": "display_data"
    },
    {
     "data": {
      "text/html": [
       "4.518910405912"
      ],
      "text/latex": [
       "4.518910405912"
      ],
      "text/markdown": [
       "4.518910405912"
      ],
      "text/plain": [
       "[1] 4.51891"
      ]
     },
     "metadata": {},
     "output_type": "display_data"
    }
   ],
   "source": [
    "mean(Fx$weight)\n",
    "mean(sim.weight)"
   ]
  },
  {
   "cell_type": "code",
   "execution_count": 10,
   "metadata": {},
   "outputs": [
    {
     "data": {
      "text/plain": [
       "\n",
       "Maximum a posteriori (MAP) model fit\n",
       "\n",
       "Formula:\n",
       "weight ~ dnorm(mu, sigma)\n",
       "mu <- a + b * area.s\n",
       "a ~ dnorm(4, 100)\n",
       "b ~ dnorm(0, 10)\n",
       "sigma ~ dunif(0, 50)\n",
       "\n",
       "MAP values:\n",
       "        a     sigma         b \n",
       "4.5296347 1.1786856 0.0230584 \n",
       "\n",
       "Log-likelihood: -183.67 "
      ]
     },
     "metadata": {},
     "output_type": "display_data"
    }
   ],
   "source": [
    "area.Model"
   ]
  },
  {
   "cell_type": "code",
   "execution_count": 11,
   "metadata": {},
   "outputs": [
    {
     "data": {
      "image/png": "[encoded data removed]",
      "text/plain": [
       "plot without title"
      ]
     },
     "metadata": {},
     "output_type": "display_data"
    }
   ],
   "source": [
    "plot(weight~area.s, Fx)\n",
    "lines(area.seq,apply( mu , 2 , mean ), lty=2)\n",
    "shade(apply( sim.weight , 2 , HPDI, prob = 0.9 ),area.seq)\n",
    "shade(apply( mu , 2 , HPDI, prob = 0.9 ),area.seq)"
   ]
  },
  {
   "cell_type": "code",
   "execution_count": 12,
   "metadata": {},
   "outputs": [
    {
     "name": "stdout",
     "output_type": "stream",
     "text": [
      "[ 1000 / 1000 ]\n",
      "[ 10000 / 10000 ]\n"
     ]
    }
   ],
   "source": [
    "#(2) \n",
    "groupsize.Model <- map( \n",
    "    alist( \n",
    "        weight ~ dnorm( mu , sigma ),\n",
    "        mu <- a + b*groupsize.s ,\n",
    "        a ~ dnorm( 4 , 100 ) ,\n",
    "        b ~ dnorm( 0 , 10 ) ,       \n",
    "        sigma ~ dunif( 0 , 50 ) ) ,\n",
    "    data=Fx , start=list( a=mean(Fx$weight) , sigma=sd(Fx$weight) , b=0 ) )\n",
    "\n",
    "size.seq<-seq(from= min(Fx$groupsize.s),to= max(Fx$groupsize.s),by=.5)\n",
    "\n",
    "#Draw parameter samples from posterior. There's variance/uncertainty in mu.\n",
    "mu1 <- link( groupsize.Model , data=data.frame(groupsize.s=size.seq) )\n",
    "#Draw Prediction Simulations from psterior. There's variance/uncertainty in prediction/outcome.\n",
    "sim.weight1 <- sim( groupsize.Model , data=data.frame(groupsize.s=size.seq),   n=1e4  ) "
   ]
  },
  {
   "cell_type": "code",
   "execution_count": 13,
   "metadata": {},
   "outputs": [
    {
     "data": {
      "text/html": [
       "<dl class=dl-horizontal>\n",
       "\t<dt>|0.97</dt>\n",
       "\t\t<dd>2.25330074415039</dd>\n",
       "\t<dt>|0.89</dt>\n",
       "\t\t<dd>2.95356819371031</dd>\n",
       "\t<dt>|0.5</dt>\n",
       "\t\t<dd>4.10555742780007</dd>\n",
       "\t<dt>0.5|</dt>\n",
       "\t\t<dd>3.89373794949216</dd>\n",
       "\t<dt>0.89|</dt>\n",
       "\t\t<dd>2.92184033186359</dd>\n",
       "\t<dt>0.97|</dt>\n",
       "\t\t<dd>2.13385655929673</dd>\n",
       "</dl>\n"
      ],
      "text/latex": [
       "\\begin{description*}\n",
       "\\item[\\textbackslash{}textbar\\{\\}0.97] 2.25330074415039\n",
       "\\item[\\textbackslash{}textbar\\{\\}0.89] 2.95356819371031\n",
       "\\item[\\textbackslash{}textbar\\{\\}0.5] 4.10555742780007\n",
       "\\item[0.5\\textbackslash{}textbar\\{\\}] 3.89373794949216\n",
       "\\item[0.89\\textbackslash{}textbar\\{\\}] 2.92184033186359\n",
       "\\item[0.97\\textbackslash{}textbar\\{\\}] 2.13385655929673\n",
       "\\end{description*}\n"
      ],
      "text/markdown": [
       "|0.97\n",
       ":   2.25330074415039|0.89\n",
       ":   2.95356819371031|0.5\n",
       ":   4.105557427800070.5|\n",
       ":   3.893737949492160.89|\n",
       ":   2.921840331863590.97|\n",
       ":   2.13385655929673\n",
       "\n"
      ],
      "text/plain": [
       "   |0.97    |0.89     |0.5     0.5|    0.89|    0.97| \n",
       "2.253301 2.953568 4.105557 3.893738 2.921840 2.133857 "
      ]
     },
     "metadata": {},
     "output_type": "display_data"
    },
    {
     "data": {
      "text/html": [
       "<dl class=dl-horizontal>\n",
       "\t<dt>|0.97</dt>\n",
       "\t\t<dd>1.92</dd>\n",
       "\t<dt>|0.89</dt>\n",
       "\t\t<dd>2.78</dd>\n",
       "\t<dt>|0.5</dt>\n",
       "\t\t<dd>3.25</dd>\n",
       "\t<dt>0.5|</dt>\n",
       "\t\t<dd>4.84</dd>\n",
       "\t<dt>0.89|</dt>\n",
       "\t\t<dd>6.31</dd>\n",
       "\t<dt>0.97|</dt>\n",
       "\t\t<dd>6.86</dd>\n",
       "</dl>\n"
      ],
      "text/latex": [
       "\\begin{description*}\n",
       "\\item[\\textbackslash{}textbar\\{\\}0.97] 1.92\n",
       "\\item[\\textbackslash{}textbar\\{\\}0.89] 2.78\n",
       "\\item[\\textbackslash{}textbar\\{\\}0.5] 3.25\n",
       "\\item[0.5\\textbackslash{}textbar\\{\\}] 4.84\n",
       "\\item[0.89\\textbackslash{}textbar\\{\\}] 6.31\n",
       "\\item[0.97\\textbackslash{}textbar\\{\\}] 6.86\n",
       "\\end{description*}\n"
      ],
      "text/markdown": [
       "|0.97\n",
       ":   1.92|0.89\n",
       ":   2.78|0.5\n",
       ":   3.250.5|\n",
       ":   4.840.89|\n",
       ":   6.310.97|\n",
       ":   6.86\n",
       "\n"
      ],
      "text/plain": [
       "|0.97 |0.89  |0.5  0.5| 0.89| 0.97| \n",
       " 1.92  2.78  3.25  4.84  6.31  6.86 "
      ]
     },
     "metadata": {},
     "output_type": "display_data"
    }
   ],
   "source": [
    "HPDI(samples = sim.weight1, prob = c(.5, .89, .97))\n",
    "HPDI(samples = Fx$weight,prob = c(.5, .89, .97) )"
   ]
  },
  {
   "cell_type": "code",
   "execution_count": 14,
   "metadata": {},
   "outputs": [
    {
     "data": {
      "text/html": [
       "4.52965517241379"
      ],
      "text/latex": [
       "4.52965517241379"
      ],
      "text/markdown": [
       "4.52965517241379"
      ],
      "text/plain": [
       "[1] 4.529655"
      ]
     },
     "metadata": {},
     "output_type": "display_data"
    },
    {
     "data": {
      "text/html": [
       "4.48457489564551"
      ],
      "text/latex": [
       "4.48457489564551"
      ],
      "text/markdown": [
       "4.48457489564551"
      ],
      "text/plain": [
       "[1] 4.484575"
      ]
     },
     "metadata": {},
     "output_type": "display_data"
    }
   ],
   "source": [
    "mean(Fx$weight)\n",
    "mean(sim.weight1)"
   ]
  },
  {
   "cell_type": "code",
   "execution_count": 15,
   "metadata": {},
   "outputs": [
    {
     "data": {
      "text/plain": [
       "\n",
       "Maximum a posteriori (MAP) model fit\n",
       "\n",
       "Formula:\n",
       "weight ~ dnorm(mu, sigma)\n",
       "mu <- a + b * groupsize.s\n",
       "a ~ dnorm(4, 100)\n",
       "b ~ dnorm(0, 10)\n",
       "sigma ~ dunif(0, 50)\n",
       "\n",
       "MAP values:\n",
       "         a      sigma          b \n",
       " 4.5296747  1.1635647 -0.1906151 \n",
       "\n",
       "Log-likelihood: -182.17 "
      ]
     },
     "metadata": {},
     "output_type": "display_data"
    }
   ],
   "source": [
    "groupsize.Model"
   ]
  },
  {
   "cell_type": "code",
   "execution_count": 16,
   "metadata": {},
   "outputs": [
    {
     "data": {
      "image/png": "[encoded data removed]",
      "text/plain": [
       "plot without title"
      ]
     },
     "metadata": {},
     "output_type": "display_data"
    }
   ],
   "source": [
    "plot(weight~groupsize.s, Fx)\n",
    "lines(size.seq,apply( mu1 , 2 , mean ), lty=2)\n",
    "shade(apply( sim.weight1 , 2 , HPDI, prob = 0.9 ),size.seq)\n",
    "shade(apply( mu1 , 2 , HPDI, prob = 0.9 ),size.seq)"
   ]
  },
  {
   "cell_type": "raw",
   "metadata": {},
   "source": [
    "5.7.11. Multivariate course. \n",
    "\n",
    "Now fit a multiple linear regression with weight as the outcome and both area and group size as predictor variables. \n",
    "\n",
    "Plot the predictions of the model for each predictor, holding the other predictor constantat its mean. \n",
    "\n",
    "What does this model say about the importance of each variable? \n",
    "\n",
    "Why do you get diﬀerent results than you got in exercise just above?"
   ]
  },
  {
   "cell_type": "code",
   "execution_count": 17,
   "metadata": {
    "collapsed": true
   },
   "outputs": [],
   "source": [
    "#(1) \n",
    "Multi.Model <- map( \n",
    "    alist( \n",
    "        weight ~ dnorm( mu , sigma ),\n",
    "        mu <- a + b*area.s +b1*groupsize.s,\n",
    "        a ~ dnorm( 4 , 100 ) ,\n",
    "        b ~ dnorm( 0 , 10 ) , \n",
    "        b1 ~ dnorm( 0 , 10 ) , \n",
    "        sigma ~ dunif( 0 , 50 ) ) ,\n",
    "    data=Fx , start=list( a=mean(Fx$weight) , sigma=sd(Fx$weight) , b=0 ,b1=0) )"
   ]
  },
  {
   "cell_type": "code",
   "execution_count": 18,
   "metadata": {},
   "outputs": [
    {
     "data": {
      "text/plain": [
       "\n",
       "Maximum a posteriori (MAP) model fit\n",
       "\n",
       "Formula:\n",
       "weight ~ dnorm(mu, sigma)\n",
       "mu <- a + b * area.s + b1 * groupsize.s\n",
       "a ~ dnorm(4, 100)\n",
       "b ~ dnorm(0, 10)\n",
       "b1 ~ dnorm(0, 10)\n",
       "sigma ~ dunif(0, 50)\n",
       "\n",
       "MAP values:\n",
       "         a      sigma          b         b1 \n",
       " 4.5296556  1.1184493  0.5734813 -0.6651597 \n",
       "\n",
       "Log-likelihood: -177.58 "
      ]
     },
     "metadata": {},
     "output_type": "display_data"
    }
   ],
   "source": [
    "Multi.Model"
   ]
  },
  {
   "cell_type": "raw",
   "metadata": {},
   "source": [
    "Counterfactual Plots ( example for bivariate model, standardized variables, and already fit multivariate model)\n",
    "\n",
    "Shows implied predicitons for a given imagined scenario. Predictor variables can be changed independently.\n",
    "\n",
    "Steps:\n",
    "\n",
    "1) Create random sequence of variable to draw parameter samples\n",
    "2) Draw parameter samples from posterior: \n",
    "    Pass sequence through postierior using sequence from step 1 and the mean of the other variable\n",
    "3) Draw Prediction Simulations from posterior.\n",
    "    Pass sequence through postierior using sequence from step 1 and the mean of the other variable.\n",
    "4) Repeat steps 1-3 for other variables."
   ]
  },
  {
   "cell_type": "code",
   "execution_count": 20,
   "metadata": {},
   "outputs": [
    {
     "name": "stdout",
     "output_type": "stream",
     "text": [
      "[ 1000 / 1000 ]\n",
      "[ 10000 / 10000 ]\n"
     ]
    },
    {
     "data": {
      "image/png": "[encoded data removed]",
      "text/plain": [
       "plot without title"
      ]
     },
     "metadata": {},
     "output_type": "display_data"
    }
   ],
   "source": [
    "size.seq<-seq(from=min(Fx$groupsize.s),to=max(Fx$groupsize.s), length.out=1e3)\n",
    "#Draw parameter samples from posterior. There's variance/uncertainty in mu.\n",
    "mu.multi <- link( Multi.Model , data=data.frame(groupsize.s=size.seq,area.s=mean(Fx$area.s) ) )\n",
    "#Draw Prediction Simulations from posterior. There's variance/uncertainty in prediction/outcome.\n",
    "sim.weight.Multi <- sim( Multi.Model , data=data.frame(groupsize.s=size.seq, area.s=mean(Fx$area.s) ),   n=1e4  ) \n",
    "#display\n",
    "plot(weight~groupsize.s, Fx , type=\"n\")\n",
    "mtext(\"Area at mean\")\n",
    "lines(size.seq , apply(mu.multi, 2, mean))\n",
    "shade(apply( mu.multi , 2, PI) , size.seq  )\n",
    "shade(apply( sim.weight.Multi , 2, PI) , size.seq  )"
   ]
  },
  {
   "cell_type": "code",
   "execution_count": 21,
   "metadata": {},
   "outputs": [
    {
     "name": "stdout",
     "output_type": "stream",
     "text": [
      "[ 1000 / 1000 ]\n",
      "[ 10000 / 10000 ]\n"
     ]
    },
    {
     "data": {
      "image/png": "[encoded data removed]",
      "text/plain": [
       "plot without title"
      ]
     },
     "metadata": {},
     "output_type": "display_data"
    }
   ],
   "source": [
    "area.seq<-seq(from=min(Fx$area.s),to=max(Fx$area.s), length.out=1e3)\n",
    "#Draw parameter samples from posterior. There's variance/uncertainty in mu.\n",
    "mu.multi2 <- link( Multi.Model , data=data.frame(groupsize.s=mean(Fx$groupsize.s),area.s=area.seq ) )\n",
    "#Draw Prediction Simulations from psterior. There's variance/uncertainty in prediction/outcome.\n",
    "sim.weight.Multi2 <- sim( Multi.Model , data=data.frame(groupsize.s=mean(Fx$groupsize.s), area.s=area.seq ),   n=1e4  ) \n",
    "\n",
    "\n",
    "Multi2.pi <- apply(sim.weight.Multi2 , 2 , PI)\n",
    "#display\n",
    "plot(weight~area.s, Fx , type=\"n\")\n",
    "mtext(\"groupsize at mean\")\n",
    "lines(area.seq , apply(mu.multi2, 2, mean))\n",
    "shade(apply( mu.multi2 , 2, PI) , area.seq  )\n",
    "shade(apply( sim.weight.Multi2 , 2, PI) , area.seq  )"
   ]
  },
  {
   "cell_type": "raw",
   "metadata": {},
   "source": [
    "Predictor residual plots ( example for bivariate model and standardized variables)\n",
    "Shows regression of Target with a given predictor variable after removing any variation accounted for by the other predictor variables. It leaves any variation not expected by the model of the mean as function of the other variables.\n",
    "\n",
    "Steps:\n",
    "1) Fit predictor variables to each other\n",
    "2) Calculate residuals\n",
    "3) Fit original target to residuals (slopes should equal slopes from multivariate plot of variables to target)\n",
    "4) Plot model from step 3\n",
    "5) Repeat steps 1-4 for other variables"
   ]
  },
  {
   "cell_type": "code",
   "execution_count": 37,
   "metadata": {
    "collapsed": true
   },
   "outputs": [],
   "source": [
    "Var.Model <- map( \n",
    "    alist( \n",
    "        area.s ~ dnorm( mu , sigma ),\n",
    "        mu <- a + b*groupsize.s,\n",
    "        a ~ dnorm( 4 , 100 ) ,\n",
    "        b ~ dnorm( 0 , 10 ) ,  \n",
    "        sigma ~ dunif( 0 , 50 ) ) ,\n",
    "    data=Fx , start=list( a=mean(Fx$area.s) , sigma=sd(Fx$area.s) , b=0 ) )"
   ]
  },
  {
   "cell_type": "code",
   "execution_count": 38,
   "metadata": {
    "collapsed": true
   },
   "outputs": [],
   "source": [
    "mu.v <- coef(Var.Model)['a'] + coef(Var.Model)['b']*Fx$groupsize.s\n",
    "Area.residuals <- Fx$area.s - mu.v"
   ]
  },
  {
   "cell_type": "code",
   "execution_count": 39,
   "metadata": {
    "collapsed": true
   },
   "outputs": [],
   "source": [
    "# Need this in order to create interval around mu\n",
    "mx <- map( \n",
    "    alist( \n",
    "        weight ~ dnorm( mu , sigma ),\n",
    "        mu <- a + b*Area.residuals,\n",
    "        a ~ dnorm( 4 , 100 ) ,\n",
    "        b ~ dnorm( 0 , 10 ) ,  \n",
    "        sigma ~ dunif( 0 , 50 ) ) ,\n",
    "    data=data.frame(weight=Fx$weight,Area.residuals=Area.residuals) )"
   ]
  },
  {
   "cell_type": "code",
   "execution_count": 40,
   "metadata": {},
   "outputs": [
    {
     "name": "stdout",
     "output_type": "stream",
     "text": [
      "[ 100 / 1000 ]\r",
      "[ 200 / 1000 ]\r",
      "[ 300 / 1000 ]\r",
      "[ 400 / 1000 ]\r",
      "[ 500 / 1000 ]\r",
      "[ 600 / 1000 ]\r",
      "[ 700 / 1000 ]\r",
      "[ 800 / 1000 ]\r",
      "[ 900 / 1000 ]\r",
      "[ 1000 / 1000 ]\r\n"
     ]
    },
    {
     "data": {
      "image/png": "[encoded data removed]",
      "text/plain": [
       "plot without title"
      ]
     },
     "metadata": {},
     "output_type": "display_data"
    }
   ],
   "source": [
    "Area.resid.seq<-seq(from=min(Area.residuals),to=max(Area.residuals), length.out=1e3)\n",
    "plot(Fx$weight~Area.residuals )\n",
    "mtext(\"Predictor residual plots Weight ~ Area.s controlled for groupsize\")\n",
    "abline(lm(Fx$weight~Area.residuals ), lwd=2)\n",
    "mu.varz <- link( mx , data=data.frame(Area.residuals=Area.resid.seq ) )\n",
    "shade(apply( mu.varz , 2, PI) , Area.resid.seq  )\n",
    "abline(v=0, col= \"red\")"
   ]
  },
  {
   "cell_type": "code",
   "execution_count": 41,
   "metadata": {
    "collapsed": true
   },
   "outputs": [],
   "source": [
    "Var.Model2 <- map( \n",
    "    alist( \n",
    "        groupsize.s ~ dnorm( mu , sigma ),\n",
    "        mu <- a + b*area.s,\n",
    "        a ~ dnorm( 4 , 100 ) ,\n",
    "        b ~ dnorm( 0 , 10 ) ,  \n",
    "        sigma ~ dunif( 0 , 50 ) ) ,\n",
    "    data=Fx , start=list( a=mean(Fx$groupsize.s) , sigma=sd(Fx$groupsize.s) , b=0 ) )"
   ]
  },
  {
   "cell_type": "code",
   "execution_count": 42,
   "metadata": {
    "collapsed": true
   },
   "outputs": [],
   "source": [
    "mu.v2 <- coef(Var.Model2)['a'] + coef(Var.Model2)['b']*Fx$area.s\n",
    "groupsize.residuals <- Fx$groupsize.s - mu.v2"
   ]
  },
  {
   "cell_type": "code",
   "execution_count": 43,
   "metadata": {},
   "outputs": [],
   "source": [
    "# Need this in order to create interval around mu\n",
    "mx2 <- map( \n",
    "    alist( \n",
    "        weight ~ dnorm( mu , sigma ),\n",
    "        mu <- a + b*groupsize.residuals,\n",
    "        a ~ dnorm( 4 , 100 ) ,\n",
    "        b ~ dnorm( 0 , 10 ) ,  \n",
    "        sigma ~ dunif( 0 , 50 ) ) ,\n",
    "    data=data.frame(weight=Fx$weight,groupsize.residuals=groupsize.residuals) )"
   ]
  },
  {
   "cell_type": "code",
   "execution_count": 44,
   "metadata": {},
   "outputs": [
    {
     "name": "stdout",
     "output_type": "stream",
     "text": [
      "[ 100 / 1000 ]\r",
      "[ 200 / 1000 ]\r",
      "[ 300 / 1000 ]\r",
      "[ 400 / 1000 ]\r",
      "[ 500 / 1000 ]\r",
      "[ 600 / 1000 ]\r",
      "[ 700 / 1000 ]\r",
      "[ 800 / 1000 ]\r",
      "[ 900 / 1000 ]\r",
      "[ 1000 / 1000 ]\r\n"
     ]
    },
    {
     "data": {
      "image/png": "[encoded data removed]",
      "text/plain": [
       "plot without title"
      ]
     },
     "metadata": {},
     "output_type": "display_data"
    }
   ],
   "source": [
    "groupsize.residuals.seq<-seq(from=min(groupsize.residuals),to=max(groupsize.residuals), length.out=1e3)\n",
    "plot(Fx$weight~groupsize.residuals )\n",
    "mtext(\"Predictor residual plots Weight ~ Groupsize.s controlled for Area.s\")\n",
    "abline(lm(Fx$weight~groupsize.residuals ), lwd=2)\n",
    "mu.varz2 <- link( mx2 , data=data.frame(groupsize.residuals=groupsize.residuals.seq ) )\n",
    "shade(apply( mu.varz2 , 2, PI) , groupsize.residuals.seq  )\n",
    "abline(v=0, col= \"red\")"
   ]
  },
  {
   "cell_type": "raw",
   "metadata": {},
   "source": [
    "Posterior Prediction Plots\n",
    "\n",
    "3 types\n",
    "1) plot predictions over observed\n",
    "2) prediction residuals over new predictor variable\n",
    "3) Average prediction error\n",
    "\n",
    "Model based predictions against raw data. (prediction error)"
   ]
  },
  {
   "cell_type": "code",
   "execution_count": 47,
   "metadata": {},
   "outputs": [
    {
     "name": "stdout",
     "output_type": "stream",
     "text": [
      "[ 1000 / 10000 ]\r",
      "[ 2000 / 10000 ]\r",
      "[ 3000 / 10000 ]\r",
      "[ 4000 / 10000 ]\r",
      "[ 5000 / 10000 ]\r",
      "[ 6000 / 10000 ]\r",
      "[ 7000 / 10000 ]\r",
      "[ 8000 / 10000 ]\r",
      "[ 9000 / 10000 ]\r",
      "[ 10000 / 10000 ]\r\n"
     ]
    }
   ],
   "source": [
    "#draw parameter samples from posterior using trained data\n",
    "mu.fromsource <- link(Multi.Model)\n",
    "\n",
    "#summarize samples across cases\n",
    "mu.mean <- apply( mu.fromsource, 2 , mean)\n",
    "mu.PI <- apply(mu.fromsource, 2, PI)\n",
    "\n",
    "#predict/simulate observations\n",
    "weight.sim3 <- sim(Multi.Model, n= 1e4)\n",
    "weight.PI3 <-apply(weight.sim3, 2, PI)"
   ]
  },
  {
   "cell_type": "code",
   "execution_count": 55,
   "metadata": {},
   "outputs": [
    {
     "data": {
      "text/html": [],
      "text/latex": [],
      "text/markdown": [],
      "text/plain": [
       "integer(0)"
      ]
     },
     "metadata": {},
     "output_type": "display_data"
    },
    {
     "data": {
      "image/png": "[encoded data removed]",
      "text/plain": [
       "plot without title"
      ]
     },
     "metadata": {},
     "output_type": "display_data"
    }
   ],
   "source": [
    "plot( mu.mean ~ Fx$weight , col=rangi2 , ylim=range(mu.PI) , xlab=\"Observed Weight\" , ylab=\"Predicted Weight\" )\n",
    "abline( a=0 , b=1 , lty=2 )\n",
    "for ( i in 1:nrow(Fx) ) \n",
    "    lines( rep(Fx$weight[i],2) , c(mu.PI[1,i],mu.PI[2,i]) ,\n",
    "          col=rangi2 )\n",
    "# doesnt work in jupyter identify(x=Fx$weight, y=mu.mean , labels = Fx$weight , cex = 0.8)"
   ]
  },
  {
   "cell_type": "code",
   "execution_count": 100,
   "metadata": {},
   "outputs": [
    {
     "data": {
      "text/html": [
       "2000"
      ],
      "text/latex": [
       "2000"
      ],
      "text/markdown": [
       "2000"
      ],
      "text/plain": [
       "[1] 2000"
      ]
     },
     "metadata": {},
     "output_type": "display_data"
    },
    {
     "data": {
      "text/html": [
       "1000"
      ],
      "text/latex": [
       "1000"
      ],
      "text/markdown": [
       "1000"
      ],
      "text/plain": [
       "[1] 1000"
      ]
     },
     "metadata": {},
     "output_type": "display_data"
    },
    {
     "data": {
      "text/html": [
       "400"
      ],
      "text/latex": [
       "400"
      ],
      "text/markdown": [
       "400"
      ],
      "text/plain": [
       "[1] 400"
      ]
     },
     "metadata": {},
     "output_type": "display_data"
    },
    {
     "data": {
      "text/html": [
       "200"
      ],
      "text/latex": [
       "200"
      ],
      "text/markdown": [
       "200"
      ],
      "text/plain": [
       "[1] 200"
      ]
     },
     "metadata": {},
     "output_type": "display_data"
    },
    {
     "data": {
      "text/html": [
       "2000"
      ],
      "text/latex": [
       "2000"
      ],
      "text/markdown": [
       "2000"
      ],
      "text/plain": [
       "[1] 2000"
      ]
     },
     "metadata": {},
     "output_type": "display_data"
    },
    {
     "data": {
      "text/html": [
       "1000"
      ],
      "text/latex": [
       "1000"
      ],
      "text/markdown": [
       "1000"
      ],
      "text/plain": [
       "[1] 1000"
      ]
     },
     "metadata": {},
     "output_type": "display_data"
    },
    {
     "name": "stdout",
     "output_type": "stream",
     "text": [
      "[ 100 / 1000 ]\r",
      "[ 200 / 1000 ]\r",
      "[ 300 / 1000 ]\r",
      "[ 400 / 1000 ]\r",
      "[ 500 / 1000 ]\r",
      "[ 600 / 1000 ]\r",
      "[ 700 / 1000 ]\r",
      "[ 800 / 1000 ]\r",
      "[ 900 / 1000 ]\r",
      "[ 1000 / 1000 ]\r\n"
     ]
    },
    {
     "data": {
      "text/html": [
       "<ol class=list-inline>\n",
       "\t<li>1000</li>\n",
       "\t<li>116</li>\n",
       "</ol>\n"
      ],
      "text/latex": [
       "\\begin{enumerate*}\n",
       "\\item 1000\n",
       "\\item 116\n",
       "\\end{enumerate*}\n"
      ],
      "text/markdown": [
       "1. 1000\n",
       "2. 116\n",
       "\n",
       "\n"
      ],
      "text/plain": [
       "[1] 1000  116"
      ]
     },
     "metadata": {},
     "output_type": "display_data"
    }
   ],
   "source": [
    "# predict(lm( weight.resid ~ Fx$avgfood.s),interval = c(\"confidence\"), \n",
    "# level = 0.90,type=\"response\")\n",
    "#link( mx2 , data=data.frame(groupsize.residuals=groupsize.residuals.seq ) )\n",
    "length(apply( mu.varz2 , 2, PI))\n",
    "length(groupsize.residuals.seq)\n",
    "length(apply( mu.mu , 2, PI))\n",
    "length(newx)\n",
    "length(apply( mu.varz2 , 2, PI))\n",
    "length(groupsize.residuals.seq  )\n",
    "dim(link(newvar))\n"
   ]
  },
  {
   "cell_type": "code",
   "execution_count": 102,
   "metadata": {},
   "outputs": [
    {
     "name": "stdout",
     "output_type": "stream",
     "text": [
      "[ 100 / 1000 ]\r",
      "[ 200 / 1000 ]\r",
      "[ 300 / 1000 ]\r",
      "[ 400 / 1000 ]\r",
      "[ 500 / 1000 ]\r",
      "[ 600 / 1000 ]\r",
      "[ 700 / 1000 ]\r",
      "[ 800 / 1000 ]\r",
      "[ 900 / 1000 ]\r",
      "[ 1000 / 1000 ]\r\n"
     ]
    },
    {
     "data": {
      "image/png": "[encoded data removed]",
      "text/plain": [
       "plot without title"
      ]
     },
     "metadata": {},
     "output_type": "display_data"
    }
   ],
   "source": [
    "newvar<-map( \n",
    "    alist( \n",
    "        weigh.resid ~ dnorm( mu , sigma ),\n",
    "        mu <- a + b*avgfood,\n",
    "        a ~ dnorm( 4 , 100 ) ,\n",
    "        b ~ dnorm( 0 , 10 ) ,  \n",
    "        sigma ~ dunif( 0 , 50 ) ) ,\n",
    "    data=data.frame(weigh.resid = weight.resid, avgfood=Fx$avgfood.s) )\n",
    "plot( weight.resid ~ Fx$avgfood.s)\n",
    "abline(lm( weight.resid ~ Fx$avgfood.s) )\n",
    "newx<- seq(from=min(Fx$avgfood.s),to=max(Fx$avgfood.s), length.out=1e3)\n",
    "mu.mu <-link(newvar, data=data.frame(avgfood=newx ))\n",
    "shade(apply( mu.mu , 2, PI), newx)\n",
    "#lines(Fx$avgfood.s,prd[,3],col=\"red\",lty=2)"
   ]
  },
  {
   "cell_type": "code",
   "execution_count": 57,
   "metadata": {},
   "outputs": [
    {
     "data": {
      "image/png": "[encoded data removed]",
      "text/plain": [
       "plot without title"
      ]
     },
     "metadata": {},
     "output_type": "display_data"
    }
   ],
   "source": [
    "# compute residuals \n",
    "weight.resid <- Fx$weight - mu.mean\n",
    "# get ordering by divorce rate \n",
    "o <- order(weight.resid) \n",
    "# make the plot \n",
    "dotchart( weight.resid[o] , labels=Fx$weight[o] , xlim=c(-6,5) , cex=0.6 )\n",
    "abline( v=0 , col=col.alpha(\"black\",0.2) )\n",
    "for ( i in 1:nrow(Fx) ) { j <- o[i] \n",
    "# which State in order \n",
    "lines( Fx$weight[j]-c(mu.PI[1,j],mu.PI[2,j]) , rep(i,2) ) \n",
    "points( Fx$weight[j]-c(weight.PI3[1,j],weight.PI3[2,j]) , rep(i,2), pch=3 , cex=0.6 , col=\"gray\" ) }\n"
   ]
  },
  {
   "cell_type": "raw",
   "metadata": {},
   "source": [
    "5.7.12. Model comparison dessert. Finally, consider the avgfood variable. \n",
    "\n",
    "Fit two more multiple regressions:\n",
    "    (1)bodyweight as an additive function of avgfood and groupsize, and\n",
    "    (2)bodyweight as an additive function of all three variables, avgfood and groupsize and area. \n",
    "\n",
    "Compare the results of these models to the previous models you’ve fit, in the first two exercises. \n",
    "\n",
    "        (a)Is avgfood or area a better predictor of bodyweight? \n",
    "        If you had to choose one or the other to include in a model, which would it be?\n",
    "        Support your assessment with any tables or plots you choose.\n",
    "        \n",
    "        (b)When both avgfood or area are in the same model, \n",
    "        their eﬀects are reduced (closer  to zero) and\n",
    "        their standard errors are larger than when they are included in separate models.\n",
    "        Can you explain this result?"
   ]
  },
  {
   "cell_type": "code",
   "execution_count": 104,
   "metadata": {},
   "outputs": [
    {
     "data": {
      "text/html": [
       "<table>\n",
       "<thead><tr><th></th><th scope=col>group</th><th scope=col>avgfood</th><th scope=col>groupsize</th><th scope=col>area</th><th scope=col>weight</th><th scope=col>avgfood.s</th><th scope=col>groupsize.s</th><th scope=col>area.s</th><th scope=col>weight.s</th></tr></thead>\n",
       "<tbody>\n",
       "\t<tr><th scope=row>group</th><td> 1.0000000 </td><td> 0.34084493</td><td> 0.4009594 </td><td>0.37777286 </td><td>-0.15190033</td><td> 0.34084493</td><td> 0.4009594 </td><td>0.37777286 </td><td>-0.15190033</td></tr>\n",
       "\t<tr><th scope=row>avgfood</th><td> 0.3408449 </td><td> 1.00000000</td><td> 0.9014829 </td><td>0.88310378 </td><td>-0.02503892</td><td> 1.00000000</td><td> 0.9014829 </td><td>0.88310378 </td><td>-0.02503892</td></tr>\n",
       "\t<tr><th scope=row>groupsize</th><td> 0.4009594 </td><td> 0.90148290</td><td> 1.0000000 </td><td>0.82759448 </td><td>-0.16099376</td><td> 0.90148290</td><td> 1.0000000 </td><td>0.82759448 </td><td>-0.16099376</td></tr>\n",
       "\t<tr><th scope=row>area</th><td> 0.3777729 </td><td> 0.88310378</td><td> 0.8275945 </td><td>1.00000000 </td><td> 0.01947728</td><td> 0.88310378</td><td> 0.8275945 </td><td>1.00000000 </td><td> 0.01947728</td></tr>\n",
       "\t<tr><th scope=row>weight</th><td>-0.1519003 </td><td>-0.02503892</td><td>-0.1609938 </td><td>0.01947728 </td><td> 1.00000000</td><td>-0.02503892</td><td>-0.1609938 </td><td>0.01947728 </td><td> 1.00000000</td></tr>\n",
       "\t<tr><th scope=row>avgfood.s</th><td> 0.3408449 </td><td> 1.00000000</td><td> 0.9014829 </td><td>0.88310378 </td><td>-0.02503892</td><td> 1.00000000</td><td> 0.9014829 </td><td>0.88310378 </td><td>-0.02503892</td></tr>\n",
       "\t<tr><th scope=row>groupsize.s</th><td> 0.4009594 </td><td> 0.90148290</td><td> 1.0000000 </td><td>0.82759448 </td><td>-0.16099376</td><td> 0.90148290</td><td> 1.0000000 </td><td>0.82759448 </td><td>-0.16099376</td></tr>\n",
       "\t<tr><th scope=row>area.s</th><td> 0.3777729 </td><td> 0.88310378</td><td> 0.8275945 </td><td>1.00000000 </td><td> 0.01947728</td><td> 0.88310378</td><td> 0.8275945 </td><td>1.00000000 </td><td> 0.01947728</td></tr>\n",
       "\t<tr><th scope=row>weight.s</th><td>-0.1519003 </td><td>-0.02503892</td><td>-0.1609938 </td><td>0.01947728 </td><td> 1.00000000</td><td>-0.02503892</td><td>-0.1609938 </td><td>0.01947728 </td><td> 1.00000000</td></tr>\n",
       "</tbody>\n",
       "</table>\n"
      ],
      "text/latex": [
       "\\begin{tabular}{r|lllllllll}\n",
       "  & group & avgfood & groupsize & area & weight & avgfood.s & groupsize.s & area.s & weight.s\\\\\n",
       "\\hline\n",
       "\tgroup &  1.0000000  &  0.34084493 &  0.4009594  & 0.37777286  & -0.15190033 &  0.34084493 &  0.4009594  & 0.37777286  & -0.15190033\\\\\n",
       "\tavgfood &  0.3408449  &  1.00000000 &  0.9014829  & 0.88310378  & -0.02503892 &  1.00000000 &  0.9014829  & 0.88310378  & -0.02503892\\\\\n",
       "\tgroupsize &  0.4009594  &  0.90148290 &  1.0000000  & 0.82759448  & -0.16099376 &  0.90148290 &  1.0000000  & 0.82759448  & -0.16099376\\\\\n",
       "\tarea &  0.3777729  &  0.88310378 &  0.8275945  & 1.00000000  &  0.01947728 &  0.88310378 &  0.8275945  & 1.00000000  &  0.01947728\\\\\n",
       "\tweight & -0.1519003  & -0.02503892 & -0.1609938  & 0.01947728  &  1.00000000 & -0.02503892 & -0.1609938  & 0.01947728  &  1.00000000\\\\\n",
       "\tavgfood.s &  0.3408449  &  1.00000000 &  0.9014829  & 0.88310378  & -0.02503892 &  1.00000000 &  0.9014829  & 0.88310378  & -0.02503892\\\\\n",
       "\tgroupsize.s &  0.4009594  &  0.90148290 &  1.0000000  & 0.82759448  & -0.16099376 &  0.90148290 &  1.0000000  & 0.82759448  & -0.16099376\\\\\n",
       "\tarea.s &  0.3777729  &  0.88310378 &  0.8275945  & 1.00000000  &  0.01947728 &  0.88310378 &  0.8275945  & 1.00000000  &  0.01947728\\\\\n",
       "\tweight.s & -0.1519003  & -0.02503892 & -0.1609938  & 0.01947728  &  1.00000000 & -0.02503892 & -0.1609938  & 0.01947728  &  1.00000000\\\\\n",
       "\\end{tabular}\n"
      ],
      "text/markdown": [
       "\n",
       "| <!--/--> | group | avgfood | groupsize | area | weight | avgfood.s | groupsize.s | area.s | weight.s | \n",
       "|---|---|---|---|---|---|---|---|---|\n",
       "| group |  1.0000000  |  0.34084493 |  0.4009594  | 0.37777286  | -0.15190033 |  0.34084493 |  0.4009594  | 0.37777286  | -0.15190033 | \n",
       "| avgfood |  0.3408449  |  1.00000000 |  0.9014829  | 0.88310378  | -0.02503892 |  1.00000000 |  0.9014829  | 0.88310378  | -0.02503892 | \n",
       "| groupsize |  0.4009594  |  0.90148290 |  1.0000000  | 0.82759448  | -0.16099376 |  0.90148290 |  1.0000000  | 0.82759448  | -0.16099376 | \n",
       "| area |  0.3777729  |  0.88310378 |  0.8275945  | 1.00000000  |  0.01947728 |  0.88310378 |  0.8275945  | 1.00000000  |  0.01947728 | \n",
       "| weight | -0.1519003  | -0.02503892 | -0.1609938  | 0.01947728  |  1.00000000 | -0.02503892 | -0.1609938  | 0.01947728  |  1.00000000 | \n",
       "| avgfood.s |  0.3408449  |  1.00000000 |  0.9014829  | 0.88310378  | -0.02503892 |  1.00000000 |  0.9014829  | 0.88310378  | -0.02503892 | \n",
       "| groupsize.s |  0.4009594  |  0.90148290 |  1.0000000  | 0.82759448  | -0.16099376 |  0.90148290 |  1.0000000  | 0.82759448  | -0.16099376 | \n",
       "| area.s |  0.3777729  |  0.88310378 |  0.8275945  | 1.00000000  |  0.01947728 |  0.88310378 |  0.8275945  | 1.00000000  |  0.01947728 | \n",
       "| weight.s | -0.1519003  | -0.02503892 | -0.1609938  | 0.01947728  |  1.00000000 | -0.02503892 | -0.1609938  | 0.01947728  |  1.00000000 | \n",
       "\n",
       "\n"
      ],
      "text/plain": [
       "            group      avgfood     groupsize  area       weight     \n",
       "group        1.0000000  0.34084493  0.4009594 0.37777286 -0.15190033\n",
       "avgfood      0.3408449  1.00000000  0.9014829 0.88310378 -0.02503892\n",
       "groupsize    0.4009594  0.90148290  1.0000000 0.82759448 -0.16099376\n",
       "area         0.3777729  0.88310378  0.8275945 1.00000000  0.01947728\n",
       "weight      -0.1519003 -0.02503892 -0.1609938 0.01947728  1.00000000\n",
       "avgfood.s    0.3408449  1.00000000  0.9014829 0.88310378 -0.02503892\n",
       "groupsize.s  0.4009594  0.90148290  1.0000000 0.82759448 -0.16099376\n",
       "area.s       0.3777729  0.88310378  0.8275945 1.00000000  0.01947728\n",
       "weight.s    -0.1519003 -0.02503892 -0.1609938 0.01947728  1.00000000\n",
       "            avgfood.s   groupsize.s area.s     weight.s   \n",
       "group        0.34084493  0.4009594  0.37777286 -0.15190033\n",
       "avgfood      1.00000000  0.9014829  0.88310378 -0.02503892\n",
       "groupsize    0.90148290  1.0000000  0.82759448 -0.16099376\n",
       "area         0.88310378  0.8275945  1.00000000  0.01947728\n",
       "weight      -0.02503892 -0.1609938  0.01947728  1.00000000\n",
       "avgfood.s    1.00000000  0.9014829  0.88310378 -0.02503892\n",
       "groupsize.s  0.90148290  1.0000000  0.82759448 -0.16099376\n",
       "area.s       0.88310378  0.8275945  1.00000000  0.01947728\n",
       "weight.s    -0.02503892 -0.1609938  0.01947728  1.00000000"
      ]
     },
     "metadata": {},
     "output_type": "display_data"
    }
   ],
   "source": [
    "cor(Fx)"
   ]
  },
  {
   "cell_type": "code",
   "execution_count": 105,
   "metadata": {
    "collapsed": true
   },
   "outputs": [],
   "source": [
    "#bodyweight as an additive function of avgfood and groupsize, and\n",
    "MM.5.7 <- map( \n",
    "    alist( \n",
    "        weight ~ dnorm( mu , sigma ),\n",
    "        mu <- a + b*avgfood.s +b1*groupsize.s,\n",
    "        a ~ dnorm( 4 , 100 ) ,\n",
    "        b ~ dnorm( 0 , 10 ) , \n",
    "        b1 ~ dnorm( 0 , 10 ) , \n",
    "        sigma ~ dunif( 0 , 50 ) ) ,\n",
    "    data=Fx , start=list( a=mean(Fx$weight) , sigma=sd(Fx$weight) , b=0 ,b1=0) )"
   ]
  },
  {
   "cell_type": "code",
   "execution_count": 107,
   "metadata": {},
   "outputs": [
    {
     "data": {
      "text/plain": [
       "\n",
       "Maximum a posteriori (MAP) model fit\n",
       "\n",
       "Formula:\n",
       "weight ~ dnorm(mu, sigma)\n",
       "mu <- a + b * avgfood.s + b1 * groupsize.s\n",
       "a ~ dnorm(4, 100)\n",
       "b ~ dnorm(0, 10)\n",
       "b1 ~ dnorm(0, 10)\n",
       "sigma ~ dunif(0, 50)\n",
       "\n",
       "MAP values:\n",
       "         a      sigma          b         b1 \n",
       " 4.5296547  1.1166010  0.7581707 -0.8740034 \n",
       "\n",
       "Log-likelihood: -177.39 "
      ]
     },
     "metadata": {},
     "output_type": "display_data"
    }
   ],
   "source": [
    "MM.5.7"
   ]
  },
  {
   "cell_type": "code",
   "execution_count": 108,
   "metadata": {},
   "outputs": [
    {
     "name": "stdout",
     "output_type": "stream",
     "text": [
      "[ 1000 / 1000 ]\n",
      "[ 10000 / 10000 ]\n"
     ]
    },
    {
     "data": {
      "image/png": "[encoded data removed]",
      "text/plain": [
       "plot without title"
      ]
     },
     "metadata": {},
     "output_type": "display_data"
    }
   ],
   "source": [
    "avgfood.seq<-seq(from=min(Fx$avgfood.s),to=max(Fx$avgfood.s), length.out=1e3)\n",
    "#Draw parameter samples from posterior. There's variance/uncertainty in mu.\n",
    "mu.multi.5.7 <- link( MM.5.7 , data=data.frame(avgfood.s=avgfood.seq ,groupsize.s=mean(Fx$groupsize.s) ) )\n",
    "#Draw Prediction Simulations from posterior. There's variance/uncertainty in prediction/outcome.\n",
    "sim.weight.Multi.5.7 <- sim( MM.5.7 , data=data.frame(avgfood.s=avgfood.seq ,groupsize.s=mean(Fx$groupsize.s)),n=1e4  ) \n",
    "#display\n",
    "plot(weight ~ avgfood.s , Fx , type=\"n\")\n",
    "mtext(\"GroupSize at mean\")\n",
    "lines(avgfood.seq , apply(mu.multi.5.7, 2, mean))\n",
    "shade(apply( mu.multi.5.7 , 2, PI) , avgfood.seq  )\n",
    "shade(apply( sim.weight.Multi.5.7 , 2, PI) , avgfood.seq  )"
   ]
  },
  {
   "cell_type": "code",
   "execution_count": null,
   "metadata": {
    "collapsed": true
   },
   "outputs": [],
   "source": []
  },
  {
   "cell_type": "code",
   "execution_count": 109,
   "metadata": {
    "collapsed": true
   },
   "outputs": [],
   "source": [
    "#bodyweight as an additive function of avgfood and groupsize, and\n",
    "MM.5.7.2 <- map( \n",
    "    alist( \n",
    "        weight ~ dnorm( mu , sigma ),\n",
    "        mu <- a + b*avgfood.s +b1*groupsize.s + b2*area.s,\n",
    "        a ~ dnorm( 4 , 100 ) ,\n",
    "        b ~ dnorm( 0 , 10 ) , \n",
    "        b1 ~ dnorm( 0 , 10 ) , \n",
    "        b2 ~ dnorm( 0 , 10 ) , \n",
    "        sigma ~ dunif( 0 , 50 ) ) ,\n",
    "    data=Fx , start=list( a=mean(Fx$weight) , sigma=sd(Fx$weight) , b=0 ,b1=0) )"
   ]
  },
  {
   "cell_type": "code",
   "execution_count": 110,
   "metadata": {},
   "outputs": [
    {
     "data": {
      "text/plain": [
       "\n",
       "Maximum a posteriori (MAP) model fit\n",
       "\n",
       "Formula:\n",
       "weight ~ dnorm(mu, sigma)\n",
       "mu <- a + b * avgfood.s + b1 * groupsize.s + b2 * area.s\n",
       "a ~ dnorm(4, 100)\n",
       "b ~ dnorm(0, 10)\n",
       "b1 ~ dnorm(0, 10)\n",
       "b2 ~ dnorm(0, 10)\n",
       "sigma ~ dunif(0, 50)\n",
       "\n",
       "MAP values:\n",
       "         a      sigma          b         b1         b2 \n",
       " 4.5296431  1.1043728  0.4966264 -0.9339365  0.3574099 \n",
       "\n",
       "Log-likelihood: -176.11 "
      ]
     },
     "metadata": {},
     "output_type": "display_data"
    }
   ],
   "source": [
    "MM.5.7.2"
   ]
  },
  {
   "cell_type": "code",
   "execution_count": 113,
   "metadata": {},
   "outputs": [
    {
     "name": "stdout",
     "output_type": "stream",
     "text": [
      "[ 1000 / 1000 ]\n",
      "[ 10000 / 10000 ]\n"
     ]
    },
    {
     "data": {
      "image/png": "[encoded data removed]",
      "text/plain": [
       "plot without title"
      ]
     },
     "metadata": {},
     "output_type": "display_data"
    }
   ],
   "source": [
    "avgfood.seq<-seq(from=min(Fx$avgfood.s),to=max(Fx$avgfood.s), length.out=1e3)\n",
    "#Draw parameter samples from posterior. There's variance/uncertainty in mu.\n",
    "mu.multi.5.7.2 <- link( MM.5.7.2 , data=data.frame(avgfood.s=avgfood.seq ,groupsize.s=mean(Fx$groupsize.s),\n",
    "                                                  area.s = mean(Fx$area.s)) )\n",
    "#Draw Prediction Simulations from posterior. There's variance/uncertainty in prediction/outcome.\n",
    "sim.weight.Multi.5.7.2 <- sim( MM.5.7.2 , data=data.frame(avgfood.s=avgfood.seq ,\n",
    "                                                          groupsize.s=mean(Fx$groupsize.s),\n",
    "                                                         area.s=mean(Fx$area.s)),n=1e4  ) \n",
    "#display\n",
    "plot(weight ~ avgfood.s , Fx , type=\"n\")\n",
    "mtext(\"GroupSize.s at mean & Area.s at mean\")\n",
    "lines(avgfood.seq , apply(mu.multi.5.7.2, 2, mean))\n",
    "shade(apply( mu.multi.5.7.2 , 2, PI) , avgfood.seq  )\n",
    "shade(apply( sim.weight.Multi.5.7.2 , 2, PI) , avgfood.seq  )"
   ]
  },
  {
   "cell_type": "code",
   "execution_count": 111,
   "metadata": {},
   "outputs": [
    {
     "name": "stdout",
     "output_type": "stream",
     "text": [
      "[ 1000 / 1000 ]\n",
      "[ 10000 / 10000 ]\n"
     ]
    }
   ],
   "source": [
    "#draw parameter samples from posterior using trained data\n",
    "mu.from.source <- link(MM.5.7.2)\n",
    "\n",
    "#summarize samples across cases\n",
    "mu.mean <- apply( mu.from.source, 2 , mean)\n",
    "mu.PI <- apply(mu.from.source, 2, PI)\n",
    "\n",
    "#predict/simulate observations\n",
    "weight.sim4 <- sim(MM.5.7.2, n= 1e4)\n",
    "weight.PI4 <-apply(weight.sim4, 2, PI)"
   ]
  },
  {
   "cell_type": "code",
   "execution_count": 112,
   "metadata": {},
   "outputs": [
    {
     "data": {
      "image/png": "[encoded data removed]",
      "text/plain": [
       "plot without title"
      ]
     },
     "metadata": {},
     "output_type": "display_data"
    }
   ],
   "source": [
    "plot( mu.mean ~ Fx$weight , col=rangi2 , ylim=range(mu.PI) , xlab=\"Observed Weight\" , ylab=\"Predicted Weight\" )\n",
    "abline( a=0 , b=1 , lty=2 )\n",
    "for ( i in 1:nrow(Fx) ) \n",
    "    lines( rep(Fx$weight[i],2) , c(mu.PI[1,i],mu.PI[2,i]) ,\n",
    "          col=rangi2 )"
   ]
  },
  {
   "cell_type": "code",
   "execution_count": null,
   "metadata": {
    "collapsed": true
   },
   "outputs": [],
   "source": [
    "area.seq<-seq(from=min(Fx$area.s),to=max(Fx$area.s), length.out=1e3)\n",
    "#Draw parameter samples from posterior. There's variance/uncertainty in mu.\n",
    "mu.multi2 <- link( MM.5.7.2 , data=data.frame(groupsize.s=mean(Fx$groupsize.s),area.s=area.seq ) )\n",
    "#Draw Prediction Simulations from psterior. There's variance/uncertainty in prediction/outcome.\n",
    "sim.weight.Multi2 <- sim( MM.5.7.2 , data=data.frame(groupsize.s=mean(Fx$groupsize.s), area.s=area.seq ),   n=1e4  ) \n",
    "\n",
    "\n",
    "Multi2.pi <- apply(sim.weight.Multi2 , 2 , PI)\n",
    "#display\n",
    "plot(weight~area.s, Fx , type=\"n\")\n",
    "mtext(\"groupsize at mean\")\n",
    "lines(area.seq , apply(mu.multi2, 2, mean))\n",
    "shade(apply( mu.multi2 , 2, PI) , area.seq  )\n",
    "shade(apply( sim.weight.Multi2 , 2, PI) , area.seq  )"
   ]
  },
  {
   "cell_type": "code",
   "execution_count": null,
   "metadata": {
    "collapsed": true
   },
   "outputs": [],
   "source": []
  },
  {
   "cell_type": "code",
   "execution_count": null,
   "metadata": {
    "collapsed": true
   },
   "outputs": [],
   "source": []
  }
 ],
 "metadata": {
  "kernelspec": {
   "display_name": "R",
   "language": "R",
   "name": "ir"
  },
  "language_info": {
   "codemirror_mode": "r",
   "file_extension": ".r",
   "mimetype": "text/x-r-source",
   "name": "R",
   "pygments_lexer": "r",
   "version": "3.3.1"
  }
 },
 "nbformat": 4,
 "nbformat_minor": 2
}
