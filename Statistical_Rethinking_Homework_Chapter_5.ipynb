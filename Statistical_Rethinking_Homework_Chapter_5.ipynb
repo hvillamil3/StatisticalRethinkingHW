{
 "cells": [
  {
   "cell_type": "code",
   "execution_count": 1,
   "metadata": {},
   "outputs": [
    {
     "name": "stderr",
     "output_type": "stream",
     "text": [
      "Loading required package: rstan\n",
      "Warning message:\n",
      "\"package 'rstan' was built under R version 3.3.2\"Loading required package: ggplot2\n",
      "Warning message:\n",
      "\"package 'ggplot2' was built under R version 3.3.2\"Loading required package: StanHeaders\n",
      "Warning message:\n",
      "\"package 'StanHeaders' was built under R version 3.3.2\"rstan (Version 2.13.2, packaged: 2016-12-18 07:04:42 UTC, GitRev: 5fa1e80eb817)\n",
      "For execution on a local, multicore CPU with excess RAM we recommend calling\n",
      "rstan_options(auto_write = TRUE)\n",
      "options(mc.cores = parallel::detectCores())\n",
      "Loading required package: parallel\n",
      "rethinking (Version 1.59)\n"
     ]
    }
   ],
   "source": [
    "library(rethinking)"
   ]
  },
  {
   "cell_type": "code",
   "execution_count": 2,
   "metadata": {
    "collapsed": true
   },
   "outputs": [],
   "source": [
    "data(foxes)"
   ]
  },
  {
   "cell_type": "raw",
   "metadata": {
    "collapsed": true
   },
   "source": [
    "All three exercises below use the same data, data(foxes)(partof rethinking).\n",
    "The urban fox (Vulpesvulpes) is a successful exploiter of human habitat.\n",
    "\n",
    "Since urban foxes move in packs and defend territories, data on habitat quality and population density is also included. The dataframe has five columns: \n",
    "\n",
    "            (1) group: Number of the social group the individual fox belongs to\n",
    "            (2) avgfood: The average amount of food available in the territory\n",
    "            (3) groupsize: The number of foxes in the social group\n",
    "            (4) area: Size of the territory \n",
    "            (5) weight: Body weight of the individual fox"
   ]
  },
  {
   "cell_type": "code",
   "execution_count": 3,
   "metadata": {
    "collapsed": true
   },
   "outputs": [],
   "source": [
    "Fx <- foxes"
   ]
  },
  {
   "cell_type": "code",
   "execution_count": 4,
   "metadata": {},
   "outputs": [
    {
     "data": {
      "text/plain": [
       "   Min. 1st Qu.  Median    Mean 3rd Qu.    Max. \n",
       "  1.090   2.590   3.130   3.169   3.772   5.070 "
      ]
     },
     "metadata": {},
     "output_type": "display_data"
    }
   ],
   "source": [
    "summary(foxes$area)"
   ]
  },
  {
   "cell_type": "raw",
   "metadata": {},
   "source": [
    "5.7.10. Bivariate entrée. Fit two bivariate Gaussian regressions,using map: \n",
    "    \n",
    "    (1)bodyweight as a linear function of territory size (area)\n",
    "    , and \n",
    "    (2) body weight as a linear function of groupsize.\n",
    "\n",
    "Plot the results of these regressions, displaying the MAP regression line and the 95% confidence interval of the mean. Is either variable important for predicting fox body weight? "
   ]
  },
  {
   "cell_type": "code",
   "execution_count": 5,
   "metadata": {},
   "outputs": [
    {
     "name": "stdout",
     "output_type": "stream",
     "text": [
      "[ 1000 / 1000 ]\n",
      "[ 10000 / 10000 ]\n"
     ]
    }
   ],
   "source": [
    "#(1) \n",
    "area.Model <- map( \n",
    "    alist( \n",
    "        weight ~ dnorm( mu , sigma ),\n",
    "        mu <- a + b*area ,\n",
    "        a ~ dnorm( 4 , 100 ) ,\n",
    "        b ~ dnorm( 0 , 10 ) ,       \n",
    "        sigma ~ dunif( 0 , 50 ) ) ,\n",
    "    data=Fx , start=list( a=mean(Fx$weight) , sigma=sd(Fx$weight) , b=0 ) )\n",
    "\n",
    "area.seq<-seq(from=1,to=5,by=.5)\n",
    "\n",
    "#Draw parameter samples from posterior. There's variance/uncertainty in mu.\n",
    "mu <- link( area.Model , data=data.frame(area=area.seq) )\n",
    "#Draw Prediction Simulations from psterior. There's variance/uncertainty in prediction/outcome.\n",
    "sim.weight <- sim( area.Model , data=data.frame(area=area.seq),   n=1e4  ) "
   ]
  },
  {
   "cell_type": "code",
   "execution_count": 6,
   "metadata": {},
   "outputs": [
    {
     "data": {
      "text/html": [
       "<dl class=dl-horizontal>\n",
       "\t<dt>|0.97</dt>\n",
       "\t\t<dd>1.8327563088886</dd>\n",
       "\t<dt>|0.89</dt>\n",
       "\t\t<dd>2.55994503305735</dd>\n",
       "\t<dt>|0.5</dt>\n",
       "\t\t<dd>3.61467230452491</dd>\n",
       "\t<dt>0.5|</dt>\n",
       "\t\t<dd>3.64998983714886</dd>\n",
       "\t<dt>0.89|</dt>\n",
       "\t\t<dd>2.53872904365237</dd>\n",
       "\t<dt>0.97|</dt>\n",
       "\t\t<dd>1.86204863950992</dd>\n",
       "</dl>\n"
      ],
      "text/latex": [
       "\\begin{description*}\n",
       "\\item[\\textbackslash{}textbar\\{\\}0.97] 1.8327563088886\n",
       "\\item[\\textbackslash{}textbar\\{\\}0.89] 2.55994503305735\n",
       "\\item[\\textbackslash{}textbar\\{\\}0.5] 3.61467230452491\n",
       "\\item[0.5\\textbackslash{}textbar\\{\\}] 3.64998983714886\n",
       "\\item[0.89\\textbackslash{}textbar\\{\\}] 2.53872904365237\n",
       "\\item[0.97\\textbackslash{}textbar\\{\\}] 1.86204863950992\n",
       "\\end{description*}\n"
      ],
      "text/markdown": [
       "|0.97\n",
       ":   1.8327563088886|0.89\n",
       ":   2.55994503305735|0.5\n",
       ":   3.614672304524910.5|\n",
       ":   3.649989837148860.89|\n",
       ":   2.538729043652370.97|\n",
       ":   1.86204863950992\n",
       "\n"
      ],
      "text/plain": [
       "   |0.97    |0.89     |0.5     0.5|    0.89|    0.97| \n",
       "1.832756 2.559945 3.614672 3.649990 2.538729 1.862049 "
      ]
     },
     "metadata": {},
     "output_type": "display_data"
    },
    {
     "data": {
      "text/html": [
       "<dl class=dl-horizontal>\n",
       "\t<dt>|0.97</dt>\n",
       "\t\t<dd>1.92</dd>\n",
       "\t<dt>|0.89</dt>\n",
       "\t\t<dd>2.78</dd>\n",
       "\t<dt>|0.5</dt>\n",
       "\t\t<dd>3.25</dd>\n",
       "\t<dt>0.5|</dt>\n",
       "\t\t<dd>4.84</dd>\n",
       "\t<dt>0.89|</dt>\n",
       "\t\t<dd>6.31</dd>\n",
       "\t<dt>0.97|</dt>\n",
       "\t\t<dd>6.86</dd>\n",
       "</dl>\n"
      ],
      "text/latex": [
       "\\begin{description*}\n",
       "\\item[\\textbackslash{}textbar\\{\\}0.97] 1.92\n",
       "\\item[\\textbackslash{}textbar\\{\\}0.89] 2.78\n",
       "\\item[\\textbackslash{}textbar\\{\\}0.5] 3.25\n",
       "\\item[0.5\\textbackslash{}textbar\\{\\}] 4.84\n",
       "\\item[0.89\\textbackslash{}textbar\\{\\}] 6.31\n",
       "\\item[0.97\\textbackslash{}textbar\\{\\}] 6.86\n",
       "\\end{description*}\n"
      ],
      "text/markdown": [
       "|0.97\n",
       ":   1.92|0.89\n",
       ":   2.78|0.5\n",
       ":   3.250.5|\n",
       ":   4.840.89|\n",
       ":   6.310.97|\n",
       ":   6.86\n",
       "\n"
      ],
      "text/plain": [
       "|0.97 |0.89  |0.5  0.5| 0.89| 0.97| \n",
       " 1.92  2.78  3.25  4.84  6.31  6.86 "
      ]
     },
     "metadata": {},
     "output_type": "display_data"
    }
   ],
   "source": [
    "HPDI(samples = sim.weight, prob = c(.5, .89, .97))\n",
    "HPDI(samples = Fx$weight,prob = c(.5, .89, .97) )"
   ]
  },
  {
   "cell_type": "code",
   "execution_count": 7,
   "metadata": {},
   "outputs": [
    {
     "data": {
      "text/html": [
       "4.52965517241379"
      ],
      "text/latex": [
       "4.52965517241379"
      ],
      "text/markdown": [
       "4.52965517241379"
      ],
      "text/plain": [
       "[1] 4.529655"
      ]
     },
     "metadata": {},
     "output_type": "display_data"
    },
    {
     "data": {
      "text/html": [
       "4.52997993829632"
      ],
      "text/latex": [
       "4.52997993829632"
      ],
      "text/markdown": [
       "4.52997993829632"
      ],
      "text/plain": [
       "[1] 4.52998"
      ]
     },
     "metadata": {},
     "output_type": "display_data"
    }
   ],
   "source": [
    "mean(Fx$weight)\n",
    "mean(sim.weight)"
   ]
  },
  {
   "cell_type": "code",
   "execution_count": 8,
   "metadata": {},
   "outputs": [
    {
     "data": {
      "text/plain": [
       "\n",
       "Maximum a posteriori (MAP) model fit\n",
       "\n",
       "Formula:\n",
       "weight ~ dnorm(mu, sigma)\n",
       "mu <- a + b * area\n",
       "a ~ dnorm(4, 100)\n",
       "b ~ dnorm(0, 10)\n",
       "sigma ~ dunif(0, 50)\n",
       "\n",
       "MAP values:\n",
       "         a      sigma          b \n",
       "4.45094203 1.17868348 0.02483738 \n",
       "\n",
       "Log-likelihood: -183.67 "
      ]
     },
     "metadata": {},
     "output_type": "display_data"
    }
   ],
   "source": [
    "area.Model"
   ]
  },
  {
   "cell_type": "code",
   "execution_count": 9,
   "metadata": {},
   "outputs": [
    {
     "data": {
      "image/png": "[encoded data removed]",
      "text/plain": [
       "plot without title"
      ]
     },
     "metadata": {},
     "output_type": "display_data"
    }
   ],
   "source": [
    "plot(weight~area, Fx)\n",
    "lines(apply( mu , 2 , mean ), lty=2)\n",
    "shade(apply( sim.weight , 2 , HPDI, prob = 0.9 ),area.seq)\n",
    "shade(apply( mu , 2 , HPDI, prob = 0.9 ),area.seq)"
   ]
  },
  {
   "cell_type": "code",
   "execution_count": 44,
   "metadata": {},
   "outputs": [
    {
     "name": "stdout",
     "output_type": "stream",
     "text": [
      "[ 1000 / 1000 ]\n",
      "[ 10000 / 10000 ]\n"
     ]
    }
   ],
   "source": [
    "#(2) \n",
    "groupsize.Model <- map( \n",
    "    alist( \n",
    "        weight ~ dnorm( mu , sigma ),\n",
    "        mu <- a + b*groupsize ,\n",
    "        a ~ dnorm( 4 , 100 ) ,\n",
    "        b ~ dnorm( 0 , 10 ) ,       \n",
    "        sigma ~ dunif( 0 , 50 ) ) ,\n",
    "    data=Fx , start=list( a=mean(Fx$weight) , sigma=sd(Fx$weight) , b=0 ) )\n",
    "\n",
    "size.seq<-seq(from=2,to=8,by=.5)\n",
    "\n",
    "#Draw parameter samples from posterior. There's variance/uncertainty in mu.\n",
    "mu1 <- link( groupsize.Model , data=data.frame(groupsize=size.seq) )\n",
    "#Draw Prediction Simulations from psterior. There's variance/uncertainty in prediction/outcome.\n",
    "sim.weight1 <- sim( groupsize.Model , data=data.frame(groupsize=size.seq),   n=1e4  ) "
   ]
  },
  {
   "cell_type": "code",
   "execution_count": 45,
   "metadata": {},
   "outputs": [
    {
     "data": {
      "text/html": [
       "<dl class=dl-horizontal>\n",
       "\t<dt>|0.97</dt>\n",
       "\t\t<dd>2.24757446216466</dd>\n",
       "\t<dt>|0.89</dt>\n",
       "\t\t<dd>2.96684919907161</dd>\n",
       "\t<dt>|0.5</dt>\n",
       "\t\t<dd>3.92391756472323</dd>\n",
       "\t<dt>0.5|</dt>\n",
       "\t\t<dd>3.98263709561088</dd>\n",
       "\t<dt>0.89|</dt>\n",
       "\t\t<dd>2.82248616216165</dd>\n",
       "\t<dt>0.97|</dt>\n",
       "\t\t<dd>2.28760665181876</dd>\n",
       "</dl>\n"
      ],
      "text/latex": [
       "\\begin{description*}\n",
       "\\item[\\textbackslash{}textbar\\{\\}0.97] 2.24757446216466\n",
       "\\item[\\textbackslash{}textbar\\{\\}0.89] 2.96684919907161\n",
       "\\item[\\textbackslash{}textbar\\{\\}0.5] 3.92391756472323\n",
       "\\item[0.5\\textbackslash{}textbar\\{\\}] 3.98263709561088\n",
       "\\item[0.89\\textbackslash{}textbar\\{\\}] 2.82248616216165\n",
       "\\item[0.97\\textbackslash{}textbar\\{\\}] 2.28760665181876\n",
       "\\end{description*}\n"
      ],
      "text/markdown": [
       "|0.97\n",
       ":   2.24757446216466|0.89\n",
       ":   2.96684919907161|0.5\n",
       ":   3.923917564723230.5|\n",
       ":   3.982637095610880.89|\n",
       ":   2.822486162161650.97|\n",
       ":   2.28760665181876\n",
       "\n"
      ],
      "text/plain": [
       "   |0.97    |0.89     |0.5     0.5|    0.89|    0.97| \n",
       "2.247574 2.966849 3.923918 3.982637 2.822486 2.287607 "
      ]
     },
     "metadata": {},
     "output_type": "display_data"
    },
    {
     "data": {
      "text/html": [
       "<dl class=dl-horizontal>\n",
       "\t<dt>|0.97</dt>\n",
       "\t\t<dd>1.92</dd>\n",
       "\t<dt>|0.89</dt>\n",
       "\t\t<dd>2.78</dd>\n",
       "\t<dt>|0.5</dt>\n",
       "\t\t<dd>3.25</dd>\n",
       "\t<dt>0.5|</dt>\n",
       "\t\t<dd>4.84</dd>\n",
       "\t<dt>0.89|</dt>\n",
       "\t\t<dd>6.31</dd>\n",
       "\t<dt>0.97|</dt>\n",
       "\t\t<dd>6.86</dd>\n",
       "</dl>\n"
      ],
      "text/latex": [
       "\\begin{description*}\n",
       "\\item[\\textbackslash{}textbar\\{\\}0.97] 1.92\n",
       "\\item[\\textbackslash{}textbar\\{\\}0.89] 2.78\n",
       "\\item[\\textbackslash{}textbar\\{\\}0.5] 3.25\n",
       "\\item[0.5\\textbackslash{}textbar\\{\\}] 4.84\n",
       "\\item[0.89\\textbackslash{}textbar\\{\\}] 6.31\n",
       "\\item[0.97\\textbackslash{}textbar\\{\\}] 6.86\n",
       "\\end{description*}\n"
      ],
      "text/markdown": [
       "|0.97\n",
       ":   1.92|0.89\n",
       ":   2.78|0.5\n",
       ":   3.250.5|\n",
       ":   4.840.89|\n",
       ":   6.310.97|\n",
       ":   6.86\n",
       "\n"
      ],
      "text/plain": [
       "|0.97 |0.89  |0.5  0.5| 0.89| 0.97| \n",
       " 1.92  2.78  3.25  4.84  6.31  6.86 "
      ]
     },
     "metadata": {},
     "output_type": "display_data"
    }
   ],
   "source": [
    "HPDI(samples = sim.weight1, prob = c(.5, .89, .97))\n",
    "HPDI(samples = Fx$weight,prob = c(.5, .89, .97) )"
   ]
  },
  {
   "cell_type": "code",
   "execution_count": 46,
   "metadata": {},
   "outputs": [
    {
     "data": {
      "text/html": [
       "4.52965517241379"
      ],
      "text/latex": [
       "4.52965517241379"
      ],
      "text/markdown": [
       "4.52965517241379"
      ],
      "text/plain": [
       "[1] 4.529655"
      ]
     },
     "metadata": {},
     "output_type": "display_data"
    },
    {
     "data": {
      "text/html": [
       "4.45662300848669"
      ],
      "text/latex": [
       "4.45662300848669"
      ],
      "text/markdown": [
       "4.45662300848669"
      ],
      "text/plain": [
       "[1] 4.456623"
      ]
     },
     "metadata": {},
     "output_type": "display_data"
    }
   ],
   "source": [
    "mean(Fx$weight)\n",
    "mean(sim.weight1)"
   ]
  },
  {
   "cell_type": "code",
   "execution_count": 47,
   "metadata": {},
   "outputs": [
    {
     "data": {
      "text/plain": [
       "\n",
       "Maximum a posteriori (MAP) model fit\n",
       "\n",
       "Formula:\n",
       "weight ~ dnorm(mu, sigma)\n",
       "mu <- a + b * groupsize\n",
       "a ~ dnorm(4, 100)\n",
       "b ~ dnorm(0, 10)\n",
       "sigma ~ dunif(0, 50)\n",
       "\n",
       "MAP values:\n",
       "         a      sigma          b \n",
       " 5.0679376  1.1635300 -0.1238907 \n",
       "\n",
       "Log-likelihood: -182.17 "
      ]
     },
     "metadata": {},
     "output_type": "display_data"
    }
   ],
   "source": [
    "groupsize.Model"
   ]
  },
  {
   "cell_type": "code",
   "execution_count": 48,
   "metadata": {},
   "outputs": [
    {
     "data": {
      "image/png": "[encoded data removed]",
      "text/plain": [
       "plot without title"
      ]
     },
     "metadata": {},
     "output_type": "display_data"
    }
   ],
   "source": [
    "plot(weight~groupsize, Fx)\n",
    "lines(size.seq,apply( mu1 , 2 , mean ), lty=2)\n",
    "#lines(apply( sim.weight1 , 2 , mean ))\n",
    "shade(apply( sim.weight1 , 2 , HPDI, prob = 0.9 ),size.seq)\n",
    "shade(apply( mu1 , 2 , HPDI, prob = 0.9 ),size.seq)"
   ]
  },
  {
   "cell_type": "raw",
   "metadata": {},
   "source": [
    "5.7.11. Multivariate course. \n",
    "\n",
    "Now fit a multiple linear regression with weight as the outcome and both area and group size as predictor variables. \n",
    "\n",
    "Plot the predictions of the model for each predictor, holding the other predictor constantat its mean. \n",
    "\n",
    "What does this model say about the importance of each variable? \n",
    "\n",
    "Why do you get diﬀerent results than you got in exercise just above?"
   ]
  },
  {
   "cell_type": "code",
   "execution_count": 49,
   "metadata": {},
   "outputs": [
    {
     "name": "stdout",
     "output_type": "stream",
     "text": [
      "[ 1000 / 1000 ]\n",
      "[ 10000 / 10000 ]\n"
     ]
    }
   ],
   "source": [
    "#(1) \n",
    "Multi.Model <- map( \n",
    "    alist( \n",
    "        weight ~ dnorm( mu , sigma ),\n",
    "        mu <- a + b*area +b1*groupsize,\n",
    "        a ~ dnorm( 4 , 100 ) ,\n",
    "        b ~ dnorm( 0 , 10 ) , \n",
    "        b1 ~ dnorm( 0 , 10 ) , \n",
    "        sigma ~ dunif( 0 , 50 ) ) ,\n",
    "    data=Fx , start=list( a=mean(Fx$weight) , sigma=sd(Fx$weight) , b=0 ,b1=0) )"
   ]
  },
  {
   "cell_type": "code",
   "execution_count": 53,
   "metadata": {},
   "outputs": [
    {
     "data": {
      "text/plain": [
       "\n",
       "Maximum a posteriori (MAP) model fit\n",
       "\n",
       "Formula:\n",
       "weight ~ dnorm(mu, sigma)\n",
       "mu <- a + b * area + b1 * groupsize\n",
       "a ~ dnorm(4, 100)\n",
       "b ~ dnorm(0, 10)\n",
       "b1 ~ dnorm(0, 10)\n",
       "sigma ~ dunif(0, 50)\n",
       "\n",
       "MAP values:\n",
       "         a      sigma          b         b1 \n",
       " 4.4504217  1.1184517  0.6178220 -0.4324061 \n",
       "\n",
       "Log-likelihood: -177.58 "
      ]
     },
     "metadata": {},
     "output_type": "display_data"
    }
   ],
   "source": [
    "Multi.Model"
   ]
  },
  {
   "cell_type": "code",
   "execution_count": 52,
   "metadata": {},
   "outputs": [
    {
     "data": {
      "image/png": "[encoded data removed]",
      "text/plain": [
       "plot without title"
      ]
     },
     "metadata": {},
     "output_type": "display_data"
    }
   ],
   "source": [
    "size.seq<-seq(from=2,to=8, length.out=1e3)\n",
    "#Draw parameter samples from posterior. There's variance/uncertainty in mu.\n",
    "mu.multi <- link( Multi.Model , data=data.frame(groupsize=size.seq,area=mean(Fx$area) ) )\n",
    "#Draw Prediction Simulations from psterior. There's variance/uncertainty in prediction/outcome.\n",
    "sim.weight.Multi <- sim( Multi.Model , data=data.frame(groupsize=size.seq, area=mean(Fx$area) ),   n=1e4  ) \n",
    "#display\n",
    "plot(weight~groupsize, Fx , type=\"n\")\n",
    "mtext(\"Area at mean\")\n",
    "lines(size.seq , apply(mu.multi, 2, mean))\n",
    "shade(apply( mu.multi , 2, PI) , size.seq  )\n",
    "shade(apply( sim.weight.Multi , 2, PI) , size.seq  )"
   ]
  },
  {
   "cell_type": "code",
   "execution_count": 54,
   "metadata": {},
   "outputs": [
    {
     "name": "stdout",
     "output_type": "stream",
     "text": [
      "[ 1000 / 1000 ]\n",
      "[ 10000 / 10000 ]\n"
     ]
    },
    {
     "data": {
      "image/png": "[encoded data removed]",
      "text/plain": [
       "plot without title"
      ]
     },
     "metadata": {},
     "output_type": "display_data"
    }
   ],
   "source": [
    "area.seq<-seq(from=1,to=5, length.out=1e3)\n",
    "#Draw parameter samples from posterior. There's variance/uncertainty in mu.\n",
    "mu.multi2 <- link( Multi.Model , data=data.frame(groupsize=mean(Fx$groupsize),area=area.seq ) )\n",
    "#Draw Prediction Simulations from psterior. There's variance/uncertainty in prediction/outcome.\n",
    "sim.weight.Multi2 <- sim( Multi.Model , data=data.frame(groupsize=mean(Fx$groupsize), area=area.seq ),   n=1e4  ) \n",
    "\n",
    "\n",
    "Multi2.pi <- apply(sim.weight.Multi2 , 2 , PI)\n",
    "#display\n",
    "plot(weight~area, Fx , type=\"n\")\n",
    "mtext(\"groupsize at mean\")\n",
    "lines(area.seq , apply(mu.multi2, 2, mean))\n",
    "shade(apply( mu.multi2 , 2, PI) , area.seq  )\n",
    "shade(apply( sim.weight.Multi2 , 2, PI) , area.seq  )"
   ]
  },
  {
   "cell_type": "raw",
   "metadata": {},
   "source": [
    "5.7.12. Model comparison dessert. Finally, consider the avgfood variable. \n",
    "\n",
    "Fit two more multiple regressions:\n",
    "    (1)bodyweight as an additive function of avgfood and groupsize, and\n",
    "    (2)bodyweight as an additive function of all three variables, avgfood and groupsize and area. \n",
    "\n",
    "Compare the results of these models to the previous models you’ve fit, in the first two exercises. \n",
    "\n",
    "        (a)Is avgfood or area a better predictor of bodyweight? \n",
    "        If you had to choose one or the other to include in a model, which would it be?\n",
    "        Support your assessment with any tables or plots you choose.\n",
    "        \n",
    "        (b)When both avgfood or area are in the same model, \n",
    "        their eﬀects are reduced (closer  to zero) and\n",
    "        their standard errors are larger than when they are included in separate models.\n",
    "        Can you explain this result?"
   ]
  },
  {
   "cell_type": "code",
   "execution_count": null,
   "metadata": {
    "collapsed": true
   },
   "outputs": [],
   "source": []
  },
  {
   "cell_type": "code",
   "execution_count": null,
   "metadata": {
    "collapsed": true
   },
   "outputs": [],
   "source": []
  },
  {
   "cell_type": "code",
   "execution_count": null,
   "metadata": {
    "collapsed": true
   },
   "outputs": [],
   "source": []
  }
 ],
 "metadata": {
  "kernelspec": {
   "display_name": "R",
   "language": "R",
   "name": "ir"
  },
  "language_info": {
   "codemirror_mode": "r",
   "file_extension": ".r",
   "mimetype": "text/x-r-source",
   "name": "R",
   "pygments_lexer": "r",
   "version": "3.3.1"
  }
 },
 "nbformat": 4,
 "nbformat_minor": 2
}
