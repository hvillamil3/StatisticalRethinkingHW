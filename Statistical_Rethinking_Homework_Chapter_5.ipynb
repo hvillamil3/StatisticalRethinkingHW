{
 "cells": [
  {
   "cell_type": "code",
   "execution_count": 2,
   "metadata": {},
   "outputs": [
    {
     "name": "stderr",
     "output_type": "stream",
     "text": [
      "Loading required package: rstan\n",
      "Warning message:\n",
      "\"package 'rstan' was built under R version 3.3.2\"Loading required package: ggplot2\n",
      "Warning message:\n",
      "\"package 'ggplot2' was built under R version 3.3.2\"Loading required package: StanHeaders\n",
      "Warning message:\n",
      "\"package 'StanHeaders' was built under R version 3.3.2\"rstan (Version 2.13.2, packaged: 2016-12-18 07:04:42 UTC, GitRev: 5fa1e80eb817)\n",
      "For execution on a local, multicore CPU with excess RAM we recommend calling\n",
      "rstan_options(auto_write = TRUE)\n",
      "options(mc.cores = parallel::detectCores())\n",
      "Loading required package: parallel\n",
      "rethinking (Version 1.59)\n"
     ]
    }
   ],
   "source": [
    "library(rethinking)"
   ]
  },
  {
   "cell_type": "code",
   "execution_count": 3,
   "metadata": {},
   "outputs": [],
   "source": [
    "data(foxes)"
   ]
  },
  {
   "cell_type": "raw",
   "metadata": {
    "collapsed": true
   },
   "source": [
    "All three exercises below use the same data, data(foxes)(partof rethinking).\n",
    "The urban fox (Vulpesvulpes) is a successful exploiter of human habitat.\n",
    "\n",
    "Since urban foxes move in packs and defend territories, data on habitat quality and population density is also included. The dataframe has five columns: \n",
    "\n",
    "            (1) group: Number of the social group the individual fox belongs to\n",
    "            (2) avgfood: The average amount of food available in the territory\n",
    "            (3) groupsize: The number of foxes in the social group\n",
    "            (4) area: Size of the territory \n",
    "            (5) weight: Body weight of theindividualfox"
   ]
  },
  {
   "cell_type": "raw",
   "metadata": {},
   "source": [
    "5.7.10. Bivariate entrée. Fit two bivariate Gaussian regressions,using map: \n",
    "    \n",
    "    (1)bodyweight as a linear function of territory size (area)\n",
    "    , and \n",
    "    (2) body weight as a linear function of groupsize.\n",
    "\n",
    "Plot the results of these regressions, displaying the MAP regression line and the 95% confidence interval of the mean. Is either variable important for predicting fox body weight? "
   ]
  },
  {
   "cell_type": "code",
   "execution_count": null,
   "metadata": {
    "collapsed": true
   },
   "outputs": [],
   "source": []
  },
  {
   "cell_type": "code",
   "execution_count": null,
   "metadata": {
    "collapsed": true
   },
   "outputs": [],
   "source": []
  },
  {
   "cell_type": "code",
   "execution_count": null,
   "metadata": {
    "collapsed": true
   },
   "outputs": [],
   "source": []
  },
  {
   "cell_type": "raw",
   "metadata": {},
   "source": [
    "5.7.11. Multivariate course. \n",
    "\n",
    "Now fit a multiple linear regression with weight as the outcome and both area and group size as predictor variables. \n",
    "\n",
    "Plot the predictions of the model for each predictor, holding the other predictor constantat its mean. \n",
    "\n",
    "What does this model say about the importance of each variable? \n",
    "\n",
    "Why do you get diﬀerent results than you got in exercise just above?"
   ]
  },
  {
   "cell_type": "code",
   "execution_count": null,
   "metadata": {
    "collapsed": true
   },
   "outputs": [],
   "source": []
  },
  {
   "cell_type": "code",
   "execution_count": null,
   "metadata": {
    "collapsed": true
   },
   "outputs": [],
   "source": []
  },
  {
   "cell_type": "code",
   "execution_count": null,
   "metadata": {
    "collapsed": true
   },
   "outputs": [],
   "source": []
  },
  {
   "cell_type": "raw",
   "metadata": {},
   "source": [
    "5.7.12. Model comparison dessert. Finally, consider the avgfood variable. \n",
    "\n",
    "Fit two more multiple regressions:\n",
    "    (1)bodyweight as an additive function of avgfood and groupsize, and\n",
    "    (2)bodyweight as an additive function of all three variables, avgfood and groupsize and area. \n",
    "\n",
    "Compare the results of these models to the previous models you’ve fit, in the first two exercises. \n",
    "\n",
    "        (a)Is avgfood or area a better predictor of bodyweight? \n",
    "        If you had to choose one or the other to include in a model, which would it be?\n",
    "        Support your assessment with any tables or plots you choose.\n",
    "        \n",
    "        (b)When both avgfood or area are in the same model, \n",
    "        their eﬀects are reduced (closer  to zero) and\n",
    "        their standard errors are larger than when they are included in separate models.\n",
    "        Can you explain this result?"
   ]
  },
  {
   "cell_type": "code",
   "execution_count": null,
   "metadata": {
    "collapsed": true
   },
   "outputs": [],
   "source": []
  },
  {
   "cell_type": "code",
   "execution_count": null,
   "metadata": {
    "collapsed": true
   },
   "outputs": [],
   "source": []
  },
  {
   "cell_type": "code",
   "execution_count": null,
   "metadata": {
    "collapsed": true
   },
   "outputs": [],
   "source": []
  }
 ],
 "metadata": {
  "kernelspec": {
   "display_name": "R",
   "language": "R",
   "name": "ir"
  },
  "language_info": {
   "codemirror_mode": "r",
   "file_extension": ".r",
   "mimetype": "text/x-r-source",
   "name": "R",
   "pygments_lexer": "r",
   "version": "3.3.1"
  }
 },
 "nbformat": 4,
 "nbformat_minor": 2
}
