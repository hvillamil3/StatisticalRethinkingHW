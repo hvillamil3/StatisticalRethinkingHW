{
 "cells": [
  {
   "cell_type": "code",
   "execution_count": 1,
   "metadata": {},
   "outputs": [
    {
     "name": "stderr",
     "output_type": "stream",
     "text": [
      "Loading required package: rstan\n",
      "Warning message:\n",
      "\"package 'rstan' was built under R version 3.3.2\"Loading required package: ggplot2\n",
      "Warning message:\n",
      "\"package 'ggplot2' was built under R version 3.3.2\"Loading required package: StanHeaders\n",
      "Warning message:\n",
      "\"package 'StanHeaders' was built under R version 3.3.2\"rstan (Version 2.13.2, packaged: 2016-12-18 07:04:42 UTC, GitRev: 5fa1e80eb817)\n",
      "For execution on a local, multicore CPU with excess RAM we recommend calling\n",
      "rstan_options(auto_write = TRUE)\n",
      "options(mc.cores = parallel::detectCores())\n",
      "Loading required package: parallel\n",
      "rethinking (Version 1.59)\n"
     ]
    }
   ],
   "source": [
    "library(rethinking)"
   ]
  },
  {
   "cell_type": "raw",
   "metadata": {},
   "source": [
    "7H1. Return to the data(tulips) example in the chapter. Now include the bed variable as a predictor in the interaction model.\n",
    "Don''t interact bed with the other predictors; just include it as a main effect.\n",
    "Note that bed is categorical. So to use it properly, you will need to either construct dummy variables or rather\n",
    "an index variable, as explained in Chapter 6."
   ]
  },
  {
   "cell_type": "code",
   "execution_count": 2,
   "metadata": {
    "collapsed": true
   },
   "outputs": [],
   "source": [
    "data(tulips)"
   ]
  },
  {
   "cell_type": "code",
   "execution_count": 3,
   "metadata": {
    "collapsed": true
   },
   "outputs": [],
   "source": [
    "d<- tulips"
   ]
  },
  {
   "cell_type": "code",
   "execution_count": 4,
   "metadata": {
    "collapsed": true
   },
   "outputs": [],
   "source": [
    "d$bed.a <- ifelse( d$bed==\"a\" , 1 , 0 )\n",
    "d$bed.b <- ifelse( d$bed==\"b\" , 1 , 0 )"
   ]
  },
  {
   "cell_type": "code",
   "execution_count": 5,
   "metadata": {
    "collapsed": true
   },
   "outputs": [],
   "source": [
    "d$shade.c <- d$shade - mean(d$shade)\n",
    "d$water.c <- d$water - mean(d$water)"
   ]
  },
  {
   "cell_type": "code",
   "execution_count": 6,
   "metadata": {
    "collapsed": true
   },
   "outputs": [],
   "source": [
    "m7.9 <- map(\n",
    "    alist(\n",
    "        blooms ~ dnorm( mu , sigma ) ,\n",
    "        mu <- a + bW*water.c + bS*shade.c + bWS*water.c*shade.c + ba*bed.a + bb*bed.b,\n",
    "        a ~ dnorm( 130 , 100 ) ,\n",
    "        bW ~ dnorm( 0 , 100 ) ,\n",
    "        bS ~ dnorm( 0 , 100 ) ,\n",
    "        bWS ~ dnorm( 0 , 100 ) ,\n",
    "        ba ~ dnorm( 0 , 100 ) ,\n",
    "        bb ~ dnorm( 0 , 100 ) ,\n",
    "        sigma ~ dunif( 0 , 100 )\n",
    "    ) ,\n",
    "    data=d ,\n",
    "    start=list(a=mean(d$blooms),bW=0,bS=0,bWS=0,ba=0,bb=0,sigma=sd(d$blooms)) )"
   ]
  },
  {
   "cell_type": "code",
   "execution_count": 7,
   "metadata": {},
   "outputs": [
    {
     "data": {
      "text/plain": [
       "\n",
       "Maximum a posteriori (MAP) model fit\n",
       "\n",
       "Formula:\n",
       "blooms ~ dnorm(mu, sigma)\n",
       "mu <- a + bW * water.c + bS * shade.c + bWS * water.c * shade.c + \n",
       "    ba * bed.a + bb * bed.b\n",
       "a ~ dnorm(130, 100)\n",
       "bW ~ dnorm(0, 100)\n",
       "bS ~ dnorm(0, 100)\n",
       "bWS ~ dnorm(0, 100)\n",
       "ba ~ dnorm(0, 100)\n",
       "bb ~ dnorm(0, 100)\n",
       "sigma ~ dunif(0, 100)\n",
       "\n",
       "MAP values:\n",
       "         a         bW         bS        bWS         ba         bb      sigma \n",
       "146.068212  75.189996 -41.267070 -52.162067 -47.941011  -3.429834  39.185236 \n",
       "\n",
       "Log-likelihood: -137.36 "
      ]
     },
     "metadata": {},
     "output_type": "display_data"
    }
   ],
   "source": [
    "m7.9"
   ]
  },
  {
   "cell_type": "raw",
   "metadata": {},
   "source": [
    "7H2. Use WAIC to compare the model from 7H1 to a model that omits bed. What do you infer from this comparison?\n",
    "Can you reconcile the WAIC results with the posterior distribution of the bed coefficients?"
   ]
  },
  {
   "cell_type": "code",
   "execution_count": 8,
   "metadata": {
    "collapsed": true
   },
   "outputs": [],
   "source": [
    "m7.9a <- map(\n",
    "    alist(\n",
    "        blooms ~ dnorm( mu , sigma ) ,\n",
    "        mu <- a + bW*water.c + bS*shade.c + bWS*water.c*shade.c ,\n",
    "        a ~ dnorm( 130 , 100 ) ,\n",
    "        bW ~ dnorm( 0 , 100 ) ,\n",
    "        bS ~ dnorm( 0 , 100 ) ,\n",
    "        bWS ~ dnorm( 0 , 100 ) ,\n",
    "        sigma ~ dunif( 0 , 100 )\n",
    "    ) ,\n",
    "    data=d ,\n",
    "    start=list(a=mean(d$blooms),bW=0,bS=0,bWS=0,sigma=sd(d$blooms)) )"
   ]
  },
  {
   "cell_type": "code",
   "execution_count": 9,
   "metadata": {},
   "outputs": [
    {
     "data": {
      "text/plain": [
       "       WAIC pWAIC dWAIC weight    SE  dSE\n",
       "m7.9  295.5  10.2   0.0   0.67 10.45   NA\n",
       "m7.9a 296.9   7.0   1.4   0.33 10.90 8.57"
      ]
     },
     "metadata": {},
     "output_type": "display_data"
    }
   ],
   "source": [
    "compare(m7.9,m7.9a)"
   ]
  },
  {
   "cell_type": "code",
   "execution_count": 10,
   "metadata": {},
   "outputs": [
    {
     "data": {
      "image/png": "[encoded data removed]",
      "text/plain": [
       "plot without title"
      ]
     },
     "metadata": {},
     "output_type": "display_data"
    }
   ],
   "source": [
    "par(mfrow = c(2,2))\n",
    "plot(compare(m7.9,m7.9a) )"
   ]
  },
  {
   "cell_type": "code",
   "execution_count": 11,
   "metadata": {
    "collapsed": true
   },
   "outputs": [],
   "source": [
    "post <- extract.samples( m7.9 )"
   ]
  },
  {
   "cell_type": "code",
   "execution_count": 12,
   "metadata": {},
   "outputs": [
    {
     "data": {
      "text/plain": [
       "      m7.9   \n",
       "a      146.07\n",
       "bW      75.19\n",
       "bS     -41.27\n",
       "bWS    -52.16\n",
       "ba     -47.94\n",
       "bb      -3.43\n",
       "sigma   39.19\n",
       "nobs       27"
      ]
     },
     "metadata": {},
     "output_type": "display_data"
    }
   ],
   "source": [
    "coeftab(m7.9 )"
   ]
  },
  {
   "cell_type": "code",
   "execution_count": 13,
   "metadata": {},
   "outputs": [
    {
     "data": {
      "text/html": [
       "<dl class=dl-horizontal>\n",
       "\t<dt>|0.89</dt>\n",
       "\t\t<dd>-76.6385675550619</dd>\n",
       "\t<dt>|0.5</dt>\n",
       "\t\t<dd>-59.702443973895</dd>\n",
       "\t<dt>|0.01</dt>\n",
       "\t\t<dd>-47.3662162696955</dd>\n",
       "\t<dt>0.01|</dt>\n",
       "\t\t<dd>-47.0020857209122</dd>\n",
       "\t<dt>0.5|</dt>\n",
       "\t\t<dd>-35.4843670431061</dd>\n",
       "\t<dt>0.89|</dt>\n",
       "\t\t<dd>-18.4939381198227</dd>\n",
       "</dl>\n"
      ],
      "text/latex": [
       "\\begin{description*}\n",
       "\\item[\\textbackslash{}textbar\\{\\}0.89] -76.6385675550619\n",
       "\\item[\\textbackslash{}textbar\\{\\}0.5] -59.702443973895\n",
       "\\item[\\textbackslash{}textbar\\{\\}0.01] -47.3662162696955\n",
       "\\item[0.01\\textbackslash{}textbar\\{\\}] -47.0020857209122\n",
       "\\item[0.5\\textbackslash{}textbar\\{\\}] -35.4843670431061\n",
       "\\item[0.89\\textbackslash{}textbar\\{\\}] -18.4939381198227\n",
       "\\end{description*}\n"
      ],
      "text/markdown": [
       "|0.89\n",
       ":   -76.6385675550619|0.5\n",
       ":   -59.702443973895|0.01\n",
       ":   -47.36621626969550.01|\n",
       ":   -47.00208572091220.5|\n",
       ":   -35.48436704310610.89|\n",
       ":   -18.4939381198227\n",
       "\n"
      ],
      "text/plain": [
       "    |0.89      |0.5     |0.01     0.01|      0.5|     0.89| \n",
       "-76.63857 -59.70244 -47.36622 -47.00209 -35.48437 -18.49394 "
      ]
     },
     "metadata": {},
     "output_type": "display_data"
    },
    {
     "data": {
      "text/html": [
       "<dl class=dl-horizontal>\n",
       "\t<dt>|0.89</dt>\n",
       "\t\t<dd>-31.671641046751</dd>\n",
       "\t<dt>|0.5</dt>\n",
       "\t\t<dd>-15.1208315830333</dd>\n",
       "\t<dt>|0.01</dt>\n",
       "\t\t<dd>7.7740202663028</dd>\n",
       "\t<dt>0.01|</dt>\n",
       "\t\t<dd>8.12822687752237</dd>\n",
       "\t<dt>0.5|</dt>\n",
       "\t\t<dd>9.22643669481534</dd>\n",
       "\t<dt>0.89|</dt>\n",
       "\t\t<dd>26.5170904694493</dd>\n",
       "</dl>\n"
      ],
      "text/latex": [
       "\\begin{description*}\n",
       "\\item[\\textbackslash{}textbar\\{\\}0.89] -31.671641046751\n",
       "\\item[\\textbackslash{}textbar\\{\\}0.5] -15.1208315830333\n",
       "\\item[\\textbackslash{}textbar\\{\\}0.01] 7.7740202663028\n",
       "\\item[0.01\\textbackslash{}textbar\\{\\}] 8.12822687752237\n",
       "\\item[0.5\\textbackslash{}textbar\\{\\}] 9.22643669481534\n",
       "\\item[0.89\\textbackslash{}textbar\\{\\}] 26.5170904694493\n",
       "\\end{description*}\n"
      ],
      "text/markdown": [
       "|0.89\n",
       ":   -31.671641046751|0.5\n",
       ":   -15.1208315830333|0.01\n",
       ":   7.77402026630280.01|\n",
       ":   8.128226877522370.5|\n",
       ":   9.226436694815340.89|\n",
       ":   26.5170904694493\n",
       "\n"
      ],
      "text/plain": [
       "     |0.89       |0.5      |0.01      0.01|       0.5|      0.89| \n",
       "-31.671641 -15.120832   7.774020   8.128227   9.226437  26.517090 "
      ]
     },
     "metadata": {},
     "output_type": "display_data"
    }
   ],
   "source": [
    "HPDI(post$ba, prob=c(.01,.5,.89) )\n",
    "HPDI(post$bb, prob=c(.01,.5,.89) )"
   ]
  },
  {
   "cell_type": "code",
   "execution_count": 14,
   "metadata": {},
   "outputs": [
    {
     "data": {
      "text/html": [
       "-47.8648560052878"
      ],
      "text/latex": [
       "-47.8648560052878"
      ],
      "text/markdown": [
       "-47.8648560052878"
      ],
      "text/plain": [
       "[1] -47.86486"
      ]
     },
     "metadata": {},
     "output_type": "display_data"
    },
    {
     "data": {
      "text/html": [
       "-3.48166311145352"
      ],
      "text/latex": [
       "-3.48166311145352"
      ],
      "text/markdown": [
       "-3.48166311145352"
      ],
      "text/plain": [
       "[1] -3.481663"
      ]
     },
     "metadata": {},
     "output_type": "display_data"
    }
   ],
   "source": [
    "mean(post$ba)\n",
    "mean(post$bb) #a lot of it is between less than 0 and above 0"
   ]
  },
  {
   "cell_type": "code",
   "execution_count": 15,
   "metadata": {},
   "outputs": [
    {
     "data": {
      "image/png": "[encoded data removed]",
      "text/plain": [
       "Plot with title \"\""
      ]
     },
     "metadata": {},
     "output_type": "display_data"
    }
   ],
   "source": [
    "par(mfrow = c(2,2))\n",
    "dens(post$ba)\n",
    "dens(post$bb , add= TRUE)"
   ]
  },
  {
   "cell_type": "raw",
   "metadata": {},
   "source": [
    "7H3. Consider again the data(rugged) data on economic development and terrain ruggedness, examined in this chapter.\n",
    "One of the African countries in that example, Seychelles, is far outside the cloud of other nattions, being a rare\n",
    "country with both relatively high GDP and high ruggedness. Seychelles is also unusual, in that it is a group of islands\n",
    "far from the coast of mainland Africa, and its main economic activity is tourism.\n",
    "One might suspect that this one nation is exerting a strong influence on the conclusions. In this problem, I want\n",
    " you to drop Seychelles from the data and re-evaluate the hypothesis that the relationship of African economies with ruggedness is different from that on other continents.\n",
    " \n",
    " a) Begin by using map to fit just the interaction model:"
   ]
  },
  {
   "cell_type": "code",
   "execution_count": 16,
   "metadata": {},
   "outputs": [
    {
     "name": "stderr",
     "output_type": "stream",
     "text": [
      "Constructing posterior predictions\n"
     ]
    },
    {
     "name": "stdout",
     "output_type": "stream",
     "text": [
      "[ 100 / 1000 ]\r",
      "[ 200 / 1000 ]\r",
      "[ 300 / 1000 ]\r",
      "[ 400 / 1000 ]\r",
      "[ 500 / 1000 ]\r",
      "[ 600 / 1000 ]\r",
      "[ 700 / 1000 ]\r",
      "[ 800 / 1000 ]\r",
      "[ 900 / 1000 ]\r",
      "[ 1000 / 1000 ]\r\n"
     ]
    },
    {
     "data": {
      "text/html": [
       "469.534602969352"
      ],
      "text/latex": [
       "469.534602969352"
      ],
      "text/markdown": [
       "469.534602969352"
      ],
      "text/plain": [
       "[1] 469.5346\n",
       "attr(,\"lppd\")\n",
       "[1] -229.5302\n",
       "attr(,\"pWAIC\")\n",
       "[1] 5.237138\n",
       "attr(,\"se\")\n",
       "[1] 15.11096"
      ]
     },
     "metadata": {},
     "output_type": "display_data"
    },
    {
     "data": {
      "text/plain": [
       "      m7.5   \n",
       "a        9.18\n",
       "bA      -1.85\n",
       "bR      -0.18\n",
       "bAR      0.35\n",
       "sigma    0.93\n",
       "nobs      170"
      ]
     },
     "metadata": {},
     "output_type": "display_data"
    }
   ],
   "source": [
    "data(rugged)\n",
    "dd <- rugged\n",
    "\n",
    "# extract countries with GDP data\n",
    "dd <- dd[ complete.cases(dd$rgdppc_2000) , ]\n",
    "\n",
    "# make log version of outcome\n",
    "dd$log_gdp <- log( dd$rgdppc_2000 )\n",
    "\n",
    "## R code 7.7\n",
    "m7.5 <- map(\n",
    "    alist(\n",
    "        log_gdp ~ dnorm( mu , sigma ) ,\n",
    "        mu <- a + gamma*rugged + bA*cont_africa ,\n",
    "        #gamma linear interaction effect \n",
    "        #we are saying ruggedness depends on africa_condition and africa_condition depends on ruggednes\n",
    "        gamma <- bR + bAR*cont_africa ,#gamma is the slope of ruggedness given continent of Africa\n",
    "        a ~ dnorm( 8 , 100 ) ,\n",
    "        bA ~ dnorm( 0 , 1 ) ,#continent of Africa coef\n",
    "        bR ~ dnorm( 0 , 1 ) ,#Rugged coef\n",
    "        bAR ~ dnorm( 0 , 1 ) ,#Rugged & Africa interaction coef\n",
    "        sigma ~ dunif( 0 , 10 )\n",
    "    ) ,\n",
    "    data=dd )\n",
    "WAIC(m7.5)\n",
    "coeftab(m7.5)"
   ]
  },
  {
   "cell_type": "code",
   "execution_count": 17,
   "metadata": {},
   "outputs": [
    {
     "name": "stderr",
     "output_type": "stream",
     "text": [
      "Constructing posterior predictions\n"
     ]
    },
    {
     "name": "stdout",
     "output_type": "stream",
     "text": [
      "[ 100 / 1000 ]\r",
      "[ 200 / 1000 ]\r",
      "[ 300 / 1000 ]\r",
      "[ 400 / 1000 ]\r",
      "[ 500 / 1000 ]\r",
      "[ 600 / 1000 ]\r",
      "[ 700 / 1000 ]\r",
      "[ 800 / 1000 ]\r",
      "[ 900 / 1000 ]\r",
      "[ 1000 / 1000 ]\r\n"
     ]
    },
    {
     "data": {
      "text/html": [
       "469.333371830261"
      ],
      "text/latex": [
       "469.333371830261"
      ],
      "text/markdown": [
       "469.333371830261"
      ],
      "text/plain": [
       "[1] 469.3334\n",
       "attr(,\"lppd\")\n",
       "[1] -229.5025\n",
       "attr(,\"pWAIC\")\n",
       "[1] 5.164139\n",
       "attr(,\"se\")\n",
       "[1] 15.02282"
      ]
     },
     "metadata": {},
     "output_type": "display_data"
    },
    {
     "data": {
      "text/plain": [
       "      m7.5   \n",
       "a        9.18\n",
       "bA      -1.85\n",
       "bR      -0.18\n",
       "bAR      0.35\n",
       "sigma    0.93\n",
       "nobs      170"
      ]
     },
     "metadata": {},
     "output_type": "display_data"
    }
   ],
   "source": [
    "# B) Plot the predictons of the interaction model, with and withouth\n",
    "data(rugged)\n",
    "dd <- rugged\n",
    "\n",
    "# extract countries with GDP data\n",
    "dd <- dd[ complete.cases(dd$rgdppc_2000) , ]\n",
    "\n",
    "# make log version of outcome\n",
    "dd$log_gdp <- log( dd$rgdppc_2000 )\n",
    "\n",
    "## R code 7.7\n",
    "m7.5 <- map(\n",
    "    alist(\n",
    "        log_gdp ~ dnorm( mu , sigma ) ,\n",
    "        mu <- a + gamma*rugged + bA*cont_africa ,\n",
    "        #gamma linear interaction effect \n",
    "        #we are saying ruggedness depends on africa_condition and africa_condition depends on ruggednes\n",
    "        gamma <- bR + bAR*cont_africa ,#gamma is the slope of ruggedness given continent of Africa\n",
    "        a ~ dnorm( 8 , 100 ) ,\n",
    "        bA ~ dnorm( 0 , 1 ) ,#continent of Africa coef\n",
    "        bR ~ dnorm( 0 , 1 ) ,#Rugged coef\n",
    "        bAR ~ dnorm( 0 , 1 ) ,#Rugged & Africa interaction coef\n",
    "        sigma ~ dunif( 0 , 10 )\n",
    "    ) ,\n",
    "    data=dd )\n",
    "WAIC(m7.5)\n",
    "coeftab(m7.5)"
   ]
  },
  {
   "cell_type": "code",
   "execution_count": 18,
   "metadata": {},
   "outputs": [
    {
     "name": "stderr",
     "output_type": "stream",
     "text": [
      "Constructing posterior predictions\n"
     ]
    },
    {
     "name": "stdout",
     "output_type": "stream",
     "text": [
      "[ 100 / 1000 ]\r",
      "[ 200 / 1000 ]\r",
      "[ 300 / 1000 ]\r",
      "[ 400 / 1000 ]\r",
      "[ 500 / 1000 ]\r",
      "[ 600 / 1000 ]\r",
      "[ 700 / 1000 ]\r",
      "[ 800 / 1000 ]\r",
      "[ 900 / 1000 ]\r",
      "[ 1000 / 1000 ]\r\n"
     ]
    },
    {
     "data": {
      "text/html": [
       "463.65049877554"
      ],
      "text/latex": [
       "463.65049877554"
      ],
      "text/markdown": [
       "463.65049877554"
      ],
      "text/plain": [
       "[1] 463.6505\n",
       "attr(,\"lppd\")\n",
       "[1] -227.0563\n",
       "attr(,\"pWAIC\")\n",
       "[1] 4.768919\n",
       "attr(,\"se\")\n",
       "[1] 15.12432"
      ]
     },
     "metadata": {},
     "output_type": "display_data"
    },
    {
     "data": {
      "text/plain": [
       "      m7.5b  \n",
       "a        9.19\n",
       "bA      -1.78\n",
       "bR      -0.19\n",
       "bAR      0.25\n",
       "sigma    0.93\n",
       "nobs      169"
      ]
     },
     "metadata": {},
     "output_type": "display_data"
    }
   ],
   "source": [
    "dd1 <-  dd[dd$country != 'Seychelles',]\n",
    "\n",
    "## R code 7.7\n",
    "m7.5b <- map(\n",
    "    alist(\n",
    "        log_gdp ~ dnorm( mu , sigma ) ,\n",
    "        mu <- a + gamma*rugged + bA*cont_africa ,\n",
    "        #gamma linear interaction effect \n",
    "        #we are saying ruggedness depends on africa_condition and africa_condition depends on ruggednes\n",
    "        gamma <- bR + bAR*cont_africa ,#gamma is the slope of ruggedness given continent of Africa\n",
    "        a ~ dnorm( 8 , 100 ) ,\n",
    "        bA ~ dnorm( 0 , 1 ) ,#continent of Africa coef\n",
    "        bR ~ dnorm( 0 , 1 ) ,#Rugged coef\n",
    "        bAR ~ dnorm( 0 , 1 ) ,#Rugged & Africa interaction coef\n",
    "        sigma ~ dunif( 0 , 10 )\n",
    "    ) ,\n",
    "    data=dd1 )\n",
    "WAIC(m7.5b)\n",
    "coeftab(m7.5b)"
   ]
  },
  {
   "cell_type": "code",
   "execution_count": 19,
   "metadata": {},
   "outputs": [
    {
     "name": "stderr",
     "output_type": "stream",
     "text": [
      "Warning message in compare(m7.5, m7.5b):\n",
      "\"Different numbers of observations found for at least two models.\n",
      "Information criteria only valid for comparing models fit to exactly same observations.\n",
      "Number of observations for each model:\n",
      "m7.5 170 \n",
      "m7.5b 169 \n",
      "\"Warning message in waic_ptw1 - waic_ptw2:\n",
      "\"longer object length is not a multiple of shorter object length\""
     ]
    },
    {
     "data": {
      "text/plain": [
       "       WAIC pWAIC dWAIC weight    SE   dSE\n",
       "m7.5b 463.1   4.4   0.0   0.96 14.99    NA\n",
       "m7.5  469.5   5.2   6.5   0.04 15.12 10.02"
      ]
     },
     "metadata": {},
     "output_type": "display_data"
    }
   ],
   "source": [
    "compare(m7.5,m7.5b)"
   ]
  },
  {
   "cell_type": "code",
   "execution_count": 20,
   "metadata": {},
   "outputs": [
    {
     "name": "stdout",
     "output_type": "stream",
     "text": [
      "[ 1000 / 1000 ]\n",
      "[ 1000 / 1000 ]\n"
     ]
    }
   ],
   "source": [
    "rugged.seq <- seq(from=-1,to=8,by=0.25)\n",
    "\n",
    "mu.Africa <- link( m7.5 , data=data.frame(cont_africa=1,rugged=rugged.seq) )\n",
    "mu.Africa.mean <- apply( mu.Africa , 2 , mean )\n",
    "mu.Africa.PI <- apply( mu.Africa , 2 , PI , prob=0.97 )\n",
    "\n",
    "mu.NotAfrica <- link( m7.5 , data=data.frame(cont_africa=0,rugged=rugged.seq) )\n",
    "mu.NotAfrica.mean <- apply( mu.NotAfrica , 2 , mean )\n",
    "mu.NotAfrica.PI <- apply( mu.NotAfrica , 2 , PI , prob=0.97 )\n"
   ]
  },
  {
   "cell_type": "code",
   "execution_count": 21,
   "metadata": {},
   "outputs": [
    {
     "name": "stdout",
     "output_type": "stream",
     "text": [
      "[ 1000 / 1000 ]\n",
      "[ 1000 / 1000 ]\n"
     ]
    }
   ],
   "source": [
    "rugged.seq <- seq(from=-1,to=8,by=0.25)\n",
    "\n",
    "mu.Africab <- link( m7.5b , data=data.frame(cont_africa=1,rugged=rugged.seq) )\n",
    "mu.Africa.meanb <- apply( mu.Africab , 2 , mean )\n",
    "mu.Africa.PIb <- apply( mu.Africab , 2 , PI , prob=0.97 )\n",
    "\n",
    "mu.NotAfricab <- link( m7.5b , data=data.frame(cont_africa=0,rugged=rugged.seq) )\n",
    "mu.NotAfrica.meanb <- apply( mu.NotAfricab , 2 , mean )\n",
    "mu.NotAfrica.PIb <- apply( mu.NotAfricab , 2 , PI , prob=0.97 )\n"
   ]
  },
  {
   "cell_type": "code",
   "execution_count": 22,
   "metadata": {},
   "outputs": [
    {
     "data": {
      "image/png": "[encoded data removed]",
      "text/plain": [
       "plot without title"
      ]
     },
     "metadata": {},
     "output_type": "display_data"
    }
   ],
   "source": [
    "par(mfrow = c(2,2))\n",
    "plot( log(rgdppc_2000) ~ rugged , data=dd ,\n",
    "    ylab=\"log GDP year 2000\" ,\n",
    "    xlab=\"Terrain Ruggedness Index\" )\n",
    "mtext( \"Both African & Non-African nations\" , 3 )\n",
    "lines( rugged.seq , mu.NotAfrica.mean )\n",
    "shade( mu.NotAfrica.PI , rugged.seq )\n",
    "lines( rugged.seq , mu.Africa.mean , col=rangi2 )\n",
    "shade( mu.Africa.PI , rugged.seq , col=col.alpha(rangi2,0.3) )\n",
    "\n",
    "plot( log(rgdppc_2000) ~ rugged , data=dd1 ,\n",
    "     ylab=\"log GDP year 2000\" ,\n",
    "    xlab=\"Terrain Ruggedness Index\" )\n",
    "mtext( \"Both African & Non-African nations\" , 3 )\n",
    "lines( rugged.seq , mu.NotAfrica.meanb )\n",
    "shade( mu.NotAfrica.PIb , rugged.seq )\n",
    "lines( rugged.seq , mu.Africa.meanb , col=rangi2 )\n",
    "shade( mu.Africa.PIb , rugged.seq , col=col.alpha(rangi2,0.3) )\n",
    "\n",
    "plot(coeftab(m7.5,m7.5b))"
   ]
  },
  {
   "cell_type": "code",
   "execution_count": 23,
   "metadata": {
    "collapsed": true
   },
   "outputs": [],
   "source": [
    "# c) Model comparison with WAIC. Fit  3 models to the data 1, 2 , then interaction.\n",
    "# Plot the model-averaged predictions of this model set.\n",
    "# Any difference with (b)? ---No? maybe tighter intervals."
   ]
  },
  {
   "cell_type": "code",
   "execution_count": 24,
   "metadata": {
    "collapsed": true
   },
   "outputs": [],
   "source": [
    "m7H3.1 <- map(\n",
    "    alist(\n",
    "        log_gdp ~ dnorm( mu , sigma ) ,\n",
    "        mu <- a + bR*rugged ,\n",
    "        #gamma linear interaction effect \n",
    "        #we are saying ruggedness depends on africa_condition and africa_condition depends on ruggednes\n",
    "        #gamma <- bR + bAR*cont_africa ,#gamma is the slope of ruggedness given continent of Africa\n",
    "        a ~ dnorm( 8 , 100 ) ,\n",
    "       # bA ~ dnorm( 0 , 1 ) ,#continent of Africa coef\n",
    "        bR ~ dnorm( 0 , 1 ) ,#Rugged coef\n",
    "        #bAR ~ dnorm( 0 , 1 ) ,#Rugged & Africa interaction coef\n",
    "        sigma ~ dunif( 0 , 10 )\n",
    "    ) ,\n",
    "    data=dd )"
   ]
  },
  {
   "cell_type": "code",
   "execution_count": 25,
   "metadata": {
    "collapsed": true
   },
   "outputs": [],
   "source": [
    "m7H3.2 <- map(\n",
    "    alist(\n",
    "        log_gdp ~ dnorm( mu , sigma ) ,\n",
    "        mu <- a + bR*rugged + bA*cont_africa ,\n",
    "        #gamma linear interaction effect \n",
    "        #we are saying ruggedness depends on africa_condition and africa_condition depends on ruggednes\n",
    "        #gamma <- bR + bAR*cont_africa ,#gamma is the slope of ruggedness given continent of Africa\n",
    "        a ~ dnorm( 8 , 100 ) ,\n",
    "        bA ~ dnorm( 0 , 1 ) ,#continent of Africa coef\n",
    "        bR ~ dnorm( 0 , 1 ) ,#Rugged coef\n",
    "        #bAR ~ dnorm( 0 , 1 ) ,#Rugged & Africa interaction coef\n",
    "        sigma ~ dunif( 0 , 10 )\n",
    "    ) ,\n",
    "    data=dd )"
   ]
  },
  {
   "cell_type": "code",
   "execution_count": 26,
   "metadata": {
    "collapsed": true
   },
   "outputs": [],
   "source": [
    "m7H3.3 <- map(\n",
    "    alist(\n",
    "        log_gdp ~ dnorm( mu , sigma ) ,\n",
    "        mu <- a + gamma*rugged + bA*cont_africa ,\n",
    "        #gamma linear interaction effect \n",
    "        #we are saying ruggedness depends on africa_condition and africa_condition depends on ruggednes\n",
    "        gamma <- bR + bAR*cont_africa ,#gamma is the slope of ruggedness given continent of Africa\n",
    "        a ~ dnorm( 8 , 100 ) ,\n",
    "        bA ~ dnorm( 0 , 1 ) ,#continent of Africa coef\n",
    "        bR ~ dnorm( 0 , 1 ) ,#Rugged coef\n",
    "        bAR ~ dnorm( 0 , 1 ) ,#Rugged & Africa interaction coef\n",
    "        sigma ~ dunif( 0 , 10 )\n",
    "    ) ,\n",
    "    data=dd )"
   ]
  },
  {
   "cell_type": "code",
   "execution_count": 27,
   "metadata": {},
   "outputs": [
    {
     "data": {
      "text/plain": [
       "        WAIC pWAIC dWAIC weight    SE   dSE\n",
       "m7H3.3 469.5   5.2   0.0   0.97 15.08    NA\n",
       "m7H3.2 476.6   4.5   7.1   0.03 15.39  6.05\n",
       "m7H3.1 539.5   2.6  69.9   0.00 13.21 15.09"
      ]
     },
     "metadata": {},
     "output_type": "display_data"
    },
    {
     "data": {
      "image/png": "[encoded data removed]",
      "text/plain": [
       "plot without title"
      ]
     },
     "metadata": {},
     "output_type": "display_data"
    }
   ],
   "source": [
    "#Compare WAIC\n",
    "par(mfrow = c(2,2))\n",
    "compare(m7H3.1,m7H3.2,m7H3.3)\n",
    "plot(compare(m7H3.1,m7H3.2,m7H3.3))"
   ]
  },
  {
   "cell_type": "code",
   "execution_count": 28,
   "metadata": {},
   "outputs": [
    {
     "name": "stdout",
     "output_type": "stream",
     "text": [
      "[ 1000 / 1000 ]\n",
      "[ 1000 / 1000 ]\n"
     ]
    }
   ],
   "source": [
    "rugged.seq0 <- rugged.seq#seq(from =min(dd$rugged) , to=max(dd$rugged), length.out =1000 )\n",
    "d.predict <- list( log_gdp=rep(0,length(rugged.seq)) ,rugged =rugged.seq0 ,cont_africa =rep(1,length(rugged.seq)) )\n",
    "d.predict1 <- list( log_gdp=rep(0,length(rugged.seq)) ,rugged =rugged.seq0 ,cont_africa =rep(0,length(rugged.seq)) )\n",
    "pred.m7H3.3 <- link( m7H3.3 ,data = data.frame(cont_africa=1,rugged=rugged.seq) )#d.predict )\n",
    "pred.mu <- apply(pred.m7H3.3, 2, mean )\n",
    "pred.PI <- apply(pred.m7H3.3, 2, PI )\n",
    "pred.m7H3.31 <- link( m7H3.3 ,data = data.frame(cont_africa=1,rugged=rugged.seq) )#d.predict1 )\n",
    "pred.mu1 <- apply(pred.m7H3.31, 2, mean )\n",
    "pred.PI1 <- apply(pred.m7H3.31, 2, PI )"
   ]
  },
  {
   "cell_type": "code",
   "execution_count": 29,
   "metadata": {},
   "outputs": [
    {
     "name": "stderr",
     "output_type": "stream",
     "text": [
      "Constructing posterior predictions\n"
     ]
    },
    {
     "name": "stdout",
     "output_type": "stream",
     "text": [
      "[ 100 / 1000 ]\r",
      "[ 200 / 1000 ]\r",
      "[ 300 / 1000 ]\r",
      "[ 400 / 1000 ]\r",
      "[ 500 / 1000 ]\r",
      "[ 600 / 1000 ]\r",
      "[ 700 / 1000 ]\r",
      "[ 800 / 1000 ]\r",
      "[ 900 / 1000 ]\r",
      "[ 1000 / 1000 ]\r\n"
     ]
    },
    {
     "name": "stderr",
     "output_type": "stream",
     "text": [
      "Constructing posterior predictions\n"
     ]
    },
    {
     "name": "stdout",
     "output_type": "stream",
     "text": [
      "[ 100 / 1000 ]\r",
      "[ 200 / 1000 ]\r",
      "[ 300 / 1000 ]\r",
      "[ 400 / 1000 ]\r",
      "[ 500 / 1000 ]\r",
      "[ 600 / 1000 ]\r",
      "[ 700 / 1000 ]\r",
      "[ 800 / 1000 ]\r",
      "[ 900 / 1000 ]\r",
      "[ 1000 / 1000 ]\r\n"
     ]
    },
    {
     "name": "stderr",
     "output_type": "stream",
     "text": [
      "Constructing posterior predictions\n"
     ]
    },
    {
     "name": "stdout",
     "output_type": "stream",
     "text": [
      "[ 100 / 1000 ]\r",
      "[ 200 / 1000 ]\r",
      "[ 300 / 1000 ]\r",
      "[ 400 / 1000 ]\r",
      "[ 500 / 1000 ]\r",
      "[ 600 / 1000 ]\r",
      "[ 700 / 1000 ]\r",
      "[ 800 / 1000 ]\r",
      "[ 900 / 1000 ]\r",
      "[ 1000 / 1000 ]\r\n"
     ]
    },
    {
     "name": "stderr",
     "output_type": "stream",
     "text": [
      "Constructing posterior predictions\n"
     ]
    },
    {
     "name": "stdout",
     "output_type": "stream",
     "text": [
      "[ 100 / 1000 ]\r",
      "[ 200 / 1000 ]\r",
      "[ 300 / 1000 ]\r",
      "[ 400 / 1000 ]\r",
      "[ 500 / 1000 ]\r",
      "[ 600 / 1000 ]\r",
      "[ 700 / 1000 ]\r",
      "[ 800 / 1000 ]\r",
      "[ 900 / 1000 ]\r",
      "[ 1000 / 1000 ]\r\n"
     ]
    },
    {
     "name": "stderr",
     "output_type": "stream",
     "text": [
      "Constructing posterior predictions\n"
     ]
    },
    {
     "name": "stdout",
     "output_type": "stream",
     "text": [
      "[ 100 / 1000 ]\r",
      "[ 200 / 1000 ]\r",
      "[ 300 / 1000 ]\r",
      "[ 400 / 1000 ]\r",
      "[ 500 / 1000 ]\r",
      "[ 600 / 1000 ]\r",
      "[ 700 / 1000 ]\r",
      "[ 800 / 1000 ]\r",
      "[ 900 / 1000 ]\r",
      "[ 1000 / 1000 ]\r\n"
     ]
    },
    {
     "name": "stderr",
     "output_type": "stream",
     "text": [
      "Constructing posterior predictions\n"
     ]
    },
    {
     "name": "stdout",
     "output_type": "stream",
     "text": [
      "[ 100 / 1000 ]\r",
      "[ 200 / 1000 ]\r",
      "[ 300 / 1000 ]\r",
      "[ 400 / 1000 ]\r",
      "[ 500 / 1000 ]\r",
      "[ 600 / 1000 ]\r",
      "[ 700 / 1000 ]\r",
      "[ 800 / 1000 ]\r",
      "[ 900 / 1000 ]\r",
      "[ 1000 / 1000 ]\r\n"
     ]
    },
    {
     "data": {
      "image/png": "[encoded data removed]",
      "text/plain": [
       "plot without title"
      ]
     },
     "metadata": {},
     "output_type": "display_data"
    }
   ],
   "source": [
    "rugged.ensemble <-ensemble( m7H3.1, m7H3.2, m7H3.3, data=d.predict )\n",
    "rug.mu <- apply( rugged.ensemble$link , 2, mean)\n",
    "rug.PI <- apply( rugged.ensemble$link , 2, PI)\n",
    "\n",
    "rugged.ensemble1 <-ensemble( m7H3.1, m7H3.2, m7H3.3, data=d.predict1 )\n",
    "rug.mu1 <- apply( rugged.ensemble1$link , 2, mean)\n",
    "rug.PI1 <- apply( rugged.ensemble1$link , 2, PI)\n",
    "\n",
    "plot( log(rgdppc_2000)  ~ rugged , dd , col=rangi2 )\n",
    "lines( rugged.seq0, rug.mu , lty=2 )\n",
    "lines( rugged.seq0, rug.PI[1,] , lty=2 )\n",
    "lines( rugged.seq0, rug.PI[2,] , lty=2 )\n",
    "lines( rugged.seq0, rug.mu1 , lty=2 )\n",
    "lines( rugged.seq0, rug.PI1[1,] , lty=2 )\n",
    "lines( rugged.seq0, rug.PI1[2,] , lty=2 )\n",
    "#ensemble shade\n",
    "lines( rugged.seq0 , rug.mu )\n",
    "shade( rug.PI , rugged.seq0 ,col=col.alpha(rangi2,0.3))\n",
    "lines( rugged.seq0 , rug.mu1 )\n",
    "shade( rug.PI1 , rugged.seq0 )\n",
    "\n"
   ]
  },
  {
   "cell_type": "code",
   "execution_count": 30,
   "metadata": {},
   "outputs": [
    {
     "data": {
      "image/png": "[encoded data removed]",
      "text/plain": [
       "plot without title"
      ]
     },
     "metadata": {},
     "output_type": "display_data"
    }
   ],
   "source": [
    "par(mfrow = c(2,2))\n",
    "plot( log(rgdppc_2000) ~ rugged , data=dd ,\n",
    "     ylab=\"log GDP year 2000\" ,\n",
    "    xlab=\"Terrain Ruggedness Index\" )\n",
    "mtext( \"Both African & Non-African nations\" , 3 )\n",
    "lines( rugged.seq , mu.NotAfrica.mean )\n",
    "shade( mu.NotAfrica.PI , rugged.seq )\n",
    "lines( rugged.seq , mu.Africa.mean , col=rangi2 )\n",
    "shade( mu.Africa.PI , rugged.seq , col=col.alpha(rangi2,0.3) )\n",
    "\n",
    "plot( log(rgdppc_2000) ~ rugged , data=dd1 ,\n",
    "     ylab=\"log GDP year 2000\" ,\n",
    "    xlab=\"Terrain Ruggedness Index\" )\n",
    "mtext( \"Both African & Non-African nations -Seychelles\" , 3 ,cex=.9)\n",
    "lines( rugged.seq , mu.NotAfrica.meanb )\n",
    "shade( mu.NotAfrica.PIb , rugged.seq )\n",
    "lines( rugged.seq , mu.Africa.meanb , col=rangi2 )\n",
    "shade( mu.Africa.PIb , rugged.seq , col=col.alpha(rangi2,0.3) )\n",
    "\n",
    "#plot( log(rgdppc_2000)  ~ rugged , dd , col=rangi2 )\n",
    "plot( log(rgdppc_2000) ~ rugged , data=dd ,\n",
    "     ylab=\"log GDP year 2000\" ,\n",
    "    xlab=\"Terrain Ruggedness Index\" )\n",
    "mtext( \"Both African & Non-African nations ENSEMBLE\" , 3 )\n",
    "lines( rugged.seq0, rug.mu , lty=2 )\n",
    "lines( rugged.seq0, rug.PI[1,] , lty=2 )\n",
    "lines( rugged.seq0, rug.PI[2,] , lty=2 )\n",
    "lines( rugged.seq0, rug.mu1 , lty=2 )\n",
    "lines( rugged.seq0, rug.PI1[1,] , lty=2 )\n",
    "lines( rugged.seq0, rug.PI1[2,] , lty=2 )\n",
    "#ensemble shade\n",
    "lines( rugged.seq0 , rug.mu )\n",
    "shade( rug.PI , rugged.seq0 ,col=col.alpha(rangi2,0.3))\n",
    "lines( rugged.seq0 , rug.mu1 )\n",
    "shade( rug.PI1 , rugged.seq0 )"
   ]
  },
  {
   "cell_type": "code",
   "execution_count": 31,
   "metadata": {
    "collapsed": true
   },
   "outputs": [],
   "source": [
    "# 7H4\n",
    "# The values in data(nettle) are data on language diversity in 74 nations. The meaning of each column is given below.\n",
    "# language diversity ~ part of food security\n",
    "# langauges per captia"
   ]
  },
  {
   "cell_type": "code",
   "execution_count": 100,
   "metadata": {
    "collapsed": true
   },
   "outputs": [],
   "source": [
    "data(nettle)"
   ]
  },
  {
   "cell_type": "code",
   "execution_count": 163,
   "metadata": {},
   "outputs": [],
   "source": [
    "db <- nettle"
   ]
  },
  {
   "cell_type": "code",
   "execution_count": 164,
   "metadata": {},
   "outputs": [],
   "source": [
    "db$area.c <- log(db$area) - mean(log(db$area))\n",
    "db$k.pop.c <- db$k.pop - mean(db$k.pop)\n",
    "db$num.stations.c <- db$num.stations - mean(db$num.stations)\n",
    "db$mean.growing.season.c <- db$mean.growing.season - mean(db$mean.growing.season)\n",
    "db$sd.growing.season.c <- db$sd.growing.season - mean(db$sd.growing.season)"
   ]
  },
  {
   "cell_type": "code",
   "execution_count": 165,
   "metadata": {},
   "outputs": [],
   "source": [
    "db$lang.per.cap <- db$num.lang/db$k.pop"
   ]
  },
  {
   "cell_type": "code",
   "execution_count": 166,
   "metadata": {
    "collapsed": true
   },
   "outputs": [],
   "source": [
    "db$lang.per.cap.log <- log(db$num.lang/db$k.pop)"
   ]
  },
  {
   "cell_type": "code",
   "execution_count": 180,
   "metadata": {},
   "outputs": [],
   "source": [
    "# (A)\n",
    "\n",
    "m7H4.a <- map(\n",
    "    alist(\n",
    "        lang.per.cap.log ~ dnorm(mu, sigma) , \n",
    "        mu <- a + g * mean.growing.season.c + ar * area.c , \n",
    "        a ~ dnorm( mean(lang.per.cap.log), 10),\n",
    "        ar ~ dnorm(mean(db$area.c), 10) ,\n",
    "        g ~ dnorm(0, 1) ,\n",
    "        sigma ~ dunif(0, 10)\n",
    "    ) ,\n",
    "    data=db  )"
   ]
  },
  {
   "cell_type": "code",
   "execution_count": 181,
   "metadata": {
    "scrolled": true
   },
   "outputs": [
    {
     "data": {
      "text/plain": [
       "\n",
       "Maximum a posteriori (MAP) model fit\n",
       "\n",
       "Formula:\n",
       "lang.per.cap.log ~ dnorm(mu, sigma)\n",
       "mu <- a + g * mean.growing.season.c + ar * area.c\n",
       "a ~ dnorm(mean(lang.per.cap.log), 10)\n",
       "ar ~ dnorm(mean(db$area.c), 10)\n",
       "g ~ dnorm(0, 1)\n",
       "sigma ~ dunif(0, 10)\n",
       "\n",
       "MAP values:\n",
       "         a         ar          g      sigma \n",
       "-5.4566992 -0.2022152  0.1433889  1.3892346 \n",
       "\n",
       "Log-likelihood: -129.33 "
      ]
     },
     "metadata": {},
     "output_type": "display_data"
    }
   ],
   "source": [
    "m7H4.a"
   ]
  },
  {
   "cell_type": "code",
   "execution_count": 182,
   "metadata": {},
   "outputs": [
    {
     "data": {
      "image/png": "[encoded data removed]",
      "text/plain": [
       "plot without title"
      ]
     },
     "metadata": {},
     "output_type": "display_data"
    }
   ],
   "source": [
    "plot(coeftab(m7H4.a))"
   ]
  },
  {
   "cell_type": "code",
   "execution_count": 183,
   "metadata": {},
   "outputs": [
    {
     "name": "stdout",
     "output_type": "stream",
     "text": [
      "[ 100 / 1000 ]\r",
      "[ 200 / 1000 ]\r",
      "[ 300 / 1000 ]\r",
      "[ 400 / 1000 ]\r",
      "[ 500 / 1000 ]\r",
      "[ 600 / 1000 ]\r",
      "[ 700 / 1000 ]\r",
      "[ 800 / 1000 ]\r",
      "[ 900 / 1000 ]\r",
      "[ 1000 / 1000 ]\r\n"
     ]
    },
    {
     "data": {
      "image/png": "[encoded data removed]",
      "text/plain": [
       "plot without title"
      ]
     },
     "metadata": {},
     "output_type": "display_data"
    }
   ],
   "source": [
    "options(repr.plot.res = 60)\n",
    "meangs.seq <- seq(from =min(db$mean.growing.season.c) , to=max(db$mean.growing.season.c), length.out =1000 )\n",
    "#d.predict <- list( log_gdp=rep(0,length(rugged.seq)) ,rugged =rugged.seq0 ,cont_africa =rep(1,length(rugged.seq)) )\n",
    "pred.m7H4.a <- link( m7H4.a ,data = data.frame(area.c=mean(db$area.c),mean.growing.season.c=meangs.seq) )\n",
    "pred.mu <- apply(pred.m7H4.a, 2, mean )\n",
    "pred.PI <- apply(pred.m7H4.a, 2, PI )\n",
    "\n",
    "plot( lang.per.cap.log ~ mean.growing.season.c , db ) \n",
    "lines( meangs.seq , pred.mu )\n",
    "shade( pred.PI , meangs.seq )"
   ]
  },
  {
   "cell_type": "code",
   "execution_count": 184,
   "metadata": {},
   "outputs": [
    {
     "data": {
      "text/plain": [
       "\n",
       "Maximum a posteriori (MAP) model fit\n",
       "\n",
       "Formula:\n",
       "lang.per.cap.log ~ dnorm(mu, sigma)\n",
       "mu <- a + gsd * sd.growing.season.c + ar * area.c\n",
       "a ~ dnorm(mean(lang.per.cap.log), 10)\n",
       "ar ~ dnorm(mean(db$area.c), 10)\n",
       "gsd ~ dnorm(0, 1)\n",
       "sigma ~ dunif(0, 10)\n",
       "\n",
       "MAP values:\n",
       "         a         ar        gsd      sigma \n",
       "-5.4566068 -0.2427487 -0.2022533  1.4384642 \n",
       "\n",
       "Log-likelihood: -131.91 "
      ]
     },
     "metadata": {},
     "output_type": "display_data"
    }
   ],
   "source": [
    "# (B)\n",
    "m7H4.b <- map(\n",
    "    alist(\n",
    "        lang.per.cap.log ~ dnorm(mu, sigma) , \n",
    "        mu <- a + gsd * sd.growing.season.c + ar * area.c , \n",
    "        a ~ dnorm( mean(lang.per.cap.log), 10),\n",
    "        ar ~ dnorm(mean(db$area.c), 10) ,\n",
    "        gsd ~ dnorm(0, 1) ,\n",
    "        sigma ~ dunif(0, 10)\n",
    "    ) ,\n",
    "    data=db  )\n",
    "m7H4.b"
   ]
  },
  {
   "cell_type": "code",
   "execution_count": 185,
   "metadata": {},
   "outputs": [
    {
     "data": {
      "image/png": "[encoded data removed]",
      "text/plain": [
       "plot without title"
      ]
     },
     "metadata": {},
     "output_type": "display_data"
    }
   ],
   "source": [
    "plot(coeftab(m7H4.b))"
   ]
  },
  {
   "cell_type": "code",
   "execution_count": 188,
   "metadata": {},
   "outputs": [
    {
     "name": "stdout",
     "output_type": "stream",
     "text": [
      "[ 100 / 1000 ]\r",
      "[ 200 / 1000 ]\r",
      "[ 300 / 1000 ]\r",
      "[ 400 / 1000 ]\r",
      "[ 500 / 1000 ]\r",
      "[ 600 / 1000 ]\r",
      "[ 700 / 1000 ]\r",
      "[ 800 / 1000 ]\r",
      "[ 900 / 1000 ]\r",
      "[ 1000 / 1000 ]\r\n"
     ]
    },
    {
     "data": {
      "image/png": "[encoded data removed]",
      "text/plain": [
       "plot without title"
      ]
     },
     "metadata": {},
     "output_type": "display_data"
    }
   ],
   "source": [
    "meangs.seqb <- seq(from =min(db$sd.growing.season.c) , to=max(db$sd.growing.season.c), length.out =1000 )\n",
    "#d.predict <- list( log_gdp=rep(0,length(rugged.seq)) ,rugged =rugged.seq0 ,cont_africa =rep(1,length(rugged.seq)) )\n",
    "\n",
    "pred.m7H4.b <- link( m7H4.b ,data = data.frame(area.c=mean(db$area.c),sd.growing.season.c=meangs.seqb) )\n",
    "pred.mub <- apply(pred.m7H4.b, 2, mean )\n",
    "pred.PIb <- apply(pred.m7H4.b, 2, PI )\n",
    "\n",
    "plot( lang.per.cap.log ~ sd.growing.season.c , db ) \n",
    "lines( meangs.seqb , pred.mub )\n",
    "shade( pred.PIb , meangs.seqb )"
   ]
  },
  {
   "cell_type": "code",
   "execution_count": 189,
   "metadata": {},
   "outputs": [
    {
     "data": {
      "text/plain": [
       "\n",
       "Maximum a posteriori (MAP) model fit\n",
       "\n",
       "Formula:\n",
       "lang.per.cap.log ~ dnorm(mu, sigma)\n",
       "mu <- a + gsd * sd.growing.season.c + ar * area.c + g * mean.growing.season.c + \n",
       "    ggsd * mean.growing.season.c * sd.growing.season.c\n",
       "a ~ dnorm(mean(lang.per.cap.log), 10)\n",
       "ar ~ dnorm(mean(db$area.c), 10)\n",
       "gsd ~ dnorm(0, 1)\n",
       "g ~ dnorm(0, 1)\n",
       "ggsd ~ dnorm(0, 1)\n",
       "sigma ~ dunif(0, 10)\n",
       "\n",
       "MAP values:\n",
       "          a          ar         gsd           g        ggsd       sigma \n",
       "-5.44891381 -0.01119626 -0.33027415  0.11261089 -0.10891433  1.30666498 \n",
       "\n",
       "Log-likelihood: -124.8 "
      ]
     },
     "metadata": {},
     "output_type": "display_data"
    }
   ],
   "source": [
    "# (C)\n",
    "m7H4.c <- map(\n",
    "    alist(\n",
    "        lang.per.cap.log ~ dnorm(mu, sigma) , \n",
    "        mu <- a + gsd * sd.growing.season.c + ar * area.c + g * mean.growing.season.c + ggsd *mean.growing.season.c*sd.growing.season.c , \n",
    "        a ~ dnorm( mean(lang.per.cap.log), 10),\n",
    "        ar ~ dnorm(mean(db$area.c), 10) ,\n",
    "        gsd ~ dnorm(0, 1) ,\n",
    "        g ~ dnorm(0, 1) ,\n",
    "        ggsd ~ dnorm(0, 1) ,\n",
    "        sigma ~ dunif(0, 10)\n",
    "    ) ,\n",
    "    data=db  )\n",
    "m7H4.c"
   ]
  },
  {
   "cell_type": "code",
   "execution_count": 198,
   "metadata": {},
   "outputs": [
    {
     "name": "stdout",
     "output_type": "stream",
     "text": [
      "[ 1000 / 1000 ]\n",
      "[ 1000 / 1000 ]\n",
      "[ 1000 / 1000 ]\n"
     ]
    },
    {
     "data": {
      "image/png": "[encoded data removed]",
      "text/plain": [
       "Plot with title \"sd.g.seas = 4.17081081081081\""
      ]
     },
     "metadata": {},
     "output_type": "display_data"
    }
   ],
   "source": [
    "options(repr.plot.res = 70)\n",
    "\n",
    "par(mfrow=c(2,3)) # 1 row, 3 columns\n",
    "\n",
    "# loop over values of water.c and plot predictions\n",
    "#shade.seq <- c(min(log(db$area)),mean(log(db$area)),max(log(db$area)))\n",
    "shade.seq <- c(min(db$mean.growing.season.c),mean(db$mean.growing.season.c),max(db$mean.growing.season.c)) \n",
    "\n",
    "for (  w in c(min(db$sd.growing.season.c),mean(db$sd.growing.season.c),max(db$sd.growing.season.c)) ) {\n",
    "    dt <- db[db$sd.growing.season.c==w,]\n",
    "    plot(lang.per.cap.log ~ mean.growing.season.c , db , col=rangi2 ,\n",
    "        main=paste(\"sd.g.seas =\",w) , #xaxp=c(-1,1,2) , ylim=c(0,max(db$lang.per.cap.log)) ,\n",
    "        xlab=\"mu.g.seas (centered)\" )\n",
    "    mu <- link( m7H4.c , data=data.frame(sd.growing.season.c=w,area.c=mean(db$area.c),mean.growing.season.c=shade.seq)) \n",
    "    mu.mean <- apply( mu , 2 , mean )\n",
    "    mu.PI <- apply( mu , 2 , PI , prob=0.97 )\n",
    "    lines( shade.seq , mu.mean )\n",
    "    lines( shade.seq , mu.PI[1,] , lty=2 )\n",
    "    lines( shade.seq , mu.PI[2,] , lty=2 )\n",
    "    }"
   ]
  },
  {
   "cell_type": "code",
   "execution_count": 199,
   "metadata": {},
   "outputs": [
    {
     "data": {
      "text/plain": [
       "        WAIC pWAIC dWAIC weight    SE  dSE\n",
       "m7H4.c 263.8   7.1   0.0   0.91 16.41   NA\n",
       "m7H4.a 268.6   5.2   4.8   0.08 15.99 5.31\n",
       "m7H4.b 274.2   5.6  10.4   0.01 17.15 6.26"
      ]
     },
     "metadata": {},
     "output_type": "display_data"
    },
    {
     "data": {
      "image/png": "[encoded data removed]",
      "text/plain": [
       "plot without title"
      ]
     },
     "metadata": {},
     "output_type": "display_data"
    }
   ],
   "source": [
    "compare(m7H4.c,m7H4.b,m7H4.a)\n",
    "plot(compare(m7H4.c,m7H4.b,m7H4.a))"
   ]
  },
  {
   "cell_type": "code",
   "execution_count": 201,
   "metadata": {},
   "outputs": [
    {
     "data": {
      "text/plain": [
       "      m7H4.c  m7H4.b  m7H4.a \n",
       "a       -5.45   -5.46   -5.46\n",
       "ar      -0.01   -0.24   -0.20\n",
       "gsd     -0.33   -0.20      NA\n",
       "g        0.11      NA    0.14\n",
       "ggsd    -0.11      NA      NA\n",
       "sigma    1.31    1.44    1.39\n",
       "nobs       74      74      74"
      ]
     },
     "metadata": {},
     "output_type": "display_data"
    },
    {
     "data": {
      "image/png": "[encoded data removed]",
      "text/plain": [
       "plot without title"
      ]
     },
     "metadata": {},
     "output_type": "display_data"
    }
   ],
   "source": [
    "coeftab(m7H4.c,m7H4.b,m7H4.a)\n",
    "plot(coeftab(m7H4.c,m7H4.b,m7H4.a))"
   ]
  },
  {
   "cell_type": "code",
   "execution_count": 203,
   "metadata": {},
   "outputs": [
    {
     "name": "stdout",
     "output_type": "stream",
     "text": [
      "[ 1000 / 1000 ]\n",
      "[ 1000 / 1000 ]\n",
      "[ 1000 / 1000 ]\n"
     ]
    },
    {
     "data": {
      "image/png": "[encoded data removed]",
      "text/plain": [
       "Plot with title \"mu.g.seas = 4.95851351351351\""
      ]
     },
     "metadata": {},
     "output_type": "display_data"
    }
   ],
   "source": [
    "par(mfrow=c(2,3)) # 1 row, 3 columns\n",
    "shade.seq <- c(min(db$sd.growing.season.c),mean(db$sd.growing.season.c),max(db$sd.growing.season.c)) \n",
    "\n",
    "for (  w in c(min(db$mean.growing.season.c),mean(db$mean.growing.season.c),max(db$mean.growing.season.c)) ) {\n",
    "    dt <- db[db$mean.growing.season.c==w,]\n",
    "    plot(lang.per.cap.log ~ sd.growing.season.c , db , col=rangi2 ,\n",
    "        main=paste(\"mu.g.seas =\",w) , #xaxp=c(-1,1,2) , ylim=c(0,max(db$lang.per.cap.log)) ,\n",
    "        xlab=\"sd.g.seas (centered)\" )\n",
    "    mu <- link( m7H4.c , data=data.frame(mean.growing.season.c=w,area.c=mean(db$area.c),sd.growing.season.c=shade.seq)) \n",
    "    mu.mean <- apply( mu , 2 , mean )\n",
    "    mu.PI <- apply( mu , 2 , PI , prob=0.97 )\n",
    "    lines( shade.seq , mu.mean )\n",
    "    lines( shade.seq , mu.PI[1,] , lty=2 )\n",
    "    lines( shade.seq , mu.PI[2,] , lty=2 )\n",
    "    }"
   ]
  },
  {
   "cell_type": "code",
   "execution_count": null,
   "metadata": {
    "collapsed": true
   },
   "outputs": [],
   "source": []
  }
 ],
 "metadata": {
  "kernelspec": {
   "display_name": "R",
   "language": "R",
   "name": "ir"
  },
  "language_info": {
   "codemirror_mode": "r",
   "file_extension": ".r",
   "mimetype": "text/x-r-source",
   "name": "R",
   "pygments_lexer": "r",
   "version": "3.3.1"
  }
 },
 "nbformat": 4,
 "nbformat_minor": 2
}
