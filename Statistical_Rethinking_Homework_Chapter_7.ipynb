{
 "cells": [
  {
   "cell_type": "code",
   "execution_count": 1,
   "metadata": {},
   "outputs": [
    {
     "name": "stderr",
     "output_type": "stream",
     "text": [
      "Loading required package: rstan\n",
      "Warning message:\n",
      "\"package 'rstan' was built under R version 3.3.2\"Loading required package: ggplot2\n",
      "Warning message:\n",
      "\"package 'ggplot2' was built under R version 3.3.2\"Loading required package: StanHeaders\n",
      "Warning message:\n",
      "\"package 'StanHeaders' was built under R version 3.3.2\"rstan (Version 2.13.2, packaged: 2016-12-18 07:04:42 UTC, GitRev: 5fa1e80eb817)\n",
      "For execution on a local, multicore CPU with excess RAM we recommend calling\n",
      "rstan_options(auto_write = TRUE)\n",
      "options(mc.cores = parallel::detectCores())\n",
      "Loading required package: parallel\n",
      "rethinking (Version 1.59)\n"
     ]
    }
   ],
   "source": [
    "library(rethinking)"
   ]
  },
  {
   "cell_type": "raw",
   "metadata": {},
   "source": [
    "7H1. Return to the data(tulips) example in the chapter. Now include the bed variable as a predictor in the interaction model.\n",
    "Don''t interact bed with the other predictors; just include it as a main effect.\n",
    "Note that bed is categorical. So to use it properly, you will need to either construct dummy variables or rather\n",
    "an index variable, as explained in Chapter 6."
   ]
  },
  {
   "cell_type": "code",
   "execution_count": 2,
   "metadata": {
    "collapsed": true
   },
   "outputs": [],
   "source": [
    "data(tulips)"
   ]
  },
  {
   "cell_type": "code",
   "execution_count": 3,
   "metadata": {
    "collapsed": true
   },
   "outputs": [],
   "source": [
    "d<- tulips"
   ]
  },
  {
   "cell_type": "code",
   "execution_count": 4,
   "metadata": {
    "collapsed": true
   },
   "outputs": [],
   "source": [
    "d$bed.a <- ifelse( d$bed==\"a\" , 1 , 0 )\n",
    "d$bed.b <- ifelse( d$bed==\"b\" , 1 , 0 )"
   ]
  },
  {
   "cell_type": "code",
   "execution_count": 5,
   "metadata": {
    "collapsed": true
   },
   "outputs": [],
   "source": [
    "d$shade.c <- d$shade - mean(d$shade)\n",
    "d$water.c <- d$water - mean(d$water)"
   ]
  },
  {
   "cell_type": "code",
   "execution_count": 6,
   "metadata": {
    "collapsed": true
   },
   "outputs": [],
   "source": [
    "m7.9 <- map(\n",
    "    alist(\n",
    "        blooms ~ dnorm( mu , sigma ) ,\n",
    "        mu <- a + bW*water.c + bS*shade.c + bWS*water.c*shade.c + ba*bed.a + bb*bed.b,\n",
    "        a ~ dnorm( 130 , 100 ) ,\n",
    "        bW ~ dnorm( 0 , 100 ) ,\n",
    "        bS ~ dnorm( 0 , 100 ) ,\n",
    "        bWS ~ dnorm( 0 , 100 ) ,\n",
    "        ba ~ dnorm( 0 , 100 ) ,\n",
    "        bb ~ dnorm( 0 , 100 ) ,\n",
    "        sigma ~ dunif( 0 , 100 )\n",
    "    ) ,\n",
    "    data=d ,\n",
    "    start=list(a=mean(d$blooms),bW=0,bS=0,bWS=0,ba=0,bb=0,sigma=sd(d$blooms)) )"
   ]
  },
  {
   "cell_type": "code",
   "execution_count": 7,
   "metadata": {},
   "outputs": [
    {
     "data": {
      "text/plain": [
       "\n",
       "Maximum a posteriori (MAP) model fit\n",
       "\n",
       "Formula:\n",
       "blooms ~ dnorm(mu, sigma)\n",
       "mu <- a + bW * water.c + bS * shade.c + bWS * water.c * shade.c + \n",
       "    ba * bed.a + bb * bed.b\n",
       "a ~ dnorm(130, 100)\n",
       "bW ~ dnorm(0, 100)\n",
       "bS ~ dnorm(0, 100)\n",
       "bWS ~ dnorm(0, 100)\n",
       "ba ~ dnorm(0, 100)\n",
       "bb ~ dnorm(0, 100)\n",
       "sigma ~ dunif(0, 100)\n",
       "\n",
       "MAP values:\n",
       "         a         bW         bS        bWS         ba         bb      sigma \n",
       "146.068212  75.189996 -41.267070 -52.162067 -47.941011  -3.429834  39.185236 \n",
       "\n",
       "Log-likelihood: -137.36 "
      ]
     },
     "metadata": {},
     "output_type": "display_data"
    }
   ],
   "source": [
    "m7.9"
   ]
  },
  {
   "cell_type": "raw",
   "metadata": {},
   "source": [
    "7H2. Use WAIC to compare the model from 7H1 to a model that omits bed. What do you infer from this comparison?\n",
    "Can you reconcile the WAIC results with the posterior distribution of the bed coefficients?"
   ]
  },
  {
   "cell_type": "code",
   "execution_count": 8,
   "metadata": {
    "collapsed": true
   },
   "outputs": [],
   "source": [
    "m7.9a <- map(\n",
    "    alist(\n",
    "        blooms ~ dnorm( mu , sigma ) ,\n",
    "        mu <- a + bW*water.c + bS*shade.c + bWS*water.c*shade.c ,\n",
    "        a ~ dnorm( 130 , 100 ) ,\n",
    "        bW ~ dnorm( 0 , 100 ) ,\n",
    "        bS ~ dnorm( 0 , 100 ) ,\n",
    "        bWS ~ dnorm( 0 , 100 ) ,\n",
    "        sigma ~ dunif( 0 , 100 )\n",
    "    ) ,\n",
    "    data=d ,\n",
    "    start=list(a=mean(d$blooms),bW=0,bS=0,bWS=0,sigma=sd(d$blooms)) )"
   ]
  },
  {
   "cell_type": "code",
   "execution_count": 9,
   "metadata": {},
   "outputs": [
    {
     "data": {
      "text/plain": [
       "       WAIC pWAIC dWAIC weight    SE  dSE\n",
       "m7.9  295.8  10.3   0.0   0.66 10.31   NA\n",
       "m7.9a 297.1   7.1   1.3   0.34 10.80 8.68"
      ]
     },
     "metadata": {},
     "output_type": "display_data"
    }
   ],
   "source": [
    "compare(m7.9,m7.9a)"
   ]
  },
  {
   "cell_type": "code",
   "execution_count": 10,
   "metadata": {},
   "outputs": [
    {
     "data": {
      "image/png": "[encoded data removed]",
      "text/plain": [
       "plot without title"
      ]
     },
     "metadata": {},
     "output_type": "display_data"
    }
   ],
   "source": [
    "par(mfrow = c(2,2))\n",
    "plot(compare(m7.9,m7.9a) )"
   ]
  },
  {
   "cell_type": "code",
   "execution_count": 11,
   "metadata": {
    "collapsed": true
   },
   "outputs": [],
   "source": [
    "post <- extract.samples( m7.9 )"
   ]
  },
  {
   "cell_type": "code",
   "execution_count": 12,
   "metadata": {},
   "outputs": [
    {
     "data": {
      "text/plain": [
       "      m7.9   \n",
       "a      146.07\n",
       "bW      75.19\n",
       "bS     -41.27\n",
       "bWS    -52.16\n",
       "ba     -47.94\n",
       "bb      -3.43\n",
       "sigma   39.19\n",
       "nobs       27"
      ]
     },
     "metadata": {},
     "output_type": "display_data"
    }
   ],
   "source": [
    "coeftab(m7.9 )"
   ]
  },
  {
   "cell_type": "code",
   "execution_count": 13,
   "metadata": {},
   "outputs": [
    {
     "data": {
      "text/html": [
       "<dl class=dl-horizontal>\n",
       "\t<dt>|0.89</dt>\n",
       "\t\t<dd>-76.5015418424789</dd>\n",
       "\t<dt>|0.5</dt>\n",
       "\t\t<dd>-60.4892869062793</dd>\n",
       "\t<dt>|0.01</dt>\n",
       "\t\t<dd>-49.455997311517</dd>\n",
       "\t<dt>0.01|</dt>\n",
       "\t\t<dd>-49.1322375517586</dd>\n",
       "\t<dt>0.5|</dt>\n",
       "\t\t<dd>-36.5795013963288</dd>\n",
       "\t<dt>0.89|</dt>\n",
       "\t\t<dd>-19.2818049533795</dd>\n",
       "</dl>\n"
      ],
      "text/latex": [
       "\\begin{description*}\n",
       "\\item[\\textbackslash{}textbar\\{\\}0.89] -76.5015418424789\n",
       "\\item[\\textbackslash{}textbar\\{\\}0.5] -60.4892869062793\n",
       "\\item[\\textbackslash{}textbar\\{\\}0.01] -49.455997311517\n",
       "\\item[0.01\\textbackslash{}textbar\\{\\}] -49.1322375517586\n",
       "\\item[0.5\\textbackslash{}textbar\\{\\}] -36.5795013963288\n",
       "\\item[0.89\\textbackslash{}textbar\\{\\}] -19.2818049533795\n",
       "\\end{description*}\n"
      ],
      "text/markdown": [
       "|0.89\n",
       ":   -76.5015418424789|0.5\n",
       ":   -60.4892869062793|0.01\n",
       ":   -49.4559973115170.01|\n",
       ":   -49.13223755175860.5|\n",
       ":   -36.57950139632880.89|\n",
       ":   -19.2818049533795\n",
       "\n"
      ],
      "text/plain": [
       "    |0.89      |0.5     |0.01     0.01|      0.5|     0.89| \n",
       "-76.50154 -60.48929 -49.45600 -49.13224 -36.57950 -19.28180 "
      ]
     },
     "metadata": {},
     "output_type": "display_data"
    },
    {
     "data": {
      "text/html": [
       "<dl class=dl-horizontal>\n",
       "\t<dt>|0.89</dt>\n",
       "\t\t<dd>-31.7689941843062</dd>\n",
       "\t<dt>|0.5</dt>\n",
       "\t\t<dd>-14.8193910341517</dd>\n",
       "\t<dt>|0.01</dt>\n",
       "\t\t<dd>-5.11666982685028</dd>\n",
       "\t<dt>0.01|</dt>\n",
       "\t\t<dd>-4.79206858765569</dd>\n",
       "\t<dt>0.5|</dt>\n",
       "\t\t<dd>9.16019865106964</dd>\n",
       "\t<dt>0.89|</dt>\n",
       "\t\t<dd>24.8262792322712</dd>\n",
       "</dl>\n"
      ],
      "text/latex": [
       "\\begin{description*}\n",
       "\\item[\\textbackslash{}textbar\\{\\}0.89] -31.7689941843062\n",
       "\\item[\\textbackslash{}textbar\\{\\}0.5] -14.8193910341517\n",
       "\\item[\\textbackslash{}textbar\\{\\}0.01] -5.11666982685028\n",
       "\\item[0.01\\textbackslash{}textbar\\{\\}] -4.79206858765569\n",
       "\\item[0.5\\textbackslash{}textbar\\{\\}] 9.16019865106964\n",
       "\\item[0.89\\textbackslash{}textbar\\{\\}] 24.8262792322712\n",
       "\\end{description*}\n"
      ],
      "text/markdown": [
       "|0.89\n",
       ":   -31.7689941843062|0.5\n",
       ":   -14.8193910341517|0.01\n",
       ":   -5.116669826850280.01|\n",
       ":   -4.792068587655690.5|\n",
       ":   9.160198651069640.89|\n",
       ":   24.8262792322712\n",
       "\n"
      ],
      "text/plain": [
       "     |0.89       |0.5      |0.01      0.01|       0.5|      0.89| \n",
       "-31.768994 -14.819391  -5.116670  -4.792069   9.160199  24.826279 "
      ]
     },
     "metadata": {},
     "output_type": "display_data"
    }
   ],
   "source": [
    "HPDI(post$ba, prob=c(.01,.5,.89) )\n",
    "HPDI(post$bb, prob=c(.01,.5,.89) )"
   ]
  },
  {
   "cell_type": "code",
   "execution_count": 14,
   "metadata": {},
   "outputs": [
    {
     "data": {
      "text/html": [
       "-47.8163714514563"
      ],
      "text/latex": [
       "-47.8163714514563"
      ],
      "text/markdown": [
       "-47.8163714514563"
      ],
      "text/plain": [
       "[1] -47.81637"
      ]
     },
     "metadata": {},
     "output_type": "display_data"
    },
    {
     "data": {
      "text/html": [
       "-3.66283337721373"
      ],
      "text/latex": [
       "-3.66283337721373"
      ],
      "text/markdown": [
       "-3.66283337721373"
      ],
      "text/plain": [
       "[1] -3.662833"
      ]
     },
     "metadata": {},
     "output_type": "display_data"
    }
   ],
   "source": [
    "mean(post$ba)\n",
    "mean(post$bb) #a lot of it is between less than 0 and above 0"
   ]
  },
  {
   "cell_type": "code",
   "execution_count": 15,
   "metadata": {},
   "outputs": [
    {
     "data": {
      "image/png": "[encoded data removed]",
      "text/plain": [
       "Plot with title \"\""
      ]
     },
     "metadata": {},
     "output_type": "display_data"
    }
   ],
   "source": [
    "par(mfrow = c(2,2))\n",
    "dens(post$ba)\n",
    "dens(post$bb , add= TRUE)"
   ]
  },
  {
   "cell_type": "raw",
   "metadata": {},
   "source": [
    "7H3. Consider again the data(rugged) data on economic development and terrain ruggedness, examined in this chapter.\n",
    "One of the African countries in that example, Seychelles, is far outside the cloud of other nattions, being a rare\n",
    "country with both relatively high GDP and high ruggedness. Seychelles is also unusual, in that it is a group of islands\n",
    "far from the coast of mainland Africa, and its main economic activity is tourism.\n",
    "One might suspect that this one nation is exerting a strong influence on the conclusions. In this problem, I want\n",
    " you to drop Seychelles from the data and re-evaluate the hypothesis that the relationship of African economies with ruggedness is different from that on other continents.\n",
    " \n",
    " a) Begin by using map to fit just the interaction model:"
   ]
  },
  {
   "cell_type": "code",
   "execution_count": 16,
   "metadata": {},
   "outputs": [
    {
     "name": "stderr",
     "output_type": "stream",
     "text": [
      "Constructing posterior predictions\n"
     ]
    },
    {
     "name": "stdout",
     "output_type": "stream",
     "text": [
      "[ 100 / 1000 ]\r",
      "[ 200 / 1000 ]\r",
      "[ 300 / 1000 ]\r",
      "[ 400 / 1000 ]\r",
      "[ 500 / 1000 ]\r",
      "[ 600 / 1000 ]\r",
      "[ 700 / 1000 ]\r",
      "[ 800 / 1000 ]\r",
      "[ 900 / 1000 ]\r",
      "[ 1000 / 1000 ]\r\n"
     ]
    },
    {
     "data": {
      "text/html": [
       "469.766190649179"
      ],
      "text/latex": [
       "469.766190649179"
      ],
      "text/markdown": [
       "469.766190649179"
      ],
      "text/plain": [
       "[1] 469.7662\n",
       "attr(,\"lppd\")\n",
       "[1] -229.4796\n",
       "attr(,\"pWAIC\")\n",
       "[1] 5.403476\n",
       "attr(,\"se\")\n",
       "[1] 15.06399"
      ]
     },
     "metadata": {},
     "output_type": "display_data"
    },
    {
     "data": {
      "text/plain": [
       "      m7.5   \n",
       "a        9.18\n",
       "bA      -1.85\n",
       "bR      -0.18\n",
       "bAR      0.35\n",
       "sigma    0.93\n",
       "nobs      170"
      ]
     },
     "metadata": {},
     "output_type": "display_data"
    }
   ],
   "source": [
    "data(rugged)\n",
    "dd <- rugged\n",
    "\n",
    "# extract countries with GDP data\n",
    "dd <- dd[ complete.cases(dd$rgdppc_2000) , ]\n",
    "\n",
    "# make log version of outcome\n",
    "dd$log_gdp <- log( dd$rgdppc_2000 )\n",
    "\n",
    "## R code 7.7\n",
    "m7.5 <- map(\n",
    "    alist(\n",
    "        log_gdp ~ dnorm( mu , sigma ) ,\n",
    "        mu <- a + gamma*rugged + bA*cont_africa ,\n",
    "        #gamma linear interaction effect \n",
    "        #we are saying ruggedness depends on africa_condition and africa_condition depends on ruggednes\n",
    "        gamma <- bR + bAR*cont_africa ,#gamma is the slope of ruggedness given continent of Africa\n",
    "        a ~ dnorm( 8 , 100 ) ,\n",
    "        bA ~ dnorm( 0 , 1 ) ,#continent of Africa coef\n",
    "        bR ~ dnorm( 0 , 1 ) ,#Rugged coef\n",
    "        bAR ~ dnorm( 0 , 1 ) ,#Rugged & Africa interaction coef\n",
    "        sigma ~ dunif( 0 , 10 )\n",
    "    ) ,\n",
    "    data=dd )\n",
    "WAIC(m7.5)\n",
    "coeftab(m7.5)"
   ]
  },
  {
   "cell_type": "code",
   "execution_count": 17,
   "metadata": {},
   "outputs": [
    {
     "name": "stderr",
     "output_type": "stream",
     "text": [
      "Constructing posterior predictions\n"
     ]
    },
    {
     "name": "stdout",
     "output_type": "stream",
     "text": [
      "[ 100 / 1000 ]\r",
      "[ 200 / 1000 ]\r",
      "[ 300 / 1000 ]\r",
      "[ 400 / 1000 ]\r",
      "[ 500 / 1000 ]\r",
      "[ 600 / 1000 ]\r",
      "[ 700 / 1000 ]\r",
      "[ 800 / 1000 ]\r",
      "[ 900 / 1000 ]\r",
      "[ 1000 / 1000 ]\r\n"
     ]
    },
    {
     "data": {
      "text/html": [
       "469.727960180901"
      ],
      "text/latex": [
       "469.727960180901"
      ],
      "text/markdown": [
       "469.727960180901"
      ],
      "text/plain": [
       "[1] 469.728\n",
       "attr(,\"lppd\")\n",
       "[1] -229.5103\n",
       "attr(,\"pWAIC\")\n",
       "[1] 5.353675\n",
       "attr(,\"se\")\n",
       "[1] 15.20885"
      ]
     },
     "metadata": {},
     "output_type": "display_data"
    },
    {
     "data": {
      "text/plain": [
       "      m7.5   \n",
       "a        9.18\n",
       "bA      -1.85\n",
       "bR      -0.18\n",
       "bAR      0.35\n",
       "sigma    0.93\n",
       "nobs      170"
      ]
     },
     "metadata": {},
     "output_type": "display_data"
    }
   ],
   "source": [
    "# B) Plot the predictons of the interaction model, with and withouth\n",
    "data(rugged)\n",
    "dd <- rugged\n",
    "\n",
    "# extract countries with GDP data\n",
    "dd <- dd[ complete.cases(dd$rgdppc_2000) , ]\n",
    "\n",
    "# make log version of outcome\n",
    "dd$log_gdp <- log( dd$rgdppc_2000 )\n",
    "\n",
    "## R code 7.7\n",
    "m7.5 <- map(\n",
    "    alist(\n",
    "        log_gdp ~ dnorm( mu , sigma ) ,\n",
    "        mu <- a + gamma*rugged + bA*cont_africa ,\n",
    "        #gamma linear interaction effect \n",
    "        #we are saying ruggedness depends on africa_condition and africa_condition depends on ruggednes\n",
    "        gamma <- bR + bAR*cont_africa ,#gamma is the slope of ruggedness given continent of Africa\n",
    "        a ~ dnorm( 8 , 100 ) ,\n",
    "        bA ~ dnorm( 0 , 1 ) ,#continent of Africa coef\n",
    "        bR ~ dnorm( 0 , 1 ) ,#Rugged coef\n",
    "        bAR ~ dnorm( 0 , 1 ) ,#Rugged & Africa interaction coef\n",
    "        sigma ~ dunif( 0 , 10 )\n",
    "    ) ,\n",
    "    data=dd )\n",
    "WAIC(m7.5)\n",
    "coeftab(m7.5)"
   ]
  },
  {
   "cell_type": "code",
   "execution_count": 18,
   "metadata": {},
   "outputs": [
    {
     "name": "stderr",
     "output_type": "stream",
     "text": [
      "Constructing posterior predictions\n"
     ]
    },
    {
     "name": "stdout",
     "output_type": "stream",
     "text": [
      "[ 100 / 1000 ]\r",
      "[ 200 / 1000 ]\r",
      "[ 300 / 1000 ]\r",
      "[ 400 / 1000 ]\r",
      "[ 500 / 1000 ]\r",
      "[ 600 / 1000 ]\r",
      "[ 700 / 1000 ]\r",
      "[ 800 / 1000 ]\r",
      "[ 900 / 1000 ]\r",
      "[ 1000 / 1000 ]\r\n"
     ]
    },
    {
     "data": {
      "text/html": [
       "463.360603884408"
      ],
      "text/latex": [
       "463.360603884408"
      ],
      "text/markdown": [
       "463.360603884408"
      ],
      "text/plain": [
       "[1] 463.3606\n",
       "attr(,\"lppd\")\n",
       "[1] -227.0971\n",
       "attr(,\"pWAIC\")\n",
       "[1] 4.583247\n",
       "attr(,\"se\")\n",
       "[1] 15.03309"
      ]
     },
     "metadata": {},
     "output_type": "display_data"
    },
    {
     "data": {
      "text/plain": [
       "      m7.5b  \n",
       "a        9.19\n",
       "bA      -1.78\n",
       "bR      -0.19\n",
       "bAR      0.25\n",
       "sigma    0.93\n",
       "nobs      169"
      ]
     },
     "metadata": {},
     "output_type": "display_data"
    }
   ],
   "source": [
    "dd1 <-  dd[dd$country != 'Seychelles',]\n",
    "\n",
    "## R code 7.7\n",
    "m7.5b <- map(\n",
    "    alist(\n",
    "        log_gdp ~ dnorm( mu , sigma ) ,\n",
    "        mu <- a + gamma*rugged + bA*cont_africa ,\n",
    "        #gamma linear interaction effect \n",
    "        #we are saying ruggedness depends on africa_condition and africa_condition depends on ruggednes\n",
    "        gamma <- bR + bAR*cont_africa ,#gamma is the slope of ruggedness given continent of Africa\n",
    "        a ~ dnorm( 8 , 100 ) ,\n",
    "        bA ~ dnorm( 0 , 1 ) ,#continent of Africa coef\n",
    "        bR ~ dnorm( 0 , 1 ) ,#Rugged coef\n",
    "        bAR ~ dnorm( 0 , 1 ) ,#Rugged & Africa interaction coef\n",
    "        sigma ~ dunif( 0 , 10 )\n",
    "    ) ,\n",
    "    data=dd1 )\n",
    "WAIC(m7.5b)\n",
    "coeftab(m7.5b)"
   ]
  },
  {
   "cell_type": "code",
   "execution_count": 19,
   "metadata": {},
   "outputs": [
    {
     "name": "stderr",
     "output_type": "stream",
     "text": [
      "Warning message in compare(m7.5, m7.5b):\n",
      "\"Different numbers of observations found for at least two models.\n",
      "Information criteria only valid for comparing models fit to exactly same observations.\n",
      "Number of observations for each model:\n",
      "m7.5 170 \n",
      "m7.5b 169 \n",
      "\"Warning message in waic_ptw1 - waic_ptw2:\n",
      "\"longer object length is not a multiple of shorter object length\""
     ]
    },
    {
     "data": {
      "text/plain": [
       "       WAIC pWAIC dWAIC weight    SE   dSE\n",
       "m7.5b 463.3   4.6   0.0   0.97 15.00    NA\n",
       "m7.5  470.0   5.5   6.8   0.03 15.15 10.03"
      ]
     },
     "metadata": {},
     "output_type": "display_data"
    }
   ],
   "source": [
    "compare(m7.5,m7.5b)"
   ]
  },
  {
   "cell_type": "code",
   "execution_count": 40,
   "metadata": {},
   "outputs": [
    {
     "name": "stdout",
     "output_type": "stream",
     "text": [
      "[ 1000 / 1000 ]\n",
      "[ 1000 / 1000 ]\n"
     ]
    }
   ],
   "source": [
    "rugged.seq <- seq(from=-1,to=8,by=0.25)\n",
    "\n",
    "mu.Africa <- link( m7.5 , data=data.frame(cont_africa=1,rugged=rugged.seq) )\n",
    "mu.Africa.mean <- apply( mu.Africa , 2 , mean )\n",
    "mu.Africa.PI <- apply( mu.Africa , 2 , PI , prob=0.97 )\n",
    "\n",
    "mu.NotAfrica <- link( m7.5 , data=data.frame(cont_africa=0,rugged=rugged.seq) )\n",
    "mu.NotAfrica.mean <- apply( mu.NotAfrica , 2 , mean )\n",
    "mu.NotAfrica.PI <- apply( mu.NotAfrica , 2 , PI , prob=0.97 )\n"
   ]
  },
  {
   "cell_type": "code",
   "execution_count": 41,
   "metadata": {},
   "outputs": [
    {
     "name": "stdout",
     "output_type": "stream",
     "text": [
      "[ 1000 / 1000 ]\n",
      "[ 1000 / 1000 ]\n"
     ]
    }
   ],
   "source": [
    "rugged.seq <- seq(from=-1,to=8,by=0.25)\n",
    "\n",
    "mu.Africab <- link( m7.5b , data=data.frame(cont_africa=1,rugged=rugged.seq) )\n",
    "mu.Africa.meanb <- apply( mu.Africab , 2 , mean )\n",
    "mu.Africa.PIb <- apply( mu.Africab , 2 , PI , prob=0.97 )\n",
    "\n",
    "mu.NotAfricab <- link( m7.5b , data=data.frame(cont_africa=0,rugged=rugged.seq) )\n",
    "mu.NotAfrica.meanb <- apply( mu.NotAfricab , 2 , mean )\n",
    "mu.NotAfrica.PIb <- apply( mu.NotAfricab , 2 , PI , prob=0.97 )\n"
   ]
  },
  {
   "cell_type": "code",
   "execution_count": 76,
   "metadata": {},
   "outputs": [
    {
     "data": {
      "image/png": "[encoded data removed]",
      "text/plain": [
       "plot without title"
      ]
     },
     "metadata": {},
     "output_type": "display_data"
    }
   ],
   "source": [
    "par(mfrow = c(2,2))\n",
    "plot( log(rgdppc_2000) ~ rugged , data=dd ,\n",
    "    ylab=\"log GDP year 2000\" ,\n",
    "    xlab=\"Terrain Ruggedness Index\" )\n",
    "mtext( \"Both African & Non-African nations\" , 3 )\n",
    "lines( rugged.seq , mu.NotAfrica.mean )\n",
    "shade( mu.NotAfrica.PI , rugged.seq )\n",
    "lines( rugged.seq , mu.Africa.mean , col=rangi2 )\n",
    "shade( mu.Africa.PI , rugged.seq , col=col.alpha(rangi2,0.3) )\n",
    "\n",
    "plot( log(rgdppc_2000) ~ rugged , data=dd1 ,\n",
    "     ylab=\"log GDP year 2000\" ,\n",
    "    xlab=\"Terrain Ruggedness Index\" )\n",
    "mtext( \"Both African & Non-African nations\" , 3 )\n",
    "lines( rugged.seq , mu.NotAfrica.meanb )\n",
    "shade( mu.NotAfrica.PIb , rugged.seq )\n",
    "lines( rugged.seq , mu.Africa.meanb , col=rangi2 )\n",
    "shade( mu.Africa.PIb , rugged.seq , col=col.alpha(rangi2,0.3) )\n",
    "\n",
    "plot(coeftab(m7.5,m7.5b))"
   ]
  },
  {
   "cell_type": "code",
   "execution_count": 93,
   "metadata": {
    "collapsed": true
   },
   "outputs": [],
   "source": [
    "# c) Model comparison with WAIC. Fit  3 models to the data 1, 2 , then interaction.\n",
    "# Plot the model-averaged predictions of this model set.\n",
    "# Any difference with (b)? ---No? maybe tighter intervals."
   ]
  },
  {
   "cell_type": "code",
   "execution_count": 94,
   "metadata": {},
   "outputs": [],
   "source": [
    "m7H3.1 <- map(\n",
    "    alist(\n",
    "        log_gdp ~ dnorm( mu , sigma ) ,\n",
    "        mu <- a + bR*rugged ,\n",
    "        #gamma linear interaction effect \n",
    "        #we are saying ruggedness depends on africa_condition and africa_condition depends on ruggednes\n",
    "        #gamma <- bR + bAR*cont_africa ,#gamma is the slope of ruggedness given continent of Africa\n",
    "        a ~ dnorm( 8 , 100 ) ,\n",
    "       # bA ~ dnorm( 0 , 1 ) ,#continent of Africa coef\n",
    "        bR ~ dnorm( 0 , 1 ) ,#Rugged coef\n",
    "        #bAR ~ dnorm( 0 , 1 ) ,#Rugged & Africa interaction coef\n",
    "        sigma ~ dunif( 0 , 10 )\n",
    "    ) ,\n",
    "    data=dd )"
   ]
  },
  {
   "cell_type": "code",
   "execution_count": 95,
   "metadata": {
    "collapsed": true
   },
   "outputs": [],
   "source": [
    "m7H3.2 <- map(\n",
    "    alist(\n",
    "        log_gdp ~ dnorm( mu , sigma ) ,\n",
    "        mu <- a + bR*rugged + bA*cont_africa ,\n",
    "        #gamma linear interaction effect \n",
    "        #we are saying ruggedness depends on africa_condition and africa_condition depends on ruggednes\n",
    "        #gamma <- bR + bAR*cont_africa ,#gamma is the slope of ruggedness given continent of Africa\n",
    "        a ~ dnorm( 8 , 100 ) ,\n",
    "        bA ~ dnorm( 0 , 1 ) ,#continent of Africa coef\n",
    "        bR ~ dnorm( 0 , 1 ) ,#Rugged coef\n",
    "        #bAR ~ dnorm( 0 , 1 ) ,#Rugged & Africa interaction coef\n",
    "        sigma ~ dunif( 0 , 10 )\n",
    "    ) ,\n",
    "    data=dd )"
   ]
  },
  {
   "cell_type": "code",
   "execution_count": 96,
   "metadata": {
    "collapsed": true
   },
   "outputs": [],
   "source": [
    "m7H3.3 <- map(\n",
    "    alist(\n",
    "        log_gdp ~ dnorm( mu , sigma ) ,\n",
    "        mu <- a + gamma*rugged + bA*cont_africa ,\n",
    "        #gamma linear interaction effect \n",
    "        #we are saying ruggedness depends on africa_condition and africa_condition depends on ruggednes\n",
    "        gamma <- bR + bAR*cont_africa ,#gamma is the slope of ruggedness given continent of Africa\n",
    "        a ~ dnorm( 8 , 100 ) ,\n",
    "        bA ~ dnorm( 0 , 1 ) ,#continent of Africa coef\n",
    "        bR ~ dnorm( 0 , 1 ) ,#Rugged coef\n",
    "        bAR ~ dnorm( 0 , 1 ) ,#Rugged & Africa interaction coef\n",
    "        sigma ~ dunif( 0 , 10 )\n",
    "    ) ,\n",
    "    data=dd )"
   ]
  },
  {
   "cell_type": "code",
   "execution_count": 102,
   "metadata": {},
   "outputs": [
    {
     "data": {
      "text/plain": [
       "        WAIC pWAIC dWAIC weight    SE   dSE\n",
       "m7H3.3 469.8   5.4   0.0   0.97 15.28    NA\n",
       "m7H3.2 476.5   4.5   6.6   0.03 15.37  6.34\n",
       "m7H3.1 539.6   2.7  69.7   0.00 13.28 15.43"
      ]
     },
     "metadata": {},
     "output_type": "display_data"
    },
    {
     "data": {
      "image/png": "[encoded data removed]",
      "text/plain": [
       "plot without title"
      ]
     },
     "metadata": {},
     "output_type": "display_data"
    }
   ],
   "source": [
    "#Compare WAIC\n",
    "par(mfrow = c(2,2))\n",
    "compare(m7H3.1,m7H3.2,m7H3.3)\n",
    "plot(compare(m7H3.1,m7H3.2,m7H3.3))"
   ]
  },
  {
   "cell_type": "code",
   "execution_count": 97,
   "metadata": {},
   "outputs": [
    {
     "name": "stdout",
     "output_type": "stream",
     "text": [
      "[ 1000 / 1000 ]\n",
      "[ 1000 / 1000 ]\n"
     ]
    }
   ],
   "source": [
    "rugged.seq0 <- rugged.seq#seq(from =min(dd$rugged) , to=max(dd$rugged), length.out =1000 )\n",
    "d.predict <- list( log_gdp=rep(0,length(rugged.seq)) ,rugged =rugged.seq0 ,cont_africa =rep(1,length(rugged.seq)) )\n",
    "d.predict1 <- list( log_gdp=rep(0,length(rugged.seq)) ,rugged =rugged.seq0 ,cont_africa =rep(0,length(rugged.seq)) )\n",
    "pred.m7H3.3 <- link( m7H3.3 ,data = data.frame(cont_africa=1,rugged=rugged.seq) )#d.predict )\n",
    "pred.mu <- apply(pred.m7H3.3, 2, mean )\n",
    "pred.PI <- apply(pred.m7H3.3, 2, PI )\n",
    "pred.m7H3.31 <- link( m7H3.3 ,data = data.frame(cont_africa=1,rugged=rugged.seq) )#d.predict1 )\n",
    "pred.mu1 <- apply(pred.m7H3.31, 2, mean )\n",
    "pred.PI1 <- apply(pred.m7H3.31, 2, PI )"
   ]
  },
  {
   "cell_type": "code",
   "execution_count": 98,
   "metadata": {},
   "outputs": [
    {
     "name": "stderr",
     "output_type": "stream",
     "text": [
      "Constructing posterior predictions\n"
     ]
    },
    {
     "name": "stdout",
     "output_type": "stream",
     "text": [
      "[ 100 / 1000 ]\r",
      "[ 200 / 1000 ]\r",
      "[ 300 / 1000 ]\r",
      "[ 400 / 1000 ]\r",
      "[ 500 / 1000 ]\r",
      "[ 600 / 1000 ]\r",
      "[ 700 / 1000 ]\r",
      "[ 800 / 1000 ]\r",
      "[ 900 / 1000 ]\r",
      "[ 1000 / 1000 ]\r\n"
     ]
    },
    {
     "name": "stderr",
     "output_type": "stream",
     "text": [
      "Constructing posterior predictions\n"
     ]
    },
    {
     "name": "stdout",
     "output_type": "stream",
     "text": [
      "[ 100 / 1000 ]\r",
      "[ 200 / 1000 ]\r",
      "[ 300 / 1000 ]\r",
      "[ 400 / 1000 ]\r",
      "[ 500 / 1000 ]\r",
      "[ 600 / 1000 ]\r",
      "[ 700 / 1000 ]\r",
      "[ 800 / 1000 ]\r",
      "[ 900 / 1000 ]\r",
      "[ 1000 / 1000 ]\r\n"
     ]
    },
    {
     "name": "stderr",
     "output_type": "stream",
     "text": [
      "Constructing posterior predictions\n"
     ]
    },
    {
     "name": "stdout",
     "output_type": "stream",
     "text": [
      "[ 100 / 1000 ]\r",
      "[ 200 / 1000 ]\r",
      "[ 300 / 1000 ]\r",
      "[ 400 / 1000 ]\r",
      "[ 500 / 1000 ]\r",
      "[ 600 / 1000 ]\r",
      "[ 700 / 1000 ]\r",
      "[ 800 / 1000 ]\r",
      "[ 900 / 1000 ]\r",
      "[ 1000 / 1000 ]\r\n"
     ]
    },
    {
     "name": "stderr",
     "output_type": "stream",
     "text": [
      "Constructing posterior predictions\n"
     ]
    },
    {
     "name": "stdout",
     "output_type": "stream",
     "text": [
      "[ 100 / 1000 ]\r",
      "[ 200 / 1000 ]\r",
      "[ 300 / 1000 ]\r",
      "[ 400 / 1000 ]\r",
      "[ 500 / 1000 ]\r",
      "[ 600 / 1000 ]\r",
      "[ 700 / 1000 ]\r",
      "[ 800 / 1000 ]\r",
      "[ 900 / 1000 ]\r",
      "[ 1000 / 1000 ]\r\n"
     ]
    },
    {
     "name": "stderr",
     "output_type": "stream",
     "text": [
      "Constructing posterior predictions\n"
     ]
    },
    {
     "name": "stdout",
     "output_type": "stream",
     "text": [
      "[ 100 / 1000 ]\r",
      "[ 200 / 1000 ]\r",
      "[ 300 / 1000 ]\r",
      "[ 400 / 1000 ]\r",
      "[ 500 / 1000 ]\r",
      "[ 600 / 1000 ]\r",
      "[ 700 / 1000 ]\r",
      "[ 800 / 1000 ]\r",
      "[ 900 / 1000 ]\r",
      "[ 1000 / 1000 ]\r\n"
     ]
    },
    {
     "name": "stderr",
     "output_type": "stream",
     "text": [
      "Constructing posterior predictions\n"
     ]
    },
    {
     "name": "stdout",
     "output_type": "stream",
     "text": [
      "[ 100 / 1000 ]\r",
      "[ 200 / 1000 ]\r",
      "[ 300 / 1000 ]\r",
      "[ 400 / 1000 ]\r",
      "[ 500 / 1000 ]\r",
      "[ 600 / 1000 ]\r",
      "[ 700 / 1000 ]\r",
      "[ 800 / 1000 ]\r",
      "[ 900 / 1000 ]\r",
      "[ 1000 / 1000 ]\r\n"
     ]
    },
    {
     "data": {
      "image/png": "[encoded data removed]",
      "text/plain": [
       "plot without title"
      ]
     },
     "metadata": {},
     "output_type": "display_data"
    }
   ],
   "source": [
    "rugged.ensemble <-ensemble( m7H3.1, m7H3.2, m7H3.3, data=d.predict )\n",
    "rug.mu <- apply( rugged.ensemble$link , 2, mean)\n",
    "rug.PI <- apply( rugged.ensemble$link , 2, PI)\n",
    "\n",
    "rugged.ensemble1 <-ensemble( m7H3.1, m7H3.2, m7H3.3, data=d.predict1 )\n",
    "rug.mu1 <- apply( rugged.ensemble1$link , 2, mean)\n",
    "rug.PI1 <- apply( rugged.ensemble1$link , 2, PI)\n",
    "\n",
    "plot( log(rgdppc_2000)  ~ rugged , dd , col=rangi2 )\n",
    "lines( rugged.seq0, rug.mu , lty=2 )\n",
    "lines( rugged.seq0, rug.PI[1,] , lty=2 )\n",
    "lines( rugged.seq0, rug.PI[2,] , lty=2 )\n",
    "lines( rugged.seq0, rug.mu1 , lty=2 )\n",
    "lines( rugged.seq0, rug.PI1[1,] , lty=2 )\n",
    "lines( rugged.seq0, rug.PI1[2,] , lty=2 )\n",
    "#ensemble shade\n",
    "lines( rugged.seq0 , rug.mu )\n",
    "shade( rug.PI , rugged.seq0 ,col=col.alpha(rangi2,0.3))\n",
    "lines( rugged.seq0 , rug.mu1 )\n",
    "shade( rug.PI1 , rugged.seq0 )\n",
    "\n"
   ]
  },
  {
   "cell_type": "code",
   "execution_count": 99,
   "metadata": {},
   "outputs": [
    {
     "data": {
      "image/png": "[encoded data removed]",
      "text/plain": [
       "plot without title"
      ]
     },
     "metadata": {},
     "output_type": "display_data"
    }
   ],
   "source": [
    "par(mfrow = c(2,2))\n",
    "plot( log(rgdppc_2000) ~ rugged , data=dd ,\n",
    "     ylab=\"log GDP year 2000\" ,\n",
    "    xlab=\"Terrain Ruggedness Index\" )\n",
    "mtext( \"Both African & Non-African nations\" , 3 )\n",
    "lines( rugged.seq , mu.NotAfrica.mean )\n",
    "shade( mu.NotAfrica.PI , rugged.seq )\n",
    "lines( rugged.seq , mu.Africa.mean , col=rangi2 )\n",
    "shade( mu.Africa.PI , rugged.seq , col=col.alpha(rangi2,0.3) )\n",
    "\n",
    "plot( log(rgdppc_2000) ~ rugged , data=dd1 ,\n",
    "     ylab=\"log GDP year 2000\" ,\n",
    "    xlab=\"Terrain Ruggedness Index\" )\n",
    "mtext( \"Both African & Non-African nations -Seychelles\" , 3 ,cex=.9)\n",
    "lines( rugged.seq , mu.NotAfrica.meanb )\n",
    "shade( mu.NotAfrica.PIb , rugged.seq )\n",
    "lines( rugged.seq , mu.Africa.meanb , col=rangi2 )\n",
    "shade( mu.Africa.PIb , rugged.seq , col=col.alpha(rangi2,0.3) )\n",
    "\n",
    "#plot( log(rgdppc_2000)  ~ rugged , dd , col=rangi2 )\n",
    "plot( log(rgdppc_2000) ~ rugged , data=dd ,\n",
    "     ylab=\"log GDP year 2000\" ,\n",
    "    xlab=\"Terrain Ruggedness Index\" )\n",
    "mtext( \"Both African & Non-African nations ENSEMBLE\" , 3 )\n",
    "lines( rugged.seq0, rug.mu , lty=2 )\n",
    "lines( rugged.seq0, rug.PI[1,] , lty=2 )\n",
    "lines( rugged.seq0, rug.PI[2,] , lty=2 )\n",
    "lines( rugged.seq0, rug.mu1 , lty=2 )\n",
    "lines( rugged.seq0, rug.PI1[1,] , lty=2 )\n",
    "lines( rugged.seq0, rug.PI1[2,] , lty=2 )\n",
    "#ensemble shade\n",
    "lines( rugged.seq0 , rug.mu )\n",
    "shade( rug.PI , rugged.seq0 ,col=col.alpha(rangi2,0.3))\n",
    "lines( rugged.seq0 , rug.mu1 )\n",
    "shade( rug.PI1 , rugged.seq0 )"
   ]
  },
  {
   "cell_type": "code",
   "execution_count": 100,
   "metadata": {
    "collapsed": true
   },
   "outputs": [],
   "source": [
    "# 7H4\n",
    "# The values in data(nettle) are data on language diversity in 74 nations. The meaning of each column is given below.\n",
    "#(a)\n",
    "#(b)\n",
    "#(c)"
   ]
  }
 ],
 "metadata": {
  "kernelspec": {
   "display_name": "R",
   "language": "R",
   "name": "ir"
  },
  "language_info": {
   "codemirror_mode": "r",
   "file_extension": ".r",
   "mimetype": "text/x-r-source",
   "name": "R",
   "pygments_lexer": "r",
   "version": "3.3.1"
  }
 },
 "nbformat": 4,
 "nbformat_minor": 2
}
